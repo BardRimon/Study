{
  "nbformat": 4,
  "nbformat_minor": 0,
  "metadata": {
    "colab": {
      "provenance": [],
      "authorship_tag": "ABX9TyPMEx4wsd9o+gVr+ElEYD0z"
    },
    "kernelspec": {
      "name": "python3",
      "display_name": "Python 3"
    },
    "language_info": {
      "name": "python"
    }
  },
  "cells": [
    {
      "cell_type": "markdown",
      "source": [
        "# Тема 3. Коррекция опечаток\n",
        "\n",
        "\n",
        "1. Измерить время работы трех методов из готовых библиотек.\n",
        "2. Написать функцию Дамерау-Левенштейна, измерить время работы.\n",
        "3. Написать функцию генерации опечаток в соответствии с положением знаков на клавиатуре.\n",
        "4. Написать функцию сравнения векторов, составленных из частотностей входящих в слово букв (CountVectorizer).\n"
      ],
      "metadata": {
        "id": "bMTJYOhBKPvA"
      }
    },
    {
      "cell_type": "code",
      "source": [],
      "metadata": {
        "id": "sQKFfjlHMUAH"
      },
      "execution_count": null,
      "outputs": []
    },
    {
      "cell_type": "code",
      "execution_count": 3,
      "metadata": {
        "colab": {
          "base_uri": "https://localhost:8080/"
        },
        "id": "iVPbMoZ7JyRP",
        "outputId": "194b2f1f-e0fa-4ce1-bf02-b8f736105b73"
      },
      "outputs": [
        {
          "output_type": "stream",
          "name": "stdout",
          "text": [
            "Reading package lists... Done\n",
            "Building dependency tree... Done\n",
            "Reading state information... Done\n",
            "Suggested packages:\n",
            "  swig3.0-examples swig3.0-doc\n",
            "The following NEW packages will be installed:\n",
            "  swig3.0\n",
            "0 upgraded, 1 newly installed, 0 to remove and 34 not upgraded.\n",
            "Need to get 1,109 kB of archives.\n",
            "After this operation, 5,555 kB of additional disk space will be used.\n",
            "Get:1 http://archive.ubuntu.com/ubuntu jammy/universe amd64 swig3.0 amd64 3.0.12-2.2ubuntu1 [1,109 kB]\n",
            "Fetched 1,109 kB in 0s (3,259 kB/s)\n",
            "Selecting previously unselected package swig3.0.\n",
            "(Reading database ... 126333 files and directories currently installed.)\n",
            "Preparing to unpack .../swig3.0_3.0.12-2.2ubuntu1_amd64.deb ...\n",
            "Unpacking swig3.0 (3.0.12-2.2ubuntu1) ...\n",
            "Setting up swig3.0 (3.0.12-2.2ubuntu1) ...\n",
            "Processing triggers for man-db (2.10.2-1) ...\n"
          ]
        }
      ],
      "source": [
        "! apt install swig3.0\n",
        "\n"
      ]
    },
    {
      "cell_type": "code",
      "source": [
        "! pip install jamspell"
      ],
      "metadata": {
        "colab": {
          "base_uri": "https://localhost:8080/"
        },
        "id": "q2o6Q2z3LzKA",
        "outputId": "553684fd-0c30-4d42-8fa5-d86525faad52"
      },
      "execution_count": 4,
      "outputs": [
        {
          "output_type": "stream",
          "name": "stdout",
          "text": [
            "Collecting jamspell\n",
            "  Downloading jamspell-0.0.12.tar.gz (174 kB)\n",
            "\u001b[?25l     \u001b[90m━━━━━━━━━━━━━━━━━━━━━━━━━━━━━━━━━━━━━━━━\u001b[0m \u001b[32m0.0/174.3 kB\u001b[0m \u001b[31m?\u001b[0m eta \u001b[36m-:--:--\u001b[0m\r\u001b[2K     \u001b[91m━━━━━━━━━━━━━━━━━━━━━━━━━━━━━━━━━━━━━━\u001b[0m\u001b[91m╸\u001b[0m \u001b[32m174.1/174.3 kB\u001b[0m \u001b[31m5.3 MB/s\u001b[0m eta \u001b[36m0:00:01\u001b[0m\r\u001b[2K     \u001b[90m━━━━━━━━━━━━━━━━━━━━━━━━━━━━━━━━━━━━━━━\u001b[0m \u001b[32m174.3/174.3 kB\u001b[0m \u001b[31m3.6 MB/s\u001b[0m eta \u001b[36m0:00:00\u001b[0m\n",
            "\u001b[?25h  Preparing metadata (setup.py) ... \u001b[?25l\u001b[?25hdone\n",
            "Building wheels for collected packages: jamspell\n",
            "  Building wheel for jamspell (setup.py) ... \u001b[?25l\u001b[?25hdone\n",
            "  Created wheel for jamspell: filename=jamspell-0.0.12-cp311-cp311-linux_x86_64.whl size=1785475 sha256=d923fe2542f778750a04fba3d8dbcd7d3cce3ab9650934185d42df128e230041\n",
            "  Stored in directory: /root/.cache/pip/wheels/2c/f7/b1/1314c3a8f44a8e2bbe9f90b2ae05c404068f797b7681e1163b\n",
            "Successfully built jamspell\n",
            "Installing collected packages: jamspell\n",
            "Successfully installed jamspell-0.0.12\n"
          ]
        }
      ]
    },
    {
      "cell_type": "code",
      "source": [],
      "metadata": {
        "id": "2vJo0rspwEU4"
      },
      "execution_count": null,
      "outputs": []
    },
    {
      "cell_type": "code",
      "source": [],
      "metadata": {
        "colab": {
          "base_uri": "https://localhost:8080/"
        },
        "id": "omzcAgXbLcZD",
        "outputId": "75878e99-a6e9-4372-c530-080baa977120"
      },
      "execution_count": 36,
      "outputs": [
        {
          "output_type": "stream",
          "name": "stdout",
          "text": [
            "/bin/bash: line 1: https://gihub.com/kpu/kenlm/archive/master.zip: No such file or directory\n",
            "Requirement already satisfied: sortedcontainers==2.4.* in /usr/local/lib/python3.11/dist-packages (2.4.0)\n",
            "Collecting sacremoses==0.0.53\n",
            "  Downloading sacremoses-0.0.53.tar.gz (880 kB)\n",
            "\u001b[2K     \u001b[90m━━━━━━━━━━━━━━━━━━━━━━━━━━━━━━━━━━━━━━\u001b[0m \u001b[32m880.6/880.6 kB\u001b[0m \u001b[31m11.4 MB/s\u001b[0m eta \u001b[36m0:00:00\u001b[0m\n",
            "\u001b[?25h  Preparing metadata (setup.py) ... \u001b[?25l\u001b[?25hdone\n",
            "Requirement already satisfied: regex in /usr/local/lib/python3.11/dist-packages (from sacremoses==0.0.53) (2024.11.6)\n",
            "Requirement already satisfied: six in /usr/local/lib/python3.11/dist-packages (from sacremoses==0.0.53) (1.17.0)\n",
            "Requirement already satisfied: click in /usr/local/lib/python3.11/dist-packages (from sacremoses==0.0.53) (8.1.8)\n",
            "Requirement already satisfied: joblib in /usr/local/lib/python3.11/dist-packages (from sacremoses==0.0.53) (1.4.2)\n",
            "Requirement already satisfied: tqdm in /usr/local/lib/python3.11/dist-packages (from sacremoses==0.0.53) (4.64.1)\n",
            "Building wheels for collected packages: sacremoses\n",
            "  Building wheel for sacremoses (setup.py) ... \u001b[?25l\u001b[?25hdone\n",
            "  Created wheel for sacremoses: filename=sacremoses-0.0.53-py3-none-any.whl size=895241 sha256=9adae73de67d7456a6111b980fffe26a538aed3c7447d57eb4cb3e51b35cdbc6\n",
            "  Stored in directory: /root/.cache/pip/wheels/11/75/c6/a82d827a00df823caf211262900d2c024f5b3a775b82b45230\n",
            "Successfully built sacremoses\n",
            "Installing collected packages: sacremoses\n",
            "Successfully installed sacremoses-0.0.53\n",
            "Ignoring pypi-kenlm: markers 'python_version <= \"3.10\"' don't match your environment\n",
            "Collecting kenlm==0.2.*\n",
            "  Using cached kenlm-0.2.0.tar.gz (427 kB)\n",
            "  Installing build dependencies ... \u001b[?25l\u001b[?25hdone\n",
            "  Getting requirements to build wheel ... \u001b[?25l\u001b[?25hdone\n",
            "  Preparing metadata (pyproject.toml) ... \u001b[?25l\u001b[?25hdone\n",
            "Building wheels for collected packages: kenlm\n",
            "  \u001b[1;31merror\u001b[0m: \u001b[1msubprocess-exited-with-error\u001b[0m\n",
            "  \n",
            "  \u001b[31m×\u001b[0m \u001b[32mBuilding wheel for kenlm \u001b[0m\u001b[1;32m(\u001b[0m\u001b[32mpyproject.toml\u001b[0m\u001b[1;32m)\u001b[0m did not run successfully.\n",
            "  \u001b[31m│\u001b[0m exit code: \u001b[1;36m1\u001b[0m\n",
            "  \u001b[31m╰─>\u001b[0m See above for output.\n",
            "  \n",
            "  \u001b[1;35mnote\u001b[0m: This error originates from a subprocess, and is likely not a problem with pip.\n",
            "  Building wheel for kenlm (pyproject.toml) ... \u001b[?25l\u001b[?25herror\n",
            "\u001b[31m  ERROR: Failed building wheel for kenlm\u001b[0m\u001b[31m\n",
            "\u001b[0mFailed to build kenlm\n",
            "\u001b[31mERROR: ERROR: Failed to build installable wheels for some pyproject.toml based projects (kenlm)\u001b[0m\u001b[31m\n",
            "\u001b[0mTraceback (most recent call last):\n",
            "  File \"<frozen runpy>\", line 198, in _run_module_as_main\n",
            "  File \"<frozen runpy>\", line 88, in _run_code\n",
            "  File \"/usr/local/lib/python3.11/dist-packages/deeppavlov/__main__.py\", line 4, in <module>\n",
            "    main()\n",
            "  File \"/usr/local/lib/python3.11/dist-packages/deeppavlov/deep.py\", line 62, in main\n",
            "    install_from_config(pipeline_config_path)\n",
            "  File \"/usr/local/lib/python3.11/dist-packages/deeppavlov/utils/pip_wrapper/pip_wrapper.py\", line 71, in install_from_config\n",
            "    install(r)\n",
            "  File \"/usr/local/lib/python3.11/dist-packages/deeppavlov/utils/pip_wrapper/pip_wrapper.py\", line 36, in install\n",
            "    result = subprocess.check_call([sys.executable, '-m', 'pip', 'install',\n",
            "             ^^^^^^^^^^^^^^^^^^^^^^^^^^^^^^^^^^^^^^^^^^^^^^^^^^^^^^^^^^^^^^\n",
            "  File \"/usr/lib/python3.11/subprocess.py\", line 413, in check_call\n",
            "    raise CalledProcessError(retcode, cmd)\n",
            "subprocess.CalledProcessError: Command '['/usr/bin/python3', '-m', 'pip', 'install', 'kenlm==0.2.*;python_version==\"3.11.*\"']' returned non-zero exit status 1.\n",
            "Requirement already satisfied: sacremoses in /usr/local/lib/python3.11/dist-packages (0.0.53)\n",
            "Requirement already satisfied: regex in /usr/local/lib/python3.11/dist-packages (from sacremoses) (2024.11.6)\n",
            "Requirement already satisfied: six in /usr/local/lib/python3.11/dist-packages (from sacremoses) (1.17.0)\n",
            "Requirement already satisfied: click in /usr/local/lib/python3.11/dist-packages (from sacremoses) (8.1.8)\n",
            "Requirement already satisfied: joblib in /usr/local/lib/python3.11/dist-packages (from sacremoses) (1.4.2)\n",
            "Requirement already satisfied: tqdm in /usr/local/lib/python3.11/dist-packages (from sacremoses) (4.64.1)\n"
          ]
        }
      ]
    },
    {
      "cell_type": "code",
      "source": [
        "! pip install pyaspeller"
      ],
      "metadata": {
        "colab": {
          "base_uri": "https://localhost:8080/"
        },
        "id": "EeMKkm99LhWx",
        "outputId": "3b10adc8-a9ee-425c-cc37-4c9c0732612c"
      },
      "execution_count": 2,
      "outputs": [
        {
          "output_type": "stream",
          "name": "stdout",
          "text": [
            "Collecting pyaspeller\n",
            "  Downloading pyaspeller-2.0.2-py3-none-any.whl.metadata (15 kB)\n",
            "Requirement already satisfied: requests>=2.32.3 in /usr/local/lib/python3.11/dist-packages (from pyaspeller) (2.32.3)\n",
            "Requirement already satisfied: charset-normalizer<4,>=2 in /usr/local/lib/python3.11/dist-packages (from requests>=2.32.3->pyaspeller) (3.4.1)\n",
            "Requirement already satisfied: idna<4,>=2.5 in /usr/local/lib/python3.11/dist-packages (from requests>=2.32.3->pyaspeller) (3.10)\n",
            "Requirement already satisfied: urllib3<3,>=1.21.1 in /usr/local/lib/python3.11/dist-packages (from requests>=2.32.3->pyaspeller) (2.3.0)\n",
            "Requirement already satisfied: certifi>=2017.4.17 in /usr/local/lib/python3.11/dist-packages (from requests>=2.32.3->pyaspeller) (2025.1.31)\n",
            "Downloading pyaspeller-2.0.2-py3-none-any.whl (16 kB)\n",
            "Installing collected packages: pyaspeller\n",
            "Successfully installed pyaspeller-2.0.2\n"
          ]
        }
      ]
    },
    {
      "cell_type": "code",
      "source": [
        "\n",
        "wrong_text = f\"Уневирсального рицепта того, как выбрать правильный, единствено верный, только тебе предназначенный путь в жизни, просто нет и быть не может. И окончательный выбор всегда остаётся за человеком. Этот выбор мы делаем уже в детстве, когда выбераем друзей, учимся строить отношения с ровестниками играть. Но большенство самых важнейших решений оприделяющих жизненный путь мы всё таки принемаем в юности. Как считают учёные вторая половина второго дисятилетия жизне – самый ответственный пириод. Именно в это время человек выберает самое главное и на всю жизнь: ближайшего друга, круг основных интересов, проффесию.  Понятно, что такой выбор дело ответственное. От него невозможно отмахнутся, его нельзя отложить на потом. Не стоит надеятся, что ошибку после можно будет исправить: успеется, вся жизнь впереди! Что-то, конечно удастся подправить, изменить, но далеко не всё. И не верные решения без последствий не останутся. Ведь успех преходит к тем, кто знает, чего он хочет, решительно делает выбор верит в себя, и упорно достегает намеченных целей\"\n",
        "wrong_words = wrong_text.split()\n",
        "wrong_text"
      ],
      "metadata": {
        "colab": {
          "base_uri": "https://localhost:8080/",
          "height": 244
        },
        "id": "_0JfX8JQMjDt",
        "outputId": "d86c936e-18b7-40f7-9afb-71526d53d9f2"
      },
      "execution_count": 18,
      "outputs": [
        {
          "output_type": "execute_result",
          "data": {
            "text/plain": [
              "'Уневирсального рицепта того, как выбрать правильный, единствено верный, только тебе предназначенный путь в жизни, просто нет и быть не может. И окончательный выбор всегда остаётся за человеком. Этот выбор мы делаем уже в детстве, когда выбераем друзей, учимся строить отношения с ровестниками играть. Но большенство самых важнейших решений оприделяющих жизненный путь мы всё таки принемаем в юности. Как считают учёные вторая половина второго дисятилетия жизне – самый ответственный пириод. Именно в это время человек выберает самое главное и на всю жизнь: ближайшего друга, круг основных интересов, проффесию.  Понятно, что такой выбор дело ответственное. От него невозможно отмахнутся, его нельзя отложить на потом. Не стоит надеятся, что ошибку после можно будет исправить: успеется, вся жизнь впереди! Что-то, конечно удастся подправить, изменить, но далеко не всё. И не верные решения без последствий не останутся. Ведь успех преходит к тем, кто знает, чего он хочет, решительно делает выбор верит в себя, и упорно достегает намеченных целей'"
            ],
            "application/vnd.google.colaboratory.intrinsic+json": {
              "type": "string"
            }
          },
          "metadata": {},
          "execution_count": 18
        }
      ]
    },
    {
      "cell_type": "markdown",
      "source": [],
      "metadata": {
        "id": "lKP7fDbqsUce"
      }
    },
    {
      "cell_type": "code",
      "source": [
        "! wget -q https://github.com/bakwc/JamSpell-models/raw/master/ru.tar.gz\n",
        "! tar -xzf ru.tar.gz"
      ],
      "metadata": {
        "id": "ih5xF01AuwBD"
      },
      "execution_count": 23,
      "outputs": []
    },
    {
      "cell_type": "code",
      "source": [
        "import time\n",
        "\n",
        "import jamspell\n",
        "\n",
        "corrector = jamspell.TSpellCorrector()\n",
        "corrector.LoadLangModel('ru_small.bin')\n",
        "timestart = time.time()\n",
        "corrected_text = corrector.FixFragment(wrong_text)\n",
        "timeend = time.time()\n",
        "print(timeend - timestart)\n",
        "print(corrected_text)\n"
      ],
      "metadata": {
        "id": "-97FnjkLrIZw",
        "outputId": "df70196e-075a-4312-bcfb-fa98d4d183a4",
        "colab": {
          "base_uri": "https://localhost:8080/"
        }
      },
      "execution_count": 26,
      "outputs": [
        {
          "output_type": "stream",
          "name": "stdout",
          "text": [
            "0.09670400619506836\n",
            "Универсального рецепта того, как выбрать правильный, единственно верный, только тебе предназначенный путь в жизни, просто нет и быть не может. И окончательный выбор всегда остаётся за человеком. Этот выбор мы делаем уже в детстве, когда выбираем друзей, учимся строить отношения с ровестниками играть. Но большинство самых важнейших решений определяющих жизненный путь мы всё таки принимаем в юности. Как считают учёные вторая половина второго десятилетия жизни – самый ответственный период. Именно в это время человек выбирает самое главное и на всю жизнь: ближайшего друга, круг основных интересов, профессии.  Понятно, что такой выбор дело ответственное. От него невозможно отмахнутся, его нельзя отложить на потом. Не стоит надеятся, что ошибку после можно будет исправить: успевает, вся жизнь впереди! Что-то, конечно удастся подправить, изменить, но далеко не всё. И не верные решения без последствий не останутся. Ведь успех приходит к тем, кто знает, чего он хочет, решительно делает выбор верит в себя, и упорно достигает намеченных целей\n"
          ]
        }
      ]
    },
    {
      "cell_type": "code",
      "source": [
        "print(corrected_text)\n",
        "true_text = f\"Универсального рецепта того, как выбрать правильный, единственно верный, только тебе предназначенный путь в жизни, просто нет и быть не может. И окончательный выбор всегда остается за человеком. Этот выбор мы делаем уже в детстве, когда выбираем друзей, учимся строить отношения с ровесниками играть. Но большинство самых важнейших решений, определяющих жизненный путь, мы все-таки принимаем в юности. Как считают ученые, вторая половина второго десятилетия жизни – самый ответственный период. Именно в это время человек выбирает самое главное и на всю жизнь: ближайшего друга, круг основных интересов, профессию. Понятно, что такой выбор – дело ответственное. От него невозможно отмахнуться, его нельзя отложить на потом. Не стоит надеяться, что ошибку после можно будет исправить: успеется, вся жизнь впереди! Что-то, конечно, удастся подправить, изменить, но далеко не все. И неверные решения без последствий не останутся. Ведь успех приходит к тем, кто знает, чего он хочет, решительно делает выбор, верит в себя и упорно достигает намеченных целей.\"\n",
        "print(true_text)\n",
        "if corrected_text == true_text:\n",
        "  print(\"Успех\")"
      ],
      "metadata": {
        "id": "3I7EXphGrPgO",
        "outputId": "ba14b657-b19a-4219-ebfe-22d7edf9a973",
        "colab": {
          "base_uri": "https://localhost:8080/"
        }
      },
      "execution_count": 29,
      "outputs": [
        {
          "output_type": "stream",
          "name": "stdout",
          "text": [
            "Универсального рецепта того, как выбрать правильный, единственно верный, только тебе предназначенный путь в жизни, просто нет и быть не может. И окончательный выбор всегда остаётся за человеком. Этот выбор мы делаем уже в детстве, когда выбираем друзей, учимся строить отношения с ровестниками играть. Но большинство самых важнейших решений определяющих жизненный путь мы всё таки принимаем в юности. Как считают учёные вторая половина второго десятилетия жизни – самый ответственный период. Именно в это время человек выбирает самое главное и на всю жизнь: ближайшего друга, круг основных интересов, профессии.  Понятно, что такой выбор дело ответственное. От него невозможно отмахнутся, его нельзя отложить на потом. Не стоит надеятся, что ошибку после можно будет исправить: успевает, вся жизнь впереди! Что-то, конечно удастся подправить, изменить, но далеко не всё. И не верные решения без последствий не останутся. Ведь успех приходит к тем, кто знает, чего он хочет, решительно делает выбор верит в себя, и упорно достигает намеченных целей\n",
            "Универсального рецепта того, как выбрать правильный, единственно верный, только тебе предназначенный путь в жизни, просто нет и быть не может. И окончательный выбор всегда остается за человеком. Этот выбор мы делаем уже в детстве, когда выбираем друзей, учимся строить отношения с ровесниками играть. Но большинство самых важнейших решений, определяющих жизненный путь, мы все-таки принимаем в юности. Как считают ученые, вторая половина второго десятилетия жизни – самый ответственный период. Именно в это время человек выбирает самое главное и на всю жизнь: ближайшего друга, круг основных интересов, профессию. Понятно, что такой выбор – дело ответственное. От него невозможно отмахнуться, его нельзя отложить на потом. Не стоит надеяться, что ошибку после можно будет исправить: успеется, вся жизнь впереди! Что-то, конечно, удастся подправить, изменить, но далеко не все. И неверные решения без последствий не останутся. Ведь успех приходит к тем, кто знает, чего он хочет, решительно делает выбор, верит в себя и упорно достигает намеченных целей.\n"
          ]
        }
      ]
    },
    {
      "cell_type": "markdown",
      "source": [
        "Вывод - модель не идеально корректирует текст"
      ],
      "metadata": {
        "id": "wLAAZtmVvhXI"
      }
    },
    {
      "cell_type": "code",
      "source": [
        "! pip install -q deeppavlov\n",
        "! https://gihub.com/kpu/kenlm/archive/master.zip\n",
        "! python -m deeppavlov install levenshtein_corrector_ru\n",
        "! pip install sacremoses"
      ],
      "metadata": {
        "id": "860jI0GtzEa_",
        "outputId": "f893a1cb-3bd2-4266-874a-6547d3acaec4",
        "colab": {
          "base_uri": "https://localhost:8080/"
        }
      },
      "execution_count": 42,
      "outputs": [
        {
          "output_type": "stream",
          "name": "stdout",
          "text": [
            "/bin/bash: line 1: https://gihub.com/kpu/kenlm/archive/master.zip: No such file or directory\n",
            "Ignoring pypi-kenlm: markers 'python_version <= \"3.10\"' don't match your environment\n",
            "Collecting kenlm==0.2.*\n",
            "  Using cached kenlm-0.2.0.tar.gz (427 kB)\n",
            "  Installing build dependencies ... \u001b[?25l\u001b[?25hdone\n",
            "  Getting requirements to build wheel ... \u001b[?25l\u001b[?25hdone\n",
            "  Preparing metadata (pyproject.toml) ... \u001b[?25l\u001b[?25hdone\n",
            "Building wheels for collected packages: kenlm\n",
            "  \u001b[1;31merror\u001b[0m: \u001b[1msubprocess-exited-with-error\u001b[0m\n",
            "  \n",
            "  \u001b[31m×\u001b[0m \u001b[32mBuilding wheel for kenlm \u001b[0m\u001b[1;32m(\u001b[0m\u001b[32mpyproject.toml\u001b[0m\u001b[1;32m)\u001b[0m did not run successfully.\n",
            "  \u001b[31m│\u001b[0m exit code: \u001b[1;36m1\u001b[0m\n",
            "  \u001b[31m╰─>\u001b[0m See above for output.\n",
            "  \n",
            "  \u001b[1;35mnote\u001b[0m: This error originates from a subprocess, and is likely not a problem with pip.\n",
            "  Building wheel for kenlm (pyproject.toml) ... \u001b[?25l\u001b[?25herror\n",
            "\u001b[31m  ERROR: Failed building wheel for kenlm\u001b[0m\u001b[31m\n",
            "\u001b[0mFailed to build kenlm\n",
            "\u001b[31mERROR: ERROR: Failed to build installable wheels for some pyproject.toml based projects (kenlm)\u001b[0m\u001b[31m\n",
            "\u001b[0mTraceback (most recent call last):\n",
            "  File \"<frozen runpy>\", line 198, in _run_module_as_main\n",
            "  File \"<frozen runpy>\", line 88, in _run_code\n",
            "  File \"/usr/local/lib/python3.11/dist-packages/deeppavlov/__main__.py\", line 4, in <module>\n",
            "    main()\n",
            "  File \"/usr/local/lib/python3.11/dist-packages/deeppavlov/deep.py\", line 62, in main\n",
            "    install_from_config(pipeline_config_path)\n",
            "  File \"/usr/local/lib/python3.11/dist-packages/deeppavlov/utils/pip_wrapper/pip_wrapper.py\", line 71, in install_from_config\n",
            "    install(r)\n",
            "  File \"/usr/local/lib/python3.11/dist-packages/deeppavlov/utils/pip_wrapper/pip_wrapper.py\", line 36, in install\n",
            "    result = subprocess.check_call([sys.executable, '-m', 'pip', 'install',\n",
            "             ^^^^^^^^^^^^^^^^^^^^^^^^^^^^^^^^^^^^^^^^^^^^^^^^^^^^^^^^^^^^^^\n",
            "  File \"/usr/lib/python3.11/subprocess.py\", line 413, in check_call\n",
            "    raise CalledProcessError(retcode, cmd)\n",
            "subprocess.CalledProcessError: Command '['/usr/bin/python3', '-m', 'pip', 'install', 'kenlm==0.2.*;python_version==\"3.11.*\"']' returned non-zero exit status 1.\n",
            "Requirement already satisfied: sacremoses in /usr/local/lib/python3.11/dist-packages (0.0.53)\n",
            "Requirement already satisfied: regex in /usr/local/lib/python3.11/dist-packages (from sacremoses) (2024.11.6)\n",
            "Requirement already satisfied: six in /usr/local/lib/python3.11/dist-packages (from sacremoses) (1.17.0)\n",
            "Requirement already satisfied: click in /usr/local/lib/python3.11/dist-packages (from sacremoses) (8.1.8)\n",
            "Requirement already satisfied: joblib in /usr/local/lib/python3.11/dist-packages (from sacremoses) (1.4.2)\n",
            "Requirement already satisfied: tqdm in /usr/local/lib/python3.11/dist-packages (from sacremoses) (4.64.1)\n"
          ]
        }
      ]
    },
    {
      "cell_type": "code",
      "source": [
        "!apt-get install -y build-essential cmake\n",
        "!pip install https://github.com/kpu/kenlm/archive/master.zip"
      ],
      "metadata": {
        "id": "X3WWv1fqy_RR",
        "outputId": "ca2fe811-2cab-4982-ab7f-fceac598c0cd",
        "colab": {
          "base_uri": "https://localhost:8080/"
        }
      },
      "execution_count": 43,
      "outputs": [
        {
          "output_type": "stream",
          "name": "stdout",
          "text": [
            "Reading package lists... Done\n",
            "Building dependency tree... Done\n",
            "Reading state information... Done\n",
            "build-essential is already the newest version (12.9ubuntu3).\n",
            "cmake is already the newest version (3.22.1-1ubuntu1.22.04.2).\n",
            "0 upgraded, 0 newly installed, 0 to remove and 34 not upgraded.\n",
            "Collecting https://github.com/kpu/kenlm/archive/master.zip\n",
            "  Downloading https://github.com/kpu/kenlm/archive/master.zip (553 kB)\n",
            "\u001b[2K     \u001b[90m━━━━━━━━━━━━━━━━━━━━━━━━━━━━━━━━━━━━━━━\u001b[0m \u001b[32m553.6/553.6 kB\u001b[0m \u001b[31m6.2 MB/s\u001b[0m eta \u001b[36m0:00:00\u001b[0m\n",
            "\u001b[?25h  Installing build dependencies ... \u001b[?25l\u001b[?25hdone\n",
            "  Getting requirements to build wheel ... \u001b[?25l\u001b[?25hdone\n",
            "  Preparing metadata (pyproject.toml) ... \u001b[?25l\u001b[?25hdone\n",
            "Building wheels for collected packages: kenlm\n",
            "  Building wheel for kenlm (pyproject.toml) ... \u001b[?25l\u001b[?25hdone\n",
            "  Created wheel for kenlm: filename=kenlm-0.2.0-cp311-cp311-linux_x86_64.whl size=3185087 sha256=b4a5cfdf09f50c66e674ac294cc95225ccd8a271b239210f4e3251f0886d6619\n",
            "  Stored in directory: /tmp/pip-ephem-wheel-cache-h3ajwi3o/wheels/4e/ca/6a/e5da175b1396483f6f410cdb4cfe8bc8fa5e12088e91d60413\n",
            "Successfully built kenlm\n",
            "Installing collected packages: kenlm\n",
            "Successfully installed kenlm-0.2.0\n"
          ]
        }
      ]
    },
    {
      "cell_type": "code",
      "source": [
        "import deeppavlov\n",
        "from deeppavlov import build_model, configs\n",
        "\n",
        "CONFIG_PATH = configs.spelling_correction.levenshtein_corrector_ru\n",
        "model = build_model('levenshtein_corrector_ru', download=True)"
      ],
      "metadata": {
        "id": "Pqpo6RpjvmSb",
        "outputId": "7de23d6a-b320-4281-b18d-0ab500294d8f",
        "colab": {
          "base_uri": "https://localhost:8080/"
        }
      },
      "execution_count": 44,
      "outputs": [
        {
          "output_type": "stream",
          "name": "stderr",
          "text": [
            "2025-04-23 08:44:09.599 INFO in 'deeppavlov.download'['download'] at line 138: Skipped http://files.deeppavlov.ai/lang_models/ru_wiyalen_no_punkt.arpa.binary.gz download because of matching hashes\n",
            "INFO:deeppavlov.download:Skipped http://files.deeppavlov.ai/lang_models/ru_wiyalen_no_punkt.arpa.binary.gz download because of matching hashes\n",
            "2025-04-23 08:44:10.334 INFO in 'deeppavlov.download'['download'] at line 138: Skipped http://files.deeppavlov.ai/deeppavlov_data/vocabs/russian_words_vocab.dict.gz download because of matching hashes\n",
            "INFO:deeppavlov.download:Skipped http://files.deeppavlov.ai/deeppavlov_data/vocabs/russian_words_vocab.dict.gz download because of matching hashes\n"
          ]
        }
      ]
    },
    {
      "cell_type": "code",
      "source": [
        "timestart = time.time()\n",
        "corrected_words = model(wrong_words)\n",
        "timeend = time.time()\n",
        "print(timeend - timestart)\n",
        "print(true_text)\n",
        "print(' '.join(corrected_words))\n",
        "if true_text == ' '.join(corrected_words):\n",
        "  print(\"успех\")"
      ],
      "metadata": {
        "id": "nO-TaaS0wpx2",
        "outputId": "6f53fecd-e316-419c-9721-c7ddb3491587",
        "colab": {
          "base_uri": "https://localhost:8080/"
        }
      },
      "execution_count": 46,
      "outputs": [
        {
          "output_type": "stream",
          "name": "stdout",
          "text": [
            "0.3538050651550293\n",
            "Универсального рецепта того, как выбрать правильный, единственно верный, только тебе предназначенный путь в жизни, просто нет и быть не может. И окончательный выбор всегда остается за человеком. Этот выбор мы делаем уже в детстве, когда выбираем друзей, учимся строить отношения с ровесниками играть. Но большинство самых важнейших решений, определяющих жизненный путь, мы все-таки принимаем в юности. Как считают ученые, вторая половина второго десятилетия жизни – самый ответственный период. Именно в это время человек выбирает самое главное и на всю жизнь: ближайшего друга, круг основных интересов, профессию. Понятно, что такой выбор – дело ответственное. От него невозможно отмахнуться, его нельзя отложить на потом. Не стоит надеяться, что ошибку после можно будет исправить: успеется, вся жизнь впереди! Что-то, конечно, удастся подправить, изменить, но далеко не все. И неверные решения без последствий не останутся. Ведь успех приходит к тем, кто знает, чего он хочет, решительно делает выбор, верит в себя и упорно достигает намеченных целей.\n",
            "уневирсального рецепта того, как выбрать правильный, единственно верный, только тебе предназначенный путь в жизни, просто нет и быть не может. и окончательный выбор всегда остаётся за человеком. этот выбор мы делаем уже в детстве, когда выберем друзей, учимся строить отношения с ровесниками играть. но большинство самых важнейших решений определяющих жизненный путь мы всё таки принимаем в юности. как считают учёные вторая половина второго десятилетия жизни – самый ответственный период. именно в это время человек выбирает самое главное и на всю жизнь: ближайшего друга, круг основных интересов, проффесию. понятно, что такой выбор дело ответственное. от него невозможно отмахнутся, его нельзя отложить на потом. не стоит надеется, что ошибку после можно будет исправить: успеется, вся жизнь впереди! что-то, конечно удастся подправить, изменить, но далеко не всё. и не верные решения без последствий не останутся. ведь успех проходит к тем, кто знает, чего он хочет, решительно делает выбор верит в себя, и упорно достигает намеченных целей\n"
          ]
        }
      ]
    },
    {
      "cell_type": "markdown",
      "source": [
        "Какой-то результат для pavlov"
      ],
      "metadata": {
        "id": "1TSovEZIx3k4"
      }
    },
    {
      "cell_type": "code",
      "source": [
        "! pip install pyaspeller"
      ],
      "metadata": {
        "id": "ZMW-5Lzlx6IA",
        "outputId": "3fc6a636-605b-4d76-ebfa-0ddfdff2eb47",
        "colab": {
          "base_uri": "https://localhost:8080/"
        }
      },
      "execution_count": 38,
      "outputs": [
        {
          "output_type": "stream",
          "name": "stdout",
          "text": [
            "Requirement already satisfied: pyaspeller in /usr/local/lib/python3.11/dist-packages (2.0.2)\n",
            "Requirement already satisfied: requests>=2.32.3 in /usr/local/lib/python3.11/dist-packages (from pyaspeller) (2.32.3)\n",
            "Requirement already satisfied: charset-normalizer<4,>=2 in /usr/local/lib/python3.11/dist-packages (from requests>=2.32.3->pyaspeller) (3.4.1)\n",
            "Requirement already satisfied: idna<4,>=2.5 in /usr/local/lib/python3.11/dist-packages (from requests>=2.32.3->pyaspeller) (3.10)\n",
            "Requirement already satisfied: urllib3<3,>=1.21.1 in /usr/local/lib/python3.11/dist-packages (from requests>=2.32.3->pyaspeller) (2.3.0)\n",
            "Requirement already satisfied: certifi>=2017.4.17 in /usr/local/lib/python3.11/dist-packages (from requests>=2.32.3->pyaspeller) (2025.1.31)\n"
          ]
        }
      ]
    },
    {
      "cell_type": "code",
      "source": [
        "from pyaspeller import YandexSpeller\n",
        "speller = YandexSpeller()\n",
        "timestart = time.time()\n",
        "corrected_words = [speller.spelled(word) for word in wrong_words]\n",
        "timeend = time.time()\n",
        "print(timeend - timestart)\n",
        "print(true_text)\n",
        "print(' '.join(corrected_words))"
      ],
      "metadata": {
        "id": "lHHxs8cdyymk",
        "outputId": "3bf89e11-7b23-43b4-d97c-9012af571178",
        "colab": {
          "base_uri": "https://localhost:8080/"
        }
      },
      "execution_count": 41,
      "outputs": [
        {
          "output_type": "stream",
          "name": "stdout",
          "text": [
            "82.77911901473999\n",
            "Универсального рецепта того, как выбрать правильный, единственно верный, только тебе предназначенный путь в жизни, просто нет и быть не может. И окончательный выбор всегда остается за человеком. Этот выбор мы делаем уже в детстве, когда выбираем друзей, учимся строить отношения с ровесниками играть. Но большинство самых важнейших решений, определяющих жизненный путь, мы все-таки принимаем в юности. Как считают ученые, вторая половина второго десятилетия жизни – самый ответственный период. Именно в это время человек выбирает самое главное и на всю жизнь: ближайшего друга, круг основных интересов, профессию. Понятно, что такой выбор – дело ответственное. От него невозможно отмахнуться, его нельзя отложить на потом. Не стоит надеяться, что ошибку после можно будет исправить: успеется, вся жизнь впереди! Что-то, конечно, удастся подправить, изменить, но далеко не все. И неверные решения без последствий не останутся. Ведь успех приходит к тем, кто знает, чего он хочет, решительно делает выбор, верит в себя и упорно достигает намеченных целей.\n",
            "Универсального рецепта того, как выбрать правильный, единственно верный, только тебе предназначенный путь в жизни, просто нет и быть не может. И окончательный выбор всегда остаётся за человеком. Этот выбор мы делаем уже в детстве, когда выбираем друзей, учимся строить отношения с ровесниками играть. Но большинство самых важнейших решений определяющих жизненный путь мы всё таки принимаем в юности. Как считают учёные вторая половина второго десятилетия жизни – самый ответственный период. Именно в это время человек выбирает самое главное и на всю жизнь: ближайшего друга, круг основных интересов, профессию. Понятно, что такой выбор дело ответственное. От него невозможно отмахнуться, его нельзя отложить на потом. Не стоит надеяться, что ошибку после можно будет исправить: успеется, вся жизнь впереди! Что-то, конечно удастся подправить, изменить, но далеко не всё. И не верные решения без последствий не останутся. Ведь успех приходит к тем, кто знает, чего он хочет, решительно делает выбор верит в себя, и упорно достигает намеченных целей\n"
          ]
        }
      ]
    },
    {
      "cell_type": "markdown",
      "source": [
        "Тут модель почему-то съела часть запятых, но в остальном, она показывает хороший результат"
      ],
      "metadata": {
        "id": "07mnT0Q6zN5v"
      }
    },
    {
      "cell_type": "markdown",
      "source": [
        "| Jamspell | DeepP | YSpeller |\n",
        "| --- | --- | --- |\n",
        "|0.09670400619506836 | 0.3538050651550293 | 82.77911901473999 |"
      ],
      "metadata": {
        "id": "X0TSdk3NzWAn"
      }
    },
    {
      "cell_type": "markdown",
      "source": [
        "Написать функцию Дамерау- Левенштейна"
      ],
      "metadata": {
        "id": "5P1a4wSg1qFA"
      }
    },
    {
      "cell_type": "code",
      "source": [
        "def damerau_levenshtein_distance(s1, s2):\n",
        "    d = {}\n",
        "    lenstr1 = len(s1)\n",
        "    lenstr2 = len(s2)\n",
        "    for i in range(-1, lenstr1 + 1):\n",
        "        d[(i, -1)] = i + 1\n",
        "    for j in range(-1, lenstr2 + 1):\n",
        "        d[(-1, j)] = j + 1\n",
        "\n",
        "    for i in range(lenstr1):\n",
        "        for j in range(lenstr2):\n",
        "            if s1[i] == s2[j]:\n",
        "                cost = 0\n",
        "            else:\n",
        "                cost = 1\n",
        "            d[(i, j)] = min(\n",
        "                d[(i - 1, j)] + 1,  # удаление\n",
        "                d[(i, j - 1)] + 1,  # вставка\n",
        "                d[(i - 1, j - 1)] + cost,  # замена\n",
        "            )\n",
        "            if i and j and s1[i] == s2[j - 1] and s1[i - 1] == s2[j]:\n",
        "                d[(i, j)] = min(d[(i, j)], d[i - 2, j - 2] + cost)  # транспозиция\n",
        "\n",
        "    return d[lenstr1 - 1, lenstr2 - 1]"
      ],
      "metadata": {
        "id": "n5EVzpOr0_LR"
      },
      "execution_count": 47,
      "outputs": []
    },
    {
      "cell_type": "code",
      "source": [
        "def correct_text(text, dictionary):\n",
        "    words = text.split()\n",
        "    corrected_words = []\n",
        "    for word in words:\n",
        "        min_distance = float('inf')\n",
        "        closest_word = word\n",
        "        for candidate in dictionary:\n",
        "            distance = damerau_levenshtein_distance(word, candidate)\n",
        "            if distance < min_distance:\n",
        "                min_distance = distance\n",
        "                closest_word = candidate\n",
        "        corrected_words.append(closest_word)\n",
        "    return \" \".join(corrected_words)"
      ],
      "metadata": {
        "id": "zqpMM_vl4OR5"
      },
      "execution_count": 48,
      "outputs": []
    },
    {
      "cell_type": "code",
      "source": [
        "import json\n",
        "dictionary = {\n",
        "\n",
        "  \"Универсального\": 1,\n",
        "  \"рецепта\": 1,\n",
        "  \"того\": 1,\n",
        "  \"как\": 1,\n",
        "  \"выбрать\": 1,\n",
        "  \"правильный\": 1,\n",
        "  \"единственно\": 1,\n",
        "  \"верный\": 1,\n",
        "  \"только\": 1,\n",
        "  \"тебе\": 1,\n",
        "  \"предназначенный\": 1,\n",
        "  \"путь\": 1,\n",
        "  \"в\": 1,\n",
        "  \"жизни\": 1,\n",
        "  \"просто\": 1,\n",
        "  \"нет\": 1,\n",
        "  \"и\": 1,\n",
        "  \"быть\": 1,\n",
        "  \"не\": 1,\n",
        "  \"может\": 1,\n",
        "  \"И\": 1,\n",
        "  \"окончательный\": 1,\n",
        "  \"выбор\": 1,\n",
        "  \"всегда\": 1,\n",
        "  \"остается\": 1,\n",
        "  \"за\": 1,\n",
        "  \"человеком\": 1,\n",
        "  \"Этот\": 1,\n",
        "  \"мы\": 1,\n",
        "  \"делаем\": 1,\n",
        "  \"уже\": 1,\n",
        "  \"детстве\": 1,\n",
        "  \"когда\": 1,\n",
        "  \"выбираем\": 1,\n",
        "  \"друзей\": 1,\n",
        "  \"учимся\": 1,\n",
        "  \"строить\": 1,\n",
        "  \"отношения\": 1,\n",
        "  \"с\": 1,\n",
        "  \"ровесниками\": 1,\n",
        "  \"играть\": 1,\n",
        "  \"Но\": 1,\n",
        "  \"большинство\": 1,\n",
        "  \"самых\": 1,\n",
        "  \"важнейших\": 1,\n",
        "  \"решений\": 1,\n",
        "  \"определяющих\": 1,\n",
        "  \"жизненный\": 1,\n",
        "  \"все-таки\": 1,\n",
        "  \"принимаем\": 1,\n",
        "  \"юности\": 1,\n",
        "  \"Как\": 1,\n",
        "  \"считают\": 1,\n",
        "  \"ученые\": 1,\n",
        "  \"вторая\": 1,\n",
        "  \"половина\": 1,\n",
        "  \"второго\": 1,\n",
        "  \"десятилетия\": 1,\n",
        "  \"жизни\": 1,\n",
        "  \"самый\": 1,\n",
        "  \"ответственный\": 1,\n",
        "  \"период\": 1,\n",
        "  \"Именно\": 1,\n",
        "  \"это\": 1,\n",
        "  \"время\": 1,\n",
        "  \"человек\": 1,\n",
        "  \"самое\": 1,\n",
        "  \"главное\": 1,\n",
        "  \"на\": 1,\n",
        "  \"всю\": 1,\n",
        "  \"ближайшего\": 1,\n",
        "  \"друга\": 1,\n",
        "  \"круг\": 1,\n",
        "  \"основных\": 1,\n",
        "  \"интересов\": 1,\n",
        "  \"профессию\": 1,\n",
        "  \"Понятно\": 1,\n",
        "  \"что\": 1,\n",
        "  \"такой\": 1,\n",
        "  \"дело\": 1,\n",
        "  \"ответственное\": 1,\n",
        "  \"От\": 1,\n",
        "  \"него\": 1,\n",
        "  \"невозможно\": 1,\n",
        "  \"отмахнуться\": 1,\n",
        "  \"его\": 1,\n",
        "  \"нельзя\": 1,\n",
        "  \"отложить\": 1,\n",
        "  \"потом\": 1,\n",
        "  \"Не\": 1,\n",
        "  \"стоит\": 1,\n",
        "  \"надеяться\": 1,\n",
        "  \"ошибку\": 1,\n",
        "  \"после\": 1,\n",
        "  \"можно\": 1,\n",
        "  \"будет\": 1,\n",
        "  \"исправить\": 1,\n",
        "  \"успеется\": 1,\n",
        "  \"вся\": 1,\n",
        "  \"впереди\": 1,\n",
        "  \"Что-то\": 1,\n",
        "  \"конечно\": 1,\n",
        "  \"удастся\": 1,\n",
        "  \"подправить\": 1,\n",
        "  \"изменить\": 1,\n",
        "  \"но\": 1,\n",
        "  \"далеко\": 1,\n",
        "  \"все\": 1,\n",
        "  \"неверные\": 1,\n",
        "  \"без\": 1,\n",
        "  \"последствий\": 1,\n",
        "  \"останутся\": 1,\n",
        "  \"Ведь\": 1,\n",
        "  \"успех\": 1,\n",
        "  \"приходит\": 1,\n",
        "  \"к\": 1,\n",
        "  \"тем\": 1,\n",
        "  \"кто\": 1,\n",
        "  \"знает\": 1,\n",
        "  \"чего\": 1,\n",
        "  \"он\": 1,\n",
        "  \"хочет\": 1,\n",
        "  \"решительно\": 1,\n",
        "  \"делает\": 1,\n",
        "  \"верит\": 1,\n",
        "  \"себя\": 1,\n",
        "  \"упорно\": 1,\n",
        "  \"достигает\": 1,\n",
        "  \"намеченных\": 1,\n",
        "  \"целей\": 1\n",
        "}\n",
        "\n",
        "\n",
        "with open(\"dictionary.json\", \"w\", encoding=\"utf-8\") as f:\n",
        "    json.dump(dictionary, f, ensure_ascii=False, indent=2)"
      ],
      "metadata": {
        "id": "J8itY4NM5wL_"
      },
      "execution_count": 52,
      "outputs": []
    },
    {
      "cell_type": "code",
      "source": [
        "\n",
        "try:\n",
        "    with open(\"dictionary.json\", \"r\", encoding=\"utf-8\") as f:\n",
        "        dictionary = json.load(f)\n",
        "except FileNotFoundError:\n",
        "    print(\"dictionary.json not found.  Create a dictionary file.\")\n",
        "    dictionary = {}\n",
        "timestart = time.time()\n",
        "corrected_text = correct_text(wrong_text, dictionary)\n",
        "timeend = time.time()\n",
        "print(f\"time is {timeend - timestart}\")\n",
        "print(f\"Исправленный текст: {corrected_text}\")"
      ],
      "metadata": {
        "id": "8vJ5cwbB4CTO",
        "outputId": "8c47d15a-27e3-4c03-83a5-727c799208dd",
        "colab": {
          "base_uri": "https://localhost:8080/"
        }
      },
      "execution_count": 55,
      "outputs": [
        {
          "output_type": "stream",
          "name": "stdout",
          "text": [
            "time is 0.6825466156005859\n",
            "Исправленный текст: Универсального рецепта того как выбрать правильный единственно верный только тебе предназначенный путь в жизни просто нет и быть не может И окончательный выбор всегда остается за человеком Этот выбор мы делаем уже в детстве когда выбираем друзей учимся строить отношения с ровесниками играть Но большинство самых важнейших решений определяющих жизненный путь мы всю как принимаем в юности Как считают ученые вторая половина второго десятилетия жизни в самый ответственный период Именно в это время человек выбираем самое главное и на всю жизни ближайшего друга круг основных интересов профессию Понятно что такой выбор дело ответственное От него невозможно отмахнуться его нельзя отложить на потом Не стоит надеяться что ошибку после можно будет исправить успеется вся жизни впереди Что-то конечно удастся подправить изменить но далеко не всю И не верный решений без последствий не останутся Ведь успех приходит к тем кто знает чего он хочет решительно делает выбор верит в себя и упорно достигает намеченных целей\n"
          ]
        }
      ]
    },
    {
      "cell_type": "markdown",
      "source": [
        "Не совсем понял. что имеллось в виду, но решено к каждой букве из алфавита сопоставить в буквы вокруг ней"
      ],
      "metadata": {
        "id": "zzBQEOtD6tBV"
      }
    },
    {
      "cell_type": "code",
      "source": [
        "import random\n",
        "mistakes = {\n",
        "    'й': ['ц', 'ф'],\n",
        "    'ц': ['й', 'у', 'ф', 'ы'],\n",
        "    'у': ['ц', 'к', 'ы', 'в'],\n",
        "    'к': ['у', 'е', 'в', 'а'],\n",
        "    'е': ['к', 'н', 'а', 'п'],\n",
        "    'н': ['е', 'г', 'п', 'р'],\n",
        "    'г': ['н', 'ш', 'р', 'о'],\n",
        "    'ш': ['г', 'щ', 'о', 'л'],\n",
        "    'щ': ['ш', 'з', 'л', 'д'],\n",
        "    'з': ['щ', 'х', 'д', 'ж'],\n",
        "    'х': ['з', 'ъ', 'ж', 'э'],\n",
        "    'ъ': ['х', 'э'],\n",
        "    'ф': ['й', 'ц', 'ы', 'я'],\n",
        "    'ы': ['ф', 'ц', 'у', 'я', 'ч'],\n",
        "    'в': ['у', 'к', 'а', 'ч', 'с'],\n",
        "    'а': ['к', 'е', 'в', 'с', 'м'],\n",
        "    'п': ['е', 'н', 'р', 'м', 'и'],\n",
        "    'р': ['н', 'г', 'п', 'и', 'т'],\n",
        "    'о': ['г', 'ш', 'л', 'т', 'ь'],\n",
        "    'л': ['ш', 'щ', 'д', 'ь', 'б'],\n",
        "    'д': ['щ', 'з', 'ж', 'б', 'ю'],\n",
        "    'ж': ['з', 'х', 'э', 'ю'],\n",
        "    'э': ['х', 'ъ', 'ж'],\n",
        "    'я': ['ф', 'ы', 'ч'],\n",
        "    'ч': ['ы', 'в', 'я', 'с'],\n",
        "    'с': ['в', 'а', 'ч', 'м'],\n",
        "    'м': ['а', 'п', 'с', 'и'],\n",
        "    'и': ['п', 'р', 'м', 'т'],\n",
        "    'т': ['р', 'о', 'и', 'ь'],\n",
        "    'ь': ['о', 'л', 'т', 'б'],\n",
        "    'б': ['л', 'д', 'ь', 'ю'],\n",
        "    'ю': ['д', 'ж', 'б']\n",
        "}"
      ],
      "metadata": {
        "id": "DZjBWyoA66sM"
      },
      "execution_count": 64,
      "outputs": []
    },
    {
      "cell_type": "code",
      "source": [
        "# ну нужно написать функцию генерации, давайте сделаем это\n",
        "# идея будет в том, что мы с 0.1 вероятностью берём символ и заменяем его на"
      ],
      "metadata": {
        "id": "91dRDUS575Yu"
      },
      "execution_count": 57,
      "outputs": []
    },
    {
      "cell_type": "code",
      "source": [
        "def generate_typos(word, typo_prob=0.1, mistakes=mistakes):\n",
        "    word_with_typos = \"\"\n",
        "    for char in word:\n",
        "        if random.random() < typo_prob and char.lower() in mistakes:\n",
        "            possible_typos = mistakes[char.lower()]\n",
        "            typo = random.choice(possible_typos)\n",
        "            word_with_typos += typo if char.islower() else typo.upper() # Сохраняем регистр\n",
        "        else:\n",
        "            word_with_typos += char\n",
        "    return word_with_typos\n",
        "\n",
        "\n",
        "# Пример использования:\n",
        "word = \"Привет\"\n",
        "word_with_typos = generate_typos(word)\n",
        "print(f\"Исходное слово: {word}\")\n",
        "print(f\"Слово с опечатками: {word_with_typos}\")"
      ],
      "metadata": {
        "id": "TXy17ZfQ78Vr",
        "outputId": "1cb2afe4-ed34-469b-a227-1d95ae9fdfaa",
        "colab": {
          "base_uri": "https://localhost:8080/"
        }
      },
      "execution_count": 67,
      "outputs": [
        {
          "output_type": "stream",
          "name": "stdout",
          "text": [
            "Исходное слово: Привет\n",
            "Слово с опечатками: Привет\n"
          ]
        }
      ]
    },
    {
      "cell_type": "markdown",
      "source": [
        "Задача 4"
      ],
      "metadata": {
        "id": "_CKUSkuY-UcV"
      }
    },
    {
      "cell_type": "code",
      "source": [
        "import numpy as np\n",
        "from collections import Counter\n",
        "\n",
        "def CountVectorizer(word1, word2):\n",
        "\n",
        "    if not word1 or not word2:\n",
        "        return 0\n",
        "    word1 = word1.lower()\n",
        "    word2 = word2.lower()\n",
        "\n",
        "    counter1 = Counter(word1)\n",
        "    counter2 = Counter(word2)\n",
        "\n",
        "    all_chars = set(counter1.keys() | counter2.keys())\n",
        "\n",
        "    vector1 = np.array([counter1.get(char, 0) for char in all_chars])\n",
        "    vector2 = np.array([counter2.get(char, 0) for char in all_chars])\n",
        "\n",
        "    # Вычисляем косинусное сходство\n",
        "    cosine_similarity = np.dot(vector1, vector2) / (np.linalg.norm(vector1) * np.linalg.norm(vector2))\n",
        "\n",
        "    return cosine_similarity\n",
        "\n",
        "\n",
        "\n",
        "print(compare_letter_frequency_vectors(\"привет\", \"привет\"))   # Вывод: 1.0\n",
        "print(compare_letter_frequency_vectors(\"привет\", \"ПРИВЕТ\"))   # Вывод: 1.0 (регистр не учитывается)\n",
        "print(compare_letter_frequency_vectors(\"привет\", \"превед\"))   # Вывод: ~0.82\n",
        "print(compare_letter_frequency_vectors(\"привет\", \"пока\"))     # Вывод: ~0.27\n",
        "print(compare_letter_frequency_vectors(\"привет\", \"\"))        # Вывод: 0\n",
        "print(compare_letter_frequency_vectors(\"\", \"пока\"))"
      ],
      "metadata": {
        "id": "-YRjHqrH-Ld-",
        "outputId": "f4de0886-f6e8-41a8-e074-a45b533cdd48",
        "colab": {
          "base_uri": "https://localhost:8080/"
        }
      },
      "execution_count": 71,
      "outputs": [
        {
          "output_type": "stream",
          "name": "stdout",
          "text": [
            "1.0000000000000002\n",
            "1.0000000000000002\n",
            "0.7216878364870323\n",
            "0.20412414523193154\n",
            "0\n",
            "0\n"
          ]
        }
      ]
    },
    {
      "cell_type": "code",
      "source": [
        "  def correct_text(text, dictionary, typo_prob = 0.2, keyboard_layout = mistakes):\n",
        "    words = text.split()\n",
        "    corrected_words = []\n",
        "    for word in words:\n",
        "        if word in dictionary:  # Слово уже есть в словаре - не нужно исправлять\n",
        "            corrected_words.append(word)\n",
        "            continue\n",
        "\n",
        "\n",
        "        best_candidate = None\n",
        "        max_similarity = 0\n",
        "\n",
        "\n",
        "        candidates = [candidate for candidate in dictionary if abs(len(candidate) - len(word)) <= 2 ]\n",
        "\n",
        "        for candidate in candidates:\n",
        "            similarity = CountVectorizer(word, candidate)\n",
        "            if similarity > max_similarity and damerau_levenshtein_distance(word.lower(), candidate.lower()) <= len(word) * typo_prob :\n",
        "                max_similarity = similarity\n",
        "                best_candidate = candidate\n",
        "\n",
        "        if best_candidate:\n",
        "            corrected_words.append(best_candidate)\n",
        "        else:\n",
        "\n",
        "            min_distance = float('inf')\n",
        "            closest_word = word\n",
        "\n",
        "            for candidate in dictionary:\n",
        "                distance = damerau_levenshtein_distance(word.lower(), candidate.lower())\n",
        "                if distance < min_distance:\n",
        "                    min_distance = distance\n",
        "                    closest_word = candidate\n",
        "\n",
        "            corrected_words.append(closest_word)\n",
        "\n",
        "    return \" \".join(corrected_words)\n"
      ],
      "metadata": {
        "id": "B9PeS8y0__HP"
      },
      "execution_count": 72,
      "outputs": []
    },
    {
      "cell_type": "code",
      "source": [
        "timestart = time.time()\n",
        "corrected_text = correct_text(wrong_text, dictionary)\n",
        "timeend = time.time()\n",
        "print(f\"time is {timeend - timestart}\")\n",
        "print(f\"Исправленный текст: {corrected_text}\")"
      ],
      "metadata": {
        "id": "0nefDkjxAx1V",
        "outputId": "13bbd12a-4542-46c2-b85a-805208cfc085",
        "colab": {
          "base_uri": "https://localhost:8080/"
        }
      },
      "execution_count": 73,
      "outputs": [
        {
          "output_type": "stream",
          "name": "stdout",
          "text": [
            "time is 0.19004392623901367\n",
            "Исправленный текст: Универсального рецепта того как выбрать правильный единственно верный только тебе предназначенный путь в жизни просто нет и быть не может И окончательный выбор всегда остается за человеком Этот выбор мы делаем уже в детстве когда выбираем друзей учимся строить отношения с ровесниками играть Но большинство самых важнейших решений определяющих жизненный путь мы всю как принимаем в юности Как считают ученые вторая половина второго десятилетия жизни в самый ответственный период Именно в это время человек выбираем самое главное и на всю жизни ближайшего друга круг основных интересов профессию Понятно что такой выбор дело ответственное От него невозможно отмахнуться его нельзя отложить на потом Не стоит надеяться что ошибку после можно будет исправить успеется вся жизни впереди Что-то конечно удастся подправить изменить но далеко не всю И не верный решений без последствий не останутся Ведь успех приходит к тем кто знает чего он хочет решительно делает выбор верит в себя и упорно достигает намеченных целей\n"
          ]
        }
      ]
    },
    {
      "cell_type": "markdown",
      "source": [
        "|время без проверки косинусной близости | время с проверкой косинусной близовтси |\n",
        "|--- | ---- |\n",
        "| 0.6825466156005859 | 0.19004392623901367 |"
      ],
      "metadata": {
        "id": "b_2hmIPBA_Sk"
      }
    },
    {
      "cell_type": "markdown",
      "source": [
        "Итог, существуют разные методы для удаления ошибок в тексте, такие как yandexSpeller и другие\n",
        "\n",
        "Имеются базовые средства для исключения ошибок, такие как метод Дамерау-  Левенштейна, которые можно ускорить, если использовать косинусную близость между данными векторами"
      ],
      "metadata": {
        "id": "ch73JWTTBUmC"
      }
    }
  ]
}