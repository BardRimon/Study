{
  "cells": [
    {
      "cell_type": "markdown",
      "metadata": {
        "id": "3rbnBId4QvTM",
        "jp-MarkdownHeadingCollapsed": true
      },
      "source": [
        "# 5. Синтаксис"
      ]
    },
    {
      "cell_type": "markdown",
      "metadata": {
        "id": "Pra6dZQ6frVy"
      },
      "source": [
        "### 5.1 Объяснить значение трех UD-тегов синтаксических отношений на примере фрагмента размеченного корпуса\n",
        "Корпус [RuEval2017-dev](http://www.dialog-21.ru/media/4155/sorokin.pdf):"
      ]
    },
    {
      "cell_type": "code",
      "execution_count": null,
      "metadata": {
        "colab": {
          "base_uri": "https://localhost:8080/"
        },
        "id": "kyuDYbDRfmxH",
        "outputId": "0689e582-700b-429a-d0cf-3250aa40ab26"
      },
      "outputs": [
        {
          "name": "stderr",
          "output_type": "stream",
          "text": [
            "\"wget\" ­Ґ пў«пҐвбп ў­гваҐ­­Ґ© Ё«Ё ў­Ґи­Ґ©\n",
            "Є®¬ ­¤®©, ЁбЇ®«­пҐ¬®© Їа®Ја ¬¬®© Ё«Ё Ї ЄҐв­л¬ д ©«®¬.\n"
          ]
        }
      ],
      "source": [
        "!wget https://www.dropbox.com/s/am6nasx6bx82nhp/RuEval2017-Lenta-news-dev.conllu"
      ]
    },
    {
      "cell_type": "code",
      "execution_count": null,
      "metadata": {
        "id": "4y4AZaqjEltn",
        "outputId": "bfe8d888-fd26-4742-fd72-7a7951a4dab3"
      },
      "outputs": [
        {
          "data": {
            "text/plain": [
              "('RuEval2017-Lenta-news-dev.conllu',\n",
              " <http.client.HTTPMessage at 0x18d49f4cd00>)"
            ]
          },
          "execution_count": 13,
          "metadata": {},
          "output_type": "execute_result"
        }
      ],
      "source": [
        "import urllib.request\n",
        "\n",
        "url = \"https://www.dropbox.com/s/am6nasx6bx82nhp/RuEval2017-Lenta-news-dev.conllu?dl=1\"\n",
        "urllib.request.urlretrieve(url, \"RuEval2017-Lenta-news-dev.conllu\")\n"
      ]
    },
    {
      "cell_type": "code",
      "execution_count": null,
      "metadata": {
        "id": "7t6gtUo1Elto",
        "outputId": "2b24585b-4e9e-446e-e0b4-4d5bb9e5af89"
      },
      "outputs": [
        {
          "name": "stderr",
          "output_type": "stream",
          "text": [
            "  % Total    % Received % Xferd  Average Speed   Time    Time     Time  Current\n",
            "                                 Dload  Upload   Total   Spent    Left  Speed\n",
            "\n",
            "  0     0    0     0    0     0      0      0 --:--:-- --:--:-- --:--:--     0\n",
            "  0     0    0     0    0     0      0      0 --:--:-- --:--:-- --:--:--     0\n",
            "100   149  100   149    0     0    128      0  0:00:01  0:00:01 --:--:--   129\n",
            "\n",
            "  0     0    0     0    0     0      0      0 --:--:--  0:00:01 --:--:--     0\n",
            "100    17  100    17    0     0      9      0  0:00:01  0:00:01 --:--:-- 17000\n",
            "\n",
            "  0     0    0     0    0     0      0      0 --:--:--  0:00:02 --:--:--     0\n",
            "  0     0    0     0    0     0      0      0 --:--:--  0:00:03 --:--:--     0\n",
            "  0     0    0     0    0     0      0      0 --:--:--  0:00:04 --:--:--     0\n",
            "  0     0    0     0    0     0      0      0 --:--:--  0:00:05 --:--:--     0\n",
            "  0     0    0     0    0     0      0      0 --:--:--  0:00:06 --:--:--     0\n",
            "  0     0    0     0    0     0      0      0 --:--:--  0:00:07 --:--:--     0\n",
            "  0     0    0     0    0     0      0      0 --:--:--  0:00:08 --:--:--     0\n",
            "  0     0    0     0    0     0      0      0 --:--:--  0:00:09 --:--:--     0\n",
            "  0     0    0     0    0     0      0      0 --:--:--  0:00:10 --:--:--     0\n",
            "  0     0    0     0    0     0      0      0 --:--:--  0:00:11 --:--:--     0\n",
            "  0     0    0     0    0     0      0      0 --:--:--  0:00:12 --:--:--     0\n",
            "  0     0    0     0    0     0      0      0 --:--:--  0:00:13 --:--:--     0\n",
            "  0     0    0     0    0     0      0      0 --:--:--  0:00:14 --:--:--     0\n",
            "100 76637  100 76637    0     0   4996      0  0:00:15  0:00:15 --:--:-- 16316\n"
          ]
        }
      ],
      "source": [
        "!curl -L -o RuEval2017-Lenta-news-dev.conllu https://www.dropbox.com/s/am6nasx6bx82nhp/RuEval2017-Lenta-news-dev.conllu?dl=1\n"
      ]
    },
    {
      "cell_type": "markdown",
      "metadata": {
        "id": "FRT4tE2hfvQZ"
      },
      "source": [
        "Случайное предложение:"
      ]
    },
    {
      "cell_type": "code",
      "execution_count": null,
      "metadata": {
        "colab": {
          "base_uri": "https://localhost:8080/"
        },
        "id": "eHklAY1Uf8dx",
        "outputId": "c222db63-7f68-4fa7-e00a-e26587a31c39"
      },
      "outputs": [
        {
          "name": "stderr",
          "output_type": "stream",
          "text": [
            "\"head\" ­Ґ пў«пҐвбп ў­гваҐ­­Ґ© Ё«Ё ў­Ґи­Ґ©\n",
            "Є®¬ ­¤®©, ЁбЇ®«­пҐ¬®© Їа®Ја ¬¬®© Ё«Ё Ї ЄҐв­л¬ д ©«®¬.\n"
          ]
        }
      ],
      "source": [
        "! head -497 RuEval2017-Lenta-news-dev.conllu | tail -30"
      ]
    },
    {
      "cell_type": "code",
      "execution_count": null,
      "metadata": {
        "id": "98UELejfElto",
        "outputId": "e60b0a1d-5416-4d42-d0c5-5c1acdea3c4e"
      },
      "outputs": [
        {
          "name": "stdout",
          "output_type": "stream",
          "text": [
            "1\tПо\tпо\tADP\t_\t_\t3\tcase\t_\t_\n",
            "2\tего\tего\tDET\t_\t_\t3\tdet\t_\t_\n",
            "3\tсловам\tслово\tNOUN\t_\tAnimacy=Inan|Case=Dat|Gender=Neut|Number=Plur\t9\tparataxis\t_\t_\n",
            "4\t,\t,\tPUNCT\t_\t_\t3\tpunct\t_\t_\n",
            "5\tв\tв\tADP\t_\t_\t7\tcase\t_\t_\n",
            "6\tмосковских\tмосковский\tADJ\t_\tCase=Loc|Degree=Pos|Number=Plur\t7\tamod\t_\t_\n",
            "7\tбольницах\tбольница\tNOUN\t_\tAnimacy=Inan|Case=Loc|Gender=Fem|Number=Plur\t9\tobl\t_\t_\n",
            "8\tон\tон\tPRON\t_\tCase=Nom|Gender=Masc|Number=Sing|Person=3\t9\tnsubj\t_\t_\n",
            "9\tспал\tспать\tVERB\t_\tAspect=Imp|Gender=Masc|Mood=Ind|Number=Sing|Tense=Past|VerbForm=Fin|Voice=Act\t0\troot\t_\t_\n",
            "10\tс\tс\tADP\t_\t_\t11\tcase\t_\t_\n",
            "11\tпистолетом\tпистолет\tNOUN\t_\tAnimacy=Inan|Case=Ins|Gender=Masc|Number=Sing\t9\tobl\t_\t_\n",
            "12\tМакарова\tМакаров\tPROPN\t_\tAnimacy=Anim|Case=Gen|Gender=Masc|Number=Sing\t11\tnmod\t_\t_\n",
            "13\t,\t,\tPUNCT\t_\t_\t20\tpunct\t_\t_\n",
            "14\tкоторый\tкоторый\tPRON\t_\tAnimacy=Inan|Case=Acc|Gender=Masc|Number=Sing\t20\tobj\t_\t_\n",
            "15\tвместе\tвместе\tADV\t_\tDegree=Pos\t17\tadvmod\t_\t_\n",
            "16\tс\tс\tADP\t_\t_\t17\tcase\t_\t_\n",
            "17\tорденом\tорден\tNOUN\t_\tAnimacy=Inan|Case=Ins|Gender=Masc|Number=Sing\t20\tobl\t_\t_\n",
            "18\tКрасной\tкрасный\tADJ\t_\tCase=Gen|Degree=Pos|Gender=Fem|Number=Sing\t19\tamod\t_\t_\n",
            "19\tЗвезды\tзвезда\tNOUN\t_\tAnimacy=Inan|Case=Gen|Gender=Fem|Number=Sing\t17\tnmod\t_\t_\n",
            "20\tполучил\tполучить\tVERB\t_\tAspect=Perf|Gender=Masc|Mood=Ind|Number=Sing|Tense=Past|VerbForm=Fin|Voice=Act\t11\tacl:relcl\t_\t_\n",
            "21\tв\tв\tADP\t_\t_\t23\tcase\t_\t_\n",
            "22\t1969\t1969\tADJ\t_\tNumForm=Digit\t23\tamod\t_\t_\n",
            "23\tгоду\tгод\tNOUN\t_\tAnimacy=Inan|Case=Loc|Gender=Masc|Number=Sing\t20\tobl\t_\t_\n",
            "24\tза\tза\tADP\t_\t_\t25\tcase\t_\t_\n",
            "25\tзадержание\tзадержание\tNOUN\t_\tAnimacy=Inan|Case=Acc|Gender=Neut|Number=Sing\t20\tobl\t_\t_\n",
            "26\tособо\tособо\tADV\t_\tDegree=Pos\t27\tadvmod\t_\t_\n",
            "27\tопасного\tопасный\tADJ\t_\tCase=Gen|Degree=Pos|Gender=Masc|Number=Sing\t28\tamod\t_\t_\n",
            "28\tпреступника\tпреступник\tNOUN\t_\tAnimacy=Anim|Case=Gen|Gender=Masc|Number=Sing\t25\tnmod\t_\t_\n",
            "29\t.\t.\tPUNCT\t_\t_\t9\tpunct\t_\t_\n",
            "\n"
          ]
        }
      ],
      "source": [
        "with open(\"RuEval2017-Lenta-news-dev.conllu\", encoding=\"utf-8\") as f:\n",
        "    lines = f.readlines()\n",
        "    for line in lines[467:497]:  # 497-30 = 467\n",
        "        print(line.strip())\n"
      ]
    },
    {
      "cell_type": "code",
      "execution_count": null,
      "metadata": {
        "id": "f7tPCW8pkJV2"
      },
      "outputs": [],
      "source": [
        "import random\n",
        "\n",
        "def load_sentences(file_path):\n",
        "    \"\"\"\n",
        "    Загружает предложения из CoNLL-U файла.\n",
        "    Возвращает список предложений, где каждое предложение представлено списком строк.\n",
        "    \"\"\"\n",
        "    with open(file_path, 'r', encoding='utf-8') as f:\n",
        "        content = f.read()\n",
        "\n",
        "    # Разделяем содержимое файла на предложения по пустым строкам\n",
        "    sentences = content.strip().split('\\n\\n')\n",
        "    return sentences\n",
        "\n",
        "def parse_sentence(sentence):\n",
        "    \"\"\"\n",
        "    Парсит одно предложение в формате CoNLL-U.\n",
        "    Возвращает текст предложения и словарь зависимостей.\n",
        "    \"\"\"\n",
        "    lines = sentence.split('\\n')\n",
        "    text = None\n",
        "    dependencies = []\n",
        "\n",
        "    for line in lines:\n",
        "        if line.startswith('# text ='):\n",
        "            text = line[len('# text ='):].strip()\n",
        "        elif not line.startswith('#') and line.strip():\n",
        "            fields = line.split('\\t')\n",
        "            if len(fields) >= 8:\n",
        "                id_, form, _, pos, _, feats, head, deprel, *_ = fields\n",
        "                dependencies.append((int(id_), form, pos, int(head), deprel))\n",
        "\n",
        "    # Если текст предложения не найден, собираем его из токенов\n",
        "    if text is None:\n",
        "        forms = [line.split('\\t')[1] for line in lines if not line.startswith('#') and line.strip()]\n",
        "        text = ' '.join(forms)\n",
        "\n",
        "    return text, dependencies\n",
        "\n",
        "def explain_ud_tags(dependencies):\n",
        "    \"\"\"\n",
        "    Объясняет три случайных UD-тега из зависимостей предложения.\n",
        "    \"\"\"\n",
        "    ud_tags_to_explain = {}\n",
        "\n",
        "    # Выбираем три уникальных тега\n",
        "    unique_tags = set(dep[4] for dep in dependencies)\n",
        "    tags_to_explain = random.sample(list(unique_tags), min(3, len(unique_tags)))  # Преобразуем set в list\n",
        "\n",
        "    for tag in tags_to_explain:\n",
        "        examples = [(form, dependencies[head-1][1]) for id_, form, _, head, deprel in dependencies if deprel == tag]\n",
        "        if examples:\n",
        "            example = examples[0]\n",
        "            ud_tags_to_explain[tag] = example\n",
        "\n",
        "    return ud_tags_to_explain\n",
        "\n",
        "def main():\n",
        "    # Путь к файлу корпуса\n",
        "    file_path = 'RuEval2017-Lenta-news-dev.conllu'\n",
        "\n",
        "    # Загружаем предложения\n",
        "    sentences = load_sentences(file_path)\n",
        "\n",
        "    # Выбираем случайное предложение\n",
        "    random_sentence = random.choice(sentences)\n",
        "\n",
        "    # Парсим предложение\n",
        "    text, dependencies = parse_sentence(random_sentence)\n",
        "\n",
        "    # Объясняем три UD-тега\n",
        "    ud_tags_to_explain = explain_ud_tags(dependencies)\n",
        "\n",
        "    # Выводим результаты\n",
        "    print(f\"Предложение: {text}\\n\")\n",
        "    print(\"Объяснение UD-тегов:\")\n",
        "    for tag, (word, head) in ud_tags_to_explain.items():\n",
        "        if tag == 'nsubj':\n",
        "            explanation = f\"{tag} (nominal subject): '{word}' является подлежащим для глагола '{head}'.\"\n",
        "        elif tag == 'obl':\n",
        "            explanation = f\"{tag} (oblique nominal): '{word}' указывает на дополнение (например, место или время) для глагола '{head}'.\"\n",
        "        elif tag == 'amod':\n",
        "            explanation = f\"{tag} (adjectival modifier): '{word}' модифицирует существительное '{head}', описывая его характеристики.\"\n",
        "        else:\n",
        "            explanation = f\"{tag}: '{word}' связано с '{head}' через отношение '{tag}'.\"\n",
        "        print(explanation)\n",
        "\n",
        "if __name__ == \"__main_1__\":\n",
        "    main()"
      ]
    },
    {
      "cell_type": "code",
      "execution_count": null,
      "metadata": {
        "id": "KUTW0EX2GdwC"
      },
      "outputs": [],
      "source": [
        "def main_1():\n",
        "    # Путь к файлу корпуса\n",
        "    file_path = 'RuEval2017-Lenta-news-dev.conllu'\n",
        "\n",
        "    # Загружаем предложения\n",
        "    sentences = load_sentences(file_path)\n",
        "\n",
        "    # Выбираем случайное предложение\n",
        "    random_sentence = random.choice(sentences)\n",
        "\n",
        "    try:\n",
        "        # Парсим предложение\n",
        "        text, dependencies = parse_sentence(random_sentence)\n",
        "\n",
        "        # Объясняем три UD-тега\n",
        "        ud_tags_to_explain = explain_ud_tags(dependencies)\n",
        "\n",
        "        # Выводим результаты\n",
        "        print(f\"Предложение: {text}\\n\")\n",
        "        print(\"Объяснение UD-тегов:\")\n",
        "        for tag, (word, head) in ud_tags_to_explain.items():\n",
        "            if tag == 'nsubj':\n",
        "                explanation = f\"{tag} (nominal subject): '{word}' является подлежащим для глагола '{head}'.\"\n",
        "            elif tag == 'obl':\n",
        "                explanation = f\"{tag} (oblique nominal): '{word}' указывает на дополнение (например, место или время) для глагола '{head}'.\"\n",
        "            elif tag == 'amod':\n",
        "                explanation = f\"{tag} (adjectival modifier): '{word}' модифицирует существительное '{head}', описывая его характеристики.\"\n",
        "            else:\n",
        "                explanation = f\"{tag}: '{word}' связано с '{head}' через отношение '{tag}'.\"\n",
        "            print(explanation)\n",
        "    except ValueError as e:\n",
        "        print(f\"Ошибка при обработке предложения: {e}\")"
      ]
    },
    {
      "cell_type": "code",
      "execution_count": null,
      "metadata": {
        "colab": {
          "base_uri": "https://localhost:8080/"
        },
        "id": "Ytb1FjlHF_Zo",
        "outputId": "cd6beec3-bcb4-4277-862f-1f73b838fcf4"
      },
      "outputs": [
        {
          "name": "stdout",
          "output_type": "stream",
          "text": [
            "Предложение: Террористы , вооруженные пистолетом и ружьем , требовали предоставить им миллион евро и самолет , чтобы покинуть Грецию .\n",
            "\n",
            "Объяснение UD-тегов:\n",
            "obj: 'евро' связано с 'предоставить' через отношение 'obj'.\n",
            "acl: 'вооруженные' связано с 'Террористы' через отношение 'acl'.\n",
            "advcl: 'покинуть' связано с 'предоставить' через отношение 'advcl'.\n"
          ]
        }
      ],
      "source": [
        "main_1()"
      ]
    },
    {
      "cell_type": "markdown",
      "metadata": {
        "id": "S0l_RXTRiQ13"
      },
      "source": [
        "## 5.2 Написать функцию разбиения сложносочиненного предложения из двух частей на простые."
      ]
    },
    {
      "cell_type": "code",
      "execution_count": null,
      "metadata": {
        "id": "wT_B36ftIOzg"
      },
      "outputs": [],
      "source": [
        "import random\n",
        "import re\n",
        "\n",
        "def load_sentences(file_path):\n",
        "    \"\"\"\n",
        "    Загружает предложения из CoNLL-U файла.\n",
        "    Возвращает список предложений, где каждое предложение представлено списком строк.\n",
        "    \"\"\"\n",
        "    with open(file_path, 'r', encoding='utf-8') as f:\n",
        "        content = f.read()\n",
        "\n",
        "    # Разделяем содержимое файла на предложения по пустым строкам\n",
        "    sentences = content.strip().split('\\n\\n')\n",
        "    return sentences\n",
        "\n",
        "def parse_sentence(sentence):\n",
        "    \"\"\"\n",
        "    Парсит одно предложение в формате CoNLL-U.\n",
        "    Возвращает текст предложения и словарь зависимостей.\n",
        "    \"\"\"\n",
        "    lines = sentence.split('\\n')\n",
        "    text = None\n",
        "    dependencies = []\n",
        "\n",
        "    for line in lines:\n",
        "        if line.startswith('# text ='):\n",
        "            text = line[len('# text ='):].strip()\n",
        "        elif not line.startswith('#') and line.strip():\n",
        "            fields = line.split('\\t')\n",
        "            if len(fields) >= 8:\n",
        "                id_, form, _, pos, _, feats, head, deprel, *_ = fields\n",
        "                dependencies.append((int(id_), form, pos, int(head), deprel))\n",
        "\n",
        "    # Если текст предложения не найден, собираем его из токенов\n",
        "    if text is None:\n",
        "        forms = [line.split('\\t')[1] for line in lines if not line.startswith('#') and line.strip()]\n",
        "        text = ' '.join(forms)\n",
        "\n",
        "    return text, dependencies\n",
        "\n",
        "def split_compound_sentence(sentence):\n",
        "    \"\"\"\n",
        "    Разбивает сложносочинённое предложение на простые части по сочинительным союзам.\n",
        "\n",
        "    Args:\n",
        "        sentence (str): Исходное предложение.\n",
        "\n",
        "    Returns:\n",
        "        list: Список простых предложений.\n",
        "    \"\"\"\n",
        "    conjunctions = [\n",
        "        \"то есть\", \"впрочем\", \"однако\", \"иначе\", \"также\", \"тоже\", \"зато\",\n",
        "        \"либо\", \"или\", \"но\", \"а\", \"и\", \"да\", \"же\"\n",
        "    ]\n",
        "    conjunctions = sorted(conjunctions, key=len, reverse=True)\n",
        "    pattern = r\"(?:,\\s*)?\\b(\" + \"|\".join(map(re.escape, conjunctions)) + r\")\\b\\s+\"\n",
        "\n",
        "    parts = re.split(pattern, sentence)\n",
        "    simple_sentences = []\n",
        "\n",
        "    for part in parts:\n",
        "        stripped = part.strip(\" ,.\")\n",
        "        if stripped and stripped not in conjunctions:\n",
        "            simple_sentences.append(stripped + \".\")\n",
        "\n",
        "    if len(simple_sentences) == 1:\n",
        "        print(f\"Союзы не найдены. Возвращаем исходное предложение: {simple_sentences[0]}\")\n",
        "    else:\n",
        "        print(f\"Разбито на {len(simple_sentences)} частей.\")\n",
        "\n",
        "    return simple_sentences\n",
        "\n",
        "\n",
        "def main():\n",
        "    # Путь к файлу корпуса\n",
        "    file_path = 'RuEval2017-Lenta-news-dev.conllu'\n",
        "\n",
        "    # Загружаем предложения\n",
        "    sentences = load_sentences(file_path)\n",
        "    print(f\"Загружено {len(sentences)} предложений из файла.\")\n",
        "\n",
        "    # Выбираем случайное предложение\n",
        "    random_sentence = random.choice(sentences)\n",
        "    print(f\"\\nВыбрано случайное предложение:\\n{random_sentence}\")\n",
        "\n",
        "    # Парсим предложение\n",
        "    text, dependencies = parse_sentence(random_sentence)\n",
        "    print(f\"\\nИзвлеченный текст предложения:\\n{text}\")\n",
        "\n",
        "    # Разбиваем сложносочиненное предложение на простые части\n",
        "    print(\"\\nРазбиваем предложение на простые части...\")\n",
        "    simple_sentences = split_compound_sentence(text)\n",
        "\n",
        "    # Выводим результаты\n",
        "    print(\"\\nРезультат разбиения:\")\n",
        "    for i, simple_sentence in enumerate(simple_sentences, 1):\n",
        "        print(f\"{i}. {simple_sentence}\")"
      ]
    },
    {
      "cell_type": "code",
      "execution_count": null,
      "metadata": {
        "colab": {
          "base_uri": "https://localhost:8080/"
        },
        "id": "4-q3GlW5IPo9",
        "outputId": "34b44851-7f57-49fb-bb4e-ea99ee8496d7"
      },
      "outputs": [
        {
          "name": "stdout",
          "output_type": "stream",
          "text": [
            "Загружено 58 предложений из файла.\n",
            "\n",
            "Выбрано случайное предложение:\n",
            "1\tВ\tв\tADP\t_\t_\t2\tcase\t_\t_\n",
            "2\tиюле\tиюль\tNOUN\t_\tAnimacy=Inan|Case=Loc|Gender=Masc|Number=Sing\t7\tobl\t_\t_\n",
            "3\tправа\tправо\tNOUN\t_\tAnimacy=Inan|Case=Acc|Gender=Neut|Number=Plur\t7\tobj\t_\t_\n",
            "4\tна\tна\tADP\t_\t_\t5\tcase\t_\t_\n",
            "5\tвылов\tвылов\tNOUN\t_\tAnimacy=Inan|Case=Acc|Gender=Masc|Number=Sing\t3\tnmod\t_\t_\n",
            "6\tтакже\tтакже\tADV\t_\tDegree=Pos\t7\tadvmod\t_\t_\n",
            "7\tполучила\tполучить\tVERB\t_\tAspect=Perf|Gender=Fem|Mood=Ind|Number=Sing|Tense=Past|VerbForm=Fin|Voice=Act\t0\troot\t_\t_\n",
            "8\tУкраина\tУкраина\tPROPN\t_\tAnimacy=Inan|Case=Nom|Gender=Fem|Number=Sing\t7\tnsubj\t_\t_\n",
            "9\t.\t.\tPUNCT\t_\t_\t7\tpunct\t_\t_\n",
            "\n",
            "Извлеченный текст предложения:\n",
            "В июле права на вылов также получила Украина .\n",
            "\n",
            "Разбиваем предложение на простые части...\n",
            "Разбито на 2 частей.\n",
            "\n",
            "Результат разбиения:\n",
            "1. В июле права на вылов.\n",
            "2. получила Украина.\n"
          ]
        }
      ],
      "source": [
        "main()"
      ]
    },
    {
      "cell_type": "markdown",
      "metadata": {
        "id": "fBjW_dvfiT1c"
      },
      "source": [
        "## 5.3. Написать функцию нахождения наименьшего общего предка двух токенов в дереве зависимостей."
      ]
    },
    {
      "cell_type": "code",
      "execution_count": null,
      "metadata": {
        "id": "-atS_LsYJjb_"
      },
      "outputs": [],
      "source": [
        "dependencies = [\n",
        "    (1, 'Я', 'PRON', 2, 'nsubj'),       # Токен 1: \"Я\" -> родитель: токен 2\n",
        "    (2, 'купил', 'VERB', 0, 'root'),    # Токен 2: \"купил\" -> корень (родитель: 0)\n",
        "    (3, 'хлеб', 'NOUN', 2, 'obj'),      # Токен 3: \"хлеб\" -> родитель: токен 2\n",
        "    (4, ',', ',', 5, 'punct'),          # Токен 4: \",\" -> родитель: токен 5\n",
        "    (5, 'и', 'CCONJ', 8, 'cc'),         # Токен 5: \"и\" -> родитель: токен 8\n",
        "    (6, 'он', 'PRON', 8, 'nsubj'),      # Токен 6: \"он\" -> родитель: токен 8\n",
        "    (7, 'оказался', 'VERB', 2, 'conj'), # Токен 7: \"оказался\" -> родитель: токен 2\n",
        "    (8, 'очень', 'ADV', 9, 'advmod'),   # Токен 8: \"очень\" -> родитель: токен 9\n",
        "    (9, 'вкусным', 'ADJ', 7, 'xcomp'),  # Токен 9: \"вкусным\" -> родитель: токен 7\n",
        "    (10, '.', '.', 2, 'punct')          # Токен 10: \".\" -> родитель: токен 2\n",
        "]"
      ]
    },
    {
      "cell_type": "code",
      "execution_count": null,
      "metadata": {
        "colab": {
          "base_uri": "https://localhost:8080/"
        },
        "id": "twYzR0QzI5uy",
        "outputId": "cf5706fc-83c0-4266-a133-94b94a6eb1b1"
      },
      "outputs": [
        {
          "name": "stdout",
          "output_type": "stream",
          "text": [
            "Наименьший общий предок: ID=2, форма='купил'\n"
          ]
        }
      ],
      "source": [
        "token_id_1 = 1  # Токен \"Я\"\n",
        "token_id_2 = 6  # Токен \"он\"\n",
        "# Вызов функции\n",
        "lca_id, lca_form = find_lca(dependencies, token_id_1, token_id_2)\n",
        "\n",
        "# Вывод результата\n",
        "print(f\"Наименьший общий предок: ID={lca_id}, форма='{lca_form}'\")"
      ]
    },
    {
      "cell_type": "code",
      "execution_count": null,
      "metadata": {
        "id": "NcaVKg-3KNeD"
      },
      "outputs": [],
      "source": [
        "import random\n",
        "\n",
        "def load_sentences(file_path):\n",
        "    \"\"\"\n",
        "    Загружает предложения из CoNLL-U файла.\n",
        "    Возвращает список предложений, где каждое предложение представлено списком строк.\n",
        "    \"\"\"\n",
        "    with open(file_path, 'r', encoding='utf-8') as f:\n",
        "        content = f.read()\n",
        "\n",
        "    # Разделяем содержимое файла на предложения по пустым строкам\n",
        "    sentences = content.strip().split('\\n\\n')\n",
        "    return sentences\n",
        "\n",
        "def parse_sentence(sentence):\n",
        "    \"\"\"\n",
        "    Парсит одно предложение в формате CoNLL-U.\n",
        "    Возвращает текст предложения и словарь зависимостей.\n",
        "    \"\"\"\n",
        "    lines = sentence.split('\\n')\n",
        "    text = None\n",
        "    dependencies = []\n",
        "\n",
        "    for line in lines:\n",
        "        if line.startswith('# text ='):\n",
        "            text = line[len('# text ='):].strip()\n",
        "        elif not line.startswith('#') and line.strip():\n",
        "            fields = line.split('\\t')\n",
        "            if len(fields) >= 8:\n",
        "                id_, form, _, pos, _, feats, head, deprel, *_ = fields\n",
        "                dependencies.append((int(id_), form, pos, int(head), deprel))\n",
        "\n",
        "    # Если текст предложения не найден, собираем его из токенов\n",
        "    if text is None:\n",
        "        forms = [line.split('\\t')[1] for line in lines if not line.startswith('#') and line.strip()]\n",
        "        text = ' '.join(forms)\n",
        "\n",
        "    return text, dependencies\n",
        "\n",
        "def find_lca(dependencies, token_id_1, token_id_2):\n",
        "    \"\"\"\n",
        "    Находит наименьшего общего предка двух токенов в дереве зависимостей.\n",
        "\n",
        "    Args:\n",
        "        dependencies (list): Список зависимостей в формате [(id_, form, pos, head, deprel), ...].\n",
        "        token_id_1 (int): ID первого токена.\n",
        "        token_id_2 (int): ID второго токена.\n",
        "\n",
        "    Returns:\n",
        "        tuple: (lca_id, lca_form) — ID и форма наименьшего общего предка.\n",
        "    \"\"\"\n",
        "    # Создаем словарь для быстрого доступа к родителю каждого токена\n",
        "    id_to_head = {dep[0]: dep[3] for dep in dependencies}\n",
        "\n",
        "    # Функция для получения пути до корня\n",
        "    def get_path_to_root(token_id):\n",
        "        path = []\n",
        "        while token_id != 0:  # 0 означает корень\n",
        "            path.append(token_id)\n",
        "            token_id = id_to_head[token_id]\n",
        "        return path\n",
        "\n",
        "    # Получаем пути до корня для обоих токенов\n",
        "    path1 = get_path_to_root(token_id_1)\n",
        "    path2 = get_path_to_root(token_id_2)\n",
        "\n",
        "    # Находим наименьшего общего предка\n",
        "    lca_id = None\n",
        "    for id1, id2 in zip(reversed(path1), reversed(path2)):\n",
        "        if id1 == id2:\n",
        "            lca_id = id1\n",
        "        else:\n",
        "            break\n",
        "\n",
        "    # Находим форму токена по его ID\n",
        "    id_to_form = {dep[0]: dep[1] for dep in dependencies}\n",
        "    lca_form = id_to_form[lca_id]\n",
        "\n",
        "    return lca_id, lca_form\n",
        "\n",
        "def main_3():\n",
        "    # Путь к файлу корпуса\n",
        "    file_path = 'RuEval2017-Lenta-news-dev.conllu'\n",
        "\n",
        "    # Загружаем предложения\n",
        "    sentences = load_sentences(file_path)\n",
        "    print(f\"Загружено {len(sentences)} предложений из файла.\")\n",
        "\n",
        "    # Выбираем случайное предложение\n",
        "    random_sentence = random.choice(sentences)\n",
        "    print(\"\\nВыбрано случайное предложение:\")\n",
        "    print(random_sentence)\n",
        "\n",
        "    # Парсим предложение\n",
        "    text, dependencies = parse_sentence(random_sentence)\n",
        "    print(f\"\\nИсходное предложение:\\n{text}\")\n",
        "    print(\"\\nЗависимости:\")\n",
        "    for dep in dependencies:\n",
        "        print(dep)\n",
        "\n",
        "    # Выбираем два случайных токена\n",
        "    token_ids = [dep[0] for dep in dependencies]\n",
        "    if len(token_ids) < 2:\n",
        "        print(\"Недостаточно токенов для анализа.\")\n",
        "        return\n",
        "    token_id_1, token_id_2 = random.sample(token_ids, 2)\n",
        "    print(f\"\\nВыбранные токены: ID={token_id_1}, ID={token_id_2}\")\n",
        "\n",
        "    # Находим наименьшего общего предка\n",
        "    lca_id, lca_form = find_lca(dependencies, token_id_1, token_id_2)\n",
        "    print(f\"Наименьший общий предок: ID={lca_id}, форма='{lca_form}'\")"
      ]
    },
    {
      "cell_type": "code",
      "execution_count": null,
      "metadata": {
        "colab": {
          "base_uri": "https://localhost:8080/"
        },
        "id": "XSuw_XxJKOaw",
        "outputId": "04dd45d8-0725-4599-8648-4c16c2a547d4"
      },
      "outputs": [
        {
          "name": "stdout",
          "output_type": "stream",
          "text": [
            "Загружено 58 предложений из файла.\n",
            "\n",
            "Выбрано случайное предложение:\n",
            "1\tВзрывного\tвзрывной\tADJ\t_\tCase=Gen|Degree=Pos|Gender=Neut|Number=Sing\t2\tamod\t_\t_\n",
            "2\tустройства\tустройство\tNOUN\t_\tAnimacy=Inan|Case=Gen|Gender=Neut|Number=Sing\t6\tnsubj\t_\t_\n",
            "3\tу\tу\tADP\t_\t_\t4\tcase\t_\t_\n",
            "4\tзлоумышленников\tзлоумышленник\tNOUN\t_\tAnimacy=Anim|Case=Gen|Gender=Masc|Number=Plur\t6\tobl\t_\t_\n",
            "5\tне\tне\tPART\t_\tPolarity=Neg\t2\tadvmod\t_\t_\n",
            "6\tбыло\tбыть\tVERB\t_\tGender=Neut|Mood=Ind|Number=Sing|Tense=Past|VerbForm=Fin|Voice=Act\t0\troot\t_\t_\n",
            "7\t.\t.\tPUNCT\t_\t_\t6\tpunct\t_\t_\n",
            "\n",
            "Исходное предложение:\n",
            "Взрывного устройства у злоумышленников не было .\n",
            "\n",
            "Зависимости:\n",
            "(1, 'Взрывного', 'ADJ', 2, 'amod')\n",
            "(2, 'устройства', 'NOUN', 6, 'nsubj')\n",
            "(3, 'у', 'ADP', 4, 'case')\n",
            "(4, 'злоумышленников', 'NOUN', 6, 'obl')\n",
            "(5, 'не', 'PART', 2, 'advmod')\n",
            "(6, 'было', 'VERB', 0, 'root')\n",
            "(7, '.', 'PUNCT', 6, 'punct')\n",
            "\n",
            "Выбранные токены: ID=3, ID=2\n",
            "Наименьший общий предок: ID=6, форма='было'\n"
          ]
        }
      ],
      "source": [
        "main_3()"
      ]
    },
    {
      "cell_type": "code",
      "execution_count": null,
      "metadata": {
        "colab": {
          "base_uri": "https://localhost:8080/"
        },
        "id": "5Ad94hX5R_-Q",
        "outputId": "d1e5b975-54df-4b50-afef-cfa7a53b85d2"
      },
      "outputs": [
        {
          "name": "stdout",
          "output_type": "stream",
          "text": [
            "Requirement already satisfied: networkx in /usr/local/lib/python3.11/dist-packages (3.4.2)\n",
            "Requirement already satisfied: matplotlib in /usr/local/lib/python3.11/dist-packages (3.10.0)\n",
            "Requirement already satisfied: contourpy>=1.0.1 in /usr/local/lib/python3.11/dist-packages (from matplotlib) (1.3.2)\n",
            "Requirement already satisfied: cycler>=0.10 in /usr/local/lib/python3.11/dist-packages (from matplotlib) (0.12.1)\n",
            "Requirement already satisfied: fonttools>=4.22.0 in /usr/local/lib/python3.11/dist-packages (from matplotlib) (4.57.0)\n",
            "Requirement already satisfied: kiwisolver>=1.3.1 in /usr/local/lib/python3.11/dist-packages (from matplotlib) (1.4.8)\n",
            "Requirement already satisfied: numpy>=1.23 in /usr/local/lib/python3.11/dist-packages (from matplotlib) (2.0.2)\n",
            "Requirement already satisfied: packaging>=20.0 in /usr/local/lib/python3.11/dist-packages (from matplotlib) (24.2)\n",
            "Requirement already satisfied: pillow>=8 in /usr/local/lib/python3.11/dist-packages (from matplotlib) (11.1.0)\n",
            "Requirement already satisfied: pyparsing>=2.3.1 in /usr/local/lib/python3.11/dist-packages (from matplotlib) (3.2.3)\n",
            "Requirement already satisfied: python-dateutil>=2.7 in /usr/local/lib/python3.11/dist-packages (from matplotlib) (2.8.2)\n",
            "Requirement already satisfied: six>=1.5 in /usr/local/lib/python3.11/dist-packages (from python-dateutil>=2.7->matplotlib) (1.17.0)\n"
          ]
        }
      ],
      "source": [
        "pip install networkx matplotlib\n"
      ]
    },
    {
      "cell_type": "code",
      "execution_count": null,
      "metadata": {
        "id": "d6C1PTdsSKzD"
      },
      "outputs": [],
      "source": [
        "import networkx as nx\n",
        "import matplotlib.pyplot as plt\n",
        "\n",
        "def visualize_dependency_tree(dependencies, token_id_1, token_id_2, lca_id):\n",
        "    \"\"\"\n",
        "    Визуализирует дерево зависимостей с выделением двух токенов и их общего предка.\n",
        "\n",
        "    Args:\n",
        "        dependencies (list): [(id, form, pos, head, deprel), ...]\n",
        "        token_id_1 (int): Первый токен.\n",
        "        token_id_2 (int): Второй токен.\n",
        "        lca_id (int): Наименьший общий предок.\n",
        "    \"\"\"\n",
        "    G = nx.DiGraph()\n",
        "\n",
        "    id_to_form = {dep[0]: dep[1] for dep in dependencies}\n",
        "    id_to_head = {dep[0]: dep[3] for dep in dependencies}\n",
        "\n",
        "    # Добавляем ребра (от head к зависимому)\n",
        "    for dep in dependencies:\n",
        "        token_id, form, _, head_id, deprel = dep\n",
        "        if head_id != 0:\n",
        "            G.add_edge(id_to_form[head_id], form, label=deprel)\n",
        "        else:\n",
        "            G.add_node(form)  # корень\n",
        "\n",
        "    pos = nx.spring_layout(G, seed=42)  # можно заменить на tree layout\n",
        "\n",
        "    # Цвета\n",
        "    node_colors = []\n",
        "    for node in G.nodes:\n",
        "        if node == id_to_form[token_id_1]:\n",
        "            node_colors.append(\"skyblue\")\n",
        "        elif node == id_to_form[token_id_2]:\n",
        "            node_colors.append(\"lightgreen\")\n",
        "        elif node == id_to_form[lca_id]:\n",
        "            node_colors.append(\"gold\")\n",
        "        else:\n",
        "            node_colors.append(\"lightgray\")\n",
        "\n",
        "    # Рисуем граф\n",
        "    plt.figure(figsize=(10, 6))\n",
        "    nx.draw(G, pos, with_labels=True, node_color=node_colors, edge_color='gray', node_size=1800, font_size=10, font_weight='bold')\n",
        "\n",
        "    # Подписи дуг (названия зависимостей)\n",
        "    edge_labels = nx.get_edge_attributes(G, 'label')\n",
        "    nx.draw_networkx_edge_labels(G, pos, edge_labels=edge_labels, font_color='darkred')\n",
        "\n",
        "    plt.title(\"Дерево зависимостей с выделением общего предка\", fontsize=18)\n",
        "    plt.axis('off')\n",
        "    plt.show()"
      ]
    },
    {
      "cell_type": "code",
      "execution_count": null,
      "metadata": {
        "colab": {
          "base_uri": "https://localhost:8080/",
          "height": 665
        },
        "id": "IQHs2IRRSW3J",
        "outputId": "0f447b7f-011d-4d4b-c5fc-d0bd6858a382"
      },
      "outputs": [
        {
          "ename": "NameError",
          "evalue": "name 'dependencies' is not defined",
          "output_type": "error",
          "traceback": [
            "\u001b[1;31m---------------------------------------------------------------------------\u001b[0m",
            "\u001b[1;31mNameError\u001b[0m                                 Traceback (most recent call last)",
            "Cell \u001b[1;32mIn[29], line 1\u001b[0m\n\u001b[1;32m----> 1\u001b[0m visualize_dependency_tree(\u001b[43mdependencies\u001b[49m, token_id_1, token_id_2, lca_id)\n",
            "\u001b[1;31mNameError\u001b[0m: name 'dependencies' is not defined"
          ]
        }
      ],
      "source": [
        "visualize_dependency_tree(dependencies, token_id_1, token_id_2, lca_id)\n",
        "\n"
      ]
    },
    {
      "cell_type": "code",
      "execution_count": null,
      "metadata": {
        "colab": {
          "base_uri": "https://localhost:8080/"
        },
        "id": "ErsxfgxYSvVQ",
        "outputId": "6ebd7003-29f2-4dc8-8991-535079853560"
      },
      "outputs": [
        {
          "name": "stdout",
          "output_type": "stream",
          "text": [
            "Requirement already satisfied: graphviz in /usr/local/lib/python3.11/dist-packages (0.20.3)\n"
          ]
        }
      ],
      "source": [
        "pip install graphviz\n"
      ]
    },
    {
      "cell_type": "code",
      "execution_count": null,
      "metadata": {
        "id": "SXOO8u5PUEU8"
      },
      "outputs": [],
      "source": [
        "import random\n",
        "import networkx as nx\n",
        "import matplotlib.pyplot as plt\n",
        "\n",
        "def visualize_dependency_tree(dependencies, token_id_1, token_id_2, lca_id):\n",
        "    \"\"\"\n",
        "    Визуализирует дерево зависимостей с выделением двух токенов и их общего предка.\n",
        "\n",
        "    Args:\n",
        "        dependencies (list): [(id, form, pos, head, deprel), ...]\n",
        "        token_id_1 (int): Первый токен.\n",
        "        token_id_2 (int): Второй токен.\n",
        "        lca_id (int): Наименьший общий предок.\n",
        "    \"\"\"\n",
        "    G = nx.DiGraph()\n",
        "    id_to_form = {dep[0]: dep[1] for dep in dependencies}\n",
        "    id_to_head = {dep[0]: dep[3] for dep in dependencies}\n",
        "\n",
        "    # Добавление рёбер\n",
        "    for dep in dependencies:\n",
        "        token_id, form, _, head_id, deprel = dep\n",
        "        if head_id != 0:\n",
        "            G.add_edge(id_to_form[head_id], form, label=deprel)\n",
        "        else:\n",
        "            G.add_node(form)  # корень\n",
        "\n",
        "    pos = nx.spring_layout(G, seed=42)\n",
        "\n",
        "    node_colors = []\n",
        "    for node in G.nodes:\n",
        "        if node == id_to_form.get(token_id_1):\n",
        "            node_colors.append(\"skyblue\")\n",
        "        elif node == id_to_form.get(token_id_2):\n",
        "            node_colors.append(\"lightgreen\")\n",
        "        elif node == id_to_form.get(lca_id):\n",
        "            node_colors.append(\"gold\")\n",
        "        else:\n",
        "            node_colors.append(\"lightgray\")\n",
        "\n",
        "    plt.figure(figsize=(10, 6))\n",
        "    nx.draw(G, pos, with_labels=True, node_color=node_colors, edge_color='gray',\n",
        "            node_size=1800, font_size=10, font_weight='bold')\n",
        "\n",
        "    edge_labels = nx.get_edge_attributes(G, 'label')\n",
        "    nx.draw_networkx_edge_labels(G, pos, edge_labels=edge_labels, font_color='darkred')\n",
        "    plt.title(\"Дерево зависимостей с выделением общего предка\", fontsize=14)\n",
        "    plt.axis('off')\n",
        "    plt.show()\n",
        "\n",
        "def main_3():\n",
        "    # Путь к файлу корпуса\n",
        "    file_path = 'RuEval2017-Lenta-news-dev.conllu'\n",
        "\n",
        "    # Загружаем предложения\n",
        "    sentences = load_sentences(file_path)\n",
        "    print(f\"Загружено {len(sentences)} предложений из файла.\")\n",
        "\n",
        "    # Выбираем случайное предложение\n",
        "    random_sentence = random.choice(sentences)\n",
        "    print(\"\\nВыбрано случайное предложение:\")\n",
        "    print(random_sentence)\n",
        "\n",
        "    # Парсим предложение\n",
        "    text, dependencies = parse_sentence(random_sentence)\n",
        "    print(f\"\\nИсходное предложение:\\n{text}\")\n",
        "    print(\"\\nЗависимости:\")\n",
        "    for dep in dependencies:\n",
        "        print(dep)\n",
        "\n",
        "    # Выбираем два случайных токена\n",
        "    token_ids = [dep[0] for dep in dependencies]\n",
        "    if len(token_ids) < 2:\n",
        "        print(\"Недостаточно токенов для анализа.\")\n",
        "        return\n",
        "    token_id_1, token_id_2 = random.sample(token_ids, 2)\n",
        "    print(f\"\\nВыбранные токены: ID={token_id_1}, ID={token_id_2}\")\n",
        "\n",
        "    # Находим наименьшего общего предка\n",
        "    lca_id, lca_form = find_lca(dependencies, token_id_1, token_id_2)\n",
        "    print(f\"Наименьший общий предок: ID={lca_id}, форма='{lca_form}'\")\n",
        "\n",
        "    # Визуализация дерева зависимостей\n",
        "    visualize_dependency_tree(dependencies, token_id_1, token_id_2, lca_id)\n"
      ]
    },
    {
      "cell_type": "code",
      "execution_count": null,
      "metadata": {
        "colab": {
          "base_uri": "https://localhost:8080/",
          "height": 1000
        },
        "id": "cdJPbIbcUFek",
        "outputId": "42087fb9-ca00-4d2f-df1d-63c7992c7e80"
      },
      "outputs": [
        {
          "name": "stdout",
          "output_type": "stream",
          "text": [
            "Загружено 58 предложений из файла.\n",
            "\n",
            "Выбрано случайное предложение:\n",
            "1\tУкраинский\tукраинский\tADJ\t_\tCase=Nom|Degree=Pos|Gender=Masc|Number=Sing\t2\tamod\t_\t_\n",
            "2\tлетчик\tлетчик\tNOUN\t_\tAnimacy=Anim|Case=Nom|Gender=Masc|Number=Sing\t10\tnsubj\t_\t_\n",
            "3\t,\t,\tPUNCT\t_\t_\t4\tpunct\t_\t_\n",
            "4\tработавший\tработать\tVERB\t_\tAspect=Imp|Case=Nom|Gender=Masc|Number=Sing|Tense=Past|VerbForm=Part|Voice=Act\t2\tacl\t_\t_\n",
            "5\tпо\tпо\tADP\t_\t_\t6\tcase\t_\t_\n",
            "6\tконтракту\tконтракт\tNOUN\t_\tAnimacy=Inan|Case=Dat|Gender=Masc|Number=Sing\t4\tobl\t_\t_\n",
            "7\tна\tна\tADP\t_\t_\t8\tcase\t_\t_\n",
            "8\tШри-Ланке\tШри-Ланка\tPROPN\t_\tAnimacy=Inan|Case=Loc|Gender=Fem|Number=Sing\t4\tobl\t_\t_\n",
            "9\t,\t,\tPUNCT\t_\t_\t4\tpunct\t_\t_\n",
            "10\tпилотировал\tпилотировать\tVERB\t_\tAspect=Imp|Gender=Masc|Mood=Ind|Number=Sing|Tense=Past|VerbForm=Fin|Voice=Act\t0\troot\t_\t_\n",
            "11\tсамолет\tсамолет\tNOUN\t_\tAnimacy=Inan|Case=Acc|Gender=Masc|Number=Sing\t10\tobj\t_\t_\n",
            "12\tМиг\tМиГ\tPROPN\t_\tAnimacy=Inan|Case=Acc|Gender=Masc|Number=Sing\t11\tappos\t_\t_\n",
            "13\t-\t-\tPUNCT\t_\t_\t14\tpunct\t_\t_\n",
            "14\t27\t27\tNUM\t_\tNumForm=Digit\t12\tappos\t_\t_\n",
            "15\tроссийского\tроссийский\tADJ\t_\tCase=Gen|Degree=Pos|Gender=Neut|Number=Sing\t16\tamod\t_\t_\n",
            "16\tпроизводства\tпроизводство\tNOUN\t_\tAnimacy=Inan|Case=Gen|Gender=Neut|Number=Sing\t11\tnmod\t_\t_\n",
            "17\t.\t.\tPUNCT\t_\t_\t10\tpunct\t_\t_\n",
            "\n",
            "Исходное предложение:\n",
            "Украинский летчик , работавший по контракту на Шри-Ланке , пилотировал самолет Миг - 27 российского производства .\n",
            "\n",
            "Зависимости:\n",
            "(1, 'Украинский', 'ADJ', 2, 'amod')\n",
            "(2, 'летчик', 'NOUN', 10, 'nsubj')\n",
            "(3, ',', 'PUNCT', 4, 'punct')\n",
            "(4, 'работавший', 'VERB', 2, 'acl')\n",
            "(5, 'по', 'ADP', 6, 'case')\n",
            "(6, 'контракту', 'NOUN', 4, 'obl')\n",
            "(7, 'на', 'ADP', 8, 'case')\n",
            "(8, 'Шри-Ланке', 'PROPN', 4, 'obl')\n",
            "(9, ',', 'PUNCT', 4, 'punct')\n",
            "(10, 'пилотировал', 'VERB', 0, 'root')\n",
            "(11, 'самолет', 'NOUN', 10, 'obj')\n",
            "(12, 'Миг', 'PROPN', 11, 'appos')\n",
            "(13, '-', 'PUNCT', 14, 'punct')\n",
            "(14, '27', 'NUM', 12, 'appos')\n",
            "(15, 'российского', 'ADJ', 16, 'amod')\n",
            "(16, 'производства', 'NOUN', 11, 'nmod')\n",
            "(17, '.', 'PUNCT', 10, 'punct')\n",
            "\n",
            "Выбранные токены: ID=8, ID=1\n",
            "Наименьший общий предок: ID=2, форма='летчик'\n"
          ]
        },
        {
          "data": {
            "image/png": "[encoded data removed]",
            "text/plain": [
              "<Figure size 1000x600 with 1 Axes>"
            ]
          },
          "metadata": {},
          "output_type": "display_data"
        }
      ],
      "source": [
        "main_3()"
      ]
    },
    {
      "cell_type": "markdown",
      "metadata": {
        "id": "wmmc59t4f-pg",
        "jp-MarkdownHeadingCollapsed": true
      },
      "source": [
        "## 5.4 Сравнить три пары предложений двумя методами: сравнением расстояния редактирования деревьев зависимостей и косинусной мерой между BERT-эмбеддингами"
      ]
    },
    {
      "cell_type": "code",
      "execution_count": null,
      "metadata": {
        "id": "rrEGt_9FgHj-"
      },
      "outputs": [],
      "source": [
        "examples = [\"Привет, у нас на кухне нашли плесень!\",\n",
        "            \"На нашей кухне нашли много всего: бактерии, грибки и позавчерашнее молоко.\",\n",
        "            \"Привет, у них в подвале нашли клад!\" ]"
      ]
    },
    {
      "cell_type": "markdown",
      "metadata": {
        "id": "Q3Z-iXCugLtZ"
      },
      "source": [
        "#### Расстояние редактирования:"
      ]
    },
    {
      "cell_type": "code",
      "execution_count": null,
      "metadata": {
        "colab": {
          "base_uri": "https://localhost:8080/"
        },
        "id": "DQYb-_fxgXpp",
        "outputId": "5cf406cb-4c0d-47bc-ea7d-654d3945a807"
      },
      "outputs": [
        {
          "name": "stdout",
          "output_type": "stream",
          "text": [
            "Collecting zss\n",
            "  Downloading zss-1.2.0.tar.gz (9.8 kB)\n",
            "  Preparing metadata (setup.py) ... \u001b[?25l\u001b[?25hdone\n",
            "Requirement already satisfied: six in /usr/local/lib/python3.11/dist-packages (from zss) (1.17.0)\n",
            "Building wheels for collected packages: zss\n",
            "  Building wheel for zss (setup.py) ... \u001b[?25l\u001b[?25hdone\n",
            "  Created wheel for zss: filename=zss-1.2.0-py3-none-any.whl size=6725 sha256=73278ea8e92a49dcd64ba80b8eacd88732df3dd5b0f8e3c402abf8c32f670bd0\n",
            "  Stored in directory: /root/.cache/pip/wheels/e8/3a/21/9f03c8002063200de26717429ca1543466c5feec134a0a73ff\n",
            "Successfully built zss\n",
            "Installing collected packages: zss\n",
            "Successfully installed zss-1.2.0\n"
          ]
        }
      ],
      "source": [
        "! pip install zss"
      ]
    },
    {
      "cell_type": "code",
      "execution_count": null,
      "metadata": {
        "id": "gfBC7ipLgZW1"
      },
      "outputs": [],
      "source": [
        "# Поскольку мы будем вычислять расстояние между деревьями зависимостей, здесь нужно инициализировать морфосинтаксический анализатор\n",
        "# Нам понадобятся не только синтаксис, но и части речи!\n",
        "\n",
        "### Your code goes here ###\n",
        "# import ...\n",
        "# processor = ...\n",
        "###########################"
      ]
    },
    {
      "cell_type": "code",
      "execution_count": null,
      "metadata": {
        "id": "N4eNUr_tg0DK"
      },
      "outputs": [],
      "source": [
        "from zss import simple_distance, Node\n",
        "\n",
        "\n",
        "def pos_dep_tree(postags, syntax_dep_tree):\n",
        "    \"\"\" Конвертируем результат морфосинтаксического анализа в zss-дерево из частей речи и синтаксических связей\n",
        "    NOUN -> advmod -> VERB \"\"\"\n",
        "\n",
        "    root = Node('root')\n",
        "    pos_nodes = {-1: root}\n",
        "    for i, postag in enumerate(postags):\n",
        "        pos_nodes[i] = Node(postag)\n",
        "\n",
        "    for i, dependency_edge in enumerate(syntax_dep_tree):\n",
        "        # Здесь в зависимости от выбранного формата синтаксических аннотаций заполняем граф значениями\n",
        "        # <синтаксическое отношение, порядковый номер вершины (токена), порядковый номер его родительской вершины>\n",
        "        ### Your code goes here ###\n",
        "        # relation, index, parent_index = ...\n",
        "        ###########################\n",
        "        relation_node = Node(relation)\n",
        "        pos_nodes[parent_index].addkid(relation_node)\n",
        "        relation_node.addkid(pos_nodes[index])\n",
        "\n",
        "    return root\n",
        "\n",
        "def sent_dep_tree(sent):\n",
        "    \"\"\" Получаем список постегов и список синтаксических аннотаций слов предложения, полученные выбранным анализатором (или анализаторами) \"\"\"\n",
        "    ### Your code goes here ###\n",
        "    # result = processor(...\n",
        "    # postags = ...\n",
        "    # syntax_dep_tree = ...\n",
        "    ###########################\n",
        "    return pos_dep_tree(postags, syntax_dep_tree)\n",
        "\n",
        "def dep_tree_similarity(dep1, dep2, smoothing=5.0):\n",
        "    return smoothing / (smoothing + simple_distance(dep1, dep2))\n",
        "\n",
        "def sentence_similarity(sent1, sent2, smoothing=5.0):\n",
        "    return dep_tree_similarity(sent_dep_tree(sent1), sent_dep_tree(sent2), smoothing)"
      ]
    },
    {
      "cell_type": "code",
      "execution_count": null,
      "metadata": {
        "colab": {
          "base_uri": "https://localhost:8080/",
          "height": 321
        },
        "id": "PgqBo0SjhPUF",
        "outputId": "63aa788b-d97d-4fd7-d052-8b97879585e5"
      },
      "outputs": [
        {
          "ename": "NameError",
          "evalue": "name 'postags' is not defined",
          "output_type": "error",
          "traceback": [
            "\u001b[1;31m---------------------------------------------------------------------------\u001b[0m",
            "\u001b[1;31mNameError\u001b[0m                                 Traceback (most recent call last)",
            "Cell \u001b[1;32mIn[35], line 3\u001b[0m\n\u001b[0;32m      1\u001b[0m \u001b[38;5;28;01mfor\u001b[39;00m pair \u001b[38;5;129;01min\u001b[39;00m [[\u001b[38;5;241m0\u001b[39m, \u001b[38;5;241m1\u001b[39m], [\u001b[38;5;241m1\u001b[39m, \u001b[38;5;241m2\u001b[39m], [\u001b[38;5;241m0\u001b[39m, \u001b[38;5;241m2\u001b[39m]]:\n\u001b[0;32m      2\u001b[0m     \u001b[38;5;28mprint\u001b[39m((examples[pair[\u001b[38;5;241m0\u001b[39m]], examples[pair[\u001b[38;5;241m1\u001b[39m]],\n\u001b[1;32m----> 3\u001b[0m            \u001b[43msentence_similarity\u001b[49m\u001b[43m(\u001b[49m\u001b[43mexamples\u001b[49m\u001b[43m[\u001b[49m\u001b[43mpair\u001b[49m\u001b[43m[\u001b[49m\u001b[38;5;241;43m0\u001b[39;49m\u001b[43m]\u001b[49m\u001b[43m]\u001b[49m\u001b[43m,\u001b[49m\u001b[43m \u001b[49m\u001b[43mexamples\u001b[49m\u001b[43m[\u001b[49m\u001b[43mpair\u001b[49m\u001b[43m[\u001b[49m\u001b[38;5;241;43m1\u001b[39;49m\u001b[43m]\u001b[49m\u001b[43m]\u001b[49m\u001b[43m)\u001b[49m))\n",
            "Cell \u001b[1;32mIn[34], line 38\u001b[0m, in \u001b[0;36msentence_similarity\u001b[1;34m(sent1, sent2, smoothing)\u001b[0m\n\u001b[0;32m     37\u001b[0m \u001b[38;5;28;01mdef\u001b[39;00m\u001b[38;5;250m \u001b[39m\u001b[38;5;21msentence_similarity\u001b[39m(sent1, sent2, smoothing\u001b[38;5;241m=\u001b[39m\u001b[38;5;241m5.0\u001b[39m):\n\u001b[1;32m---> 38\u001b[0m     \u001b[38;5;28;01mreturn\u001b[39;00m dep_tree_similarity(\u001b[43msent_dep_tree\u001b[49m\u001b[43m(\u001b[49m\u001b[43msent1\u001b[49m\u001b[43m)\u001b[49m, sent_dep_tree(sent2), smoothing)\n",
            "Cell \u001b[1;32mIn[34], line 32\u001b[0m, in \u001b[0;36msent_dep_tree\u001b[1;34m(sent)\u001b[0m\n\u001b[0;32m     26\u001b[0m \u001b[38;5;250m\u001b[39m\u001b[38;5;124;03m\"\"\" Получаем список постегов и список синтаксических аннотаций слов предложения, полученные выбранным анализатором (или анализаторами) \"\"\"\u001b[39;00m\n\u001b[0;32m     27\u001b[0m \u001b[38;5;66;03m### Your code goes here ###\u001b[39;00m\n\u001b[0;32m     28\u001b[0m \u001b[38;5;66;03m# result = processor(...\u001b[39;00m\n\u001b[0;32m     29\u001b[0m \u001b[38;5;66;03m# postags = ...\u001b[39;00m\n\u001b[0;32m     30\u001b[0m \u001b[38;5;66;03m# syntax_dep_tree = ...\u001b[39;00m\n\u001b[0;32m     31\u001b[0m \u001b[38;5;66;03m###########################\u001b[39;00m\n\u001b[1;32m---> 32\u001b[0m \u001b[38;5;28;01mreturn\u001b[39;00m pos_dep_tree(\u001b[43mpostags\u001b[49m, syntax_dep_tree)\n",
            "\u001b[1;31mNameError\u001b[0m: name 'postags' is not defined"
          ]
        }
      ],
      "source": [
        "for pair in [[0, 1], [1, 2], [0, 2]]:\n",
        "    print((examples[pair[0]], examples[pair[1]],\n",
        "           sentence_similarity(examples[pair[0]], examples[pair[1]])))"
      ]
    },
    {
      "cell_type": "markdown",
      "metadata": {
        "id": "A093yB6hhSeA"
      },
      "source": [
        "#### Контекстные эмбеддинги"
      ]
    },
    {
      "cell_type": "code",
      "execution_count": null,
      "metadata": {
        "colab": {
          "base_uri": "https://localhost:8080/"
        },
        "id": "tI6zBDWxhX8T",
        "outputId": "c9f3ef96-4b26-4937-d9b4-036710fc120f"
      },
      "outputs": [
        {
          "name": "stdout",
          "output_type": "stream",
          "text": [
            "Requirement already satisfied: transformers in /usr/local/lib/python3.11/dist-packages (4.50.3)\n",
            "Requirement already satisfied: filelock in /usr/local/lib/python3.11/dist-packages (from transformers) (3.18.0)\n",
            "Requirement already satisfied: huggingface-hub<1.0,>=0.26.0 in /usr/local/lib/python3.11/dist-packages (from transformers) (0.30.1)\n",
            "Requirement already satisfied: numpy>=1.17 in /usr/local/lib/python3.11/dist-packages (from transformers) (2.0.2)\n",
            "Requirement already satisfied: packaging>=20.0 in /usr/local/lib/python3.11/dist-packages (from transformers) (24.2)\n",
            "Requirement already satisfied: pyyaml>=5.1 in /usr/local/lib/python3.11/dist-packages (from transformers) (6.0.2)\n",
            "Requirement already satisfied: regex!=2019.12.17 in /usr/local/lib/python3.11/dist-packages (from transformers) (2024.11.6)\n",
            "Requirement already satisfied: requests in /usr/local/lib/python3.11/dist-packages (from transformers) (2.32.3)\n",
            "Requirement already satisfied: tokenizers<0.22,>=0.21 in /usr/local/lib/python3.11/dist-packages (from transformers) (0.21.1)\n",
            "Requirement already satisfied: safetensors>=0.4.3 in /usr/local/lib/python3.11/dist-packages (from transformers) (0.5.3)\n",
            "Requirement already satisfied: tqdm>=4.27 in /usr/local/lib/python3.11/dist-packages (from transformers) (4.67.1)\n",
            "Requirement already satisfied: fsspec>=2023.5.0 in /usr/local/lib/python3.11/dist-packages (from huggingface-hub<1.0,>=0.26.0->transformers) (2025.3.2)\n",
            "Requirement already satisfied: typing-extensions>=3.7.4.3 in /usr/local/lib/python3.11/dist-packages (from huggingface-hub<1.0,>=0.26.0->transformers) (4.13.1)\n",
            "Requirement already satisfied: charset-normalizer<4,>=2 in /usr/local/lib/python3.11/dist-packages (from requests->transformers) (3.4.1)\n",
            "Requirement already satisfied: idna<4,>=2.5 in /usr/local/lib/python3.11/dist-packages (from requests->transformers) (3.10)\n",
            "Requirement already satisfied: urllib3<3,>=1.21.1 in /usr/local/lib/python3.11/dist-packages (from requests->transformers) (2.3.0)\n",
            "Requirement already satisfied: certifi>=2017.4.17 in /usr/local/lib/python3.11/dist-packages (from requests->transformers) (2025.1.31)\n"
          ]
        }
      ],
      "source": [
        "! pip install transformers"
      ]
    },
    {
      "cell_type": "code",
      "execution_count": null,
      "metadata": {
        "id": "tjs2Cd2ZhZXJ"
      },
      "outputs": [],
      "source": [
        "from transformers import BertTokenizer, BertModel\n",
        "import torch\n",
        "\n",
        "# Для примера возьмём не оригинальный BERT (DeepPavlov/rubert-base-cased),\n",
        "# а sentence-BERT, дообученный на задаче языкового вывода, и, следовательно,\n",
        "# более точный в семантическом представлении предложений.\n",
        "# https://huggingface.co/DeepPavlov/rubert-base-cased-sentence#rubert-base-cased-sentence\n",
        "# Можете заменить на любой другой вариант открытой модели BERT для русского языка.\n",
        "\n",
        "tokenizer = BertTokenizer.from_pretrained('DeepPavlov/rubert-base-cased-sentence')\n",
        "model = BertModel.from_pretrained('DeepPavlov/rubert-base-cased-sentence')"
      ]
    },
    {
      "cell_type": "code",
      "execution_count": null,
      "metadata": {
        "id": "sxiYbR-Cha7A"
      },
      "outputs": [],
      "source": [
        "def embed_sentence(sentence: str):\n",
        "    ### Your code goes here ###\n",
        "    # input_ids = ...  # Токенизация\n",
        "    # outputs = ...  # Предсказания модели\n",
        "    ###########################\n",
        "    return torch.mean(outputs[0].detach(), axis=0).numpy()"
      ]
    },
    {
      "cell_type": "code",
      "execution_count": null,
      "metadata": {
        "colab": {
          "base_uri": "https://localhost:8080/",
          "height": 368,
          "referenced_widgets": [
            "1f5c1093c07042758734931cc73afa93",
            "a2974cae56474eb0b383a327aa256ba4",
            "7302766101b6473d888516ed90f0fb45",
            "09c79121e6ec4dd481541bd9fb3c05f6",
            "4dcdf3f935db401eb937e1106e89a7b9",
            "f0a47a4983f8483b81757c0095341061",
            "4a45bf45dd0543fba8784bacad4f8f5e",
            "8f8527743911439aabc068c59f8fe20c",
            "739f6a1ec10a48e9b451ad6ea92b86be",
            "c241e28ecdf24591a0079ad9d13a8f48",
            "3cc0f29ebdaf4743a51a9b406622d7e3",
            "98127576e69d4b159b5be2643a1eb9ef",
            "d653c448cf8f4f28a81fe6a0024e6aad",
            "3fa935f0fd2544b0981265e640cf3d5b",
            "349807c7c98b43b0b3775e109fa00c3a",
            "153958821e654e5cbe61399ff865d525",
            "88d8e4addd314298b1c30d321bdbc710",
            "24f088b4464845b181467bc0052e215f",
            "d31b0c9b9ced498ea5a2d5f49f48d451",
            "8970e4b263fb4be39221e063833ed293",
            "b330027a08ea468bb66b72072e3ef866",
            "2c4d4e781a2b4d9bb5ff5b757e3e6204",
            "279358d03bc04333af6320795ad1d94e",
            "7c5694024bfa45f1b901467fba4a8af2",
            "5333694b3853476389d1e3062edbb26a",
            "d81ccfb0f3df41e5b0e265ad61d769ca",
            "8e1574acfc114c3fb79c50ae0980bdf9",
            "486cbbc40fab4831b27a22e07f3a75cd",
            "e99bfa674b4f4edd8f20de765940eb1f",
            "6ba8d100f7534a69acf238e930778bc5",
            "b06c47b503144db6b86c6d3d212f15dc",
            "e2e5e37cc2d94409b06c6a667bb73659",
            "aa051f05941f414b992e192544f13fa4",
            "34cf87fb5c0a42ee877d34912383738f",
            "964f0ee0467f49e1a25f51e50cd2ce61",
            "e9b6b8eed5d64ce98061cf46144b9564",
            "4fbe2284218d4607be8dff4221d5e099",
            "56a0c415b03d464881bbd479799b8482",
            "2348e1156c7c401a8d5b18e8f3f4377c",
            "71635a531b1244248b269588cc2f9a26",
            "8542116b043446029d83e8fecf7fb4c0",
            "c7ebc0f779284f349e7d3722a4867f3c",
            "6c89fa1e9acf431396c756aa2d99d202",
            "602ad60980d54a93ac2676dcb575857f",
            "c685236c06764db49449caa3a46348ca",
            "8379632ba84e48d9a9ceada0a40afe57",
            "b2289983f6fe477ab6bad823f3d8ca0d",
            "33ff2e38a45b4420859569d9667f167e",
            "36ad03fadaaf499185371f2181f08a69",
            "b7f3f0ef27d3405cab66d1a7b219bb22",
            "5527fc6b3ccd49e0ae2e51bef0c679d5",
            "e8df958844184c6aa34d7f3e946ea66d",
            "1746dce8fda34d63b56cfe32aa9e975a",
            "6788f7d14ea8466193ec631592beaa5b",
            "7952e7f4446944e3be8fec7a844b941e",
            "fe45cb233e2c402691e9098b013dfc99",
            "da563657df2c45aeb765f34e4bd51424",
            "581b1a097ebf402397effc24623ef6b6",
            "75b7b7ad7d714ad4ba7cfa8f02623bee",
            "913a34c9477747e3b3d2737f90b5d1a1",
            "6423f5c3508d4d51910fd6123034d019",
            "1315a15117294d959a2874c4238f9f44",
            "fb9d8f5826ca478abef0183ed2b6edad",
            "3ce7fe1597ef43e8aac5039fbf9357e4",
            "2f2bfdabd04b4e23b020f994b2b6f82b",
            "1d32d0e2a1f840cd865d802ce1511b3d"
          ]
        },
        "id": "v7TdVRyITeiy",
        "outputId": "8722cd9a-068d-48dd-9273-3645c6b2753f"
      },
      "outputs": [
        {
          "data": {
            "application/vnd.jupyter.widget-view+json": {
              "model_id": "1f5c1093c07042758734931cc73afa93",
              "version_major": 2,
              "version_minor": 0
            },
            "text/plain": [
              "tokenizer_config.json:   0%|          | 0.00/24.0 [00:00<?, ?B/s]"
            ]
          },
          "metadata": {},
          "output_type": "display_data"
        },
        {
          "data": {
            "application/vnd.jupyter.widget-view+json": {
              "model_id": "98127576e69d4b159b5be2643a1eb9ef",
              "version_major": 2,
              "version_minor": 0
            },
            "text/plain": [
              "config.json:   0%|          | 0.00/642 [00:00<?, ?B/s]"
            ]
          },
          "metadata": {},
          "output_type": "display_data"
        },
        {
          "data": {
            "application/vnd.jupyter.widget-view+json": {
              "model_id": "279358d03bc04333af6320795ad1d94e",
              "version_major": 2,
              "version_minor": 0
            },
            "text/plain": [
              "vocab.txt:   0%|          | 0.00/1.65M [00:00<?, ?B/s]"
            ]
          },
          "metadata": {},
          "output_type": "display_data"
        },
        {
          "data": {
            "application/vnd.jupyter.widget-view+json": {
              "model_id": "34cf87fb5c0a42ee877d34912383738f",
              "version_major": 2,
              "version_minor": 0
            },
            "text/plain": [
              "special_tokens_map.json:   0%|          | 0.00/112 [00:00<?, ?B/s]"
            ]
          },
          "metadata": {},
          "output_type": "display_data"
        },
        {
          "data": {
            "application/vnd.jupyter.widget-view+json": {
              "model_id": "c685236c06764db49449caa3a46348ca",
              "version_major": 2,
              "version_minor": 0
            },
            "text/plain": [
              "pytorch_model.bin:   0%|          | 0.00/714M [00:00<?, ?B/s]"
            ]
          },
          "metadata": {},
          "output_type": "display_data"
        },
        {
          "data": {
            "application/vnd.jupyter.widget-view+json": {
              "model_id": "fe45cb233e2c402691e9098b013dfc99",
              "version_major": 2,
              "version_minor": 0
            },
            "text/plain": [
              "model.safetensors:   0%|          | 0.00/714M [00:00<?, ?B/s]"
            ]
          },
          "metadata": {},
          "output_type": "display_data"
        },
        {
          "name": "stderr",
          "output_type": "stream",
          "text": [
            "Some weights of the model checkpoint at DeepPavlov/rubert-base-cased were not used when initializing BertModel: ['cls.predictions.bias', 'cls.predictions.decoder.bias', 'cls.predictions.decoder.weight', 'cls.predictions.transform.LayerNorm.bias', 'cls.predictions.transform.LayerNorm.weight', 'cls.predictions.transform.dense.bias', 'cls.predictions.transform.dense.weight', 'cls.seq_relationship.bias', 'cls.seq_relationship.weight']\n",
            "- This IS expected if you are initializing BertModel from the checkpoint of a model trained on another task or with another architecture (e.g. initializing a BertForSequenceClassification model from a BertForPreTraining model).\n",
            "- This IS NOT expected if you are initializing BertModel from the checkpoint of a model that you expect to be exactly identical (initializing a BertForSequenceClassification model from a BertForSequenceClassification model).\n"
          ]
        },
        {
          "name": "stdout",
          "output_type": "stream",
          "text": [
            "\n",
            "Сравнение предложений методом косинусной меры между BERT-эмбеддингами:\n",
            "('Привет, у нас на кухне нашли плесень!', 'На нашей кухне нашли много всего: бактерии, грибки и позавчерашнее молоко.', np.float32(0.62720203))\n",
            "('На нашей кухне нашли много всего: бактерии, грибки и позавчерашнее молоко.', 'Привет, у них в подвале нашли клад!', np.float32(0.5460816))\n",
            "('Привет, у нас на кухне нашли плесень!', 'Привет, у них в подвале нашли клад!', np.float32(0.8041674))\n"
          ]
        }
      ],
      "source": [
        "from transformers import AutoTokenizer, AutoModel\n",
        "import torch\n",
        "from sklearn.metrics.pairwise import cosine_similarity\n",
        "\n",
        "# Загрузка предобученной модели BERT\n",
        "tokenizer = AutoTokenizer.from_pretrained(\"DeepPavlov/rubert-base-cased\")\n",
        "model = AutoModel.from_pretrained(\"DeepPavlov/rubert-base-cased\")\n",
        "\n",
        "def get_bert_embedding(text):\n",
        "    \"\"\" Получаем эмбеддинг предложения с помощью BERT \"\"\"\n",
        "    inputs = tokenizer(text, return_tensors=\"pt\", padding=True, truncation=True, max_length=512)\n",
        "    with torch.no_grad():\n",
        "        outputs = model(**inputs)\n",
        "    # Используем среднее значение последнего слоя для получения эмбеддинга предложения\n",
        "    return outputs.last_hidden_state.mean(dim=1).squeeze().numpy()\n",
        "\n",
        "def bert_similarity(sent1, sent2):\n",
        "    \"\"\" Вычисляем косинусную меру между BERT-эмбеддингами двух предложений \"\"\"\n",
        "    embedding1 = get_bert_embedding(sent1)\n",
        "    embedding2 = get_bert_embedding(sent2)\n",
        "    return cosine_similarity([embedding1], [embedding2])[0][0]\n",
        "\n",
        "# Сравнение предложений\n",
        "print(\"\\nСравнение предложений методом косинусной меры между BERT-эмбеддингами:\")\n",
        "for pair in [[0, 1], [1, 2], [0, 2]]:\n",
        "    print((examples[pair[0]], examples[pair[1]],\n",
        "           bert_similarity(examples[pair[0]], examples[pair[1]])))"
      ]
    },
    {
      "cell_type": "code",
      "execution_count": null,
      "metadata": {
        "colab": {
          "base_uri": "https://localhost:8080/"
        },
        "id": "uUs8mvjHTtfb",
        "outputId": "d7718558-3ebe-4388-e7f5-f31ac48934be"
      },
      "outputs": [
        {
          "name": "stderr",
          "output_type": "stream",
          "text": [
            "Some weights of the model checkpoint at DeepPavlov/rubert-base-cased were not used when initializing BertModel: ['cls.predictions.bias', 'cls.predictions.decoder.bias', 'cls.predictions.decoder.weight', 'cls.predictions.transform.LayerNorm.bias', 'cls.predictions.transform.LayerNorm.weight', 'cls.predictions.transform.dense.bias', 'cls.predictions.transform.dense.weight', 'cls.seq_relationship.bias', 'cls.seq_relationship.weight']\n",
            "- This IS expected if you are initializing BertModel from the checkpoint of a model trained on another task or with another architecture (e.g. initializing a BertForSequenceClassification model from a BertForPreTraining model).\n",
            "- This IS NOT expected if you are initializing BertModel from the checkpoint of a model that you expect to be exactly identical (initializing a BertForSequenceClassification model from a BertForSequenceClassification model).\n"
          ]
        }
      ],
      "source": [
        "from transformers import AutoTokenizer, AutoModel\n",
        "import torch\n",
        "from sklearn.metrics.pairwise import cosine_similarity\n",
        "import random\n",
        "\n",
        "# Загрузка предобученной модели BERT\n",
        "tokenizer = AutoTokenizer.from_pretrained(\"DeepPavlov/rubert-base-cased\")\n",
        "model = AutoModel.from_pretrained(\"DeepPavlov/rubert-base-cased\")\n",
        "\n",
        "def get_bert_embedding(text):\n",
        "    \"\"\" Получаем эмбеддинг предложения с помощью BERT \"\"\"\n",
        "    inputs = tokenizer(text, return_tensors=\"pt\", padding=True, truncation=True, max_length=512)\n",
        "    with torch.no_grad():\n",
        "        outputs = model(**inputs)\n",
        "    # Используем среднее значение последнего слоя для получения эмбеддинга предложения\n",
        "    return outputs.last_hidden_state.mean(dim=1).squeeze().numpy()\n",
        "\n",
        "def bert_similarity(sent1, sent2):\n",
        "    \"\"\" Вычисляем косинусную меру между BERT-эмбеддингами двух предложений \"\"\"\n",
        "    embedding1 = get_bert_embedding(sent1)\n",
        "    embedding2 = get_bert_embedding(sent2)\n",
        "    return cosine_similarity([embedding1], [embedding2])[0][0]\n",
        "\n",
        "def load_sentences(file_path):\n",
        "    \"\"\"\n",
        "    Загружает предложения из CoNLL-U файла.\n",
        "    Возвращает список текстов предложений.\n",
        "    \"\"\"\n",
        "    with open(file_path, 'r', encoding='utf-8') as f:\n",
        "        content = f.read()\n",
        "\n",
        "    # Разделяем содержимое файла на предложения по пустым строкам\n",
        "    sentences = content.strip().split('\\n\\n')\n",
        "\n",
        "    # Извлекаем текст каждого предложения\n",
        "    texts = []\n",
        "    for sentence in sentences:\n",
        "        for line in sentence.split('\\n'):\n",
        "            if line.startswith('# text ='):\n",
        "                text = line[len('# text ='):].strip()\n",
        "                texts.append(text)\n",
        "                break  # Переходим к следующему предложению\n",
        "    return texts\n",
        "\n",
        "def main():\n",
        "    # Путь к файлу корпуса\n",
        "    file_path = 'RuEval2017-Lenta-news-dev.conllu'\n",
        "\n",
        "    # Загружаем предложения\n",
        "    sentences = load_sentences(file_path)\n",
        "    print(f\"Загружено {len(sentences)} предложений из файла.\")\n",
        "\n",
        "    # Выбираем три случайных предложения\n",
        "    if len(sentences) < 3:\n",
        "        print(\"Недостаточно предложений для анализа.\")\n",
        "        return\n",
        "    random_sentences = random.sample(sentences, 3)\n",
        "    print(\"\\nВыбранные случайные предложения:\")\n",
        "    for i, sent in enumerate(random_sentences, 1):\n",
        "        print(f\"{i}. {sent}\")\n",
        "\n",
        "    # Вычисляем косинусную меру между BERT-эмбеддингами\n",
        "    print(\"\\nСравнение предложений методом косинусной меры между BERT-эмбеддингами:\")\n",
        "    pairs = [[0, 1], [1, 2], [0, 2]]  # Пары для сравнения\n",
        "    for pair in pairs:\n",
        "        sent1 = random_sentences[pair[0]]\n",
        "        sent2 = random_sentences[pair[1]]\n",
        "        similarity = bert_similarity(sent1, sent2)\n",
        "        print(f\"Сходство между '{sent1}' и '{sent2}': {similarity:.4f}\")"
      ]
    },
    {
      "cell_type": "code",
      "execution_count": null,
      "metadata": {
        "colab": {
          "base_uri": "https://localhost:8080/"
        },
        "id": "d9auIA3EUJAI",
        "outputId": "a97525b5-431c-45d4-8821-df3c373472c8"
      },
      "outputs": [
        {
          "name": "stdout",
          "output_type": "stream",
          "text": [
            "Загружено 0 предложений из файла.\n",
            "Недостаточно предложений для анализа.\n"
          ]
        }
      ],
      "source": [
        "main()"
      ]
    },
    {
      "cell_type": "code",
      "execution_count": null,
      "metadata": {
        "colab": {
          "base_uri": "https://localhost:8080/"
        },
        "id": "_l7SekBMUl2l",
        "outputId": "c6d6759a-3783-4967-a437-922c686e0a4d"
      },
      "outputs": [
        {
          "name": "stderr",
          "output_type": "stream",
          "text": [
            "Some weights of the model checkpoint at DeepPavlov/rubert-base-cased were not used when initializing BertModel: ['cls.predictions.bias', 'cls.predictions.decoder.bias', 'cls.predictions.decoder.weight', 'cls.predictions.transform.LayerNorm.bias', 'cls.predictions.transform.LayerNorm.weight', 'cls.predictions.transform.dense.bias', 'cls.predictions.transform.dense.weight', 'cls.seq_relationship.bias', 'cls.seq_relationship.weight']\n",
            "- This IS expected if you are initializing BertModel from the checkpoint of a model trained on another task or with another architecture (e.g. initializing a BertForSequenceClassification model from a BertForPreTraining model).\n",
            "- This IS NOT expected if you are initializing BertModel from the checkpoint of a model that you expect to be exactly identical (initializing a BertForSequenceClassification model from a BertForSequenceClassification model).\n"
          ]
        }
      ],
      "source": [
        "from transformers import AutoTokenizer, AutoModel\n",
        "import torch\n",
        "from sklearn.metrics.pairwise import cosine_similarity\n",
        "import random\n",
        "\n",
        "# Загрузка предобученной модели BERT\n",
        "tokenizer = AutoTokenizer.from_pretrained(\"DeepPavlov/rubert-base-cased\")\n",
        "model = AutoModel.from_pretrained(\"DeepPavlov/rubert-base-cased\")\n",
        "\n",
        "def get_bert_embedding(text):\n",
        "    \"\"\" Получаем эмбеддинг предложения с помощью BERT \"\"\"\n",
        "    inputs = tokenizer(text, return_tensors=\"pt\", padding=True, truncation=True, max_length=512)\n",
        "    with torch.no_grad():\n",
        "        outputs = model(**inputs)\n",
        "    # Используем среднее значение последнего слоя для получения эмбеддинга предложения\n",
        "    return outputs.last_hidden_state.mean(dim=1).squeeze().numpy()\n",
        "\n",
        "def bert_similarity(sent1, sent2):\n",
        "    \"\"\" Вычисляем косинусную меру между BERT-эмбеддингами двух предложений \"\"\"\n",
        "    embedding1 = get_bert_embedding(sent1)\n",
        "    embedding2 = get_bert_embedding(sent2)\n",
        "    return cosine_similarity([embedding1], [embedding2])[0][0]\n",
        "\n",
        "def load_sentences(file_path):\n",
        "    \"\"\"\n",
        "    Загружает предложения из CoNLL-U файла.\n",
        "    Возвращает список текстов предложений.\n",
        "    \"\"\"\n",
        "    with open(file_path, 'r', encoding='utf-8') as f:\n",
        "        content = f.read()\n",
        "\n",
        "    # Разделяем содержимое файла на предложения по пустым строкам\n",
        "    sentences = content.strip().split('\\n\\n')\n",
        "\n",
        "    # Извлекаем текст каждого предложения\n",
        "    texts = []\n",
        "    for sentence in sentences:\n",
        "        lines = sentence.split('\\n')\n",
        "        text = None\n",
        "\n",
        "        # Пытаемся найти строку с текстом предложения\n",
        "        for line in lines:\n",
        "            if line.startswith('# text ='):\n",
        "                text = line[len('# text ='):].strip()\n",
        "                break\n",
        "\n",
        "        # Если текст не найден, собираем его из токенов\n",
        "        if text is None:\n",
        "            forms = [line.split('\\t')[1] for line in lines if not line.startswith('#') and line.strip()]\n",
        "            text = ' '.join(forms)\n",
        "\n",
        "        # Добавляем текст в список\n",
        "        texts.append(text)\n",
        "\n",
        "    return texts\n",
        "\n",
        "def main():\n",
        "    # Путь к файлу корпуса\n",
        "    file_path = 'RuEval2017-Lenta-news-dev.conllu'\n",
        "\n",
        "    # Загружаем предложения\n",
        "    sentences = load_sentences(file_path)\n",
        "    print(f\"Загружено {len(sentences)} предложений из файла.\")\n",
        "\n",
        "    # Выбираем три случайных предложения\n",
        "    if len(sentences) < 3:\n",
        "        print(\"Недостаточно предложений для анализа.\")\n",
        "        return\n",
        "    random_sentences = random.sample(sentences, 3)\n",
        "    print(\"\\nВыбранные случайные предложения:\")\n",
        "    for i, sent in enumerate(random_sentences, 1):\n",
        "        print(f\"{i}. {sent}\")\n",
        "\n",
        "    # Вычисляем косинусную меру между BERT-эмбеддингами\n",
        "    print(\"\\nСравнение предложений методом косинусной меры между BERT-эмбеддингами:\")\n",
        "    pairs = [[0, 1], [1, 2], [0, 2]]  # Пары для сравнения\n",
        "    for pair in pairs:\n",
        "        sent1 = random_sentences[pair[0]]\n",
        "        sent2 = random_sentences[pair[1]]\n",
        "        similarity = bert_similarity(sent1, sent2)\n",
        "        print(f\"Сходство между '{sent1}' и '{sent2}': {similarity:.4f}\")"
      ]
    },
    {
      "cell_type": "code",
      "execution_count": null,
      "metadata": {
        "colab": {
          "base_uri": "https://localhost:8080/"
        },
        "id": "1u6cQdrPUnFK",
        "outputId": "03fc1cce-21d3-433a-bb02-2b24cfe11fa8"
      },
      "outputs": [
        {
          "name": "stdout",
          "output_type": "stream",
          "text": [
            "Загружено 58 предложений из файла.\n",
            "\n",
            "Выбранные случайные предложения:\n",
            "1. Водитель КАМАЗа совершил наезд на сотрудника милиции , от полученного удара милиционер скончался на месте , а затем на автомобиль УАЗ , в котором находились еще трое сотрудников милиции .\n",
            "2. Детали и фрагменты моста в ближайшее время будут доставлены по железной дороге из Сибири .\n",
            "3. Украинский летчик , работавший по контракту на Шри-Ланке , пилотировал самолет Миг - 27 российского производства .\n",
            "\n",
            "Сравнение предложений методом косинусной меры между BERT-эмбеддингами:\n",
            "Сходство между 'Водитель КАМАЗа совершил наезд на сотрудника милиции , от полученного удара милиционер скончался на месте , а затем на автомобиль УАЗ , в котором находились еще трое сотрудников милиции .' и 'Детали и фрагменты моста в ближайшее время будут доставлены по железной дороге из Сибири .': 0.4891\n",
            "Сходство между 'Детали и фрагменты моста в ближайшее время будут доставлены по железной дороге из Сибири .' и 'Украинский летчик , работавший по контракту на Шри-Ланке , пилотировал самолет Миг - 27 российского производства .': 0.5377\n",
            "Сходство между 'Водитель КАМАЗа совершил наезд на сотрудника милиции , от полученного удара милиционер скончался на месте , а затем на автомобиль УАЗ , в котором находились еще трое сотрудников милиции .' и 'Украинский летчик , работавший по контракту на Шри-Ланке , пилотировал самолет Миг - 27 российского производства .': 0.5321\n"
          ]
        }
      ],
      "source": [
        "main()"
      ]
    },
    {
      "cell_type": "markdown",
      "metadata": {
        "id": "xp9sganmq3uw"
      },
      "source": [
        "# 6. NER"
      ]
    },
    {
      "cell_type": "markdown",
      "metadata": {
        "id": "N-wxQgP0rQcH"
      },
      "source": [
        "### 6.1 Маскировать все адреса и имена в электронном письме."
      ]
    },
    {
      "cell_type": "code",
      "execution_count": null,
      "metadata": {
        "id": "B7o9cPo5Elt0"
      },
      "outputs": [],
      "source": [
        "email = \"\"\"\n",
        "\n",
        "Dear John Smith,\n",
        "\n",
        "As a head chef, I must express my concern regarding the rumors about mold appearing near some kitchens in Building 13 at the address: 42 Leo Tolstoy Street. I would like to draw your attention to the fact that any food processed, prepared, or consumed near mold can be contaminated and unsafe to eat.\n",
        "\n",
        "If these reports are confirmed, I will have to close several canteens. A possible redistribution of the workload to the kitchens in the following buildings may be necessary:\n",
        "No. 9 — 99 Churchill Road\n",
        "No. 10 — 10 Queen Street\n",
        "No. 11 — 17 Newton Avenue\n",
        "\n",
        "\n",
        "Sincerely,\n",
        "Aleksei Martynov\n",
        "martyn@supercorp.ru\n",
        "\"\"\""
      ]
    },
    {
      "cell_type": "code",
      "execution_count": null,
      "metadata": {
        "id": "0ZGxjvUpElt2",
        "outputId": "7aa0cb4c-659f-4780-9de5-428473f99570"
      },
      "outputs": [
        {
          "name": "stdout",
          "output_type": "stream",
          "text": [
            "Collecting en-core-web-sm==3.8.0\n",
            "  Downloading https://github.com/explosion/spacy-models/releases/download/en_core_web_sm-3.8.0/en_core_web_sm-3.8.0-py3-none-any.whl (12.8 MB)\n",
            "\u001b[2K     \u001b[38;2;114;156;31m━━━━━━━━━━━━━━━━━━━━━━━━━━━━━━━━━━━━━━━━\u001b[0m \u001b[32m12.8/12.8 MB\u001b[0m \u001b[31m1.4 MB/s\u001b[0m eta \u001b[36m0:00:00\u001b[0m[36m0:00:01\u001b[0m[36m0:00:01\u001b[0m:01\u001b[0m\n",
            "\u001b[?25hInstalling collected packages: en-core-web-sm\n",
            "Successfully installed en-core-web-sm-3.8.0\n",
            "\u001b[38;5;2m✔ Download and installation successful\u001b[0m\n",
            "You can now load the package via spacy.load('en_core_web_sm')\n"
          ]
        }
      ],
      "source": [
        "!python -m spacy download en_core_web_sm\n"
      ]
    },
    {
      "cell_type": "code",
      "execution_count": null,
      "metadata": {
        "id": "9t0N12hArWE8"
      },
      "outputs": [],
      "source": [
        "import spacy\n",
        "import re\n",
        "\n",
        "\n",
        "nlp = spacy.load(\"en_core_web_sm\")\n",
        "doc = nlp(email)\n",
        "\n",
        "# Места для замены\n",
        "replacements = []\n",
        "# Добавим вручную паттерны для зданий и адресов\n",
        "\n",
        "patterns = [\n",
        "    (r\"\\b(Building|No\\.)\\s+\\d+\\b\", \"[MASKED]\"),  # Building 13, No. 10\n",
        "    (r\"\\d{1,5}\\s+[A-Z][a-z]+(?:\\s+[A-Z][a-z]+)*\\s(?:Road|Street|Avenue|Lane|Drive)\\b\", \"[MASKED]\")  # 42 Leo Tolstoy Street, etc.\n",
        "]\n",
        "building_pattern = r\"\\b(Building|No\\.)\\s+\\d+\\b\"\n",
        "address_pattern = r\"\\d{1,5}\\s+[A-Z][a-z]+(?:\\s+[A-Z][a-z]+)*\\s(?:Road|Street|Avenue|Lane|Drive)\\b\"\n",
        "\n",
        "\n",
        "# Выбираем только PERSON, GPE, LOC, EMAIL и т.п.\n",
        "for ent in doc.ents:\n",
        "    if ent.label_ in [\"PERSON\", \"GPE\", \"ORG\", \"LOC\"]:\n",
        "        replacements.append((ent.start_char, ent.end_char, \"[MASKED]\"))\n",
        "\n",
        "\n",
        "for match in re.finditer(r\"[a-zA-Z0-9_.+-]+@[a-zA-Z0-9-]+\\.[a-zA-Z0-9-.]+\", email):\n",
        "    replacements.append((match.start(), match.end(), \"[EMAIL]\"))\n",
        "for pattern, replacement in patterns:\n",
        "    for match in re.finditer(pattern, email):\n",
        "        replacements.append((match.start(), match.end(), replacement))\n",
        "\n",
        "# Сортируем в обратном порядке, чтобы не сдвигать индексы при замене\n",
        "replacements = sorted(replacements, reverse=True)\n",
        "\n",
        "# Применяем замены\n",
        "masked_email = email\n",
        "for start, end, replacement in replacements:\n",
        "    masked_email = masked_email[:start] + replacement + masked_email[end:]\n",
        "\n",
        "\n",
        "\n"
      ]
    },
    {
      "cell_type": "code",
      "execution_count": null,
      "metadata": {
        "id": "ZiNyoVf0Elt2",
        "outputId": "d7f514f1-c195-4cd6-bc73-fb8313807593"
      },
      "outputs": [
        {
          "name": "stdout",
          "output_type": "stream",
          "text": [
            "\n",
            "\n",
            "Dear [MASKED],\n",
            "\n",
            "As a head chef, I must express my concern regarding the rumors about mold appearing near some kitchens in [MASKED] at the address: [MASKED]like to draw your attention to the fact that any food processed, prepared, or consumed near mold can be contaminated and unsafe to eat.\n",
            "\n",
            "If these reports are confirmed, I will have to close several canteens. A possible redistribution of the workload to the kitchens in the following buildings may be necessary:\n",
            "[MASKED] — [MASKED]  \n",
            "[MASKED] — [MASKED]  \n",
            "[MASKED] — [MASKED]\n",
            "\n",
            "\n",
            "Sincerely,  \n",
            "[MASKED]  \n",
            "[EMAIL]\n",
            "\n"
          ]
        }
      ],
      "source": [
        "print(masked_email)\n"
      ]
    },
    {
      "cell_type": "code",
      "execution_count": null,
      "metadata": {
        "id": "PqDDNLGewxzY"
      },
      "outputs": [],
      "source": [
        "email = \"\"\"\n",
        "Уважаемая Эльвира Геннадьевна,\n",
        "\n",
        "Как шеф-повар, я должен выразить свою обеспокоенность слухами о появлении плесени вблизи некоторых кухонь в корпусе 13 по адресу: Льва Толстого, 42. Обращаю ваше внимание на то, что любые продукты, обрабатываемые, приготавливаемые или потребляемые вблизи плесени, могут быть заражены и небезопасны для употребления.\n",
        "\n",
        "Если эти сообщения найдут подтверждения, мне придется закрыть несколько столовых. Возможно распределение нагрузки на кухни в корпусах:\n",
        "№9 площадь Гагарина, 99\n",
        "№10 улица Южная, 10\n",
        "№11 Кривой проспект, 17\n",
        "\n",
        "С уважением,\n",
        "Алексей Мартынов.\n",
        "martyn@supercorp.ru\n",
        "\"\"\""
      ]
    },
    {
      "cell_type": "code",
      "execution_count": null,
      "metadata": {
        "id": "8BsnUsBmElt2"
      },
      "outputs": [],
      "source": [
        "import re\n",
        "from natasha import (\n",
        "    Segmenter,\n",
        "    NewsEmbedding,\n",
        "    NewsNERTagger,\n",
        "    Doc\n",
        ")\n",
        "\n",
        "# Инициализация компонентов\n",
        "segmenter = Segmenter()\n",
        "emb = NewsEmbedding()\n",
        "ner_tagger = NewsNERTagger(emb)\n",
        "\n",
        "def mask_russian_email(text):\n",
        "    doc = Doc(text)\n",
        "    doc.segment(segmenter)\n",
        "    doc.tag_ner(ner_tagger)\n",
        "\n",
        "    masked_text = text\n",
        "    spans = sorted(doc.spans, key=lambda span: span.start, reverse=True)\n",
        "\n",
        "    for span in spans:\n",
        "        if span.type in {\"PER\", \"LOC\", \"ORG\"}:\n",
        "            masked_text = masked_text[:span.start] + \"[MASKED]\" + masked_text[span.stop:]\n",
        "\n",
        "    # Маскировка email-адресов\n",
        "    masked_text = re.sub(r'\\b[\\w\\.-]+@[\\w\\.-]+\\.\\w+\\b', '[EMAIL]', masked_text)\n",
        "\n",
        "    return masked_text\n",
        "\n",
        "# --- Вывод с сохранением форматирования ---\n"
      ]
    },
    {
      "cell_type": "code",
      "execution_count": null,
      "metadata": {
        "id": "VfsfNhWtElt2",
        "outputId": "ea312e61-807a-4574-a68f-bd815a98fd4b"
      },
      "outputs": [
        {
          "data": {
            "text/plain": [
              "'\\nУважаемая [MASKED],\\n\\nКак шеф-повар, я должен выразить свою обеспокоенность слухами о появлении плесени вблизи некоторых кухонь в корпусе 13 по адресу: [MASKED], 42. Обращаю ваше внимание на то, что любые продукты, обрабатываемые, приготавливаемые или потребляемые вблизи плесени, могут быть заражены и небезопасны для употребления.\\n\\nЕсли эти сообщения найдут подтверждения, мне придется закрыть несколько столовых. Возможно распределение нагрузки на кухни в корпусах:\\n№9 площадь [MASKED], 99\\n№10 улица [MASKED], 10\\n№11 [MASKED], 17\\n\\nС уважением,\\n[MASKED].\\n[EMAIL]\\n'"
            ]
          },
          "execution_count": 35,
          "metadata": {},
          "output_type": "execute_result"
        }
      ],
      "source": [
        "mask_russian_email(email)"
      ]
    },
    {
      "cell_type": "code",
      "execution_count": null,
      "metadata": {
        "id": "vRXDgRRmElt2",
        "outputId": "9999b6c4-cee4-4f10-e21c-c578dfd2602d"
      },
      "outputs": [
        {
          "name": "stdout",
          "output_type": "stream",
          "text": [
            "\n",
            "Уважаемая [MASKED],\n",
            "\n",
            "Как шеф-повар, я должен выразить свою обеспокоенность слухами о появлении плесени вблизи некоторых кухонь в корпусе 13 по адресу: [MASKED], 42. Обращаю ваше внимание на то, что любые продукты, обрабатываемые, приготавливаемые или потребляемые вблизи плесени, могут быть заражены и небезопасны для употребления.\n",
            "\n",
            "Если эти сообщения найдут подтверждения, мне придется закрыть несколько столовых. Возможно распределение нагрузки на кухни в корпусах:\n",
            "№9 площадь [MASKED], 99\n",
            "№10 улица [MASKED], 10\n",
            "№11 [MASKED], 17\n",
            "\n",
            "С уважением,\n",
            "[MASKED].\n",
            "[EMAIL]\n"
          ]
        }
      ],
      "source": [
        "print(\"\\n\" + mask_russian_email(email).strip())"
      ]
    },
    {
      "cell_type": "markdown",
      "metadata": {
        "id": "itj8jChzrkNw"
      },
      "source": [
        "### 6.2 Собрать из набора описаний IT-вакансий топ-5  требуемых скиллов для Java-разработчика"
      ]
    },
    {
      "cell_type": "markdown",
      "metadata": {
        "id": "Qti2j4oerM3t"
      },
      "source": [
        "Загрузка данных:"
      ]
    },
    {
      "cell_type": "code",
      "execution_count": null,
      "metadata": {
        "colab": {
          "base_uri": "https://localhost:8080/"
        },
        "id": "a3n5X7rjq71H",
        "outputId": "0a0c02af-68e8-4994-cd6e-cc03d8572982"
      },
      "outputs": [
        {
          "name": "stdout",
          "output_type": "stream",
          "text": [
            "--2025-05-07 12:53:47--  https://www.dropbox.com/s/resrekpsxk3yd4d/vacancies.csv\n",
            "Resolving www.dropbox.com (www.dropbox.com)... 162.125.68.18, 2620:100:601b:18::a27d:812\n",
            "Connecting to www.dropbox.com (www.dropbox.com)|162.125.68.18|:443... connected.\n",
            "HTTP request sent, awaiting response... 302 Found\n",
            "Location: https://www.dropbox.com/scl/fi/arvkzclltciuf39v5w8ke/vacancies.csv?rlkey=cmdn4394g12a5vdjwjpuimmbw [following]\n",
            "--2025-05-07 12:53:48--  https://www.dropbox.com/scl/fi/arvkzclltciuf39v5w8ke/vacancies.csv?rlkey=cmdn4394g12a5vdjwjpuimmbw\n",
            "Reusing existing connection to www.dropbox.com:443.\n",
            "HTTP request sent, awaiting response... 302 Found\n",
            "Location: https://uc1d2b709240175185d00fa02bb3.dl.dropboxusercontent.com/cd/0/inline/CpPOjVqFxFG-SHGEa1mzKFnp7Kb2MzgMF_iwyQlLF7EqHzXCZ4NyboE73NGVzJMALJFZhXZvZu92EuQv4uR3sHoTvOG5Y-UatuNIXjZ5j6aaWVEjmprU0T4nNSIfsWL9pSaenICL-2hHjYY64Lxr6boW/file# [following]\n",
            "--2025-05-07 12:53:49--  https://uc1d2b709240175185d00fa02bb3.dl.dropboxusercontent.com/cd/0/inline/CpPOjVqFxFG-SHGEa1mzKFnp7Kb2MzgMF_iwyQlLF7EqHzXCZ4NyboE73NGVzJMALJFZhXZvZu92EuQv4uR3sHoTvOG5Y-UatuNIXjZ5j6aaWVEjmprU0T4nNSIfsWL9pSaenICL-2hHjYY64Lxr6boW/file\n",
            "Resolving uc1d2b709240175185d00fa02bb3.dl.dropboxusercontent.com (uc1d2b709240175185d00fa02bb3.dl.dropboxusercontent.com)... 162.125.68.15, 2620:100:601b:15::a27d:80f\n",
            "Connecting to uc1d2b709240175185d00fa02bb3.dl.dropboxusercontent.com (uc1d2b709240175185d00fa02bb3.dl.dropboxusercontent.com)|162.125.68.15|:443... connected.\n",
            "HTTP request sent, awaiting response... 200 OK\n",
            "Length: 4692392 (4.5M) [text/plain]\n",
            "Saving to: ‘vacancies.csv’\n",
            "\n",
            "vacancies.csv       100%[===================>]   4.47M   436KB/s    in 12s     \n",
            "\n",
            "2025-05-07 12:54:01 (398 KB/s) - ‘vacancies.csv’ saved [4692392/4692392]\n",
            "\n"
          ]
        }
      ],
      "source": [
        "! wget https://www.dropbox.com/s/resrekpsxk3yd4d/vacancies.csv"
      ]
    },
    {
      "cell_type": "code",
      "execution_count": null,
      "metadata": {
        "colab": {
          "base_uri": "https://localhost:8080/"
        },
        "id": "6TL5YrvVrnEG",
        "outputId": "21b9607a-c0af-4518-fc88-aaf30c734c7e"
      },
      "outputs": [
        {
          "name": "stdout",
          "output_type": "stream",
          "text": [
            "id,name,city,employer,publication_date,description\n",
            "29654783,Инженер удаленной технической поддержки рабочих мест,Самара,Сбербанк,2019-04-26T14:37:49+0300,\"<p><strong>Обязанности:</strong></p> <p>• Обработка/решение поступающих заявок, консультирование сотрудников банка по вопросам технической поддержки автоматизированных рабочих мест пользователей (ПК/Оргтехника/Мобильные устройства).</p> <p>• Удаленное решение заявок по установке/настройке ПО средствами SCCM и с использованием средств удаленного администрирования (RDP).</p> <p>• Удаленное взаимодействие с сервисными компаниями по вопросам оказания услуги тех.поддержки.</p> <p><strong>Требования:</strong></p> <p>• Законченное высшее образование по направлению Информационные технологии.</p> <p>• Желателен опыт работы в сфере ИТ (сопровождение рабочих мест, инфраструктуры, серверов, корпоративной телефонии).</p> <p>• Экспертное знание MS Windows 7/10, MS Office 2010/2016.</p> <p>Опыт работы/администрирования MacOS/iOS, Linux.</p> <p>• Опыт поддержки ПК, системного ПО, в т.ч. навыки удаленного администрирования<em> </em>ПК под управлением Windows.</p> <p>• Знание технического устройства ПК и его аппаратных составляющих.</p> <p>• Стрессоустойчивость, ответственность, коммуникабельность.</p> <p> </p> <p><strong>Условия:</strong></p> <p>• Официальное трудоустройство.</p> <p>• Социальный пакет +корпоративный пакет (льготное кредитование, ДМС, программы партнеров).</p> <p>• Режим работы пятидневный, смены: 9.00-18.00 и 11.00-20.00.</p> <p> </p>\"\n",
            "29654641,Frontend разработчик,Москва,Сбербанк,2019-01-15T10:15:40+0300,\"<p><strong>Требования: </strong></p><p>Опыт web разработки от 3 лет (HTML, HTML5, CSS, JavaScript, препроцессинг CSS)<br />Опыт разработки на библиотеках и фреймворках (AngularJS, ReactJS)<br />Активное использование инструментов контроля версий (Git, CVS)<br />Умение работать с базами данных и языками запросов (SQL)<br />Опыт работы с серверными технологиями (Node.js)<br />Взаимодействие с бекендом (SOAP/REST)</p><div><p></p><p><b>Условия работы:</b></p><p><strong>Мы предлагаем:</strong></p><p> </p><ul><li>трудоустройство согласно ТК РФ;</li><li>гарантированный доход плюс премиальное вознаграждение;</li><li>возможность работать рядом с домом/местом учебы;</li><li>регулярное корпоративное обучение;</li><li>ДМС, страхование от несчастных случаев и тяжелых заболеваний;</li><li>материальную помощь и социальную поддержку, корпоративную пенсионную программу;</li><li>льготные условия кредитования;</li><li>яркую и насыщенную корпоративную жизнь.<br /></li></ul><p><strong>Мы ждем тебя, чтобы строить счастливое будущее вместе!</strong></p></div>\"\n",
            "29654639,JavaScript разработчик,Москва,Сбербанк,2019-01-15T10:15:36+0300,\"<p><strong>Требования: </strong></p><p>Опыт web разработки от 3 лет (HTML, HTML5, CSS, JavaScript, препроцессинг CSS)<br />Опыт разработки на библиотеках и фреймворках (AngularJS, ReactJS)<br />Активное использование инструментов контроля версий (Git, CVS)<br />Умение работать с базами данных и языками запросов (SQL)<br />Опыт работы с серверными технологиями (Node.js)<br />Взаимодействие с бекендом (SOAP/REST)</p><div><p></p><p><b>Условия работы:</b></p><p><strong>Мы предлагаем:</strong></p><p> </p><ul><li>трудоустройство согласно ТК РФ;</li><li>гарантированный доход плюс премиальное вознаграждение;</li><li>возможность работать рядом с домом/местом учебы;</li><li>регулярное корпоративное обучение;</li><li>ДМС, страхование от несчастных случаев и тяжелых заболеваний;</li><li>материальную помощь и социальную поддержку, корпоративную пенсионную программу;</li><li>льготные условия кредитования;</li><li>яркую и насыщенную корпоративную жизнь.<br /></li></ul><p><strong>Мы ждем тебя, чтобы строить счастливое будущее вместе!</strong></p></div>\"\n",
            "29654618,Ведущий инженер,Москва,Сбербанк,2019-01-15T10:15:10+0300,\"<p>Сбербанк объявляет конкурс на позицию <strong>Ведущий Инженер</strong> в Фабрике данных: сопровождение портала «Супермаркет данных» - внутренней площадки распространения данных в режиме self-service, позволяющей получить данные Банка и их описание для исследования и промышленных процессов</p><p> </p><p><strong>Обязанности:</strong></p><ul><li>Администрирование и сопровождение портала – 2-я линия сопровождения;</li><li>Решение инцидентов, обработка запросов на обслуживание и изменения;</li><li>Взаимодействие с разработчиком автоматизированной системы и подразделениями заказчика по вопросам сопровождения портала;</li><li>Выполнение работ по настройке и поддержке тестового и промышленного ландшафтов;</li><li>Проведение ежедневного мониторинга, подготовка документации (Confluence);</li><li>Оперативное реагирование и решение нештатных ситуаций связанных с работой портала.</li><li>Организация внедрения и проведение приемо-сдаточных и нагрузочных испытаний портала;</li><li>Настройка и поддержка интеграционных решений со смежными системами;</li></ul><p> </p><p><strong>Требования:</strong></p><ul><li>Высшее техническое образование (желательно в области ИТ);</li><li>Знание ITSM, ITIL;</li><li>Опыт работы в поддержке АС как 2-я линия сопровождения</li><li>Опыт работы с Jira, Confluence;</li><li>(желательно) Опыт использования и построения отчётов в Grafana, Zabbix,</li><li>(желательно) Опыт использования технологий DevOps и версионного контроля (Jenkins, Bitbucket);</li><li>Опыт работы с реляционными БД (Oracle, PostgreSQL) и NoSQL решениями</li><li>Опыт работы с BigData решений на стеке технологий Cloudera Hadoop</li><li>Опыт работы с Apache Maven</li><li>Опыт работы по Agile методологии</li><li>Инициативность, коммуникабельность, конструктивность;</li></ul><div><p></p><p><b>Функции</b> </p><ul><li>Обрабатывает нетиповые запросы пользователей в рамках своего направления и/или кросс-функциональных запросов </li></ul><ul><li>Осуществляет мониторинг предоставления ИТ услуги и работу с отклонениями по услуге по своему направлению </li></ul><ul><li>Координирует работу по высокоприоритетным инцидентам </li></ul><ul><li>Готовит предложения по оптимизации подпроцессов по своему направлению </li></ul><ul><li>Осуществляет сбор предложений и проводит первичный анализ проблем по своему направлению </li></ul><ul><li>Выявляет и регистрирует операционные риски по ИТ услугам, выполняет мероприятия по их минимизации </li></ul><ul><li>Подготавливает и проводит приемо-сдаточных испытаний по ИТ услугам </li></ul><ul><li>Отвечает за соблюдение целевых значений и КПЭ по этапам процессов и подпроцессам в рамках своего направления </li></ul><ul><li>Отвечает и выполняет работы по внедрению изменений по предоставляемым ИТ услугам </li></ul><ul><li>Координирует взаимодействие между подразделениями по своему направлению </li></ul><ul><li>Готовит сводные отчеты по инцидентам по своему направлению </li></ul><ul><li>Разрабатывает предложения по изменению регламентов по предоставлению услуги в своем направлении </li></ul><ul><li>Готовит технические регламенты по своему направлению и организует работу по их внедрению </li></ul><ul><li>Проводит обучение сотрудников по своему направлению </li></ul><ul><li>Организует работу функциональных подчиненных </li></ul><p></p><p><b>Образование</b> </p><ul><li>Высшее в Технические науки или Математика </li></ul><p></p><p><b>Опыт работы</b> </p><ul><li>Опыт работы (минимальный) 4 года </li></ul><ul><li>Опыт работы (функциональный) 3-5 лет </li></ul><p></p><p><b>Профессиональные компетенции</b> </p><p></p><ul><li>Организация взаимодействия (средний уровень)</li></ul><p>Согласовывает время, ресурсы, задачи сторон в небольшом проекте или процессе, учитывая их интересы и существующие процедуры Банка. </p><p>В случае возникновения сложных ситуаций предлагает варианты решения для согласования с руководством.</p><ul><li>Организация сервиса (средний уровень)</li></ul><p>Делает выводы о потребностях клиентов на основании опыта и предлагает решения в рамках существующих процедур и практик Банка. </p><p>При возникновении нестандартных клиентских проблем предлагает решения для утверждения руководством.</p><ul><li>Анализ и моделирование данных (средний уровень)</li></ul><p>Обладает базовой теоретической подготовкой в области ИТ. Знает характеристики систем анализа и моделирования данных. Может самостоятельно выбирать оптимальный вариант решения задач по разработке, доработке или сопровождению таких систем в рамках существующих процедур.</p> <p></p><p><b>Навыки</b> </p><ul><li>Знание процессов и стандартов </li></ul><ul><li>Знание информационных систем </li></ul><ul><li>Интерпретация и презентация данных </li></ul><ul><li>Управление ИТ-услугами </li></ul><p></p><p><b>Иностранные языки</b> </p><p></p><p><b>Сертификаты</b> </p></div><p></p><p><b>Условия работы:</b></p><p><strong>Условия:</strong></p><ul><li>Интересные и масштабные задачи!</li><li>Место работы: м. Тульская; Даниловский форт</li><li>Достойный уровень заработной платы, премия по итогам работы за год</li><li>График работы с 9:00 до 18:00, пятница - до 16:45.</li><li>Оформление согласно ТК РФ;</li><li>Социальный пакет: ДМС, спортзал , возможность обучения за счет компании, льготные условия кредитования.</li></ul>\"\n",
            "29668611,Главный инженер по сопровождению,Москва,Сбербанк,2019-02-12T09:00:00+0300,\"<p><strong>Обязанности:</strong></p><p>· Администрирование и сопровождение решений на базе платформы SAS;</p><p>· Администрирование и сопровождение решений на базе платформы Pega;</p><p>· Работа с инцидентами и задачами в рамках 2-го уровня поддержки (управление правами доступа, установка и конфигурирование, troubleshooting);</p><p>· Установка патчей на производственные среды;</p><p>· Обеспечение процедур резервирования, вынесение предложений по совершенствованию и модернизации инфраструктуры; оптимизации потоков загрузки данных;</p><p>· Мониторинг;</p><p>· Организация и поддержание в актуальном состоянии базы знаний по поддерживаемым системам и сервисам;</p><p>· Контроль срока действия лицензий и обеспечение их своевременного продления.</p><p> </p><p> </p><p><strong>Навыки:</strong></p><p>· Знание методологии ITSM и сервисного подхода;</p><p>· Опыт работы с платформой SAS на уровне администратора;</p><p>· Понимание типовых архитектур решений SAS;</p><p>· Знания продуктов SAS DI, LSF, SAS MC и языка программирования SAS BASE (SAS Macro);</p><p>· Знание SQL;</p><p>· Навыки и практический опыт написания документации для администраторов и пользователей, описания процессов и архитектуры;</p><p>· Навыки программирования и написания скриптов (bash/VBS/VBA/powershell/);</p><p>· Знание Linux;</p><p>· Личностные качества: активность, системное мышление, умение работать в команде и проактивно найти нужных людей и получить требуемую информацию;</p><p>· Знание английского языка, достаточное для чтения инструкций.</p><p> </p><div><p></p><p><b>Условия работы:</b></p><p><strong>Условия:</strong></p><ul><li>Место работы: Кутузовский проспект, ул.Поклонная 3А</li><li>График работы 5/2;</li><li>Оформление согласно ТК РФ;</li><li>Социальный пакет: ДМС, спортзал (фитнес, йога), спортивные и культурно-массовые мероприятия, возможность обучения за счет компании, льготные условия кредитования;</li><li>Отличная профессиональная команда</li><li>Годовая премия</li></ul></div>\"\n",
            "28868190,Full stack developer,Санкт-Петербург,Сбербанк,2019-03-04T11:40:54+0300,\"<p><strong><u>Задачи:</u></strong></p><p> </p><p>поддержка и разработка приложений для обмена информацией с корпоративными клиентами</p><p> </p><p><u><strong>Требования:</strong></u></p><p> </p><p>Желательно, фул-стек (JAVA + UI). Если нет UI, то было бы хорошо, если есть желание развиваться в эту сторону.</p><p> </p><p>Для Java:<br />Опыт работы с технологиями: Spring, Hibernate, Gradle, JMS, JAX-WS, Git, Jenkins, UML, Junit.</p><p> </p><p>Для UI:<br />Знание JavaScript (es6/es7: классы, импорты декораторы, arrow-функции, генераторы, промисы)<br />Экспертное знание HTML, HTML5, SASS/LESS/CSS<br />• Опыт работы с js-фреймоврками (например, Backbone, Angular, React, Reflux).<br />• Опыт работы с Webpack: уметь собрать проект с картинками и стилями, скриптами.<br />• Опыт работы с REST-сервисами<br />• Понятие о принципах разработки ПО, ООП, паттернах проектирования<br />• Умение работать с Git Будет плюсом<br />• Знание React Опыт работы с Bootstrap, Ionic, Foundation и т.д.<br />• Умение разрабатывать прототипы UI с помощью, например, Axure, Pixate, Invision, Proto.io и т.д.</p><p> </p><p><u><strong>Условия:</strong></u></p><p> </p><ul><li>официальное трудоустройство;</li><li>возможность профессионального и карьерного развития;</li><li>премирование (годовое);</li><li>социальный пакет (ДМС; санаторно-курортный отдых и т.д.);</li><li>корпоративное обучение;</li><li>активная корпоративная жизнь Банка (спортивные мероприятия, внутренние конкурсы и пр.)</li></ul><p> </p><div><p></p><p><b>Требования</b> </p><p></p><p>Желательно, Full Stack (JAVA + UI). Если отсутствуют компетенции UI, необходимо желание развиваться в данном направлении.</p><p>Для Java:Опыт работы с технологиями: Spring, Hibernate, Gradle, JMS, JAX-WS, Git, Jenkins, UML, Junit.</p><p>Для UI:Знание JavaScript (es6/es7: классы, импорты декораторы, arrow-функции, генераторы, промисы) </p><p>Экспертное знание HTML, HTML5, SASS/LESS/CSS • Опыт работы с js-фреймоврками (например, Backbone, Angular, React, Reflux). • Опыт работы с Webpack: уметь собрать проект с картинками и стилями, скриптами. • Опыт работы с REST-сервисами • Понятие о принципах разработки ПО, ООП, паттернах проектирования • Умение работать с Git Будет плюсом• Знание React Опыт работы с Bootstrap, Ionic, Foundation и т.д. • Умение разрабатывать прототипы UI с помощью, например, Axure, Pixate, Invision, Proto.io и т.д.</p> <p></p><p><b>Обязанности</b> </p><p></p><p>Поддержка и разработка приложений для обмена информацией с корпоративными клиентами</p> <p></p><p><b>Условия</b> </p><p></p><p>Интересные и масштабные задачи, работа в команде профессионалов;</p><p>Возможность обучения и сертификации за счет компании;</p><p>Крупные и уникальные проекты в развивающейся компании;</p><p>Официальное оформление по ТК РФ;</p><p>Рыночный фикс и годовая премия (обсуждается с успешным кандидатом);</p><p>Социальный пакет + ДМС;</p><p>Отсутствие строгого дресс-кода;</p><p>Корпоративная программа лояльности (льготное кредитование, скидки в компаниях-партнерах).</p> </div>\"\n",
            "29666393,\"Аналитик HCM (PA, OM)\",Москва,Сбербанк,2019-01-15T15:00:18+0300,\"<p>Требования:</p><p>- От 1 года работы в консалтинге</p><p>- Знание PA, OM, PT - на среднем уровне. Любое знание PY – плюс, но не обязательно.</p><p>- Понимание HR процессов. Опыт работы в HR подразделении или на соответствующих проектах.</p><p>- Уверенное знание Excel </p><p>- Высокие коммуникативные навыки</p><p> </p><p>Обязанности:</p><p>- Развитие собственного Z-продукта (контроль качества данных в SAP HCM)</p><p>- Написание документации: спецификации на разработку / настройку, инструкции.</p><p>- Взаимодействие с бизнесом (консультации по ведению данных, анализ потребностей пользователей)</p><p>- Взаимодействие с консультантами (по процессам других команд для развития нашего продукта)</p><p>- Анализ данных SAP HCM и внесение предложений по проверке этих данных</p><p>- Постановка задач на разработку ABAP-специалистам</p><div><p></p><p><b>Условия работы:</b></p><p><strong>Мы предлагаем:</strong></p><p> </p><ul><li>трудоустройство согласно ТК РФ;</li><li>гарантированный доход плюс премиальное вознаграждение;</li><li>возможность работать рядом с домом/местом учебы;</li><li>регулярное корпоративное обучение;</li><li>ДМС, страхование от несчастных случаев и тяжелых заболеваний;</li><li>материальную помощь и социальную поддержку, корпоративную пенсионную программу;</li><li>льготные условия кредитования;</li><li>яркую и насыщенную корпоративную жизнь.<br /></li></ul><p><strong>Мы ждем тебя, чтобы строить счастливое будущее вместе!</strong></p></div>\"\n",
            "29665306,Дизайнер UX|UI,Москва,Сбербанк,2019-01-15T14:30:26+0300,\"<p>Роль: дизайнер-проектировщик пользовательского взаимодействия</p><p>Специализация: web-интерфейс систем корпоративного ДБО</p><p><strong>Обязанности:</strong></p><ul><li>Сбор и уточнение требований к продукту совместно с аналитиком;</li><li>Предложение схемы пользовательского взаимодействия, обсуждение с заинтересованными сторонами;</li><li>Перевод схемы в дизайн, работа с готовыми компонентами дизайн-системы, разработка недостающих;</li><li>Обсуждение и уточнение механики пользовательского взаимодействия с разработчиками;</li><li>Подготовка интерактивных прототипов в случае необходимости;</li><li>Документирование задачи на канбан-доске.</li></ul><p><strong>Технические компетенции:</strong></p><ul><li>Понимание принципов и технологий разработки пользовательских интерфейсов;</li><li>Системное мышление, способность видеть продукт частью системы;</li><li>Экспертиза в проектировании взаимодействия, визуальном дизайне, юзабилити;</li><li>Знание композиции, типографики;</li><li>создание прототипов высокой степени детализации;</li><li>Уверенное владение sketch, InVision;</li><li>Умение пользоваться Photoshop, Axure, Illustrator.</li></ul><p><strong>Дополнительные требования:</strong></p><ul><li>Доказанный опыт (портфолио) в дизайне информационных веб-приложений.</li></ul><p> </p><p><strong>Мы предлагаем:</strong></p><ul><li>Работа среди профессионалов банковского дела;</li><li>Профессиональное обучение и развитие;</li><li>Мотивирующая система оплаты труда;</li><li>Расширенный социальный пакет, корпоративные льготы (в т.ч. по внутренним программам кредитования и программам лояльности партнёров);</li><li>Участие в интересных и инновационных проектах;</li><li>Отличные возможности для самореализации, результаты, которыми можно гордиться;</li><li>Высокий уровень корпоративной культуры;</li><li>Отличный новый офис «Sbergile Home» в шаговой доступности от ст. Кутузовская (метро и МЦК);</li><li>Многофункциональный спортивный зал (бесплатно);</li><li>Вместительный подземный паркинг.</li></ul><div></div>\"\n",
            "29664693,Разработчик Big Data,Иннополис,Сбербанк,2019-01-15T14:15:14+0300,\"<p><strong>Проект-разработка сервиса Доставки Данных. Цель проекта – написание фреймворка по управление заданиями на кластере.</strong></p><p><strong>Работая в данном проекте, разработчик получит возможность использовать в своей работе самые передовые технологии и фреймоворки BigData и стать одним из разработчиков такого фреймворка.</strong></p><p> </p><p><strong>Функции:</strong></p><p> </p><ul><li>Разработка новых фич сервиса Доставки Данных (ДД).</li><li>Работа с дефектами ПО сервиса Доставки Данных (выявление причин, исправление, оценки, консультации).</li><li>Консультации по внутренней работе сервиса Доставки Данных.</li><li>Участие во всех командных мероприятиях (планирование, ретроспектива, stand-up, демо).</li><li>Взаимодействие с разработчиками и другими специалистами по тестированию, проектными и продуктовыми менеджерами.</li></ul><p> </p><p><strong>Требования:</strong></p><p> </p><ul><li>Опыт разработки на Java / Scala от 3 лет.</li><li>Знание Linux на уровне продвинутого пользователя.</li><li>Знание платформы Hadoop (HDFS, Spark, HBase, MapReduce, etc.).</li><li>Опыт работы с Git, Bitbucket.</li><li>Знание жизненного цикла разработки ПО.</li><li>Знание SQL.</li><li>Опыт работы с bugtracking системами и тестовой документацией.</li><li> </li></ul><p><strong>Приветствуются знания / опыт:</strong></p><p> </p><ul><li>Опыт работы с Jenkins или любым другим аналогичным инструментом.</li><li>Знание языков Python и/или Scala.</li><li>Умение работать по гибким методологиям разработки.</li><li>Знание современных инструментов devops (Jenkins).</li></ul><div></div>\"\n"
          ]
        }
      ],
      "source": [
        "! head vacancies.csv"
      ]
    },
    {
      "cell_type": "code",
      "execution_count": null,
      "metadata": {
        "id": "A0fN61IRElt3"
      },
      "outputs": [],
      "source": [
        "import requests\n",
        "\n",
        "url = \"https://www.dropbox.com/scl/fi/arvkzclltciuf39v5w8ke/vacancies.csv?rlkey=cmdn4394g12a5vdjwjpuimmbw&dl=1\"\n",
        "response = requests.get(url)\n",
        "\n",
        "with open(\"vacancies.csv\", \"wb\") as f:\n",
        "    f.write(response.content)\n"
      ]
    },
    {
      "cell_type": "code",
      "execution_count": null,
      "metadata": {
        "id": "iC01h9nsElt4",
        "outputId": "7221bc0a-3469-4636-8501-2ded83742794"
      },
      "outputs": [
        {
          "data": {
            "image/png": "[encoded data removed]",
            "text/plain": [
              "<Figure size 1000x600 with 1 Axes>"
            ]
          },
          "metadata": {},
          "output_type": "display_data"
        }
      ],
      "source": [
        "import pandas as pd\n",
        "from bs4 import BeautifulSoup\n",
        "from natasha import Segmenter, NewsEmbedding, NewsNERTagger, Doc\n",
        "import re\n",
        "from collections import Counter\n",
        "import matplotlib.pyplot as plt\n",
        "\n",
        "# === Шаг 1: Загрузка и подготовка ===\n",
        "df = pd.read_csv(\"vacancies.csv\")\n",
        "java_vacancies = df[df['name'].str.contains(\"Java\", case=False, na=False)]\n",
        "\n",
        "java_text = \" \".join(\n",
        "    BeautifulSoup(desc, \"html.parser\").get_text(separator=\" \")\n",
        "    for desc in java_vacancies['description'].dropna()\n",
        ")\n",
        "\n",
        "# === Шаг 2: Извлечение скиллов ===\n",
        "segmenter = Segmenter()\n",
        "emb = NewsEmbedding()\n",
        "ner_tagger = NewsNERTagger(emb)\n",
        "\n",
        "doc = Doc(java_text)\n",
        "doc.segment(segmenter)\n",
        "doc.tag_ner(ner_tagger)\n",
        "\n",
        "ner_skills = [span.text for span in doc.spans if span.type == 'ORG']\n",
        "regex_skills = re.findall(r'\\b([A-Z][A-Za-z0-9\\+\\#\\.\\-]{2,})\\b', java_text)\n",
        "all_skills = ner_skills + regex_skills\n",
        "\n",
        "# === Шаг 3: Очистка и подсчёт ===\n",
        "stopwords = {\n",
        "    \"Сбербанк\", \"Сбербанка\", \"Банка\", \"Россия\", \"Москва\", \"РФ\",\n",
        "    \"ТК\", \"Java\", \"Работа\", \"Компания\", \"Требования\", \"Условия\"\n",
        "}\n",
        "filtered = [s for s in all_skills if s not in stopwords and s.lower() not in [w.lower() for w in stopwords]]\n",
        "top_skills = Counter(filtered).most_common(5)\n",
        "df_skills = pd.DataFrame(top_skills, columns=[\"Skill\", \"Frequency\"])\n",
        "\n",
        "# === Шаг 4: Категоризация ===\n",
        "categories = {\n",
        "    \"Языки\": {\"Java\", \"SQL\", \"Python\"},\n",
        "    \"Базы данных\": {\"Oracle\", \"PostgreSQL\", \"MySQL\", \"MongoDB\", \"IBM\"},\n",
        "    \"Фреймворки\": {\"Spring\", \"Hibernate\", \"Maven\", \"Junit\", \"React\", \"Redux\"},\n",
        "    \"DevOps\": {\"Git\", \"Jenkins\", \"Docker\", \"Kubernetes\"}\n",
        "}\n",
        "\n",
        "def categorize(skill):\n",
        "    for category, names in categories.items():\n",
        "        if skill in names:\n",
        "            return category\n",
        "    return \"Другое\"\n",
        "\n",
        "df_skills[\"Category\"] = df_skills[\"Skill\"].apply(categorize)\n",
        "\n",
        "# === Шаг 5: Визуализация ===\n",
        "plt.figure(figsize=(10, 6))\n",
        "for category in df_skills[\"Category\"].unique():\n",
        "    subset = df_skills[df_skills[\"Category\"] == category]\n",
        "    plt.bar(subset[\"Skill\"], subset[\"Frequency\"], label=category)\n",
        "\n",
        "plt.title(\"Топ-скиллы Java-разработчика по категориям\")\n",
        "plt.xlabel(\"Навык\")\n",
        "plt.ylabel(\"Частота\")\n",
        "plt.xticks(rotation=45)\n",
        "plt.legend()\n",
        "plt.tight_layout()\n",
        "plt.show()\n"
      ]
    },
    {
      "cell_type": "code",
      "execution_count": null,
      "metadata": {
        "id": "HGQH3e3vElt4",
        "outputId": "9cb2ff47-e450-481d-ab8f-154b49301443"
      },
      "outputs": [
        {
          "data": {
            "image/png": "[encoded data removed]",
            "text/plain": [
              "<Figure size 1000x600 with 1 Axes>"
            ]
          },
          "metadata": {},
          "output_type": "display_data"
        }
      ],
      "source": [
        "import pandas as pd\n",
        "from bs4 import BeautifulSoup\n",
        "from natasha import Segmenter, NewsEmbedding, NewsNERTagger, Doc\n",
        "import re\n",
        "from collections import Counter\n",
        "import matplotlib.pyplot as plt\n",
        "\n",
        "# === Шаг 1: Загрузка и подготовка ===\n",
        "df = pd.read_csv(\"vacancies.csv\")\n",
        "java_vacancies = df[df['name'].str.contains(\"Java\", case=False, na=False)]\n",
        "\n",
        "java_text = \" \".join(\n",
        "    BeautifulSoup(desc, \"html.parser\").get_text(separator=\" \")\n",
        "    for desc in java_vacancies['description'].dropna()\n",
        ")\n",
        "\n",
        "# === Шаг 2: Извлечение скиллов ===\n",
        "segmenter = Segmenter()\n",
        "emb = NewsEmbedding()\n",
        "ner_tagger = NewsNERTagger(emb)\n",
        "\n",
        "doc = Doc(java_text)\n",
        "doc.segment(segmenter)\n",
        "doc.tag_ner(ner_tagger)\n",
        "\n",
        "ner_skills = [span.text for span in doc.spans if span.type == 'ORG']\n",
        "regex_skills = re.findall(r'\\b([A-Z][A-Za-z0-9\\+\\#\\.\\-]{2,})\\b', java_text)\n",
        "all_skills = ner_skills + regex_skills\n",
        "\n",
        "# === Шаг 3: Очистка и подсчёт ===\n",
        "stopwords = {\n",
        "    \"Сбербанк\", \"Сбербанка\", \"Банка\", \"Россия\", \"Москва\", \"РФ\",\n",
        "    \"ТК\", \"Java\", \"Работа\", \"Компания\", \"Требования\", \"Условия\"\n",
        "}\n",
        "filtered = [s for s in all_skills if s not in stopwords and s.lower() not in [w.lower() for w in stopwords]]\n",
        "top_skills = Counter(filtered).most_common(15)\n",
        "df_skills = pd.DataFrame(top_skills, columns=[\"Skill\", \"Frequency\"])\n",
        "\n",
        "# === Шаг 4: Категоризация ===\n",
        "categories = {\n",
        "    \"Языки\": {\"Java\", \"SQL\", \"Python\"},\n",
        "    \"Базы данных\": {\"Oracle\", \"PostgreSQL\", \"MySQL\", \"MongoDB\", \"IBM\"},\n",
        "    \"Фреймворки\": {\"Spring\", \"Hibernate\", \"Maven\", \"Junit\", \"React\", \"Redux\"},\n",
        "    \"DevOps\": {\"Git\", \"Jenkins\", \"Docker\", \"Kubernetes\"}\n",
        "}\n",
        "\n",
        "def categorize(skill):\n",
        "    for category, names in categories.items():\n",
        "        if skill in names:\n",
        "            return category\n",
        "    return \"Другое\"\n",
        "\n",
        "df_skills[\"Category\"] = df_skills[\"Skill\"].apply(categorize)\n",
        "\n",
        "# === Шаг 5: Визуализация ===\n",
        "plt.figure(figsize=(10, 6))\n",
        "for category in df_skills[\"Category\"].unique():\n",
        "    subset = df_skills[df_skills[\"Category\"] == category]\n",
        "    plt.bar(subset[\"Skill\"], subset[\"Frequency\"], label=category)\n",
        "\n",
        "plt.title(\"Топ-скиллы Java-разработчика по категориям\")\n",
        "plt.xlabel(\"Навык\")\n",
        "plt.ylabel(\"Частота\")\n",
        "plt.xticks(rotation=45)\n",
        "plt.legend()\n",
        "plt.tight_layout()\n",
        "plt.show()\n"
      ]
    },
    {
      "cell_type": "markdown",
      "metadata": {
        "id": "xpyvZPt6sSbp"
      },
      "source": [
        "### 6.3 Улучшить качество базовой предсказательной CRF-модели на тестовой выборке за счет добавления и модификации признаков"
      ]
    },
    {
      "cell_type": "markdown",
      "metadata": {
        "id": "5z9OdRXasVbA"
      },
      "source": [
        "Загрузка данных:"
      ]
    },
    {
      "cell_type": "code",
      "execution_count": null,
      "metadata": {
        "colab": {
          "base_uri": "https://localhost:8080/"
        },
        "id": "eVESeqa_sSv-",
        "outputId": "0355a3d9-782a-4a3f-ff2d-12a41aa86c04"
      },
      "outputs": [
        {
          "name": "stdout",
          "output_type": "stream",
          "text": [
            "--2025-05-07 13:36:06--  https://www.dropbox.com/s/iuwsx5pmfhkk0w2/ner_dataset.csv\n",
            "Resolving www.dropbox.com (www.dropbox.com)... 162.125.68.18, 2620:100:601b:18::a27d:812\n",
            "Connecting to www.dropbox.com (www.dropbox.com)|162.125.68.18|:443... connected.\n",
            "HTTP request sent, awaiting response... 302 Found\n",
            "Location: https://www.dropbox.com/scl/fi/cu61u8g7z5thol0npjj7f/ner_dataset.csv?rlkey=rb70mhtw6yu4r4bu49qoxbjj4 [following]\n",
            "--2025-05-07 13:36:07--  https://www.dropbox.com/scl/fi/cu61u8g7z5thol0npjj7f/ner_dataset.csv?rlkey=rb70mhtw6yu4r4bu49qoxbjj4\n",
            "Reusing existing connection to www.dropbox.com:443.\n",
            "HTTP request sent, awaiting response... 302 Found\n",
            "Location: https://uc5e3e4c54b9d08bc94cf3896cf4.dl.dropboxusercontent.com/cd/0/inline/CpM66SHydZKSAAmUfywMlduH3wWj5HiAPCnPa_JcFrsO7P9N4p1t0oH75-8PvxCBlf8ekH7gGiaU_KfHQJyHVOQSamwepUCBSqlGYSrBFASdYecxf5BFh-hAllWPuWu9Ik6X1Z0klSnneI3PUXtzTOix/file# [following]\n",
            "--2025-05-07 13:36:08--  https://uc5e3e4c54b9d08bc94cf3896cf4.dl.dropboxusercontent.com/cd/0/inline/CpM66SHydZKSAAmUfywMlduH3wWj5HiAPCnPa_JcFrsO7P9N4p1t0oH75-8PvxCBlf8ekH7gGiaU_KfHQJyHVOQSamwepUCBSqlGYSrBFASdYecxf5BFh-hAllWPuWu9Ik6X1Z0klSnneI3PUXtzTOix/file\n",
            "Resolving uc5e3e4c54b9d08bc94cf3896cf4.dl.dropboxusercontent.com (uc5e3e4c54b9d08bc94cf3896cf4.dl.dropboxusercontent.com)... 162.125.68.15, 2620:100:6024:15::a27d:440f\n",
            "Connecting to uc5e3e4c54b9d08bc94cf3896cf4.dl.dropboxusercontent.com (uc5e3e4c54b9d08bc94cf3896cf4.dl.dropboxusercontent.com)|162.125.68.15|:443... connected.\n",
            "HTTP request sent, awaiting response... 200 OK\n",
            "Length: 15208151 (15M) [text/plain]\n",
            "Saving to: ‘ner_dataset.csv’\n",
            "\n",
            "ner_dataset.csv     100%[===================>]  14.50M  1.22MB/s    in 11s     \n",
            "\n",
            "2025-05-07 13:36:20 (1.33 MB/s) - ‘ner_dataset.csv’ saved [15208151/15208151]\n",
            "\n"
          ]
        }
      ],
      "source": [
        "! wget https://www.dropbox.com/s/iuwsx5pmfhkk0w2/ner_dataset.csv"
      ]
    },
    {
      "cell_type": "markdown",
      "metadata": {
        "id": "01BiTAQfsa4A"
      },
      "source": [
        "#### Baseline для 6.3"
      ]
    },
    {
      "cell_type": "code",
      "execution_count": null,
      "metadata": {
        "id": "lJiYW1fssbMC"
      },
      "outputs": [],
      "source": [
        "import pandas as pd\n",
        "\n",
        "data = pd.read_csv(\"ner_dataset.csv\", encoding=\"latin1\")\n",
        "data = data.ffill()\n",
        "\n",
        "\n",
        "agg_func = lambda s: [[w, p, t] for w, p, t in zip(s[\"Word\"].values.tolist(),\n",
        "                                                   s[\"POS\"].values.tolist(),\n",
        "                                                   s[\"Tag\"].values.tolist())]\n",
        "grouped = data.groupby(\"Sentence #\")[\n",
        "    [\"Word\", \"POS\", \"Tag\"]\n",
        "].apply(agg_func).tolist()\n",
        "\n",
        "\n",
        "X_list = [[word[:2] for word in sentence] for sentence in grouped]\n",
        "y_list = [[word[2] for word in sentence] for sentence in grouped]"
      ]
    },
    {
      "cell_type": "code",
      "execution_count": null,
      "metadata": {
        "id": "cforpZYqseN4"
      },
      "outputs": [],
      "source": [
        "from sklearn.model_selection import train_test_split\n",
        "\n",
        "data_train, data_test, y_train, y_test = train_test_split(X_list, y_list, test_size=0.2, random_state=1337)"
      ]
    },
    {
      "cell_type": "markdown",
      "metadata": {
        "id": "fW-pEcYWElt5"
      },
      "source": [
        "#### Изначальная версия признаков без модификации и добавления"
      ]
    },
    {
      "cell_type": "code",
      "execution_count": null,
      "metadata": {
        "id": "mlreACHMshfh"
      },
      "outputs": [],
      "source": [
        "def word2features(sent, i):\n",
        "    word = sent[i][0]\n",
        "    postag = sent[i][1]\n",
        "\n",
        "    features = {\n",
        "        'word.lower()': word.lower(),\n",
        "        'word.isupper()': word.isupper(),\n",
        "        'word.istitle()': word.istitle(),\n",
        "        'word.isdigit()': word.isdigit(),\n",
        "        'postag': postag,\n",
        "        ### Your code goes here ###\n",
        "    }\n",
        "    if i > 0:\n",
        "        word1 = sent[i-1][0]\n",
        "        postag1 = sent[i-1][1]\n",
        "        features.update({\n",
        "            '-1:word.lower()': word1.lower(),\n",
        "            '-1:word.istitle()': word1.istitle(),\n",
        "            '-1:word.isupper()': word1.isupper(),\n",
        "            ### Your code goes here ###\n",
        "        })\n",
        "    else:\n",
        "        features['BOS'] = True\n",
        "\n",
        "    if i < len(sent)-1:\n",
        "        word1 = sent[i+1][0]\n",
        "        postag1 = sent[i+1][1]\n",
        "        features.update({\n",
        "            '+1:word.lower()': word1.lower(),\n",
        "            '+1:word.istitle()': word1.istitle(),\n",
        "            '+1:word.isupper()': word1.isupper(),\n",
        "            ### Your code goes here ###\n",
        "        })\n",
        "    else:\n",
        "        features['EOS'] = True\n",
        "\n",
        "    return features\n",
        "\n",
        "def sent2features(sent):\n",
        "    return [word2features(sent, i) for i in range(len(sent))]"
      ]
    },
    {
      "cell_type": "markdown",
      "metadata": {
        "id": "rocB4j2WElt5"
      },
      "source": [
        "#### C модификацией и добавлением ver_1"
      ]
    },
    {
      "cell_type": "code",
      "execution_count": null,
      "metadata": {
        "id": "jWBTVa6vElt6"
      },
      "outputs": [],
      "source": [
        "def word2features(sent, i):\n",
        "    word = sent[i][0]\n",
        "    postag = sent[i][1]\n",
        "\n",
        "    features = {\n",
        "        'bias': 1.0,\n",
        "        'word.lower()': word.lower(),\n",
        "        'word[-3:]': word[-3:],\n",
        "        'word[-2:]': word[-2:],\n",
        "        'word[:3]': word[:3],\n",
        "        'word[:2]': word[:2],\n",
        "        'word.isupper()': word.isupper(),\n",
        "        'word.istitle()': word.istitle(),\n",
        "        'word.isdigit()': word.isdigit(),\n",
        "        'word.contains_hyphen': '-' in word,\n",
        "        'postag': postag,\n",
        "        'postag[:2]': postag[:2],\n",
        "        'word.len': len(word),\n",
        "    }\n",
        "\n",
        "    if i > 0:\n",
        "        word1 = sent[i-1][0]\n",
        "        postag1 = sent[i-1][1]\n",
        "        features.update({\n",
        "            '-1:word.lower()': word1.lower(),\n",
        "            '-1:word.istitle()': word1.istitle(),\n",
        "            '-1:word.isupper()': word1.isupper(),\n",
        "            '-1:postag': postag1,\n",
        "            '-1:postag[:2]': postag1[:2],\n",
        "        })\n",
        "    else:\n",
        "        features['BOS'] = True\n",
        "\n",
        "    if i < len(sent)-1:\n",
        "        word1 = sent[i+1][0]\n",
        "        postag1 = sent[i+1][1]\n",
        "        features.update({\n",
        "            '+1:word.lower()': word1.lower(),\n",
        "            '+1:word.istitle()': word1.istitle(),\n",
        "            '+1:word.isupper()': word1.isupper(),\n",
        "            '+1:postag': postag1,\n",
        "            '+1:postag[:2]': postag1[:2],\n",
        "        })\n",
        "    else:\n",
        "        features['EOS'] = True\n",
        "\n",
        "    return features\n",
        "def sent2features(sent):\n",
        "    return [word2features(sent, i) for i in range(len(sent))]\n",
        "\n",
        "X_train = [sent2features(s) for s in data_train]\n",
        "X_test = [sent2features(s) for s in data_test]"
      ]
    },
    {
      "cell_type": "markdown",
      "metadata": {
        "id": "qy2q4wbcElt6"
      },
      "source": [
        "#### с модификацией и добавлением ver_2"
      ]
    },
    {
      "cell_type": "code",
      "execution_count": null,
      "metadata": {
        "id": "-5pnatwjElt6"
      },
      "outputs": [],
      "source": [
        "def word_shape(w):\n",
        "    return ''.join([\n",
        "        'X' if c.isupper() else\n",
        "        'x' if c.islower() else\n",
        "        'd' if c.isdigit() else\n",
        "        '-' for c in w\n",
        "    ])\n",
        "\n",
        "def ensure_crf_safe(features):\n",
        "    safe = {}\n",
        "    for k, v in features.items():\n",
        "        if isinstance(v, (str, bool, float)):\n",
        "            safe[k] = v\n",
        "        elif isinstance(v, int):\n",
        "            safe[k] = str(v)  # CRFsuite не принимает int, но str — да\n",
        "        else:\n",
        "            safe[k] = str(v)\n",
        "    return safe\n",
        "\n",
        "def word2features(sent, i):\n",
        "    word = sent[i][0]\n",
        "    postag = sent[i][1]\n",
        "\n",
        "    features = {\n",
        "        'bias': 1.0,\n",
        "        'word.lower()': word.lower(),\n",
        "        'word[-3:]': word[-3:],\n",
        "        'word[-2:]': word[-2:],\n",
        "        'word[:3]': word[:3],\n",
        "        'word[:2]': word[:2],\n",
        "        'word.isupper()': word.isupper(),\n",
        "        'word.istitle()': word.istitle(),\n",
        "        'word.isdigit()': word.isdigit(),\n",
        "        'word.contains_hyphen': '-' in word,\n",
        "        'word.has_special': any(not c.isalnum() for c in word),\n",
        "        'word.shape': word_shape(word),\n",
        "        'postag': postag,\n",
        "        'postag[:2]': postag[:2],\n",
        "        'word.len': str(len(word)),\n",
        "    }\n",
        "\n",
        "    if i > 0:\n",
        "        word1, postag1 = sent[i-1]\n",
        "        features.update({\n",
        "            '-1:word.lower()': word1.lower(),\n",
        "            '-1:word.istitle()': word1.istitle(),\n",
        "            '-1:word.isupper()': word1.isupper(),\n",
        "            '-1:postag': postag1,\n",
        "            '-1:postag[:2]': postag1[:2],\n",
        "        })\n",
        "    else:\n",
        "        features['BOS'] = True\n",
        "\n",
        "    if i > 1:\n",
        "        word2, postag2 = sent[i-2]\n",
        "        features.update({\n",
        "            '-2:word.lower()': word2.lower(),\n",
        "            '-2:postag': postag2,\n",
        "        })\n",
        "\n",
        "    if i < len(sent) - 1:\n",
        "        word1, postag1 = sent[i+1]\n",
        "        features.update({\n",
        "            '+1:word.lower()': word1.lower(),\n",
        "            '+1:word.istitle()': word1.istitle(),\n",
        "            '+1:word.isupper()': word1.isupper(),\n",
        "            '+1:postag': postag1,\n",
        "            '+1:postag[:2]': postag1[:2],\n",
        "        })\n",
        "    else:\n",
        "        features['EOS'] = True\n",
        "\n",
        "    if i < len(sent) - 2:\n",
        "        word2, postag2 = sent[i+2]\n",
        "        features.update({\n",
        "            '+2:word.lower()': word2.lower(),\n",
        "            '+2:postag': postag2,\n",
        "        })\n",
        "\n",
        "    return ensure_crf_safe(features)\n",
        "\n",
        "def sent2features(sent):\n",
        "    return [word2features(sent, i) for i in range(len(sent))]\n",
        "\n",
        "# === Создание признаков ===\n",
        "X_train = [sent2features(s) for s in data_train]\n",
        "X_test = [sent2features(s) for s in data_test]\n",
        "\n",
        "# === Обучение CRF ===\n",
        "import sklearn_crfsuite\n",
        "from sklearn_crfsuite import metrics\n",
        "\n",
        "crf = sklearn_crfsuite.CRF(\n",
        "    algorithm='lb\n",
        "    c1=0.1,\n",
        "    c2=0.1,\n",
        "    max_iterations=100,\n",
        "    all_possible_transitions=True,\n",
        ")\n",
        "\n",
        "crf.fit(X_train, y_train)\n",
        "y_pred = crf.predict(X_test)\n"
      ]
    },
    {
      "cell_type": "code",
      "execution_count": null,
      "metadata": {
        "id": "u2aRzz6aElt6"
      },
      "outputs": [],
      "source": [
        "import sklearn_crfsuite\n",
        "from sklearn_crfsuite import metrics\n",
        "\n",
        "crf = sklearn_crfsuite.CRF(\n",
        "    algorithm='lbfgs',\n",
        "    c1=0.1,  # коэффициенты регуляризации\n",
        "    c2=0.1,\n",
        "    max_iterations=100,\n",
        "    all_possible_transitions=True,\n",
        ")\n",
        "crf.fit(X_train, y_train)\n",
        "\n",
        "y_pred = crf.predict(X_test)\n"
      ]
    },
    {
      "cell_type": "code",
      "execution_count": null,
      "metadata": {
        "id": "ycN99PocElt6"
      },
      "outputs": [],
      "source": [
        "X_train = [sent2features(s) for s in data_train]\n",
        "X_test = [sent2features(s) for s in data_test]\n"
      ]
    },
    {
      "cell_type": "code",
      "execution_count": null,
      "metadata": {
        "id": "HVLbvAFzElt7",
        "outputId": "1eca40d9-e560-4e9f-df8d-c73c0418d91f"
      },
      "outputs": [
        {
          "name": "stdout",
          "output_type": "stream",
          "text": [
            "              precision    recall  f1-score   support\n",
            "\n",
            "       B-art      0.364     0.129     0.190        62\n",
            "       B-eve      0.619     0.542     0.578        48\n",
            "       B-geo      0.867     0.907     0.886      7591\n",
            "       B-gpe      0.968     0.938     0.952      3211\n",
            "       B-nat      0.542     0.371     0.441        35\n",
            "       B-org      0.796     0.759     0.777      4018\n",
            "       B-per      0.854     0.833     0.843      3362\n",
            "       B-tim      0.939     0.893     0.915      4086\n",
            "       I-art      0.500     0.190     0.275        58\n",
            "       I-eve      0.333     0.296     0.314        27\n",
            "       I-geo      0.843     0.783     0.812      1572\n",
            "       I-gpe      0.964     0.600     0.740        45\n",
            "       I-nat      0.600     0.500     0.545         6\n",
            "       I-org      0.823     0.826     0.824      3372\n",
            "       I-per      0.860     0.896     0.878      3432\n",
            "       I-tim      0.871     0.770     0.817      1354\n",
            "           O      0.992     0.995     0.993    177713\n",
            "\n",
            "    accuracy                          0.973    209992\n",
            "   macro avg      0.749     0.660     0.693    209992\n",
            "weighted avg      0.973     0.973     0.973    209992\n",
            "\n"
          ]
        }
      ],
      "source": [
        "print(metrics.flat_classification_report(y_test, y_pred, digits=3))"
      ]
    },
    {
      "cell_type": "code",
      "execution_count": null,
      "metadata": {
        "id": "88w8fJ0MElt7"
      },
      "outputs": [],
      "source": [
        "# На входе: grouped = list of sentences (list of [word, pos, tag])\n",
        "from collections import Counter\n",
        "\n",
        "def has_rare_tag(sentence, rare_tags={'B-art', 'I-eve', 'I-nat'}):\n",
        "    return any(tag in rare_tags for _, _, tag in sentence)\n",
        "\n",
        "# Список с дополнительными дубликатами\n",
        "rare_sentences = [s for s in grouped if has_rare_tag(s)]\n",
        "\n",
        "# Увеличим выборку редких сущностей в 5 раз\n",
        "augmented = grouped + rare_sentences * 5\n",
        "\n",
        "# Преобразуем в X и y\n",
        "X_list = [[word[:2] for word in sentence] for sentence in augmented]\n",
        "y_list = [[word[2] for word in sentence] for sentence in augmented]\n",
        "\n",
        "# Разбиваем как обычно\n",
        "from sklearn.model_selection import train_test_split\n",
        "data_train, data_test, y_train, y_test = train_test_split(X_list, y_list, test_size=0.2, random_state=1337)\n"
      ]
    },
    {
      "cell_type": "code",
      "execution_count": null,
      "metadata": {
        "id": "ntDYAxleElt7"
      },
      "outputs": [],
      "source": [
        "X_train = [sent2features(s) for s in data_train]\n",
        "X_test = [sent2features(s) for s in data_test]\n"
      ]
    },
    {
      "cell_type": "code",
      "execution_count": null,
      "metadata": {
        "id": "pwa4CRTHElt7"
      },
      "outputs": [],
      "source": [
        "import sklearn_crfsuite\n",
        "from sklearn_crfsuite import metrics\n",
        "\n",
        "crf_2 = sklearn_crfsuite.CRF(\n",
        "    algorithm='lbfgs',\n",
        "    c1=0.1,  # коэффициенты регуляризации\n",
        "    c2=0.1,\n",
        "    max_iterations=100,\n",
        "    all_possible_transitions=True,\n",
        ")\n",
        "crf_2.fit(X_train, y_train)\n",
        "\n",
        "y_pred = crf_2.predict(X_test)"
      ]
    },
    {
      "cell_type": "code",
      "execution_count": null,
      "metadata": {
        "id": "Me83S8_HElt7",
        "outputId": "980d8ced-d871-4a2e-e065-7cb293ace4f1"
      },
      "outputs": [
        {
          "name": "stdout",
          "output_type": "stream",
          "text": [
            "              precision    recall  f1-score   support\n",
            "\n",
            "       B-art      0.892     0.944     0.917       462\n",
            "       B-eve      0.847     0.882     0.864       238\n",
            "       B-geo      0.860     0.907     0.883      7861\n",
            "       B-gpe      0.969     0.934     0.951      3406\n",
            "       B-nat      0.822     0.750     0.784        80\n",
            "       B-org      0.812     0.747     0.778      4226\n",
            "       B-per      0.868     0.845     0.856      3628\n",
            "       B-tim      0.934     0.886     0.909      4453\n",
            "       I-art      0.893     0.982     0.935       330\n",
            "       I-eve      0.850     0.976     0.909       290\n",
            "       I-geo      0.830     0.794     0.812      1613\n",
            "       I-gpe      0.875     0.549     0.675        51\n",
            "       I-nat      0.831     0.961     0.891        51\n",
            "       I-org      0.832     0.813     0.822      3390\n",
            "       I-per      0.868     0.908     0.887      3654\n",
            "       I-tim      0.851     0.787     0.818      1506\n",
            "           O      0.992     0.994     0.993    187918\n",
            "\n",
            "    accuracy                          0.974    223157\n",
            "   macro avg      0.872     0.862     0.864    223157\n",
            "weighted avg      0.973     0.974     0.973    223157\n",
            "\n"
          ]
        }
      ],
      "source": [
        "print(metrics.flat_classification_report(y_test, y_pred, digits=3))"
      ]
    },
    {
      "cell_type": "markdown",
      "metadata": {
        "id": "IOg7JxurElt8"
      },
      "source": [
        "#### comprassion of the results between CRF without oversampling and wtith embeddings glove"
      ]
    },
    {
      "cell_type": "code",
      "execution_count": null,
      "metadata": {
        "id": "XHZljHtJElt8",
        "outputId": "6b0b25e6-65f2-4eb9-c29e-b0d5231648e6"
      },
      "outputs": [
        {
          "data": {
            "image/png": "[encoded data removed]",
            "text/plain": [
              "<Figure size 1400x700 with 1 Axes>"
            ]
          },
          "metadata": {},
          "output_type": "display_data"
        }
      ],
      "source": [
        "import matplotlib.pyplot as plt\n",
        "import pandas as pd\n",
        "import seaborn as sns\n",
        "\n",
        "baseline_report = {\n",
        "    \"B-art\": [0.423, 0.177, 0.250],\n",
        "    \"B-eve\": [0.658, 0.521, 0.581],\n",
        "    \"B-geo\": [0.867, 0.908, 0.887],\n",
        "    \"B-gpe\": [0.969, 0.940, 0.954],\n",
        "    \"B-nat\": [0.478, 0.314, 0.379],\n",
        "    \"B-org\": [0.795, 0.762, 0.778],\n",
        "    \"B-per\": [0.859, 0.829, 0.844],\n",
        "    \"B-tim\": [0.933, 0.885, 0.908],\n",
        "    \"I-art\": [0.722, 0.224, 0.342],\n",
        "    \"I-eve\": [0.350, 0.259, 0.298],\n",
        "    \"I-geo\": [0.827, 0.796, 0.811],\n",
        "    \"I-gpe\": [0.966, 0.622, 0.757],\n",
        "    \"I-nat\": [0.400, 0.333, 0.364],\n",
        "    \"I-org\": [0.820, 0.824, 0.822],\n",
        "    \"I-per\": [0.862, 0.900, 0.881],\n",
        "    \"I-tim\": [0.855, 0.775, 0.813],\n",
        "    \"O\": [0.992, 0.994, 0.993],\n",
        "}\n",
        "\n",
        "improved_report = {\n",
        "    \"B-art\": [0.892, 0.944, 0.917],\n",
        "    \"B-eve\": [0.847, 0.882, 0.864],\n",
        "    \"B-geo\": [0.860, 0.907, 0.883],\n",
        "    \"B-gpe\": [0.969, 0.934, 0.951],\n",
        "    \"B-nat\": [0.822, 0.750, 0.784],\n",
        "    \"B-org\": [0.812, 0.747, 0.778],\n",
        "    \"B-per\": [0.868, 0.845, 0.856],\n",
        "    \"B-tim\": [0.934, 0.886, 0.909],\n",
        "    \"I-art\": [0.893, 0.982, 0.935],\n",
        "    \"I-eve\": [0.850, 0.976, 0.909],\n",
        "    \"I-geo\": [0.830, 0.794, 0.812],\n",
        "    \"I-gpe\": [0.875, 0.549, 0.675],\n",
        "    \"I-nat\": [0.831, 0.961, 0.891],\n",
        "    \"I-org\": [0.832, 0.813, 0.822],\n",
        "    \"I-per\": [0.868, 0.908, 0.887],\n",
        "    \"I-tim\": [0.851, 0.787, 0.818],\n",
        "    \"O\": [0.992, 0.994, 0.993],\n",
        "}\n",
        "\n",
        "def prepare_dataframe(report, label):\n",
        "    df = pd.DataFrame(report).T\n",
        "    df.columns = [\"precision\", \"recall\", \"f1-score\"]\n",
        "    df[\"label\"] = df.index\n",
        "    df[\"model\"] = label\n",
        "    return df\n",
        "\n",
        "df1 = prepare_dataframe(baseline_report, \"Baseline\")\n",
        "df2 = prepare_dataframe(improved_report, \"Improved\")\n",
        "df_all = pd.concat([df1, df2])\n",
        "\n",
        "plt.figure(figsize=(14, 7))\n",
        "sns.barplot(data=df_all.sort_values(\"f1-score\", ascending=False), x=\"f1-score\", y=\"label\", hue=\"model\")\n",
        "plt.title(\"Сравнение F1-score до и после улучшений CRF-модели\")\n",
        "plt.xlabel(\"F1-score\")\n",
        "plt.ylabel(\"Класс сущности\")\n",
        "plt.grid(True)\n",
        "plt.tight_layout()\n",
        "plt.show()\n"
      ]
    },
    {
      "cell_type": "markdown",
      "metadata": {
        "id": "7AGEZ3AaElt9"
      },
      "source": [
        "### 6.4 Улучшить качество базовой предсказательной LSTM-CRF-модели на тестовой выборке за счет подбора предобученных эмбеддингов."
      ]
    },
    {
      "cell_type": "code",
      "execution_count": null,
      "metadata": {
        "id": "tvGxbzRLElt9"
      },
      "outputs": [],
      "source": []
    },
    {
      "cell_type": "markdown",
      "metadata": {
        "id": "xt0xOM9XElt9"
      },
      "source": [
        "#### Bilstm + glove"
      ]
    },
    {
      "cell_type": "code",
      "execution_count": null,
      "metadata": {
        "id": "GAdCDrp1Elt9",
        "outputId": "ef912b46-e850-42b0-b58a-1b1ed3214d0e"
      },
      "outputs": [
        {
          "name": "stdout",
          "output_type": "stream",
          "text": [
            "Collecting git+https://github.com/kmkurn/pytorch-crf.git\n",
            "  Cloning https://github.com/kmkurn/pytorch-crf.git to /tmp/pip-req-build-02h_e9dy\n",
            "  Running command git clone --filter=blob:none --quiet https://github.com/kmkurn/pytorch-crf.git /tmp/pip-req-build-02h_e9dy\n",
            "  Resolved https://github.com/kmkurn/pytorch-crf.git to commit 623e3402d00a2728e99d6e8486010d67c754267b\n",
            "  Installing build dependencies ... \u001b[?25ldone\n",
            "\u001b[?25h  Getting requirements to build wheel ... \u001b[?25ldone\n",
            "\u001b[?25h  Preparing metadata (pyproject.toml) ... \u001b[?25ldone\n",
            "\u001b[?25h"
          ]
        }
      ],
      "source": [
        "!pip install git+https://github.com/kmkurn/pytorch-crf.git\n"
      ]
    },
    {
      "cell_type": "code",
      "execution_count": null,
      "metadata": {
        "id": "Pel1TAoSElt9",
        "outputId": "e7ac3833-a2de-466d-fab4-3b2a48547216"
      },
      "outputs": [
        {
          "name": "stdout",
          "output_type": "stream",
          "text": [
            "True\n",
            "NVIDIA GeForce RTX 3090\n"
          ]
        },
        {
          "name": "stderr",
          "output_type": "stream",
          "text": [
            "Epoch 1: 100%|██████████████████████████████| 2398/2398 [00:33<00:00, 70.91it/s]\n"
          ]
        },
        {
          "name": "stdout",
          "output_type": "stream",
          "text": [
            "[Epoch 1] Loss: 132271.9191\n"
          ]
        },
        {
          "name": "stderr",
          "output_type": "stream",
          "text": [
            "Epoch 2: 100%|██████████████████████████████| 2398/2398 [00:34<00:00, 70.46it/s]\n"
          ]
        },
        {
          "name": "stdout",
          "output_type": "stream",
          "text": [
            "[Epoch 2] Loss: 53088.4838\n"
          ]
        },
        {
          "name": "stderr",
          "output_type": "stream",
          "text": [
            "Epoch 3: 100%|██████████████████████████████| 2398/2398 [00:33<00:00, 71.41it/s]\n"
          ]
        },
        {
          "name": "stdout",
          "output_type": "stream",
          "text": [
            "[Epoch 3] Loss: 38811.0638\n"
          ]
        },
        {
          "name": "stderr",
          "output_type": "stream",
          "text": [
            "Epoch 4: 100%|██████████████████████████████| 2398/2398 [00:34<00:00, 70.31it/s]\n"
          ]
        },
        {
          "name": "stdout",
          "output_type": "stream",
          "text": [
            "[Epoch 4] Loss: 30645.1401\n"
          ]
        },
        {
          "name": "stderr",
          "output_type": "stream",
          "text": [
            "Epoch 5: 100%|██████████████████████████████| 2398/2398 [00:34<00:00, 70.21it/s]\n"
          ]
        },
        {
          "name": "stdout",
          "output_type": "stream",
          "text": [
            "[Epoch 5] Loss: 24408.9036\n",
            "              precision    recall  f1-score   support\n",
            "\n",
            "       B-art      0.343     0.140     0.198        86\n",
            "       B-eve      0.391     0.305     0.343        59\n",
            "       B-geo      0.864     0.897     0.880      7664\n",
            "       B-gpe      0.945     0.936     0.941      3174\n",
            "       B-nat      0.690     0.400     0.506        50\n",
            "       B-org      0.766     0.751     0.758      3913\n",
            "       B-per      0.851     0.825     0.838      3389\n",
            "       B-tim      0.914     0.888     0.901      4046\n",
            "       I-art      0.000     0.000     0.000        58\n",
            "       I-eve      0.333     0.260     0.292        50\n",
            "       I-geo      0.795     0.808     0.801      1450\n",
            "       I-gpe      0.781     0.641     0.704        39\n",
            "       I-nat      1.000     0.500     0.667        12\n",
            "       I-org      0.794     0.808     0.801      3315\n",
            "       I-per      0.865     0.882     0.874      3445\n",
            "       I-tim      0.822     0.768     0.794      1300\n",
            "           O      0.992     0.992     0.992    176773\n",
            "\n",
            "    accuracy                          0.970    208823\n",
            "   macro avg      0.714     0.635     0.664    208823\n",
            "weighted avg      0.970     0.970     0.970    208823\n",
            "\n"
          ]
        }
      ],
      "source": [
        "import torch\n",
        "print(torch.cuda.is_available())\n",
        "print(torch.cuda.get_device_name(0) if torch.cuda.is_available() else \"CUDA не доступна\")\n",
        "import numpy as np\n",
        "\n",
        "\n",
        "def load_glove_embeddings(file_path, word2idx, embedding_dim=100):\n",
        "    embeddings = np.random.uniform(-0.25, 0.25, (len(word2idx), embedding_dim))\n",
        "    with open(file_path, 'r', encoding='utf8') as f:\n",
        "        for line in f:\n",
        "            parts = line.strip().split()\n",
        "            word = parts[0]\n",
        "            if word in word2idx:\n",
        "                vector = np.array(parts[1:], dtype=np.float32)\n",
        "                embeddings[word2idx[word]] = vector\n",
        "    return torch.tensor(embeddings, dtype=torch.float32)\n",
        "\n",
        "\n",
        "import pandas as pd\n",
        "from sklearn.model_selection import train_test_split\n",
        "from collections import defaultdict\n",
        "\n",
        "data = pd.read_csv(\"ner_dataset.csv\", encoding=\"latin1\").ffill()\n",
        "\n",
        "\n",
        "sentences = []\n",
        "sentence = []\n",
        "for _, row in data.iterrows():\n",
        "    if row['Sentence #'] != sentence[-1][0] if sentence else None:\n",
        "        if sentence:\n",
        "            sentences.append([x[1:] for x in sentence])\n",
        "        sentence = [(row['Sentence #'], row['Word'], row['Tag'])]\n",
        "    else:\n",
        "        sentence.append((row['Sentence #'], row['Word'], row['Tag']))\n",
        "if sentence:\n",
        "    sentences.append([x[1:] for x in sentence])\n",
        "\n",
        "words = list(set(data[\"Word\"].values))\n",
        "tags = list(set(data[\"Tag\"].values))\n",
        "\n",
        "word2idx = {w: i + 2 for i, w in enumerate(words)}\n",
        "word2idx[\"<PAD>\"] = 0\n",
        "word2idx[\"<UNK>\"] = 1\n",
        "\n",
        "# Путь к GloVe-файлу\n",
        "glove_path = \"glove.6B.100d.txt\"  # или другой путь, если ты его разархивировал\n",
        "\n",
        "# Загрузка эмбеддингов\n",
        "glove_embeddings = load_glove_embeddings(glove_path, word2idx, embedding_dim=100)\n",
        "\n",
        "tag2idx = {t: i for i, t in enumerate(tags)}\n",
        "idx2tag = {i: t for t, i in tag2idx.items()}\n",
        "\n",
        "def encode_sentence(sentence, word2idx, tag2idx, max_len=50):\n",
        "    words = [word2idx.get(w[0], 1) for w in sentence]\n",
        "    tags = [tag2idx[w[1]] for w in sentence]\n",
        "    words = words[:max_len] + [0]*(max_len - len(words))\n",
        "    tags = tags[:max_len] + [tag2idx[\"O\"]] * (max_len - len(tags))\n",
        "    return words, tags\n",
        "\n",
        "X, y = zip(*[encode_sentence(s, word2idx, tag2idx) for s in sentences])\n",
        "X_train, X_test, y_train, y_test = train_test_split(X, y, test_size=0.2, random_state=42)\n",
        "\n",
        "import torch.nn as nn\n",
        "from torchcrf import CRF\n",
        "\n",
        "class BiLSTM_CRF(nn.Module):\n",
        "    def __init__(self, vocab_size, tagset_size, embedding_dim, hidden_dim, embeddings=None):\n",
        "        super().__init__()\n",
        "        self.embedding = nn.Embedding(vocab_size, embedding_dim, padding_idx=0)\n",
        "        if embeddings is not None:\n",
        "            self.embedding.weight.data.copy_(embeddings)\n",
        "            self.embedding.weight.requires_grad = True  # фиксировать веса\n",
        "        self.lstm = nn.LSTM(embedding_dim, hidden_dim // 2, num_layers=1,\n",
        "                            bidirectional=True, batch_first=True)\n",
        "        self.hidden2tag = nn.Linear(hidden_dim, tagset_size)\n",
        "        self.crf = CRF(tagset_size, batch_first=True)\n",
        "\n",
        "    def forward(self, x, mask):\n",
        "        embeds = self.embedding(x)\n",
        "        lstm_out, _ = self.lstm(embeds)\n",
        "        emissions = self.hidden2tag(lstm_out)\n",
        "        return emissions\n",
        "\n",
        "    def loss(self, x, tags, mask):\n",
        "        emissions = self.forward(x, mask)\n",
        "        return -self.crf(emissions, tags, mask=mask)\n",
        "\n",
        "    def predict(self, x, mask):\n",
        "        emissions = self.forward(x, mask)\n",
        "        return self.crf.decode(emissions, mask=mask)\n",
        "\n",
        "# === Инициализация модели ===\n",
        "model = BiLSTM_CRF(vocab_size=len(word2idx),\n",
        "                   tagset_size=len(tag2idx),\n",
        "                   embedding_dim=100,\n",
        "                   hidden_dim=256,\n",
        "                   embeddings=glove_embeddings)\n",
        "\n",
        "\n",
        "model.to(device)\n",
        "\n",
        "optimizer = torch.optim.Adam(model.parameters(), lr=0.001)\n",
        "\n",
        "# === Обучение ===\n",
        "for epoch in range(EPOCHS):\n",
        "    model.train()\n",
        "    total_loss = 0\n",
        "    for batch_x, batch_y in tqdm(train_loader, desc=f\"Epoch {epoch+1}\"):\n",
        "        batch_x, batch_y = batch_x.to(device), batch_y.to(device)\n",
        "        mask = batch_x != 0\n",
        "        loss = model.loss(batch_x, batch_y, mask)\n",
        "        optimizer.zero_grad()\n",
        "        loss.backward()\n",
        "        optimizer.step()\n",
        "        total_loss += loss.item()\n",
        "    print(f\"[Epoch {epoch+1}] Loss: {total_loss:.4f}\")\n",
        "\n",
        "# === Оценка ===\n",
        "model.eval()\n",
        "all_preds, all_labels = [], []\n",
        "\n",
        "with torch.no_grad():\n",
        "    for batch_x, batch_y in test_loader:\n",
        "        batch_x, batch_y = batch_x.to(device), batch_y.to(device)\n",
        "        mask = batch_x != 0\n",
        "        preds = model.predict(batch_x, mask)\n",
        "        for p_seq, t_seq, m in zip(preds, batch_y.tolist(), mask.tolist()):\n",
        "            valid_len = sum(m)\n",
        "            all_preds.extend([idx2tag[i] for i in p_seq[:valid_len]])\n",
        "            all_labels.extend([idx2tag[i] for i in t_seq[:valid_len]])\n",
        "\n",
        "# === Метрики ===\n",
        "from sklearn.metrics import classification_report\n",
        "report = classification_report(all_labels, all_preds, digits=3)\n",
        "print(report)\n",
        "\n"
      ]
    },
    {
      "cell_type": "code",
      "execution_count": null,
      "metadata": {
        "id": "8QVZh15ZElt-"
      },
      "outputs": [],
      "source": [
        "def load_glove_embeddings(file_path, word2idx, embedding_dim=100):\n",
        "    embeddings = np.random.uniform(-0.25, 0.25, (len(word2idx), embedding_dim))\n",
        "    with open(file_path, 'r', encoding='utf8') as f:\n",
        "        for line in f:\n",
        "            parts = line.strip().split()\n",
        "            word = parts[0]\n",
        "            if word in word2idx:\n",
        "                vector = np.array(parts[1:], dtype=np.float32)\n",
        "                embeddings[word2idx[word]] = vector\n",
        "    return torch.tensor(embeddings, dtype=torch.float32)\n"
      ]
    },
    {
      "cell_type": "code",
      "execution_count": null,
      "metadata": {
        "id": "EAfuUlVBElt-"
      },
      "outputs": [],
      "source": [
        "import pandas as pd\n",
        "from sklearn.model_selection import train_test_split\n",
        "from collections import defaultdict\n",
        "\n",
        "data = pd.read_csv(\"ner_dataset.csv\", encoding=\"latin1\").ffill()\n",
        "\n",
        "\n",
        "sentences = []\n",
        "sentence = []\n",
        "for _, row in data.iterrows():\n",
        "    if row['Sentence #'] != sentence[-1][0] if sentence else None:\n",
        "        if sentence:\n",
        "            sentences.append([x[1:] for x in sentence])\n",
        "        sentence = [(row['Sentence #'], row['Word'], row['Tag'])]\n",
        "    else:\n",
        "        sentence.append((row['Sentence #'], row['Word'], row['Tag']))\n",
        "if sentence:\n",
        "    sentences.append([x[1:] for x in sentence])\n",
        "\n",
        "words = list(set(data[\"Word\"].values))\n",
        "tags = list(set(data[\"Tag\"].values))\n",
        "\n",
        "word2idx = {w: i + 2 for i, w in enumerate(words)}\n",
        "word2idx[\"<PAD>\"] = 0\n",
        "word2idx[\"<UNK>\"] = 1\n",
        "\n",
        "# Путь к GloVe-файлу\n",
        "glove_path = \"/home/r_nazhmutdinov/Desktop/nlp/glove.6B.100d.txt\"  # или другой путь, если ты его разархивировал\n",
        "\n",
        "# Загрузка эмбеддингов\n",
        "glove_embeddings = load_glove_embeddings(glove_path, word2idx, embedding_dim=100)\n",
        "\n",
        "\n",
        "tag2idx = {t: i for i, t in enumerate(tags)}\n",
        "idx2tag = {i: t for t, i in tag2idx.items()}\n",
        "\n",
        "def encode_sentence(sentence, word2idx, tag2idx, max_len=50):\n",
        "    words = [word2idx.get(w[0], 1) for w in sentence]\n",
        "    tags = [tag2idx[w[1]] for w in sentence]\n",
        "    words = words[:max_len] + [0]*(max_len - len(words))\n",
        "    tags = tags[:max_len] + [tag2idx[\"O\"]] * (max_len - len(tags))\n",
        "    return words, tags\n",
        "\n",
        "X, y = zip(*[encode_sentence(s, word2idx, tag2idx) for s in sentences])\n",
        "X_train, X_test, y_train, y_test = train_test_split(X, y, test_size=0.2, random_state=42)\n",
        "\n"
      ]
    },
    {
      "cell_type": "code",
      "execution_count": null,
      "metadata": {
        "id": "Yg0uH_Q4Elt-"
      },
      "outputs": [],
      "source": [
        "import torch.nn as nn\n",
        "\n",
        "from torchcrf import CRF\n",
        "class BiLSTM_CRF(nn.Module):\n",
        "    def __init__(self, vocab_size, tagset_size, embedding_dim, hidden_dim, embeddings=None):\n",
        "        super().__init__()\n",
        "        self.embedding = nn.Embedding(vocab_size, embedding_dim, padding_idx=0)\n",
        "        if embeddings is not None:\n",
        "            self.embedding.weight.data.copy_(embeddings)\n",
        "            self.embedding.weight.requires_grad = False  # фиксировать веса\n",
        "        self.lstm = nn.LSTM(embedding_dim, hidden_dim // 2, num_layers=1,\n",
        "                            bidirectional=True, batch_first=True)\n",
        "        self.hidden2tag = nn.Linear(hidden_dim, tagset_size)\n",
        "        self.crf = CRF(tagset_size, batch_first=True)\n",
        "\n",
        "    def forward(self, x, mask):\n",
        "        embeds = self.embedding(x)\n",
        "        lstm_out, _ = self.lstm(embeds)\n",
        "        emissions = self.hidden2tag(lstm_out)\n",
        "        return emissions\n",
        "\n",
        "    def loss(self, x, tags, mask):\n",
        "        emissions = self.forward(x, mask)\n",
        "        return -self.crf(emissions, tags, mask=mask)\n",
        "\n",
        "    def predict(self, x, mask):\n",
        "        emissions = self.forward(x, mask)\n",
        "        return self.crf.decode(emissions, mask=mask)\n"
      ]
    },
    {
      "cell_type": "code",
      "execution_count": null,
      "metadata": {
        "id": "_CmH96yTElt-",
        "outputId": "84f6d6e3-f5b9-4bba-ac8b-6672ae1122ec"
      },
      "outputs": [
        {
          "name": "stderr",
          "output_type": "stream",
          "text": [
            "Epoch 1: 100%|██████████████████████████████| 1199/1199 [00:16<00:00, 72.37it/s]\n"
          ]
        },
        {
          "name": "stdout",
          "output_type": "stream",
          "text": [
            "[Epoch 1] Loss: 242204.7295\n"
          ]
        },
        {
          "name": "stderr",
          "output_type": "stream",
          "text": [
            "Epoch 2: 100%|██████████████████████████████| 1199/1199 [00:16<00:00, 72.71it/s]\n"
          ]
        },
        {
          "name": "stdout",
          "output_type": "stream",
          "text": [
            "[Epoch 2] Loss: 130008.4877\n"
          ]
        },
        {
          "name": "stderr",
          "output_type": "stream",
          "text": [
            "Epoch 3: 100%|██████████████████████████████| 1199/1199 [00:16<00:00, 73.47it/s]\n"
          ]
        },
        {
          "name": "stdout",
          "output_type": "stream",
          "text": [
            "[Epoch 3] Loss: 105917.1621\n"
          ]
        },
        {
          "name": "stderr",
          "output_type": "stream",
          "text": [
            "Epoch 4: 100%|██████████████████████████████| 1199/1199 [00:16<00:00, 72.35it/s]\n"
          ]
        },
        {
          "name": "stdout",
          "output_type": "stream",
          "text": [
            "[Epoch 4] Loss: 92329.1129\n"
          ]
        },
        {
          "name": "stderr",
          "output_type": "stream",
          "text": [
            "Epoch 5: 100%|██████████████████████████████| 1199/1199 [00:16<00:00, 71.86it/s]\n"
          ]
        },
        {
          "name": "stdout",
          "output_type": "stream",
          "text": [
            "[Epoch 5] Loss: 82487.0844\n"
          ]
        },
        {
          "name": "stderr",
          "output_type": "stream",
          "text": [
            "Epoch 6: 100%|██████████████████████████████| 1199/1199 [00:16<00:00, 71.41it/s]\n"
          ]
        },
        {
          "name": "stdout",
          "output_type": "stream",
          "text": [
            "[Epoch 6] Loss: 74708.8079\n"
          ]
        },
        {
          "name": "stderr",
          "output_type": "stream",
          "text": [
            "Epoch 7: 100%|██████████████████████████████| 1199/1199 [00:16<00:00, 72.65it/s]\n"
          ]
        },
        {
          "name": "stdout",
          "output_type": "stream",
          "text": [
            "[Epoch 7] Loss: 68501.8716\n"
          ]
        },
        {
          "name": "stderr",
          "output_type": "stream",
          "text": [
            "Epoch 8: 100%|██████████████████████████████| 1199/1199 [00:16<00:00, 71.99it/s]\n"
          ]
        },
        {
          "name": "stdout",
          "output_type": "stream",
          "text": [
            "[Epoch 8] Loss: 62874.1653\n"
          ]
        },
        {
          "name": "stderr",
          "output_type": "stream",
          "text": [
            "Epoch 9: 100%|██████████████████████████████| 1199/1199 [00:16<00:00, 71.28it/s]\n"
          ]
        },
        {
          "name": "stdout",
          "output_type": "stream",
          "text": [
            "[Epoch 9] Loss: 57496.0037\n"
          ]
        },
        {
          "name": "stderr",
          "output_type": "stream",
          "text": [
            "Epoch 10: 100%|█████████████████████████████| 1199/1199 [00:16<00:00, 72.05it/s]\n"
          ]
        },
        {
          "name": "stdout",
          "output_type": "stream",
          "text": [
            "[Epoch 10] Loss: 52903.2207\n",
            "              precision    recall  f1-score   support\n",
            "\n",
            "       B-art      0.000     0.000     0.000        86\n",
            "       B-eve      0.476     0.169     0.250        59\n",
            "       B-geo      0.814     0.858     0.836      7664\n",
            "       B-gpe      0.891     0.830     0.859      3174\n",
            "       B-nat      0.545     0.120     0.197        50\n",
            "       B-org      0.695     0.632     0.662      3913\n",
            "       B-per      0.791     0.749     0.770      3389\n",
            "       B-tim      0.895     0.878     0.886      4046\n",
            "       I-art      0.000     0.000     0.000        58\n",
            "       I-eve      0.200     0.040     0.067        50\n",
            "       I-geo      0.748     0.747     0.747      1450\n",
            "       I-gpe      0.714     0.513     0.597        39\n",
            "       I-nat      0.000     0.000     0.000        12\n",
            "       I-org      0.720     0.751     0.735      3315\n",
            "       I-per      0.846     0.830     0.838      3445\n",
            "       I-tim      0.766     0.778     0.772      1300\n",
            "           O      0.987     0.991     0.989    176773\n",
            "\n",
            "    accuracy                          0.959    208823\n",
            "   macro avg      0.593     0.523     0.541    208823\n",
            "weighted avg      0.958     0.959     0.959    208823\n",
            "\n"
          ]
        }
      ],
      "source": [
        "import torch\n",
        "from torch.utils.data import Dataset, DataLoader\n",
        "from sklearn.metrics import classification_report\n",
        "from tqdm import tqdm\n",
        "import numpy as np\n",
        "\n",
        "# === Гиперпараметры ===\n",
        "MAX_LEN = 50\n",
        "BATCH_SIZE = 32\n",
        "EPOCHS = 10\n",
        "device = torch.device(\"cuda\" if torch.cuda.is_available() else \"cpu\")\n",
        "\n",
        "# === Dataset ===\n",
        "class NERDataset(Dataset):\n",
        "    def __init__(self, X, y):\n",
        "        self.X = torch.tensor(X, dtype=torch.long)\n",
        "        self.y = torch.tensor(y, dtype=torch.long)\n",
        "\n",
        "    def __len__(self):\n",
        "        return len(self.X)\n",
        "\n",
        "    def __getitem__(self, idx):\n",
        "        return self.X[idx], self.y[idx]\n",
        "\n",
        "train_dataset = NERDataset(X_train, y_train)\n",
        "test_dataset = NERDataset(X_test, y_test)\n",
        "\n",
        "train_loader = DataLoader(train_dataset, batch_size=BATCH_SIZE, shuffle=True)\n",
        "test_loader = DataLoader(test_dataset, batch_size=BATCH_SIZE)\n",
        "\n",
        "# === Инициализация модели ===\n",
        "model = BiLSTM_CRF(vocab_size=len(word2idx),\n",
        "                   tagset_size=len(tag2idx),\n",
        "                   embedding_dim=100,\n",
        "                   hidden_dim=256,\n",
        "                   embeddings=glove_embeddings)\n",
        "\n",
        "\n",
        "model.to(device)\n",
        "\n",
        "optimizer = torch.optim.Adam(model.parameters(), lr=0.001)\n",
        "\n",
        "# === Обучение ===\n",
        "for epoch in range(EPOCHS):\n",
        "    model.train()\n",
        "    total_loss = 0\n",
        "    for batch_x, batch_y in tqdm(train_loader, desc=f\"Epoch {epoch+1}\"):\n",
        "        batch_x, batch_y = batch_x.to(device), batch_y.to(device)\n",
        "        mask = batch_x != 0\n",
        "        loss = model.loss(batch_x, batch_y, mask)\n",
        "        optimizer.zero_grad()\n",
        "        loss.backward()\n",
        "        optimizer.step()\n",
        "        total_loss += loss.item()\n",
        "    print(f\"[Epoch {epoch+1}] Loss: {total_loss:.4f}\")\n",
        "\n",
        "# === Оценка ===\n",
        "model.eval()\n",
        "all_preds, all_labels = [], []\n",
        "\n",
        "with torch.no_grad():\n",
        "    for batch_x, batch_y in test_loader:\n",
        "        batch_x, batch_y = batch_x.to(device), batch_y.to(device)\n",
        "        mask = batch_x != 0\n",
        "        preds = model.predict(batch_x, mask)\n",
        "        for p_seq, t_seq, m in zip(preds, batch_y.tolist(), mask.tolist()):\n",
        "            valid_len = sum(m)\n",
        "            all_preds.extend([idx2tag[i] for i in p_seq[:valid_len]])\n",
        "            all_labels.extend([idx2tag[i] for i in t_seq[:valid_len]])\n",
        "\n",
        "# === Метрики ===\n",
        "from sklearn.metrics import classification_report\n",
        "report = classification_report(all_labels, all_preds, digits=3)\n",
        "print(report)"
      ]
    },
    {
      "cell_type": "markdown",
      "metadata": {
        "id": "vWs8200ZElt_"
      },
      "source": [
        "#### с заморозокой эмбедингов, и дообучением под задачу"
      ]
    },
    {
      "cell_type": "code",
      "execution_count": null,
      "metadata": {
        "id": "eqOoyBYTElt_"
      },
      "outputs": [],
      "source": [
        "import torch.nn as nn\n",
        "\n",
        "from torchcrf import CRF\n",
        "class BiLSTM_CRF(nn.Module):\n",
        "    def __init__(self, vocab_size, tagset_size, embedding_dim, hidden_dim, embeddings=None):\n",
        "        super().__init__()\n",
        "        self.embedding = nn.Embedding(vocab_size, embedding_dim, padding_idx=0)\n",
        "        if embeddings is not None:\n",
        "            self.embedding.weight.data.copy_(embeddings)\n",
        "            self.embedding.weight.requires_grad = True  # фиксировать веса # изменено на True\n",
        "        self.lstm = nn.LSTM(embedding_dim, hidden_dim // 2, num_layers=1,\n",
        "                            bidirectional=True, batch_first=True)\n",
        "        self.hidden2tag = nn.Linear(hidden_dim, tagset_size)\n",
        "        self.crf = CRF(tagset_size, batch_first=True)\n",
        "\n",
        "    def forward(self, x, mask):\n",
        "        embeds = self.embedding(x)\n",
        "        lstm_out, _ = self.lstm(embeds)\n",
        "        emissions = self.hidden2tag(lstm_out)\n",
        "        return emissions\n",
        "\n",
        "    def loss(self, x, tags, mask):\n",
        "        emissions = self.forward(x, mask)\n",
        "        return -self.crf(emissions, tags, mask=mask)\n",
        "\n",
        "    def predict(self, x, mask):\n",
        "        emissions = self.forward(x, mask)\n",
        "        return self.crf.decode(emissions, mask=mask)"
      ]
    },
    {
      "cell_type": "code",
      "execution_count": null,
      "metadata": {
        "id": "pYKOZ9sTElt_",
        "outputId": "f3b56e61-5b00-4562-b927-6a705518ef79"
      },
      "outputs": [
        {
          "name": "stderr",
          "output_type": "stream",
          "text": [
            "Epoch 1: 100%|██████████████████████████████| 1199/1199 [00:17<00:00, 70.23it/s]\n"
          ]
        },
        {
          "name": "stdout",
          "output_type": "stream",
          "text": [
            "[Epoch 1] Loss: 170969.5785\n"
          ]
        },
        {
          "name": "stderr",
          "output_type": "stream",
          "text": [
            "Epoch 2: 100%|██████████████████████████████| 1199/1199 [00:17<00:00, 70.25it/s]\n"
          ]
        },
        {
          "name": "stdout",
          "output_type": "stream",
          "text": [
            "[Epoch 2] Loss: 62802.1962\n"
          ]
        },
        {
          "name": "stderr",
          "output_type": "stream",
          "text": [
            "Epoch 3: 100%|██████████████████████████████| 1199/1199 [00:16<00:00, 71.07it/s]\n"
          ]
        },
        {
          "name": "stdout",
          "output_type": "stream",
          "text": [
            "[Epoch 3] Loss: 45605.0746\n"
          ]
        },
        {
          "name": "stderr",
          "output_type": "stream",
          "text": [
            "Epoch 4: 100%|██████████████████████████████| 1199/1199 [00:17<00:00, 70.34it/s]\n"
          ]
        },
        {
          "name": "stdout",
          "output_type": "stream",
          "text": [
            "[Epoch 4] Loss: 36281.2971\n"
          ]
        },
        {
          "name": "stderr",
          "output_type": "stream",
          "text": [
            "Epoch 5: 100%|██████████████████████████████| 1199/1199 [00:16<00:00, 70.74it/s]\n"
          ]
        },
        {
          "name": "stdout",
          "output_type": "stream",
          "text": [
            "[Epoch 5] Loss: 29804.3123\n",
            "              precision    recall  f1-score   support\n",
            "\n",
            "       B-art      0.167     0.128     0.145        86\n",
            "       B-eve      0.349     0.254     0.294        59\n",
            "       B-geo      0.859     0.901     0.879      7664\n",
            "       B-gpe      0.944     0.938     0.941      3174\n",
            "       B-nat      0.611     0.220     0.324        50\n",
            "       B-org      0.769     0.745     0.757      3913\n",
            "       B-per      0.867     0.811     0.838      3389\n",
            "       B-tim      0.915     0.887     0.900      4046\n",
            "       I-art      0.041     0.052     0.045        58\n",
            "       I-eve      0.220     0.180     0.198        50\n",
            "       I-geo      0.821     0.795     0.808      1450\n",
            "       I-gpe      0.833     0.641     0.725        39\n",
            "       I-nat      0.333     0.083     0.133        12\n",
            "       I-org      0.820     0.791     0.805      3315\n",
            "       I-per      0.857     0.900     0.878      3445\n",
            "       I-tim      0.832     0.745     0.786      1300\n",
            "           O      0.991     0.993     0.992    176773\n",
            "\n",
            "    accuracy                          0.970    208823\n",
            "   macro avg      0.660     0.592     0.615    208823\n",
            "weighted avg      0.969     0.970     0.970    208823\n",
            "\n"
          ]
        }
      ],
      "source": [
        "import torch\n",
        "from torch.utils.data import Dataset, DataLoader\n",
        "from sklearn.metrics import classification_report\n",
        "from tqdm import tqdm\n",
        "import numpy as np\n",
        "\n",
        "# === Гиперпараметры ===\n",
        "MAX_LEN = 50\n",
        "BATCH_SIZE = 32\n",
        "EPOCHS = 5\n",
        "device = torch.device(\"cuda\" if torch.cuda.is_available() else \"cpu\")\n",
        "\n",
        "# === Dataset ===\n",
        "class NERDataset(Dataset):\n",
        "    def __init__(self, X, y):\n",
        "        self.X = torch.tensor(X, dtype=torch.long)\n",
        "        self.y = torch.tensor(y, dtype=torch.long)\n",
        "\n",
        "    def __len__(self):\n",
        "        return len(self.X)\n",
        "\n",
        "    def __getitem__(self, idx):\n",
        "        return self.X[idx], self.y[idx]\n",
        "\n",
        "train_dataset = NERDataset(X_train, y_train)\n",
        "test_dataset = NERDataset(X_test, y_test)\n",
        "\n",
        "train_loader = DataLoader(train_dataset, batch_size=BATCH_SIZE, shuffle=True)\n",
        "test_loader = DataLoader(test_dataset, batch_size=BATCH_SIZE)\n",
        "\n",
        "# === Инициализация модели ===\n",
        "model = BiLSTM_CRF(vocab_size=len(word2idx),\n",
        "                   tagset_size=len(tag2idx),\n",
        "                   embedding_dim=100,\n",
        "                   hidden_dim=256,\n",
        "                   embeddings=glove_embeddings)\n",
        "\n",
        "\n",
        "model.to(device)\n",
        "\n",
        "optimizer = torch.optim.Adam(model.parameters(), lr=0.001)\n",
        "\n",
        "# === Обучение ===\n",
        "for epoch in range(EPOCHS):\n",
        "    model.train()\n",
        "    total_loss = 0\n",
        "    for batch_x, batch_y in tqdm(train_loader, desc=f\"Epoch {epoch+1}\"):\n",
        "        batch_x, batch_y = batch_x.to(device), batch_y.to(device)\n",
        "        mask = batch_x != 0\n",
        "        loss = model.loss(batch_x, batch_y, mask)\n",
        "        optimizer.zero_grad()\n",
        "        loss.backward()\n",
        "        optimizer.step()\n",
        "        total_loss += loss.item()\n",
        "    print(f\"[Epoch {epoch+1}] Loss: {total_loss:.4f}\")\n",
        "\n",
        "# === Оценка ===\n",
        "model.eval()\n",
        "all_preds, all_labels = [], []\n",
        "\n",
        "with torch.no_grad():\n",
        "    for batch_x, batch_y in test_loader:\n",
        "        batch_x, batch_y = batch_x.to(device), batch_y.to(device)\n",
        "        mask = batch_x != 0\n",
        "        preds = model.predict(batch_x, mask)\n",
        "        for p_seq, t_seq, m in zip(preds, batch_y.tolist(), mask.tolist()):\n",
        "            valid_len = sum(m)\n",
        "            all_preds.extend([idx2tag[i] for i in p_seq[:valid_len]])\n",
        "            all_labels.extend([idx2tag[i] for i in t_seq[:valid_len]])\n",
        "\n",
        "# === Метрики ===\n",
        "from sklearn.metrics import classification_report\n",
        "report = classification_report(all_labels, all_preds, digits=3)\n",
        "print(report)"
      ]
    },
    {
      "cell_type": "code",
      "execution_count": null,
      "metadata": {
        "id": "mJRgOEQnElt_",
        "outputId": "28a501dc-cc0c-4cb3-d72a-627349a51d6e"
      },
      "outputs": [
        {
          "name": "stderr",
          "output_type": "stream",
          "text": [
            "Epoch 1: 100%|██████████████████████████████| 1199/1199 [00:16<00:00, 70.86it/s]\n"
          ]
        },
        {
          "name": "stdout",
          "output_type": "stream",
          "text": [
            "[Epoch 1] Loss: 173400.3551\n"
          ]
        },
        {
          "name": "stderr",
          "output_type": "stream",
          "text": [
            "Epoch 2: 100%|██████████████████████████████| 1199/1199 [00:16<00:00, 70.60it/s]\n"
          ]
        },
        {
          "name": "stdout",
          "output_type": "stream",
          "text": [
            "[Epoch 2] Loss: 62475.7163\n"
          ]
        },
        {
          "name": "stderr",
          "output_type": "stream",
          "text": [
            "Epoch 3: 100%|██████████████████████████████| 1199/1199 [00:16<00:00, 70.82it/s]\n"
          ]
        },
        {
          "name": "stdout",
          "output_type": "stream",
          "text": [
            "[Epoch 3] Loss: 45267.3695\n"
          ]
        },
        {
          "name": "stderr",
          "output_type": "stream",
          "text": [
            "Epoch 4: 100%|██████████████████████████████| 1199/1199 [00:16<00:00, 70.77it/s]\n"
          ]
        },
        {
          "name": "stdout",
          "output_type": "stream",
          "text": [
            "[Epoch 4] Loss: 36105.1106\n"
          ]
        },
        {
          "name": "stderr",
          "output_type": "stream",
          "text": [
            "Epoch 5: 100%|██████████████████████████████| 1199/1199 [00:17<00:00, 69.29it/s]\n"
          ]
        },
        {
          "name": "stdout",
          "output_type": "stream",
          "text": [
            "[Epoch 5] Loss: 30006.6600\n"
          ]
        },
        {
          "name": "stderr",
          "output_type": "stream",
          "text": [
            "Epoch 6: 100%|██████████████████████████████| 1199/1199 [00:17<00:00, 70.33it/s]\n"
          ]
        },
        {
          "name": "stdout",
          "output_type": "stream",
          "text": [
            "[Epoch 6] Loss: 24655.8824\n"
          ]
        },
        {
          "name": "stderr",
          "output_type": "stream",
          "text": [
            "Epoch 7: 100%|██████████████████████████████| 1199/1199 [00:16<00:00, 70.96it/s]\n"
          ]
        },
        {
          "name": "stdout",
          "output_type": "stream",
          "text": [
            "[Epoch 7] Loss: 20134.6489\n"
          ]
        },
        {
          "name": "stderr",
          "output_type": "stream",
          "text": [
            "Epoch 8: 100%|██████████████████████████████| 1199/1199 [00:16<00:00, 70.67it/s]\n"
          ]
        },
        {
          "name": "stdout",
          "output_type": "stream",
          "text": [
            "[Epoch 8] Loss: 16188.4386\n"
          ]
        },
        {
          "name": "stderr",
          "output_type": "stream",
          "text": [
            "Epoch 9: 100%|██████████████████████████████| 1199/1199 [00:16<00:00, 70.80it/s]\n"
          ]
        },
        {
          "name": "stdout",
          "output_type": "stream",
          "text": [
            "[Epoch 9] Loss: 12757.1005\n"
          ]
        },
        {
          "name": "stderr",
          "output_type": "stream",
          "text": [
            "Epoch 10: 100%|█████████████████████████████| 1199/1199 [00:16<00:00, 71.81it/s]\n"
          ]
        },
        {
          "name": "stdout",
          "output_type": "stream",
          "text": [
            "[Epoch 10] Loss: 10041.4951\n",
            "              precision    recall  f1-score   support\n",
            "\n",
            "       B-art      0.273     0.140     0.185        86\n",
            "       B-eve      0.362     0.288     0.321        59\n",
            "       B-geo      0.875     0.852     0.863      7664\n",
            "       B-gpe      0.937     0.925     0.931      3174\n",
            "       B-nat      0.455     0.300     0.361        50\n",
            "       B-org      0.726     0.735     0.731      3913\n",
            "       B-per      0.831     0.799     0.815      3389\n",
            "       B-tim      0.887     0.884     0.886      4046\n",
            "       I-art      0.143     0.052     0.076        58\n",
            "       I-eve      0.280     0.140     0.187        50\n",
            "       I-geo      0.797     0.778     0.787      1450\n",
            "       I-gpe      0.781     0.641     0.704        39\n",
            "       I-nat      0.167     0.083     0.111        12\n",
            "       I-org      0.762     0.803     0.782      3315\n",
            "       I-per      0.888     0.837     0.862      3445\n",
            "       I-tim      0.750     0.795     0.772      1300\n",
            "           O      0.989     0.992     0.991    176773\n",
            "\n",
            "    accuracy                          0.966    208823\n",
            "   macro avg      0.641     0.591     0.610    208823\n",
            "weighted avg      0.966     0.966     0.966    208823\n",
            "\n"
          ]
        }
      ],
      "source": [
        "import torch\n",
        "from torch.utils.data import Dataset, DataLoader\n",
        "from sklearn.metrics import classification_report\n",
        "from tqdm import tqdm\n",
        "import numpy as np\n",
        "\n",
        "# === Гиперпараметры ===\n",
        "MAX_LEN = 50\n",
        "BATCH_SIZE = 32\n",
        "EPOCHS = 10\n",
        "device = torch.device(\"cuda\" if torch.cuda.is_available() else \"cpu\")\n",
        "\n",
        "# === Dataset ===\n",
        "class NERDataset(Dataset):\n",
        "    def __init__(self, X, y):\n",
        "        self.X = torch.tensor(X, dtype=torch.long)\n",
        "        self.y = torch.tensor(y, dtype=torch.long)\n",
        "\n",
        "    def __len__(self):\n",
        "        return len(self.X)\n",
        "\n",
        "    def __getitem__(self, idx):\n",
        "        return self.X[idx], self.y[idx]\n",
        "\n",
        "train_dataset = NERDataset(X_train, y_train)\n",
        "test_dataset = NERDataset(X_test, y_test)\n",
        "\n",
        "train_loader = DataLoader(train_dataset, batch_size=BATCH_SIZE, shuffle=True)\n",
        "test_loader = DataLoader(test_dataset, batch_size=BATCH_SIZE)\n",
        "\n",
        "# === Инициализация модели ===\n",
        "model = BiLSTM_CRF(vocab_size=len(word2idx),\n",
        "                   tagset_size=len(tag2idx),\n",
        "                   embedding_dim=100,\n",
        "                   hidden_dim=256,\n",
        "                   embeddings=glove_embeddings)\n",
        "\n",
        "\n",
        "model.to(device)\n",
        "\n",
        "optimizer = torch.optim.Adam(model.parameters(), lr=0.001)\n",
        "\n",
        "# === Обучение ===\n",
        "for epoch in range(EPOCHS):\n",
        "    model.train()\n",
        "    total_loss = 0\n",
        "    for batch_x, batch_y in tqdm(train_loader, desc=f\"Epoch {epoch+1}\"):\n",
        "        batch_x, batch_y = batch_x.to(device), batch_y.to(device)\n",
        "        mask = batch_x != 0\n",
        "        loss = model.loss(batch_x, batch_y, mask)\n",
        "        optimizer.zero_grad()\n",
        "        loss.backward()\n",
        "        optimizer.step()\n",
        "        total_loss += loss.item()\n",
        "    print(f\"[Epoch {epoch+1}] Loss: {total_loss:.4f}\")\n",
        "\n",
        "# === Оценка ===\n",
        "model.eval()\n",
        "all_preds, all_labels = [], []\n",
        "\n",
        "with torch.no_grad():\n",
        "    for batch_x, batch_y in test_loader:\n",
        "        batch_x, batch_y = batch_x.to(device), batch_y.to(device)\n",
        "        mask = batch_x != 0\n",
        "        preds = model.predict(batch_x, mask)\n",
        "        for p_seq, t_seq, m in zip(preds, batch_y.tolist(), mask.tolist()):\n",
        "            valid_len = sum(m)\n",
        "            all_preds.extend([idx2tag[i] for i in p_seq[:valid_len]])\n",
        "            all_labels.extend([idx2tag[i] for i in t_seq[:valid_len]])\n",
        "\n",
        "# === Метрики ===\n",
        "from sklearn.metrics import classification_report\n",
        "report = classification_report(all_labels, all_preds, digits=3)\n",
        "print(report)"
      ]
    },
    {
      "cell_type": "markdown",
      "metadata": {
        "id": "uW5IyZf0EluE"
      },
      "source": [
        "#### BILSTM + OVERSAMPLING+DROPOUT + fasttext"
      ]
    },
    {
      "cell_type": "code",
      "execution_count": null,
      "metadata": {
        "id": "cq2Ze4bgEluE",
        "outputId": "a5978029-18df-4109-b751-11cbd5e6c8c0"
      },
      "outputs": [
        {
          "name": "stdout",
          "output_type": "stream",
          "text": [
            "Downloading https://dl.fbaipublicfiles.com/fasttext/vectors-crawl/cc.en.300.bin.gz\n",
            " (0.54%) [>                                                  ]"
          ]
        },
        {
          "name": "stderr",
          "output_type": "stream",
          "text": [
            "IOPub message rate exceeded.\n",
            "The Jupyter server will temporarily stop sending output\n",
            "to the client in order to avoid crashing it.\n",
            "To change this limit, set the config variable\n",
            "`--ServerApp.iopub_msg_rate_limit`.\n",
            "\n",
            "Current values:\n",
            "ServerApp.iopub_msg_rate_limit=1000.0 (msgs/sec)\n",
            "ServerApp.rate_limit_window=3.0 (secs)\n",
            "\n"
          ]
        },
        {
          "name": "stdout",
          "output_type": "stream",
          "text": [
            " (3.05%) [=>                                                 ]"
          ]
        },
        {
          "name": "stderr",
          "output_type": "stream",
          "text": [
            "IOPub message rate exceeded.\n",
            "The Jupyter server will temporarily stop sending output\n",
            "to the client in order to avoid crashing it.\n",
            "To change this limit, set the config variable\n",
            "`--ServerApp.iopub_msg_rate_limit`.\n",
            "\n",
            "Current values:\n",
            "ServerApp.iopub_msg_rate_limit=1000.0 (msgs/sec)\n",
            "ServerApp.rate_limit_window=3.0 (secs)\n",
            "\n"
          ]
        },
        {
          "name": "stdout",
          "output_type": "stream",
          "text": [
            " (5.75%) [==>                                                ]"
          ]
        },
        {
          "name": "stderr",
          "output_type": "stream",
          "text": [
            "IOPub message rate exceeded.\n",
            "The Jupyter server will temporarily stop sending output\n",
            "to the client in order to avoid crashing it.\n",
            "To change this limit, set the config variable\n",
            "`--ServerApp.iopub_msg_rate_limit`.\n",
            "\n",
            "Current values:\n",
            "ServerApp.iopub_msg_rate_limit=1000.0 (msgs/sec)\n",
            "ServerApp.rate_limit_window=3.0 (secs)\n",
            "\n"
          ]
        },
        {
          "name": "stdout",
          "output_type": "stream",
          "text": [
            " (8.43%) [====>                                              ]"
          ]
        },
        {
          "name": "stderr",
          "output_type": "stream",
          "text": [
            "IOPub message rate exceeded.\n",
            "The Jupyter server will temporarily stop sending output\n",
            "to the client in order to avoid crashing it.\n",
            "To change this limit, set the config variable\n",
            "`--ServerApp.iopub_msg_rate_limit`.\n",
            "\n",
            "Current values:\n",
            "ServerApp.iopub_msg_rate_limit=1000.0 (msgs/sec)\n",
            "ServerApp.rate_limit_window=3.0 (secs)\n",
            "\n"
          ]
        },
        {
          "name": "stdout",
          "output_type": "stream",
          "text": [
            " (10.99%) [=====>                                             ]"
          ]
        },
        {
          "name": "stderr",
          "output_type": "stream",
          "text": [
            "IOPub message rate exceeded.\n",
            "The Jupyter server will temporarily stop sending output\n",
            "to the client in order to avoid crashing it.\n",
            "To change this limit, set the config variable\n",
            "`--ServerApp.iopub_msg_rate_limit`.\n",
            "\n",
            "Current values:\n",
            "ServerApp.iopub_msg_rate_limit=1000.0 (msgs/sec)\n",
            "ServerApp.rate_limit_window=3.0 (secs)\n",
            "\n"
          ]
        },
        {
          "name": "stdout",
          "output_type": "stream",
          "text": [
            " (13.43%) [======>                                            ]"
          ]
        },
        {
          "name": "stderr",
          "output_type": "stream",
          "text": [
            "IOPub message rate exceeded.\n",
            "The Jupyter server will temporarily stop sending output\n",
            "to the client in order to avoid crashing it.\n",
            "To change this limit, set the config variable\n",
            "`--ServerApp.iopub_msg_rate_limit`.\n",
            "\n",
            "Current values:\n",
            "ServerApp.iopub_msg_rate_limit=1000.0 (msgs/sec)\n",
            "ServerApp.rate_limit_window=3.0 (secs)\n",
            "\n"
          ]
        },
        {
          "name": "stdout",
          "output_type": "stream",
          "text": [
            " (15.77%) [=======>                                           ]"
          ]
        },
        {
          "name": "stderr",
          "output_type": "stream",
          "text": [
            "IOPub message rate exceeded.\n",
            "The Jupyter server will temporarily stop sending output\n",
            "to the client in order to avoid crashing it.\n",
            "To change this limit, set the config variable\n",
            "`--ServerApp.iopub_msg_rate_limit`.\n",
            "\n",
            "Current values:\n",
            "ServerApp.iopub_msg_rate_limit=1000.0 (msgs/sec)\n",
            "ServerApp.rate_limit_window=3.0 (secs)\n",
            "\n"
          ]
        },
        {
          "name": "stdout",
          "output_type": "stream",
          "text": [
            " (16.04%) [========>                                          ]"
          ]
        },
        {
          "name": "stderr",
          "output_type": "stream",
          "text": [
            "IOPub message rate exceeded.\n",
            "The Jupyter server will temporarily stop sending output\n",
            "to the client in order to avoid crashing it.\n",
            "To change this limit, set the config variable\n",
            "`--ServerApp.iopub_msg_rate_limit`.\n",
            "\n",
            "Current values:\n",
            "ServerApp.iopub_msg_rate_limit=1000.0 (msgs/sec)\n",
            "ServerApp.rate_limit_window=3.0 (secs)\n",
            "\n"
          ]
        },
        {
          "name": "stdout",
          "output_type": "stream",
          "text": [
            " (19.15%) [=========>                                         ]"
          ]
        },
        {
          "name": "stderr",
          "output_type": "stream",
          "text": [
            "IOPub message rate exceeded.\n",
            "The Jupyter server will temporarily stop sending output\n",
            "to the client in order to avoid crashing it.\n",
            "To change this limit, set the config variable\n",
            "`--ServerApp.iopub_msg_rate_limit`.\n",
            "\n",
            "Current values:\n",
            "ServerApp.iopub_msg_rate_limit=1000.0 (msgs/sec)\n",
            "ServerApp.rate_limit_window=3.0 (secs)\n",
            "\n"
          ]
        },
        {
          "name": "stdout",
          "output_type": "stream",
          "text": [
            " (21.32%) [==========>                                        ]"
          ]
        },
        {
          "name": "stderr",
          "output_type": "stream",
          "text": [
            "IOPub message rate exceeded.\n",
            "The Jupyter server will temporarily stop sending output\n",
            "to the client in order to avoid crashing it.\n",
            "To change this limit, set the config variable\n",
            "`--ServerApp.iopub_msg_rate_limit`.\n",
            "\n",
            "Current values:\n",
            "ServerApp.iopub_msg_rate_limit=1000.0 (msgs/sec)\n",
            "ServerApp.rate_limit_window=3.0 (secs)\n",
            "\n"
          ]
        },
        {
          "name": "stdout",
          "output_type": "stream",
          "text": [
            " (21.54%) [==========>                                        ]"
          ]
        },
        {
          "name": "stderr",
          "output_type": "stream",
          "text": [
            "IOPub message rate exceeded.\n",
            "The Jupyter server will temporarily stop sending output\n",
            "to the client in order to avoid crashing it.\n",
            "To change this limit, set the config variable\n",
            "`--ServerApp.iopub_msg_rate_limit`.\n",
            "\n",
            "Current values:\n",
            "ServerApp.iopub_msg_rate_limit=1000.0 (msgs/sec)\n",
            "ServerApp.rate_limit_window=3.0 (secs)\n",
            "\n"
          ]
        },
        {
          "name": "stdout",
          "output_type": "stream",
          "text": [
            " (23.94%) [===========>                                       ]"
          ]
        },
        {
          "name": "stderr",
          "output_type": "stream",
          "text": [
            "IOPub message rate exceeded.\n",
            "The Jupyter server will temporarily stop sending output\n",
            "to the client in order to avoid crashing it.\n",
            "To change this limit, set the config variable\n",
            "`--ServerApp.iopub_msg_rate_limit`.\n",
            "\n",
            "Current values:\n",
            "ServerApp.iopub_msg_rate_limit=1000.0 (msgs/sec)\n",
            "ServerApp.rate_limit_window=3.0 (secs)\n",
            "\n"
          ]
        },
        {
          "name": "stdout",
          "output_type": "stream",
          "text": [
            " (26.67%) [=============>                                     ]"
          ]
        },
        {
          "name": "stderr",
          "output_type": "stream",
          "text": [
            "IOPub message rate exceeded.\n",
            "The Jupyter server will temporarily stop sending output\n",
            "to the client in order to avoid crashing it.\n",
            "To change this limit, set the config variable\n",
            "`--ServerApp.iopub_msg_rate_limit`.\n",
            "\n",
            "Current values:\n",
            "ServerApp.iopub_msg_rate_limit=1000.0 (msgs/sec)\n",
            "ServerApp.rate_limit_window=3.0 (secs)\n",
            "\n"
          ]
        },
        {
          "name": "stdout",
          "output_type": "stream",
          "text": [
            " (29.35%) [==============>                                    ]"
          ]
        },
        {
          "name": "stderr",
          "output_type": "stream",
          "text": [
            "IOPub message rate exceeded.\n",
            "The Jupyter server will temporarily stop sending output\n",
            "to the client in order to avoid crashing it.\n",
            "To change this limit, set the config variable\n",
            "`--ServerApp.iopub_msg_rate_limit`.\n",
            "\n",
            "Current values:\n",
            "ServerApp.iopub_msg_rate_limit=1000.0 (msgs/sec)\n",
            "ServerApp.rate_limit_window=3.0 (secs)\n",
            "\n"
          ]
        },
        {
          "name": "stdout",
          "output_type": "stream",
          "text": [
            " (31.38%) [===============>                                   ]"
          ]
        },
        {
          "name": "stderr",
          "output_type": "stream",
          "text": [
            "IOPub message rate exceeded.\n",
            "The Jupyter server will temporarily stop sending output\n",
            "to the client in order to avoid crashing it.\n",
            "To change this limit, set the config variable\n",
            "`--ServerApp.iopub_msg_rate_limit`.\n",
            "\n",
            "Current values:\n",
            "ServerApp.iopub_msg_rate_limit=1000.0 (msgs/sec)\n",
            "ServerApp.rate_limit_window=3.0 (secs)\n",
            "\n"
          ]
        },
        {
          "name": "stdout",
          "output_type": "stream",
          "text": [
            " (33.55%) [================>                                  ]"
          ]
        },
        {
          "name": "stderr",
          "output_type": "stream",
          "text": [
            "IOPub message rate exceeded.\n",
            "The Jupyter server will temporarily stop sending output\n",
            "to the client in order to avoid crashing it.\n",
            "To change this limit, set the config variable\n",
            "`--ServerApp.iopub_msg_rate_limit`.\n",
            "\n",
            "Current values:\n",
            "ServerApp.iopub_msg_rate_limit=1000.0 (msgs/sec)\n",
            "ServerApp.rate_limit_window=3.0 (secs)\n",
            "\n"
          ]
        },
        {
          "name": "stdout",
          "output_type": "stream",
          "text": [
            " (33.89%) [================>                                  ]"
          ]
        },
        {
          "name": "stderr",
          "output_type": "stream",
          "text": [
            "IOPub message rate exceeded.\n",
            "The Jupyter server will temporarily stop sending output\n",
            "to the client in order to avoid crashing it.\n",
            "To change this limit, set the config variable\n",
            "`--ServerApp.iopub_msg_rate_limit`.\n",
            "\n",
            "Current values:\n",
            "ServerApp.iopub_msg_rate_limit=1000.0 (msgs/sec)\n",
            "ServerApp.rate_limit_window=3.0 (secs)\n",
            "\n"
          ]
        },
        {
          "name": "stdout",
          "output_type": "stream",
          "text": [
            " (36.14%) [==================>                                ]"
          ]
        },
        {
          "name": "stderr",
          "output_type": "stream",
          "text": [
            "IOPub message rate exceeded.\n",
            "The Jupyter server will temporarily stop sending output\n",
            "to the client in order to avoid crashing it.\n",
            "To change this limit, set the config variable\n",
            "`--ServerApp.iopub_msg_rate_limit`.\n",
            "\n",
            "Current values:\n",
            "ServerApp.iopub_msg_rate_limit=1000.0 (msgs/sec)\n",
            "ServerApp.rate_limit_window=3.0 (secs)\n",
            "\n"
          ]
        },
        {
          "name": "stdout",
          "output_type": "stream",
          "text": [
            " (38.27%) [===================>                               ]"
          ]
        },
        {
          "name": "stderr",
          "output_type": "stream",
          "text": [
            "IOPub message rate exceeded.\n",
            "The Jupyter server will temporarily stop sending output\n",
            "to the client in order to avoid crashing it.\n",
            "To change this limit, set the config variable\n",
            "`--ServerApp.iopub_msg_rate_limit`.\n",
            "\n",
            "Current values:\n",
            "ServerApp.iopub_msg_rate_limit=1000.0 (msgs/sec)\n",
            "ServerApp.rate_limit_window=3.0 (secs)\n",
            "\n"
          ]
        },
        {
          "name": "stdout",
          "output_type": "stream",
          "text": [
            " (40.68%) [====================>                              ]"
          ]
        },
        {
          "name": "stderr",
          "output_type": "stream",
          "text": [
            "IOPub message rate exceeded.\n",
            "The Jupyter server will temporarily stop sending output\n",
            "to the client in order to avoid crashing it.\n",
            "To change this limit, set the config variable\n",
            "`--ServerApp.iopub_msg_rate_limit`.\n",
            "\n",
            "Current values:\n",
            "ServerApp.iopub_msg_rate_limit=1000.0 (msgs/sec)\n",
            "ServerApp.rate_limit_window=3.0 (secs)\n",
            "\n"
          ]
        },
        {
          "name": "stdout",
          "output_type": "stream",
          "text": [
            " (42.53%) [=====================>                             ]"
          ]
        },
        {
          "name": "stderr",
          "output_type": "stream",
          "text": [
            "IOPub message rate exceeded.\n",
            "The Jupyter server will temporarily stop sending output\n",
            "to the client in order to avoid crashing it.\n",
            "To change this limit, set the config variable\n",
            "`--ServerApp.iopub_msg_rate_limit`.\n",
            "\n",
            "Current values:\n",
            "ServerApp.iopub_msg_rate_limit=1000.0 (msgs/sec)\n",
            "ServerApp.rate_limit_window=3.0 (secs)\n",
            "\n"
          ]
        },
        {
          "name": "stdout",
          "output_type": "stream",
          "text": [
            " (44.68%) [======================>                            ]"
          ]
        },
        {
          "name": "stderr",
          "output_type": "stream",
          "text": [
            "IOPub message rate exceeded.\n",
            "The Jupyter server will temporarily stop sending output\n",
            "to the client in order to avoid crashing it.\n",
            "To change this limit, set the config variable\n",
            "`--ServerApp.iopub_msg_rate_limit`.\n",
            "\n",
            "Current values:\n",
            "ServerApp.iopub_msg_rate_limit=1000.0 (msgs/sec)\n",
            "ServerApp.rate_limit_window=3.0 (secs)\n",
            "\n"
          ]
        },
        {
          "name": "stdout",
          "output_type": "stream",
          "text": [
            " (44.97%) [======================>                            ]"
          ]
        },
        {
          "name": "stderr",
          "output_type": "stream",
          "text": [
            "IOPub message rate exceeded.\n",
            "The Jupyter server will temporarily stop sending output\n",
            "to the client in order to avoid crashing it.\n",
            "To change this limit, set the config variable\n",
            "`--ServerApp.iopub_msg_rate_limit`.\n",
            "\n",
            "Current values:\n",
            "ServerApp.iopub_msg_rate_limit=1000.0 (msgs/sec)\n",
            "ServerApp.rate_limit_window=3.0 (secs)\n",
            "\n"
          ]
        },
        {
          "name": "stdout",
          "output_type": "stream",
          "text": [
            " (47.46%) [=======================>                           ]"
          ]
        },
        {
          "name": "stderr",
          "output_type": "stream",
          "text": [
            "IOPub message rate exceeded.\n",
            "The Jupyter server will temporarily stop sending output\n",
            "to the client in order to avoid crashing it.\n",
            "To change this limit, set the config variable\n",
            "`--ServerApp.iopub_msg_rate_limit`.\n",
            "\n",
            "Current values:\n",
            "ServerApp.iopub_msg_rate_limit=1000.0 (msgs/sec)\n",
            "ServerApp.rate_limit_window=3.0 (secs)\n",
            "\n"
          ]
        },
        {
          "name": "stdout",
          "output_type": "stream",
          "text": [
            " (49.71%) [========================>                          ]"
          ]
        },
        {
          "name": "stderr",
          "output_type": "stream",
          "text": [
            "IOPub message rate exceeded.\n",
            "The Jupyter server will temporarily stop sending output\n",
            "to the client in order to avoid crashing it.\n",
            "To change this limit, set the config variable\n",
            "`--ServerApp.iopub_msg_rate_limit`.\n",
            "\n",
            "Current values:\n",
            "ServerApp.iopub_msg_rate_limit=1000.0 (msgs/sec)\n",
            "ServerApp.rate_limit_window=3.0 (secs)\n",
            "\n"
          ]
        },
        {
          "name": "stdout",
          "output_type": "stream",
          "text": [
            " (49.97%) [========================>                          ]"
          ]
        },
        {
          "name": "stderr",
          "output_type": "stream",
          "text": [
            "IOPub message rate exceeded.\n",
            "The Jupyter server will temporarily stop sending output\n",
            "to the client in order to avoid crashing it.\n",
            "To change this limit, set the config variable\n",
            "`--ServerApp.iopub_msg_rate_limit`.\n",
            "\n",
            "Current values:\n",
            "ServerApp.iopub_msg_rate_limit=1000.0 (msgs/sec)\n",
            "ServerApp.rate_limit_window=3.0 (secs)\n",
            "\n"
          ]
        },
        {
          "name": "stdout",
          "output_type": "stream",
          "text": [
            " (51.84%) [=========================>                         ]"
          ]
        },
        {
          "name": "stderr",
          "output_type": "stream",
          "text": [
            "IOPub message rate exceeded.\n",
            "The Jupyter server will temporarily stop sending output\n",
            "to the client in order to avoid crashing it.\n",
            "To change this limit, set the config variable\n",
            "`--ServerApp.iopub_msg_rate_limit`.\n",
            "\n",
            "Current values:\n",
            "ServerApp.iopub_msg_rate_limit=1000.0 (msgs/sec)\n",
            "ServerApp.rate_limit_window=3.0 (secs)\n",
            "\n"
          ]
        },
        {
          "name": "stdout",
          "output_type": "stream",
          "text": [
            " (52.13%) [==========================>                        ]"
          ]
        },
        {
          "name": "stderr",
          "output_type": "stream",
          "text": [
            "IOPub message rate exceeded.\n",
            "The Jupyter server will temporarily stop sending output\n",
            "to the client in order to avoid crashing it.\n",
            "To change this limit, set the config variable\n",
            "`--ServerApp.iopub_msg_rate_limit`.\n",
            "\n",
            "Current values:\n",
            "ServerApp.iopub_msg_rate_limit=1000.0 (msgs/sec)\n",
            "ServerApp.rate_limit_window=3.0 (secs)\n",
            "\n"
          ]
        },
        {
          "name": "stdout",
          "output_type": "stream",
          "text": [
            " (54.48%) [===========================>                       ]"
          ]
        },
        {
          "name": "stderr",
          "output_type": "stream",
          "text": [
            "IOPub message rate exceeded.\n",
            "The Jupyter server will temporarily stop sending output\n",
            "to the client in order to avoid crashing it.\n",
            "To change this limit, set the config variable\n",
            "`--ServerApp.iopub_msg_rate_limit`.\n",
            "\n",
            "Current values:\n",
            "ServerApp.iopub_msg_rate_limit=1000.0 (msgs/sec)\n",
            "ServerApp.rate_limit_window=3.0 (secs)\n",
            "\n"
          ]
        },
        {
          "name": "stdout",
          "output_type": "stream",
          "text": [
            " (54.89%) [===========================>                       ]"
          ]
        },
        {
          "name": "stderr",
          "output_type": "stream",
          "text": [
            "IOPub message rate exceeded.\n",
            "The Jupyter server will temporarily stop sending output\n",
            "to the client in order to avoid crashing it.\n",
            "To change this limit, set the config variable\n",
            "`--ServerApp.iopub_msg_rate_limit`.\n",
            "\n",
            "Current values:\n",
            "ServerApp.iopub_msg_rate_limit=1000.0 (msgs/sec)\n",
            "ServerApp.rate_limit_window=3.0 (secs)\n",
            "\n"
          ]
        },
        {
          "name": "stdout",
          "output_type": "stream",
          "text": [
            " (57.43%) [============================>                      ]"
          ]
        },
        {
          "name": "stderr",
          "output_type": "stream",
          "text": [
            "IOPub message rate exceeded.\n",
            "The Jupyter server will temporarily stop sending output\n",
            "to the client in order to avoid crashing it.\n",
            "To change this limit, set the config variable\n",
            "`--ServerApp.iopub_msg_rate_limit`.\n",
            "\n",
            "Current values:\n",
            "ServerApp.iopub_msg_rate_limit=1000.0 (msgs/sec)\n",
            "ServerApp.rate_limit_window=3.0 (secs)\n",
            "\n"
          ]
        },
        {
          "name": "stdout",
          "output_type": "stream",
          "text": [
            " (57.76%) [============================>                      ]"
          ]
        },
        {
          "name": "stderr",
          "output_type": "stream",
          "text": [
            "IOPub message rate exceeded.\n",
            "The Jupyter server will temporarily stop sending output\n",
            "to the client in order to avoid crashing it.\n",
            "To change this limit, set the config variable\n",
            "`--ServerApp.iopub_msg_rate_limit`.\n",
            "\n",
            "Current values:\n",
            "ServerApp.iopub_msg_rate_limit=1000.0 (msgs/sec)\n",
            "ServerApp.rate_limit_window=3.0 (secs)\n",
            "\n"
          ]
        },
        {
          "name": "stdout",
          "output_type": "stream",
          "text": [
            " (60.26%) [==============================>                    ]"
          ]
        },
        {
          "name": "stderr",
          "output_type": "stream",
          "text": [
            "IOPub message rate exceeded.\n",
            "The Jupyter server will temporarily stop sending output\n",
            "to the client in order to avoid crashing it.\n",
            "To change this limit, set the config variable\n",
            "`--ServerApp.iopub_msg_rate_limit`.\n",
            "\n",
            "Current values:\n",
            "ServerApp.iopub_msg_rate_limit=1000.0 (msgs/sec)\n",
            "ServerApp.rate_limit_window=3.0 (secs)\n",
            "\n"
          ]
        },
        {
          "name": "stdout",
          "output_type": "stream",
          "text": [
            " (62.88%) [===============================>                   ]"
          ]
        },
        {
          "name": "stderr",
          "output_type": "stream",
          "text": [
            "IOPub message rate exceeded.\n",
            "The Jupyter server will temporarily stop sending output\n",
            "to the client in order to avoid crashing it.\n",
            "To change this limit, set the config variable\n",
            "`--ServerApp.iopub_msg_rate_limit`.\n",
            "\n",
            "Current values:\n",
            "ServerApp.iopub_msg_rate_limit=1000.0 (msgs/sec)\n",
            "ServerApp.rate_limit_window=3.0 (secs)\n",
            "\n"
          ]
        },
        {
          "name": "stdout",
          "output_type": "stream",
          "text": [
            " (65.72%) [================================>                  ]"
          ]
        },
        {
          "name": "stderr",
          "output_type": "stream",
          "text": [
            "IOPub message rate exceeded.\n",
            "The Jupyter server will temporarily stop sending output\n",
            "to the client in order to avoid crashing it.\n",
            "To change this limit, set the config variable\n",
            "`--ServerApp.iopub_msg_rate_limit`.\n",
            "\n",
            "Current values:\n",
            "ServerApp.iopub_msg_rate_limit=1000.0 (msgs/sec)\n",
            "ServerApp.rate_limit_window=3.0 (secs)\n",
            "\n"
          ]
        },
        {
          "name": "stdout",
          "output_type": "stream",
          "text": [
            " (68.40%) [==================================>                ]"
          ]
        },
        {
          "name": "stderr",
          "output_type": "stream",
          "text": [
            "IOPub message rate exceeded.\n",
            "The Jupyter server will temporarily stop sending output\n",
            "to the client in order to avoid crashing it.\n",
            "To change this limit, set the config variable\n",
            "`--ServerApp.iopub_msg_rate_limit`.\n",
            "\n",
            "Current values:\n",
            "ServerApp.iopub_msg_rate_limit=1000.0 (msgs/sec)\n",
            "ServerApp.rate_limit_window=3.0 (secs)\n",
            "\n"
          ]
        },
        {
          "name": "stdout",
          "output_type": "stream",
          "text": [
            " (70.57%) [===================================>               ]"
          ]
        },
        {
          "name": "stderr",
          "output_type": "stream",
          "text": [
            "IOPub message rate exceeded.\n",
            "The Jupyter server will temporarily stop sending output\n",
            "to the client in order to avoid crashing it.\n",
            "To change this limit, set the config variable\n",
            "`--ServerApp.iopub_msg_rate_limit`.\n",
            "\n",
            "Current values:\n",
            "ServerApp.iopub_msg_rate_limit=1000.0 (msgs/sec)\n",
            "ServerApp.rate_limit_window=3.0 (secs)\n",
            "\n"
          ]
        },
        {
          "name": "stdout",
          "output_type": "stream",
          "text": [
            " (73.02%) [====================================>              ]"
          ]
        },
        {
          "name": "stderr",
          "output_type": "stream",
          "text": [
            "IOPub message rate exceeded.\n",
            "The Jupyter server will temporarily stop sending output\n",
            "to the client in order to avoid crashing it.\n",
            "To change this limit, set the config variable\n",
            "`--ServerApp.iopub_msg_rate_limit`.\n",
            "\n",
            "Current values:\n",
            "ServerApp.iopub_msg_rate_limit=1000.0 (msgs/sec)\n",
            "ServerApp.rate_limit_window=3.0 (secs)\n",
            "\n"
          ]
        },
        {
          "name": "stdout",
          "output_type": "stream",
          "text": [
            " (75.56%) [=====================================>             ]"
          ]
        },
        {
          "name": "stderr",
          "output_type": "stream",
          "text": [
            "IOPub message rate exceeded.\n",
            "The Jupyter server will temporarily stop sending output\n",
            "to the client in order to avoid crashing it.\n",
            "To change this limit, set the config variable\n",
            "`--ServerApp.iopub_msg_rate_limit`.\n",
            "\n",
            "Current values:\n",
            "ServerApp.iopub_msg_rate_limit=1000.0 (msgs/sec)\n",
            "ServerApp.rate_limit_window=3.0 (secs)\n",
            "\n"
          ]
        },
        {
          "name": "stdout",
          "output_type": "stream",
          "text": [
            " (77.92%) [======================================>            ]"
          ]
        },
        {
          "name": "stderr",
          "output_type": "stream",
          "text": [
            "IOPub message rate exceeded.\n",
            "The Jupyter server will temporarily stop sending output\n",
            "to the client in order to avoid crashing it.\n",
            "To change this limit, set the config variable\n",
            "`--ServerApp.iopub_msg_rate_limit`.\n",
            "\n",
            "Current values:\n",
            "ServerApp.iopub_msg_rate_limit=1000.0 (msgs/sec)\n",
            "ServerApp.rate_limit_window=3.0 (secs)\n",
            "\n"
          ]
        },
        {
          "name": "stdout",
          "output_type": "stream",
          "text": [
            " (80.50%) [========================================>          ]"
          ]
        },
        {
          "name": "stderr",
          "output_type": "stream",
          "text": [
            "IOPub message rate exceeded.\n",
            "The Jupyter server will temporarily stop sending output\n",
            "to the client in order to avoid crashing it.\n",
            "To change this limit, set the config variable\n",
            "`--ServerApp.iopub_msg_rate_limit`.\n",
            "\n",
            "Current values:\n",
            "ServerApp.iopub_msg_rate_limit=1000.0 (msgs/sec)\n",
            "ServerApp.rate_limit_window=3.0 (secs)\n",
            "\n"
          ]
        },
        {
          "name": "stdout",
          "output_type": "stream",
          "text": [
            " (82.86%) [=========================================>         ]"
          ]
        },
        {
          "name": "stderr",
          "output_type": "stream",
          "text": [
            "IOPub message rate exceeded.\n",
            "The Jupyter server will temporarily stop sending output\n",
            "to the client in order to avoid crashing it.\n",
            "To change this limit, set the config variable\n",
            "`--ServerApp.iopub_msg_rate_limit`.\n",
            "\n",
            "Current values:\n",
            "ServerApp.iopub_msg_rate_limit=1000.0 (msgs/sec)\n",
            "ServerApp.rate_limit_window=3.0 (secs)\n",
            "\n"
          ]
        },
        {
          "name": "stdout",
          "output_type": "stream",
          "text": [
            " (85.38%) [==========================================>        ]"
          ]
        },
        {
          "name": "stderr",
          "output_type": "stream",
          "text": [
            "IOPub message rate exceeded.\n",
            "The Jupyter server will temporarily stop sending output\n",
            "to the client in order to avoid crashing it.\n",
            "To change this limit, set the config variable\n",
            "`--ServerApp.iopub_msg_rate_limit`.\n",
            "\n",
            "Current values:\n",
            "ServerApp.iopub_msg_rate_limit=1000.0 (msgs/sec)\n",
            "ServerApp.rate_limit_window=3.0 (secs)\n",
            "\n"
          ]
        },
        {
          "name": "stdout",
          "output_type": "stream",
          "text": [
            " (87.69%) [===========================================>       ]"
          ]
        },
        {
          "name": "stderr",
          "output_type": "stream",
          "text": [
            "IOPub message rate exceeded.\n",
            "The Jupyter server will temporarily stop sending output\n",
            "to the client in order to avoid crashing it.\n",
            "To change this limit, set the config variable\n",
            "`--ServerApp.iopub_msg_rate_limit`.\n",
            "\n",
            "Current values:\n",
            "ServerApp.iopub_msg_rate_limit=1000.0 (msgs/sec)\n",
            "ServerApp.rate_limit_window=3.0 (secs)\n",
            "\n"
          ]
        },
        {
          "name": "stdout",
          "output_type": "stream",
          "text": [
            " (88.13%) [============================================>      ]"
          ]
        },
        {
          "name": "stderr",
          "output_type": "stream",
          "text": [
            "IOPub message rate exceeded.\n",
            "The Jupyter server will temporarily stop sending output\n",
            "to the client in order to avoid crashing it.\n",
            "To change this limit, set the config variable\n",
            "`--ServerApp.iopub_msg_rate_limit`.\n",
            "\n",
            "Current values:\n",
            "ServerApp.iopub_msg_rate_limit=1000.0 (msgs/sec)\n",
            "ServerApp.rate_limit_window=3.0 (secs)\n",
            "\n"
          ]
        },
        {
          "name": "stdout",
          "output_type": "stream",
          "text": [
            " (90.21%) [=============================================>     ]"
          ]
        },
        {
          "name": "stderr",
          "output_type": "stream",
          "text": [
            "IOPub message rate exceeded.\n",
            "The Jupyter server will temporarily stop sending output\n",
            "to the client in order to avoid crashing it.\n",
            "To change this limit, set the config variable\n",
            "`--ServerApp.iopub_msg_rate_limit`.\n",
            "\n",
            "Current values:\n",
            "ServerApp.iopub_msg_rate_limit=1000.0 (msgs/sec)\n",
            "ServerApp.rate_limit_window=3.0 (secs)\n",
            "\n"
          ]
        },
        {
          "name": "stdout",
          "output_type": "stream",
          "text": [
            " (90.59%) [=============================================>     ]"
          ]
        },
        {
          "name": "stderr",
          "output_type": "stream",
          "text": [
            "IOPub message rate exceeded.\n",
            "The Jupyter server will temporarily stop sending output\n",
            "to the client in order to avoid crashing it.\n",
            "To change this limit, set the config variable\n",
            "`--ServerApp.iopub_msg_rate_limit`.\n",
            "\n",
            "Current values:\n",
            "ServerApp.iopub_msg_rate_limit=1000.0 (msgs/sec)\n",
            "ServerApp.rate_limit_window=3.0 (secs)\n",
            "\n"
          ]
        },
        {
          "name": "stdout",
          "output_type": "stream",
          "text": [
            " (92.89%) [==============================================>    ]"
          ]
        },
        {
          "name": "stderr",
          "output_type": "stream",
          "text": [
            "IOPub message rate exceeded.\n",
            "The Jupyter server will temporarily stop sending output\n",
            "to the client in order to avoid crashing it.\n",
            "To change this limit, set the config variable\n",
            "`--ServerApp.iopub_msg_rate_limit`.\n",
            "\n",
            "Current values:\n",
            "ServerApp.iopub_msg_rate_limit=1000.0 (msgs/sec)\n",
            "ServerApp.rate_limit_window=3.0 (secs)\n",
            "\n"
          ]
        },
        {
          "name": "stdout",
          "output_type": "stream",
          "text": [
            " (93.30%) [==============================================>    ]"
          ]
        },
        {
          "name": "stderr",
          "output_type": "stream",
          "text": [
            "IOPub message rate exceeded.\n",
            "The Jupyter server will temporarily stop sending output\n",
            "to the client in order to avoid crashing it.\n",
            "To change this limit, set the config variable\n",
            "`--ServerApp.iopub_msg_rate_limit`.\n",
            "\n",
            "Current values:\n",
            "ServerApp.iopub_msg_rate_limit=1000.0 (msgs/sec)\n",
            "ServerApp.rate_limit_window=3.0 (secs)\n",
            "\n"
          ]
        },
        {
          "name": "stdout",
          "output_type": "stream",
          "text": [
            " (95.32%) [===============================================>   ]"
          ]
        },
        {
          "name": "stderr",
          "output_type": "stream",
          "text": [
            "IOPub message rate exceeded.\n",
            "The Jupyter server will temporarily stop sending output\n",
            "to the client in order to avoid crashing it.\n",
            "To change this limit, set the config variable\n",
            "`--ServerApp.iopub_msg_rate_limit`.\n",
            "\n",
            "Current values:\n",
            "ServerApp.iopub_msg_rate_limit=1000.0 (msgs/sec)\n",
            "ServerApp.rate_limit_window=3.0 (secs)\n",
            "\n"
          ]
        },
        {
          "name": "stdout",
          "output_type": "stream",
          "text": [
            " (95.70%) [===============================================>   ]"
          ]
        },
        {
          "name": "stderr",
          "output_type": "stream",
          "text": [
            "IOPub message rate exceeded.\n",
            "The Jupyter server will temporarily stop sending output\n",
            "to the client in order to avoid crashing it.\n",
            "To change this limit, set the config variable\n",
            "`--ServerApp.iopub_msg_rate_limit`.\n",
            "\n",
            "Current values:\n",
            "ServerApp.iopub_msg_rate_limit=1000.0 (msgs/sec)\n",
            "ServerApp.rate_limit_window=3.0 (secs)\n",
            "\n"
          ]
        },
        {
          "name": "stdout",
          "output_type": "stream",
          "text": [
            " (97.92%) [================================================>  ]"
          ]
        },
        {
          "name": "stderr",
          "output_type": "stream",
          "text": [
            "IOPub message rate exceeded.\n",
            "The Jupyter server will temporarily stop sending output\n",
            "to the client in order to avoid crashing it.\n",
            "To change this limit, set the config variable\n",
            "`--ServerApp.iopub_msg_rate_limit`.\n",
            "\n",
            "Current values:\n",
            "ServerApp.iopub_msg_rate_limit=1000.0 (msgs/sec)\n",
            "ServerApp.rate_limit_window=3.0 (secs)\n",
            "\n"
          ]
        },
        {
          "name": "stdout",
          "output_type": "stream",
          "text": [
            " (99.77%) [=================================================> ]"
          ]
        },
        {
          "name": "stderr",
          "output_type": "stream",
          "text": [
            "IOPub message rate exceeded.\n",
            "The Jupyter server will temporarily stop sending output\n",
            "to the client in order to avoid crashing it.\n",
            "To change this limit, set the config variable\n",
            "`--ServerApp.iopub_msg_rate_limit`.\n",
            "\n",
            "Current values:\n",
            "ServerApp.iopub_msg_rate_limit=1000.0 (msgs/sec)\n",
            "ServerApp.rate_limit_window=3.0 (secs)\n",
            "\n"
          ]
        },
        {
          "name": "stdout",
          "output_type": "stream",
          "text": [
            " (100.00%) [==================================================>]\n"
          ]
        },
        {
          "name": "stderr",
          "output_type": "stream",
          "text": [
            "Epoch 1: 100%|██████████████████████████████| 1399/1399 [00:21<00:00, 66.58it/s]\n"
          ]
        },
        {
          "name": "stdout",
          "output_type": "stream",
          "text": [
            "[Epoch 1] Loss: 197302.1712\n"
          ]
        },
        {
          "name": "stderr",
          "output_type": "stream",
          "text": [
            "Epoch 2: 100%|██████████████████████████████| 1399/1399 [00:20<00:00, 67.23it/s]\n"
          ]
        },
        {
          "name": "stdout",
          "output_type": "stream",
          "text": [
            "[Epoch 2] Loss: 64189.2558\n"
          ]
        },
        {
          "name": "stderr",
          "output_type": "stream",
          "text": [
            "Epoch 3: 100%|██████████████████████████████| 1399/1399 [00:20<00:00, 66.80it/s]\n"
          ]
        },
        {
          "name": "stdout",
          "output_type": "stream",
          "text": [
            "[Epoch 3] Loss: 44487.8664\n"
          ]
        },
        {
          "name": "stderr",
          "output_type": "stream",
          "text": [
            "Epoch 4: 100%|██████████████████████████████| 1399/1399 [00:20<00:00, 67.15it/s]\n"
          ]
        },
        {
          "name": "stdout",
          "output_type": "stream",
          "text": [
            "[Epoch 4] Loss: 34264.8339\n"
          ]
        },
        {
          "name": "stderr",
          "output_type": "stream",
          "text": [
            "Epoch 5: 100%|██████████████████████████████| 1399/1399 [00:20<00:00, 67.38it/s]\n"
          ]
        },
        {
          "name": "stdout",
          "output_type": "stream",
          "text": [
            "[Epoch 5] Loss: 27230.7745\n"
          ]
        },
        {
          "name": "stderr",
          "output_type": "stream",
          "text": [
            "Epoch 6: 100%|██████████████████████████████| 1399/1399 [00:20<00:00, 67.26it/s]\n"
          ]
        },
        {
          "name": "stdout",
          "output_type": "stream",
          "text": [
            "[Epoch 6] Loss: 22135.7511\n"
          ]
        },
        {
          "name": "stderr",
          "output_type": "stream",
          "text": [
            "Epoch 7: 100%|██████████████████████████████| 1399/1399 [00:20<00:00, 67.62it/s]\n"
          ]
        },
        {
          "name": "stdout",
          "output_type": "stream",
          "text": [
            "[Epoch 7] Loss: 17745.4061\n",
            "              precision    recall  f1-score   support\n",
            "\n",
            "       B-art      0.928     1.000     0.963       875\n",
            "       B-eve      0.964     0.997     0.980       676\n",
            "       B-geo      0.894     0.887     0.891      8765\n",
            "       B-gpe      0.952     0.944     0.948      3631\n",
            "       B-nat      0.981     0.987     0.984       463\n",
            "       B-org      0.806     0.765     0.785      4698\n",
            "       B-per      0.865     0.860     0.862      3963\n",
            "       B-tim      0.926     0.899     0.912      4812\n",
            "       I-art      0.944     1.000     0.971       674\n",
            "       I-eve      0.973     1.000     0.987       551\n",
            "       I-geo      0.871     0.805     0.837      1755\n",
            "       I-gpe      0.622     0.683     0.651        41\n",
            "       I-nat      0.992     0.976     0.984       126\n",
            "       I-org      0.833     0.815     0.824      3996\n",
            "       I-per      0.877     0.892     0.885      3962\n",
            "       I-tim      0.864     0.809     0.836      1715\n",
            "           O      0.991     0.994     0.993    207553\n",
            "\n",
            "    accuracy                          0.974    248256\n",
            "   macro avg      0.899     0.901     0.900    248256\n",
            "weighted avg      0.974     0.974     0.974    248256\n",
            "\n"
          ]
        }
      ],
      "source": [
        "# === Улучшенный вариант модели BiLSTM-CRF с FastText и oversampling ===\n",
        "import torch\n",
        "import torch.nn as nn\n",
        "from torchcrf import CRF\n",
        "import pandas as pd\n",
        "import numpy as np\n",
        "from sklearn.model_selection import train_test_split\n",
        "from torch.utils.data import Dataset, DataLoader\n",
        "from tqdm import tqdm\n",
        "import fasttext\n",
        "import fasttext.util\n",
        "\n",
        "# === Гиперпараметры ===\n",
        "MAX_LEN = 50\n",
        "EMBEDDING_DIM = 300\n",
        "HIDDEN_DIM = 256\n",
        "BATCH_SIZE = 32\n",
        "EPOCHS = 7\n",
        "device = torch.device(\"cuda\" if torch.cuda.is_available() else \"cpu\")\n",
        "\n",
        "# === Подгрузка датасета и предварительная обработка ===\n",
        "data = pd.read_csv(\"ner_dataset.csv\", encoding=\"latin1\").ffill()\n",
        "\n",
        "sentences = []\n",
        "sentence = []\n",
        "for _, row in data.iterrows():\n",
        "    if row['Sentence #'] != sentence[-1][0] if sentence else None:\n",
        "        if sentence:\n",
        "            sentences.append([x[1:] for x in sentence])\n",
        "        sentence = [(row['Sentence #'], row['Word'], row['Tag'])]\n",
        "    else:\n",
        "        sentence.append((row['Sentence #'], row['Word'], row['Tag']))\n",
        "if sentence:\n",
        "    sentences.append([x[1:] for x in sentence])\n",
        "\n",
        "words = list(set(data[\"Word\"].values))\n",
        "tags = list(set(data[\"Tag\"].values))\n",
        "\n",
        "word2idx = {w: i + 2 for i, w in enumerate(words)}\n",
        "word2idx[\"<PAD>\"] = 0\n",
        "word2idx[\"<UNK>\"] = 1\n",
        "\n",
        "tag2idx = {t: i for i, t in enumerate(tags)}\n",
        "idx2tag = {i: t for t, i in tag2idx.items()}\n",
        "\n",
        "# === Oversampling предложений с редкими сущностями ===\n",
        "rare_labels = {'B-art', 'I-art', 'B-eve', 'I-eve', 'B-nat', 'I-nat'}\n",
        "augmented = [s for s in sentences if any(t in rare_labels for _, t in s)]\n",
        "sentences.extend(augmented * 10)\n",
        "\n",
        "# === FastText эмбеддинги ===\n",
        "fasttext.util.download_model('en', if_exists='ignore')\n",
        "ft = fasttext.load_model('cc.en.300.bin')\n",
        "\n",
        "embedding_matrix = np.random.uniform(-0.25, 0.25, (len(word2idx), EMBEDDING_DIM))\n",
        "for word, idx in word2idx.items():\n",
        "    if word in ft:\n",
        "        embedding_matrix[idx] = ft.get_word_vector(word)\n",
        "embedding_matrix = torch.tensor(embedding_matrix, dtype=torch.float32)\n",
        "\n",
        "# === Подготовка данных ===\n",
        "def encode_sentence(sentence, word2idx, tag2idx, max_len=MAX_LEN):\n",
        "    words = [word2idx.get(w[0], 1) for w in sentence]\n",
        "    tags = [tag2idx[w[1]] for w in sentence]\n",
        "    words = words[:max_len] + [0]*(max_len - len(words))\n",
        "    tags = tags[:max_len] + [tag2idx[\"O\"]] * (max_len - len(tags))\n",
        "    return words, tags\n",
        "\n",
        "X, y = zip(*[encode_sentence(s, word2idx, tag2idx) for s in sentences])\n",
        "X_train, X_test, y_train, y_test = train_test_split(X, y, test_size=0.2, random_state=42)\n",
        "\n",
        "class NERDataset(Dataset):\n",
        "    def __init__(self, X, y):\n",
        "        self.X = torch.tensor(X, dtype=torch.long)\n",
        "        self.y = torch.tensor(y, dtype=torch.long)\n",
        "    def __len__(self):\n",
        "        return len(self.X)\n",
        "    def __getitem__(self, idx):\n",
        "        return self.X[idx], self.y[idx]\n",
        "\n",
        "train_loader = DataLoader(NERDataset(X_train, y_train), batch_size=BATCH_SIZE, shuffle=True)\n",
        "test_loader = DataLoader(NERDataset(X_test, y_test), batch_size=BATCH_SIZE)\n",
        "\n",
        "# === Модель ===\n",
        "class BiLSTM_CRF(nn.Module):\n",
        "    def __init__(self, vocab_size, tagset_size, embedding_dim, hidden_dim, embeddings=None):\n",
        "        super().__init__()\n",
        "        self.embedding = nn.Embedding(vocab_size, embedding_dim, padding_idx=0)\n",
        "        if embeddings is not None:\n",
        "            self.embedding.weight.data.copy_(embeddings)\n",
        "            self.embedding.weight.requires_grad = True\n",
        "        self.lstm = nn.LSTM(embedding_dim, hidden_dim // 2, num_layers=1,\n",
        "                            bidirectional=True, batch_first=True)\n",
        "        self.dropout = nn.Dropout(0.5)\n",
        "        self.hidden2tag = nn.Linear(hidden_dim, tagset_size)\n",
        "        self.crf = CRF(tagset_size, batch_first=True)\n",
        "\n",
        "    def forward(self, x, mask):\n",
        "        embeds = self.embedding(x)\n",
        "        lstm_out, _ = self.lstm(embeds)\n",
        "        lstm_out = self.dropout(lstm_out)\n",
        "        emissions = self.hidden2tag(lstm_out)\n",
        "        return emissions\n",
        "\n",
        "    def loss(self, x, tags, mask):\n",
        "        emissions = self.forward(x, mask)\n",
        "        return -self.crf(emissions, tags, mask=mask)\n",
        "\n",
        "    def predict(self, x, mask):\n",
        "        emissions = self.forward(x, mask)\n",
        "        return self.crf.decode(emissions, mask=mask)\n",
        "\n",
        "# === Обучение ===\n",
        "model = BiLSTM_CRF(len(word2idx), len(tag2idx), EMBEDDING_DIM, HIDDEN_DIM, embedding_matrix).to(device)\n",
        "optimizer = torch.optim.Adam(model.parameters(), lr=0.001)\n",
        "\n",
        "for epoch in range(EPOCHS):\n",
        "    model.train()\n",
        "    total_loss = 0\n",
        "    for batch_x, batch_y in tqdm(train_loader, desc=f\"Epoch {epoch+1}\"):\n",
        "        batch_x, batch_y = batch_x.to(device), batch_y.to(device)\n",
        "        mask = batch_x != 0\n",
        "        loss = model.loss(batch_x, batch_y, mask)\n",
        "        optimizer.zero_grad()\n",
        "        loss.backward()\n",
        "        optimizer.step()\n",
        "        total_loss += loss.item()\n",
        "    print(f\"[Epoch {epoch+1}] Loss: {total_loss:.4f}\")\n",
        "\n",
        "# === Оценка ===\n",
        "model.eval()\n",
        "all_preds, all_labels = [], []\n",
        "\n",
        "with torch.no_grad():\n",
        "    for batch_x, batch_y in test_loader:\n",
        "        batch_x, batch_y = batch_x.to(device), batch_y.to(device)\n",
        "        mask = batch_x != 0\n",
        "        preds = model.predict(batch_x, mask)\n",
        "        for p_seq, t_seq, m in zip(preds, batch_y.tolist(), mask.tolist()):\n",
        "            valid_len = sum(m)\n",
        "            all_preds.extend([idx2tag[i] for i in p_seq[:valid_len]])\n",
        "            all_labels.extend([idx2tag[i] for i in t_seq[:valid_len]])\n",
        "\n",
        "from sklearn.metrics import classification_report\n",
        "print(classification_report(all_labels, all_preds, digits=3))\n"
      ]
    },
    {
      "cell_type": "markdown",
      "metadata": {
        "id": "jsQWCvaiEluE"
      },
      "source": [
        "#### comparison of the results"
      ]
    },
    {
      "cell_type": "code",
      "execution_count": null,
      "metadata": {
        "id": "fOmhpO5IEluE",
        "outputId": "b65a5272-fa53-4b6d-807e-cacd8fea91a3"
      },
      "outputs": [
        {
          "data": {
            "image/png": "[encoded data removed]",
            "text/plain": [
              "<Figure size 1000x500 with 1 Axes>"
            ]
          },
          "metadata": {},
          "output_type": "display_data"
        }
      ],
      "source": [
        "import matplotlib.pyplot as plt\n",
        "import numpy as np\n",
        "\n",
        "labels = ['B-art', 'B-eve', 'B-geo', 'B-gpe', 'B-nat', 'B-org', 'B-per', 'B-tim', 'I-art', 'I-eve']\n",
        "crf_f1 = [0.917, 0.864, 0.883, 0.951, 0.784, 0.778, 0.856, 0.909, 0.935, 0.909]\n",
        "bilstm_f1 = [0.963, 0.980, 0.891, 0.948, 0.984, 0.785, 0.862, 0.912, 0.971, 0.987]\n",
        "\n",
        "x = np.arange(len(labels))\n",
        "width = 0.35\n",
        "\n",
        "plt.figure(figsize=(10, 5))\n",
        "plt.bar(x - width/2, crf_f1, width, label='CRF+Oversampling')\n",
        "plt.bar(x + width/2, bilstm_f1, width, label='BiLSTM-CRF+Oversampling')\n",
        "plt.xticks(ticks=x, labels=labels, rotation=45, ha='right')\n",
        "plt.ylabel('F1-score')\n",
        "plt.title('F1-score Comparison (Subset)')\n",
        "plt.legend()\n",
        "plt.grid(axis='y')\n",
        "plt.tight_layout()\n",
        "plt.show()\n"
      ]
    },
    {
      "cell_type": "code",
      "execution_count": null,
      "metadata": {
        "id": "tCdiBFSfEluF",
        "outputId": "9a8e41fa-47c6-4781-f001-306dc1b7cc7a"
      },
      "outputs": [
        {
          "data": {
            "image/png": "[encoded data removed]",
            "text/plain": [
              "<Figure size 1000x500 with 1 Axes>"
            ]
          },
          "metadata": {},
          "output_type": "display_data"
        }
      ],
      "source": [
        "import matplotlib.pyplot as plt\n",
        "import numpy as np\n",
        "\n",
        "labels = ['B-art', 'B-eve', 'B-geo', 'B-gpe', 'B-nat', 'B-org', 'B-per', 'B-tim', 'I-art', 'I-eve']\n",
        "\n",
        "# Precision\n",
        "crf_prec = [0.892, 0.847, 0.860, 0.969, 0.822, 0.812, 0.868, 0.934, 0.893, 0.850]\n",
        "bilstm_prec = [0.928, 0.964, 0.894, 0.952, 0.981, 0.806, 0.865, 0.926, 0.944, 0.973]\n",
        "\n",
        "x = np.arange(len(labels))\n",
        "width = 0.35\n",
        "\n",
        "plt.figure(figsize=(10, 5))\n",
        "plt.bar(x - width/2, crf_prec, width, label='CRF+Oversampling')\n",
        "plt.bar(x + width/2, bilstm_prec, width, label='BiLSTM-CRF+Oversampling')\n",
        "plt.xticks(ticks=x, labels=labels, rotation=45, ha='right')\n",
        "plt.ylabel('Precision')\n",
        "plt.title('Precision Comparison (Subset)')\n",
        "plt.legend()\n",
        "plt.grid(axis='y')\n",
        "plt.tight_layout()\n",
        "plt.show()\n",
        "\n",
        "\n"
      ]
    },
    {
      "cell_type": "code",
      "execution_count": null,
      "metadata": {
        "id": "KLTk8PGiEluF",
        "outputId": "e4b712cd-23cb-4550-c9be-72821c2e7d5e"
      },
      "outputs": [
        {
          "data": {
            "image/png": "[encoded data removed]",
            "text/plain": [
              "<Figure size 1000x500 with 1 Axes>"
            ]
          },
          "metadata": {},
          "output_type": "display_data"
        }
      ],
      "source": [
        "# Recall\n",
        "crf_recall = [0.944, 0.882, 0.907, 0.934, 0.750, 0.747, 0.845, 0.886, 0.982, 0.976]\n",
        "bilstm_recall = [1.000, 0.997, 0.887, 0.944, 0.987, 0.765, 0.860, 0.899, 1.000, 1.000]\n",
        "\n",
        "plt.figure(figsize=(10, 5))\n",
        "plt.bar(x - width/2, crf_recall, width, label='CRF+Oversampling')\n",
        "plt.bar(x + width/2, bilstm_recall, width, label='BiLSTM-CRF+Oversampling')\n",
        "plt.xticks(ticks=x, labels=labels, rotation=45, ha='right')\n",
        "plt.ylabel('Recall')\n",
        "plt.title('Recall Comparison (Subset)')\n",
        "plt.legend()\n",
        "plt.grid(axis='y')\n",
        "plt.tight_layout()\n",
        "plt.show()"
      ]
    },
    {
      "cell_type": "markdown",
      "metadata": {
        "id": "3cWdsmyAEluF"
      },
      "source": [
        "#### CHECK DEVICE AND MODULE CRF"
      ]
    },
    {
      "cell_type": "code",
      "execution_count": null,
      "metadata": {
        "id": "H7N60CvmEluF",
        "outputId": "d1f2d297-bb1c-4ebc-d85d-23e3b5aa83db"
      },
      "outputs": [
        {
          "name": "stdout",
          "output_type": "stream",
          "text": [
            "CRF инициализирован корректно.\n"
          ]
        }
      ],
      "source": [
        "from torchcrf import CRF\n",
        "crf = CRF(num_tags=5, batch_first=True)\n",
        "print(\"CRF инициализирован корректно.\")\n"
      ]
    },
    {
      "cell_type": "code",
      "execution_count": null,
      "metadata": {
        "id": "8WXXYOo5EluF"
      },
      "outputs": [],
      "source": []
    },
    {
      "cell_type": "code",
      "execution_count": null,
      "metadata": {
        "id": "pm2ZEWdjEluG",
        "outputId": "ee9fb351-1abb-4fd1-d9cb-62cbe9be6772"
      },
      "outputs": [
        {
          "name": "stdout",
          "output_type": "stream",
          "text": [
            "2.6.0+cu124\n",
            "12.4\n",
            "True\n",
            "True\n"
          ]
        }
      ],
      "source": [
        "import torch\n",
        "print(torch.__version__)\n",
        "print(torch.version.cuda)\n",
        "print(torch.backends.cudnn.enabled)\n",
        "print(torch.cuda.is_available())\n",
        "\n"
      ]
    },
    {
      "cell_type": "code",
      "execution_count": null,
      "metadata": {
        "id": "TAsU9LOxEluG",
        "outputId": "30aef52c-21db-453f-a308-fe9afe82b132"
      },
      "outputs": [
        {
          "name": "stdout",
          "output_type": "stream",
          "text": [
            "Help on class CRF in module torchcrf:\n",
            "\n",
            "class CRF(torch.nn.modules.module.Module)\n",
            " |  CRF(num_tags: int, batch_first: bool = False) -> None\n",
            " |  \n",
            " |  Conditional random field.\n",
            " |  \n",
            " |  This module implements a conditional random field [LMP01]_. The forward computation\n",
            " |  of this class computes the log likelihood of the given sequence of tags and\n",
            " |  emission score tensor. This class also has `~CRF.decode` method which finds\n",
            " |  the best tag sequence given an emission score tensor using `Viterbi algorithm`_.\n",
            " |  \n",
            " |  Args:\n",
            " |      num_tags: Number of tags.\n",
            " |      batch_first: Whether the first dimension corresponds to the size of a minibatch.\n",
            " |  \n",
            " |  Attributes:\n",
            " |      start_transitions (`~torch.nn.Parameter`): Start transition score tensor of size\n",
            " |          ``(num_tags,)``.\n",
            " |      end_transitions (`~torch.nn.Parameter`): End transition score tensor of size\n",
            " |          ``(num_tags,)``.\n",
            " |      transitions (`~torch.nn.Parameter`): Transition score tensor of size\n",
            " |          ``(num_tags, num_tags)``.\n",
            " |  \n",
            " |  \n",
            " |  .. [LMP01] Lafferty, J., McCallum, A., Pereira, F. (2001).\n",
            " |     \"Conditional random fields: Probabilistic models for segmenting and\n",
            " |     labeling sequence data\". *Proc. 18th International Conf. on Machine\n",
            " |     Learning*. Morgan Kaufmann. pp. 282–289.\n",
            " |  \n",
            " |  .. _Viterbi algorithm: https://en.wikipedia.org/wiki/Viterbi_algorithm\n",
            " |  \n",
            " |  Method resolution order:\n",
            " |      CRF\n",
            " |      torch.nn.modules.module.Module\n",
            " |      builtins.object\n",
            " |  \n",
            " |  Methods defined here:\n",
            " |  \n",
            " |  __init__(self, num_tags: int, batch_first: bool = False) -> None\n",
            " |      Initialize internal Module state, shared by both nn.Module and ScriptModule.\n",
            " |  \n",
            " |  __repr__(self) -> str\n",
            " |      Return repr(self).\n",
            " |  \n",
            " |  decode(self, emissions: torch.Tensor, mask: Optional[torch.ByteTensor] = None) -> List[List[int]]\n",
            " |      Find the most likely tag sequence using Viterbi algorithm.\n",
            " |      \n",
            " |      Args:\n",
            " |          emissions (`~torch.Tensor`): Emission score tensor of size\n",
            " |              ``(seq_length, batch_size, num_tags)`` if ``batch_first`` is ``False``,\n",
            " |              ``(batch_size, seq_length, num_tags)`` otherwise.\n",
            " |          mask (`~torch.ByteTensor`): Mask tensor of size ``(seq_length, batch_size)``\n",
            " |              if ``batch_first`` is ``False``, ``(batch_size, seq_length)`` otherwise.\n",
            " |      \n",
            " |      Returns:\n",
            " |          List of list containing the best tag sequence for each batch.\n",
            " |  \n",
            " |  forward(self, emissions: torch.Tensor, tags: torch.LongTensor, mask: Optional[torch.ByteTensor] = None, reduction: str = 'sum') -> torch.Tensor\n",
            " |      Compute the conditional log likelihood of a sequence of tags given emission scores.\n",
            " |      \n",
            " |      Args:\n",
            " |          emissions (`~torch.Tensor`): Emission score tensor of size\n",
            " |              ``(seq_length, batch_size, num_tags)`` if ``batch_first`` is ``False``,\n",
            " |              ``(batch_size, seq_length, num_tags)`` otherwise.\n",
            " |          tags (`~torch.LongTensor`): Sequence of tags tensor of size\n",
            " |              ``(seq_length, batch_size)`` if ``batch_first`` is ``False``,\n",
            " |              ``(batch_size, seq_length)`` otherwise.\n",
            " |          mask (`~torch.ByteTensor`): Mask tensor of size ``(seq_length, batch_size)``\n",
            " |              if ``batch_first`` is ``False``, ``(batch_size, seq_length)`` otherwise.\n",
            " |          reduction: Specifies  the reduction to apply to the output:\n",
            " |              ``none|sum|mean|token_mean``. ``none``: no reduction will be applied.\n",
            " |              ``sum``: the output will be summed over batches. ``mean``: the output will be\n",
            " |              averaged over batches. ``token_mean``: the output will be averaged over tokens.\n",
            " |      \n",
            " |      Returns:\n",
            " |          `~torch.Tensor`: The log likelihood. This will have size ``(batch_size,)`` if\n",
            " |          reduction is ``none``, ``()`` otherwise.\n",
            " |  \n",
            " |  reset_parameters(self) -> None\n",
            " |      Initialize the transition parameters.\n",
            " |      \n",
            " |      The parameters will be initialized randomly from a uniform distribution\n",
            " |      between -0.1 and 0.1.\n",
            " |  \n",
            " |  ----------------------------------------------------------------------\n",
            " |  Data and other attributes defined here:\n",
            " |  \n",
            " |  __annotations__ = {}\n",
            " |  \n",
            " |  ----------------------------------------------------------------------\n",
            " |  Methods inherited from torch.nn.modules.module.Module:\n",
            " |  \n",
            " |  __call__ = _wrapped_call_impl(self, *args, **kwargs)\n",
            " |  \n",
            " |  __delattr__(self, name)\n",
            " |      Implement delattr(self, name).\n",
            " |  \n",
            " |  __dir__(self)\n",
            " |      Default dir() implementation.\n",
            " |  \n",
            " |  __getattr__(self, name: str) -> Union[torch.Tensor, ForwardRef('Module')]\n",
            " |      # It is crucial that the return type is not annotated as `Any`, otherwise type checking\n",
            " |      # on `torch.nn.Module` and all its subclasses is largely disabled as a result. See:\n",
            " |      # https://github.com/pytorch/pytorch/pull/115074\n",
            " |  \n",
            " |  __getstate__(self)\n",
            " |  \n",
            " |  __setattr__(self, name: str, value: Union[torch.Tensor, ForwardRef('Module')]) -> None\n",
            " |      Implement setattr(self, name, value).\n",
            " |  \n",
            " |  __setstate__(self, state)\n",
            " |  \n",
            " |  add_module(self, name: str, module: Optional[ForwardRef('Module')]) -> None\n",
            " |      Add a child module to the current module.\n",
            " |      \n",
            " |      The module can be accessed as an attribute using the given name.\n",
            " |      \n",
            " |      Args:\n",
            " |          name (str): name of the child module. The child module can be\n",
            " |              accessed from this module using the given name\n",
            " |          module (Module): child module to be added to the module.\n",
            " |  \n",
            " |  apply(self: ~T, fn: Callable[[ForwardRef('Module')], NoneType]) -> ~T\n",
            " |      Apply ``fn`` recursively to every submodule (as returned by ``.children()``) as well as self.\n",
            " |      \n",
            " |      Typical use includes initializing the parameters of a model\n",
            " |      (see also :ref:`nn-init-doc`).\n",
            " |      \n",
            " |      Args:\n",
            " |          fn (:class:`Module` -> None): function to be applied to each submodule\n",
            " |      \n",
            " |      Returns:\n",
            " |          Module: self\n",
            " |      \n",
            " |      Example::\n",
            " |      \n",
            " |          >>> @torch.no_grad()\n",
            " |          >>> def init_weights(m):\n",
            " |          >>>     print(m)\n",
            " |          >>>     if type(m) == nn.Linear:\n",
            " |          >>>         m.weight.fill_(1.0)\n",
            " |          >>>         print(m.weight)\n",
            " |          >>> net = nn.Sequential(nn.Linear(2, 2), nn.Linear(2, 2))\n",
            " |          >>> net.apply(init_weights)\n",
            " |          Linear(in_features=2, out_features=2, bias=True)\n",
            " |          Parameter containing:\n",
            " |          tensor([[1., 1.],\n",
            " |                  [1., 1.]], requires_grad=True)\n",
            " |          Linear(in_features=2, out_features=2, bias=True)\n",
            " |          Parameter containing:\n",
            " |          tensor([[1., 1.],\n",
            " |                  [1., 1.]], requires_grad=True)\n",
            " |          Sequential(\n",
            " |            (0): Linear(in_features=2, out_features=2, bias=True)\n",
            " |            (1): Linear(in_features=2, out_features=2, bias=True)\n",
            " |          )\n",
            " |  \n",
            " |  bfloat16(self: ~T) -> ~T\n",
            " |      Casts all floating point parameters and buffers to ``bfloat16`` datatype.\n",
            " |      \n",
            " |      .. note::\n",
            " |          This method modifies the module in-place.\n",
            " |      \n",
            " |      Returns:\n",
            " |          Module: self\n",
            " |  \n",
            " |  buffers(self, recurse: bool = True) -> Iterator[torch.Tensor]\n",
            " |      Return an iterator over module buffers.\n",
            " |      \n",
            " |      Args:\n",
            " |          recurse (bool): if True, then yields buffers of this module\n",
            " |              and all submodules. Otherwise, yields only buffers that\n",
            " |              are direct members of this module.\n",
            " |      \n",
            " |      Yields:\n",
            " |          torch.Tensor: module buffer\n",
            " |      \n",
            " |      Example::\n",
            " |      \n",
            " |          >>> # xdoctest: +SKIP(\"undefined vars\")\n",
            " |          >>> for buf in model.buffers():\n",
            " |          >>>     print(type(buf), buf.size())\n",
            " |          <class 'torch.Tensor'> (20L,)\n",
            " |          <class 'torch.Tensor'> (20L, 1L, 5L, 5L)\n",
            " |  \n",
            " |  children(self) -> Iterator[ForwardRef('Module')]\n",
            " |      Return an iterator over immediate children modules.\n",
            " |      \n",
            " |      Yields:\n",
            " |          Module: a child module\n",
            " |  \n",
            " |  compile(self, *args, **kwargs)\n",
            " |      Compile this Module's forward using :func:`torch.compile`.\n",
            " |      \n",
            " |      This Module's `__call__` method is compiled and all arguments are passed as-is\n",
            " |      to :func:`torch.compile`.\n",
            " |      \n",
            " |      See :func:`torch.compile` for details on the arguments for this function.\n",
            " |  \n",
            " |  cpu(self: ~T) -> ~T\n",
            " |      Move all model parameters and buffers to the CPU.\n",
            " |      \n",
            " |      .. note::\n",
            " |          This method modifies the module in-place.\n",
            " |      \n",
            " |      Returns:\n",
            " |          Module: self\n",
            " |  \n",
            " |  cuda(self: ~T, device: Union[int, torch.device, NoneType] = None) -> ~T\n",
            " |      Move all model parameters and buffers to the GPU.\n",
            " |      \n",
            " |      This also makes associated parameters and buffers different objects. So\n",
            " |      it should be called before constructing the optimizer if the module will\n",
            " |      live on GPU while being optimized.\n",
            " |      \n",
            " |      .. note::\n",
            " |          This method modifies the module in-place.\n",
            " |      \n",
            " |      Args:\n",
            " |          device (int, optional): if specified, all parameters will be\n",
            " |              copied to that device\n",
            " |      \n",
            " |      Returns:\n",
            " |          Module: self\n",
            " |  \n",
            " |  double(self: ~T) -> ~T\n",
            " |      Casts all floating point parameters and buffers to ``double`` datatype.\n",
            " |      \n",
            " |      .. note::\n",
            " |          This method modifies the module in-place.\n",
            " |      \n",
            " |      Returns:\n",
            " |          Module: self\n",
            " |  \n",
            " |  eval(self: ~T) -> ~T\n",
            " |      Set the module in evaluation mode.\n",
            " |      \n",
            " |      This has an effect only on certain modules. See the documentation of\n",
            " |      particular modules for details of their behaviors in training/evaluation\n",
            " |      mode, i.e. whether they are affected, e.g. :class:`Dropout`, :class:`BatchNorm`,\n",
            " |      etc.\n",
            " |      \n",
            " |      This is equivalent with :meth:`self.train(False) <torch.nn.Module.train>`.\n",
            " |      \n",
            " |      See :ref:`locally-disable-grad-doc` for a comparison between\n",
            " |      `.eval()` and several similar mechanisms that may be confused with it.\n",
            " |      \n",
            " |      Returns:\n",
            " |          Module: self\n",
            " |  \n",
            " |  extra_repr(self) -> str\n",
            " |      Return the extra representation of the module.\n",
            " |      \n",
            " |      To print customized extra information, you should re-implement\n",
            " |      this method in your own modules. Both single-line and multi-line\n",
            " |      strings are acceptable.\n",
            " |  \n",
            " |  float(self: ~T) -> ~T\n",
            " |      Casts all floating point parameters and buffers to ``float`` datatype.\n",
            " |      \n",
            " |      .. note::\n",
            " |          This method modifies the module in-place.\n",
            " |      \n",
            " |      Returns:\n",
            " |          Module: self\n",
            " |  \n",
            " |  get_buffer(self, target: str) -> 'Tensor'\n",
            " |      Return the buffer given by ``target`` if it exists, otherwise throw an error.\n",
            " |      \n",
            " |      See the docstring for ``get_submodule`` for a more detailed\n",
            " |      explanation of this method's functionality as well as how to\n",
            " |      correctly specify ``target``.\n",
            " |      \n",
            " |      Args:\n",
            " |          target: The fully-qualified string name of the buffer\n",
            " |              to look for. (See ``get_submodule`` for how to specify a\n",
            " |              fully-qualified string.)\n",
            " |      \n",
            " |      Returns:\n",
            " |          torch.Tensor: The buffer referenced by ``target``\n",
            " |      \n",
            " |      Raises:\n",
            " |          AttributeError: If the target string references an invalid\n",
            " |              path or resolves to something that is not a\n",
            " |              buffer\n",
            " |  \n",
            " |  get_extra_state(self) -> Any\n",
            " |      Return any extra state to include in the module's state_dict.\n",
            " |      \n",
            " |      Implement this and a corresponding :func:`set_extra_state` for your module\n",
            " |      if you need to store extra state. This function is called when building the\n",
            " |      module's `state_dict()`.\n",
            " |      \n",
            " |      Note that extra state should be picklable to ensure working serialization\n",
            " |      of the state_dict. We only provide backwards compatibility guarantees\n",
            " |      for serializing Tensors; other objects may break backwards compatibility if\n",
            " |      their serialized pickled form changes.\n",
            " |      \n",
            " |      Returns:\n",
            " |          object: Any extra state to store in the module's state_dict\n",
            " |  \n",
            " |  get_parameter(self, target: str) -> 'Parameter'\n",
            " |      Return the parameter given by ``target`` if it exists, otherwise throw an error.\n",
            " |      \n",
            " |      See the docstring for ``get_submodule`` for a more detailed\n",
            " |      explanation of this method's functionality as well as how to\n",
            " |      correctly specify ``target``.\n",
            " |      \n",
            " |      Args:\n",
            " |          target: The fully-qualified string name of the Parameter\n",
            " |              to look for. (See ``get_submodule`` for how to specify a\n",
            " |              fully-qualified string.)\n",
            " |      \n",
            " |      Returns:\n",
            " |          torch.nn.Parameter: The Parameter referenced by ``target``\n",
            " |      \n",
            " |      Raises:\n",
            " |          AttributeError: If the target string references an invalid\n",
            " |              path or resolves to something that is not an\n",
            " |              ``nn.Parameter``\n",
            " |  \n",
            " |  get_submodule(self, target: str) -> 'Module'\n",
            " |      Return the submodule given by ``target`` if it exists, otherwise throw an error.\n",
            " |      \n",
            " |      For example, let's say you have an ``nn.Module`` ``A`` that\n",
            " |      looks like this:\n",
            " |      \n",
            " |      .. code-block:: text\n",
            " |      \n",
            " |          A(\n",
            " |              (net_b): Module(\n",
            " |                  (net_c): Module(\n",
            " |                      (conv): Conv2d(16, 33, kernel_size=(3, 3), stride=(2, 2))\n",
            " |                  )\n",
            " |                  (linear): Linear(in_features=100, out_features=200, bias=True)\n",
            " |              )\n",
            " |          )\n",
            " |      \n",
            " |      (The diagram shows an ``nn.Module`` ``A``. ``A`` which has a nested\n",
            " |      submodule ``net_b``, which itself has two submodules ``net_c``\n",
            " |      and ``linear``. ``net_c`` then has a submodule ``conv``.)\n",
            " |      \n",
            " |      To check whether or not we have the ``linear`` submodule, we\n",
            " |      would call ``get_submodule(\"net_b.linear\")``. To check whether\n",
            " |      we have the ``conv`` submodule, we would call\n",
            " |      ``get_submodule(\"net_b.net_c.conv\")``.\n",
            " |      \n",
            " |      The runtime of ``get_submodule`` is bounded by the degree\n",
            " |      of module nesting in ``target``. A query against\n",
            " |      ``named_modules`` achieves the same result, but it is O(N) in\n",
            " |      the number of transitive modules. So, for a simple check to see\n",
            " |      if some submodule exists, ``get_submodule`` should always be\n",
            " |      used.\n",
            " |      \n",
            " |      Args:\n",
            " |          target: The fully-qualified string name of the submodule\n",
            " |              to look for. (See above example for how to specify a\n",
            " |              fully-qualified string.)\n",
            " |      \n",
            " |      Returns:\n",
            " |          torch.nn.Module: The submodule referenced by ``target``\n",
            " |      \n",
            " |      Raises:\n",
            " |          AttributeError: If the target string references an invalid\n",
            " |              path or resolves to something that is not an\n",
            " |              ``nn.Module``\n",
            " |  \n",
            " |  half(self: ~T) -> ~T\n",
            " |      Casts all floating point parameters and buffers to ``half`` datatype.\n",
            " |      \n",
            " |      .. note::\n",
            " |          This method modifies the module in-place.\n",
            " |      \n",
            " |      Returns:\n",
            " |          Module: self\n",
            " |  \n",
            " |  ipu(self: ~T, device: Union[int, torch.device, NoneType] = None) -> ~T\n",
            " |      Move all model parameters and buffers to the IPU.\n",
            " |      \n",
            " |      This also makes associated parameters and buffers different objects. So\n",
            " |      it should be called before constructing the optimizer if the module will\n",
            " |      live on IPU while being optimized.\n",
            " |      \n",
            " |      .. note::\n",
            " |          This method modifies the module in-place.\n",
            " |      \n",
            " |      Arguments:\n",
            " |          device (int, optional): if specified, all parameters will be\n",
            " |              copied to that device\n",
            " |      \n",
            " |      Returns:\n",
            " |          Module: self\n",
            " |  \n",
            " |  load_state_dict(self, state_dict: Mapping[str, Any], strict: bool = True, assign: bool = False)\n",
            " |      Copy parameters and buffers from :attr:`state_dict` into this module and its descendants.\n",
            " |      \n",
            " |      If :attr:`strict` is ``True``, then\n",
            " |      the keys of :attr:`state_dict` must exactly match the keys returned\n",
            " |      by this module's :meth:`~torch.nn.Module.state_dict` function.\n",
            " |      \n",
            " |      .. warning::\n",
            " |          If :attr:`assign` is ``True`` the optimizer must be created after\n",
            " |          the call to :attr:`load_state_dict` unless\n",
            " |          :func:`~torch.__future__.get_swap_module_params_on_conversion` is ``True``.\n",
            " |      \n",
            " |      Args:\n",
            " |          state_dict (dict): a dict containing parameters and\n",
            " |              persistent buffers.\n",
            " |          strict (bool, optional): whether to strictly enforce that the keys\n",
            " |              in :attr:`state_dict` match the keys returned by this module's\n",
            " |              :meth:`~torch.nn.Module.state_dict` function. Default: ``True``\n",
            " |          assign (bool, optional): When set to ``False``, the properties of the tensors\n",
            " |              in the current module are preserved whereas setting it to ``True`` preserves\n",
            " |              properties of the Tensors in the state dict. The only\n",
            " |              exception is the ``requires_grad`` field of :class:`~torch.nn.Parameter`s\n",
            " |              for which the value from the module is preserved.\n",
            " |              Default: ``False``\n",
            " |      \n",
            " |      Returns:\n",
            " |          ``NamedTuple`` with ``missing_keys`` and ``unexpected_keys`` fields:\n",
            " |              * **missing_keys** is a list of str containing any keys that are expected\n",
            " |                  by this module but missing from the provided ``state_dict``.\n",
            " |              * **unexpected_keys** is a list of str containing the keys that are not\n",
            " |                  expected by this module but present in the provided ``state_dict``.\n",
            " |      \n",
            " |      Note:\n",
            " |          If a parameter or buffer is registered as ``None`` and its corresponding key\n",
            " |          exists in :attr:`state_dict`, :meth:`load_state_dict` will raise a\n",
            " |          ``RuntimeError``.\n",
            " |  \n",
            " |  modules(self) -> Iterator[ForwardRef('Module')]\n",
            " |      Return an iterator over all modules in the network.\n",
            " |      \n",
            " |      Yields:\n",
            " |          Module: a module in the network\n",
            " |      \n",
            " |      Note:\n",
            " |          Duplicate modules are returned only once. In the following\n",
            " |          example, ``l`` will be returned only once.\n",
            " |      \n",
            " |      Example::\n",
            " |      \n",
            " |          >>> l = nn.Linear(2, 2)\n",
            " |          >>> net = nn.Sequential(l, l)\n",
            " |          >>> for idx, m in enumerate(net.modules()):\n",
            " |          ...     print(idx, '->', m)\n",
            " |      \n",
            " |          0 -> Sequential(\n",
            " |            (0): Linear(in_features=2, out_features=2, bias=True)\n",
            " |            (1): Linear(in_features=2, out_features=2, bias=True)\n",
            " |          )\n",
            " |          1 -> Linear(in_features=2, out_features=2, bias=True)\n",
            " |  \n",
            " |  mtia(self: ~T, device: Union[int, torch.device, NoneType] = None) -> ~T\n",
            " |      Move all model parameters and buffers to the MTIA.\n",
            " |      \n",
            " |      This also makes associated parameters and buffers different objects. So\n",
            " |      it should be called before constructing the optimizer if the module will\n",
            " |      live on MTIA while being optimized.\n",
            " |      \n",
            " |      .. note::\n",
            " |          This method modifies the module in-place.\n",
            " |      \n",
            " |      Arguments:\n",
            " |          device (int, optional): if specified, all parameters will be\n",
            " |              copied to that device\n",
            " |      \n",
            " |      Returns:\n",
            " |          Module: self\n",
            " |  \n",
            " |  named_buffers(self, prefix: str = '', recurse: bool = True, remove_duplicate: bool = True) -> Iterator[Tuple[str, torch.Tensor]]\n",
            " |      Return an iterator over module buffers, yielding both the name of the buffer as well as the buffer itself.\n",
            " |      \n",
            " |      Args:\n",
            " |          prefix (str): prefix to prepend to all buffer names.\n",
            " |          recurse (bool, optional): if True, then yields buffers of this module\n",
            " |              and all submodules. Otherwise, yields only buffers that\n",
            " |              are direct members of this module. Defaults to True.\n",
            " |          remove_duplicate (bool, optional): whether to remove the duplicated buffers in the result. Defaults to True.\n",
            " |      \n",
            " |      Yields:\n",
            " |          (str, torch.Tensor): Tuple containing the name and buffer\n",
            " |      \n",
            " |      Example::\n",
            " |      \n",
            " |          >>> # xdoctest: +SKIP(\"undefined vars\")\n",
            " |          >>> for name, buf in self.named_buffers():\n",
            " |          >>>     if name in ['running_var']:\n",
            " |          >>>         print(buf.size())\n",
            " |  \n",
            " |  named_children(self) -> Iterator[Tuple[str, ForwardRef('Module')]]\n",
            " |      Return an iterator over immediate children modules, yielding both the name of the module as well as the module itself.\n",
            " |      \n",
            " |      Yields:\n",
            " |          (str, Module): Tuple containing a name and child module\n",
            " |      \n",
            " |      Example::\n",
            " |      \n",
            " |          >>> # xdoctest: +SKIP(\"undefined vars\")\n",
            " |          >>> for name, module in model.named_children():\n",
            " |          >>>     if name in ['conv4', 'conv5']:\n",
            " |          >>>         print(module)\n",
            " |  \n",
            " |  named_modules(self, memo: Optional[Set[ForwardRef('Module')]] = None, prefix: str = '', remove_duplicate: bool = True)\n",
            " |      Return an iterator over all modules in the network, yielding both the name of the module as well as the module itself.\n",
            " |      \n",
            " |      Args:\n",
            " |          memo: a memo to store the set of modules already added to the result\n",
            " |          prefix: a prefix that will be added to the name of the module\n",
            " |          remove_duplicate: whether to remove the duplicated module instances in the result\n",
            " |              or not\n",
            " |      \n",
            " |      Yields:\n",
            " |          (str, Module): Tuple of name and module\n",
            " |      \n",
            " |      Note:\n",
            " |          Duplicate modules are returned only once. In the following\n",
            " |          example, ``l`` will be returned only once.\n",
            " |      \n",
            " |      Example::\n",
            " |      \n",
            " |          >>> l = nn.Linear(2, 2)\n",
            " |          >>> net = nn.Sequential(l, l)\n",
            " |          >>> for idx, m in enumerate(net.named_modules()):\n",
            " |          ...     print(idx, '->', m)\n",
            " |      \n",
            " |          0 -> ('', Sequential(\n",
            " |            (0): Linear(in_features=2, out_features=2, bias=True)\n",
            " |            (1): Linear(in_features=2, out_features=2, bias=True)\n",
            " |          ))\n",
            " |          1 -> ('0', Linear(in_features=2, out_features=2, bias=True))\n",
            " |  \n",
            " |  named_parameters(self, prefix: str = '', recurse: bool = True, remove_duplicate: bool = True) -> Iterator[Tuple[str, torch.nn.parameter.Parameter]]\n",
            " |      Return an iterator over module parameters, yielding both the name of the parameter as well as the parameter itself.\n",
            " |      \n",
            " |      Args:\n",
            " |          prefix (str): prefix to prepend to all parameter names.\n",
            " |          recurse (bool): if True, then yields parameters of this module\n",
            " |              and all submodules. Otherwise, yields only parameters that\n",
            " |              are direct members of this module.\n",
            " |          remove_duplicate (bool, optional): whether to remove the duplicated\n",
            " |              parameters in the result. Defaults to True.\n",
            " |      \n",
            " |      Yields:\n",
            " |          (str, Parameter): Tuple containing the name and parameter\n",
            " |      \n",
            " |      Example::\n",
            " |      \n",
            " |          >>> # xdoctest: +SKIP(\"undefined vars\")\n",
            " |          >>> for name, param in self.named_parameters():\n",
            " |          >>>     if name in ['bias']:\n",
            " |          >>>         print(param.size())\n",
            " |  \n",
            " |  parameters(self, recurse: bool = True) -> Iterator[torch.nn.parameter.Parameter]\n",
            " |      Return an iterator over module parameters.\n",
            " |      \n",
            " |      This is typically passed to an optimizer.\n",
            " |      \n",
            " |      Args:\n",
            " |          recurse (bool): if True, then yields parameters of this module\n",
            " |              and all submodules. Otherwise, yields only parameters that\n",
            " |              are direct members of this module.\n",
            " |      \n",
            " |      Yields:\n",
            " |          Parameter: module parameter\n",
            " |      \n",
            " |      Example::\n",
            " |      \n",
            " |          >>> # xdoctest: +SKIP(\"undefined vars\")\n",
            " |          >>> for param in model.parameters():\n",
            " |          >>>     print(type(param), param.size())\n",
            " |          <class 'torch.Tensor'> (20L,)\n",
            " |          <class 'torch.Tensor'> (20L, 1L, 5L, 5L)\n",
            " |  \n",
            " |  register_backward_hook(self, hook: Callable[[ForwardRef('Module'), Union[Tuple[torch.Tensor, ...], torch.Tensor], Union[Tuple[torch.Tensor, ...], torch.Tensor]], Union[NoneType, Tuple[torch.Tensor, ...], torch.Tensor]]) -> torch.utils.hooks.RemovableHandle\n",
            " |      Register a backward hook on the module.\n",
            " |      \n",
            " |      This function is deprecated in favor of :meth:`~torch.nn.Module.register_full_backward_hook` and\n",
            " |      the behavior of this function will change in future versions.\n",
            " |      \n",
            " |      Returns:\n",
            " |          :class:`torch.utils.hooks.RemovableHandle`:\n",
            " |              a handle that can be used to remove the added hook by calling\n",
            " |              ``handle.remove()``\n",
            " |  \n",
            " |  register_buffer(self, name: str, tensor: Optional[torch.Tensor], persistent: bool = True) -> None\n",
            " |      Add a buffer to the module.\n",
            " |      \n",
            " |      This is typically used to register a buffer that should not to be\n",
            " |      considered a model parameter. For example, BatchNorm's ``running_mean``\n",
            " |      is not a parameter, but is part of the module's state. Buffers, by\n",
            " |      default, are persistent and will be saved alongside parameters. This\n",
            " |      behavior can be changed by setting :attr:`persistent` to ``False``. The\n",
            " |      only difference between a persistent buffer and a non-persistent buffer\n",
            " |      is that the latter will not be a part of this module's\n",
            " |      :attr:`state_dict`.\n",
            " |      \n",
            " |      Buffers can be accessed as attributes using given names.\n",
            " |      \n",
            " |      Args:\n",
            " |          name (str): name of the buffer. The buffer can be accessed\n",
            " |              from this module using the given name\n",
            " |          tensor (Tensor or None): buffer to be registered. If ``None``, then operations\n",
            " |              that run on buffers, such as :attr:`cuda`, are ignored. If ``None``,\n",
            " |              the buffer is **not** included in the module's :attr:`state_dict`.\n",
            " |          persistent (bool): whether the buffer is part of this module's\n",
            " |              :attr:`state_dict`.\n",
            " |      \n",
            " |      Example::\n",
            " |      \n",
            " |          >>> # xdoctest: +SKIP(\"undefined vars\")\n",
            " |          >>> self.register_buffer('running_mean', torch.zeros(num_features))\n",
            " |  \n",
            " |  register_forward_hook(self, hook: Union[Callable[[~T, Tuple[Any, ...], Any], Optional[Any]], Callable[[~T, Tuple[Any, ...], Dict[str, Any], Any], Optional[Any]]], *, prepend: bool = False, with_kwargs: bool = False, always_call: bool = False) -> torch.utils.hooks.RemovableHandle\n",
            " |      Register a forward hook on the module.\n",
            " |      \n",
            " |      The hook will be called every time after :func:`forward` has computed an output.\n",
            " |      \n",
            " |      If ``with_kwargs`` is ``False`` or not specified, the input contains only\n",
            " |      the positional arguments given to the module. Keyword arguments won't be\n",
            " |      passed to the hooks and only to the ``forward``. The hook can modify the\n",
            " |      output. It can modify the input inplace but it will not have effect on\n",
            " |      forward since this is called after :func:`forward` is called. The hook\n",
            " |      should have the following signature::\n",
            " |      \n",
            " |          hook(module, args, output) -> None or modified output\n",
            " |      \n",
            " |      If ``with_kwargs`` is ``True``, the forward hook will be passed the\n",
            " |      ``kwargs`` given to the forward function and be expected to return the\n",
            " |      output possibly modified. The hook should have the following signature::\n",
            " |      \n",
            " |          hook(module, args, kwargs, output) -> None or modified output\n",
            " |      \n",
            " |      Args:\n",
            " |          hook (Callable): The user defined hook to be registered.\n",
            " |          prepend (bool): If ``True``, the provided ``hook`` will be fired\n",
            " |              before all existing ``forward`` hooks on this\n",
            " |              :class:`torch.nn.modules.Module`. Otherwise, the provided\n",
            " |              ``hook`` will be fired after all existing ``forward`` hooks on\n",
            " |              this :class:`torch.nn.modules.Module`. Note that global\n",
            " |              ``forward`` hooks registered with\n",
            " |              :func:`register_module_forward_hook` will fire before all hooks\n",
            " |              registered by this method.\n",
            " |              Default: ``False``\n",
            " |          with_kwargs (bool): If ``True``, the ``hook`` will be passed the\n",
            " |              kwargs given to the forward function.\n",
            " |              Default: ``False``\n",
            " |          always_call (bool): If ``True`` the ``hook`` will be run regardless of\n",
            " |              whether an exception is raised while calling the Module.\n",
            " |              Default: ``False``\n",
            " |      \n",
            " |      Returns:\n",
            " |          :class:`torch.utils.hooks.RemovableHandle`:\n",
            " |              a handle that can be used to remove the added hook by calling\n",
            " |              ``handle.remove()``\n",
            " |  \n",
            " |  register_forward_pre_hook(self, hook: Union[Callable[[~T, Tuple[Any, ...]], Optional[Any]], Callable[[~T, Tuple[Any, ...], Dict[str, Any]], Optional[Tuple[Any, Dict[str, Any]]]]], *, prepend: bool = False, with_kwargs: bool = False) -> torch.utils.hooks.RemovableHandle\n",
            " |      Register a forward pre-hook on the module.\n",
            " |      \n",
            " |      The hook will be called every time before :func:`forward` is invoked.\n",
            " |      \n",
            " |      \n",
            " |      If ``with_kwargs`` is false or not specified, the input contains only\n",
            " |      the positional arguments given to the module. Keyword arguments won't be\n",
            " |      passed to the hooks and only to the ``forward``. The hook can modify the\n",
            " |      input. User can either return a tuple or a single modified value in the\n",
            " |      hook. We will wrap the value into a tuple if a single value is returned\n",
            " |      (unless that value is already a tuple). The hook should have the\n",
            " |      following signature::\n",
            " |      \n",
            " |          hook(module, args) -> None or modified input\n",
            " |      \n",
            " |      If ``with_kwargs`` is true, the forward pre-hook will be passed the\n",
            " |      kwargs given to the forward function. And if the hook modifies the\n",
            " |      input, both the args and kwargs should be returned. The hook should have\n",
            " |      the following signature::\n",
            " |      \n",
            " |          hook(module, args, kwargs) -> None or a tuple of modified input and kwargs\n",
            " |      \n",
            " |      Args:\n",
            " |          hook (Callable): The user defined hook to be registered.\n",
            " |          prepend (bool): If true, the provided ``hook`` will be fired before\n",
            " |              all existing ``forward_pre`` hooks on this\n",
            " |              :class:`torch.nn.modules.Module`. Otherwise, the provided\n",
            " |              ``hook`` will be fired after all existing ``forward_pre`` hooks\n",
            " |              on this :class:`torch.nn.modules.Module`. Note that global\n",
            " |              ``forward_pre`` hooks registered with\n",
            " |              :func:`register_module_forward_pre_hook` will fire before all\n",
            " |              hooks registered by this method.\n",
            " |              Default: ``False``\n",
            " |          with_kwargs (bool): If true, the ``hook`` will be passed the kwargs\n",
            " |              given to the forward function.\n",
            " |              Default: ``False``\n",
            " |      \n",
            " |      Returns:\n",
            " |          :class:`torch.utils.hooks.RemovableHandle`:\n",
            " |              a handle that can be used to remove the added hook by calling\n",
            " |              ``handle.remove()``\n",
            " |  \n",
            " |  register_full_backward_hook(self, hook: Callable[[ForwardRef('Module'), Union[Tuple[torch.Tensor, ...], torch.Tensor], Union[Tuple[torch.Tensor, ...], torch.Tensor]], Union[NoneType, Tuple[torch.Tensor, ...], torch.Tensor]], prepend: bool = False) -> torch.utils.hooks.RemovableHandle\n",
            " |      Register a backward hook on the module.\n",
            " |      \n",
            " |      The hook will be called every time the gradients with respect to a module\n",
            " |      are computed, i.e. the hook will execute if and only if the gradients with\n",
            " |      respect to module outputs are computed. The hook should have the following\n",
            " |      signature::\n",
            " |      \n",
            " |          hook(module, grad_input, grad_output) -> tuple(Tensor) or None\n",
            " |      \n",
            " |      The :attr:`grad_input` and :attr:`grad_output` are tuples that contain the gradients\n",
            " |      with respect to the inputs and outputs respectively. The hook should\n",
            " |      not modify its arguments, but it can optionally return a new gradient with\n",
            " |      respect to the input that will be used in place of :attr:`grad_input` in\n",
            " |      subsequent computations. :attr:`grad_input` will only correspond to the inputs given\n",
            " |      as positional arguments and all kwarg arguments are ignored. Entries\n",
            " |      in :attr:`grad_input` and :attr:`grad_output` will be ``None`` for all non-Tensor\n",
            " |      arguments.\n",
            " |      \n",
            " |      For technical reasons, when this hook is applied to a Module, its forward function will\n",
            " |      receive a view of each Tensor passed to the Module. Similarly the caller will receive a view\n",
            " |      of each Tensor returned by the Module's forward function.\n",
            " |      \n",
            " |      .. warning ::\n",
            " |          Modifying inputs or outputs inplace is not allowed when using backward hooks and\n",
            " |          will raise an error.\n",
            " |      \n",
            " |      Args:\n",
            " |          hook (Callable): The user-defined hook to be registered.\n",
            " |          prepend (bool): If true, the provided ``hook`` will be fired before\n",
            " |              all existing ``backward`` hooks on this\n",
            " |              :class:`torch.nn.modules.Module`. Otherwise, the provided\n",
            " |              ``hook`` will be fired after all existing ``backward`` hooks on\n",
            " |              this :class:`torch.nn.modules.Module`. Note that global\n",
            " |              ``backward`` hooks registered with\n",
            " |              :func:`register_module_full_backward_hook` will fire before\n",
            " |              all hooks registered by this method.\n",
            " |      \n",
            " |      Returns:\n",
            " |          :class:`torch.utils.hooks.RemovableHandle`:\n",
            " |              a handle that can be used to remove the added hook by calling\n",
            " |              ``handle.remove()``\n",
            " |  \n",
            " |  register_full_backward_pre_hook(self, hook: Callable[[ForwardRef('Module'), Union[Tuple[torch.Tensor, ...], torch.Tensor]], Union[NoneType, Tuple[torch.Tensor, ...], torch.Tensor]], prepend: bool = False) -> torch.utils.hooks.RemovableHandle\n",
            " |      Register a backward pre-hook on the module.\n",
            " |      \n",
            " |      The hook will be called every time the gradients for the module are computed.\n",
            " |      The hook should have the following signature::\n",
            " |      \n",
            " |          hook(module, grad_output) -> tuple[Tensor] or None\n",
            " |      \n",
            " |      The :attr:`grad_output` is a tuple. The hook should\n",
            " |      not modify its arguments, but it can optionally return a new gradient with\n",
            " |      respect to the output that will be used in place of :attr:`grad_output` in\n",
            " |      subsequent computations. Entries in :attr:`grad_output` will be ``None`` for\n",
            " |      all non-Tensor arguments.\n",
            " |      \n",
            " |      For technical reasons, when this hook is applied to a Module, its forward function will\n",
            " |      receive a view of each Tensor passed to the Module. Similarly the caller will receive a view\n",
            " |      of each Tensor returned by the Module's forward function.\n",
            " |      \n",
            " |      .. warning ::\n",
            " |          Modifying inputs inplace is not allowed when using backward hooks and\n",
            " |          will raise an error.\n",
            " |      \n",
            " |      Args:\n",
            " |          hook (Callable): The user-defined hook to be registered.\n",
            " |          prepend (bool): If true, the provided ``hook`` will be fired before\n",
            " |              all existing ``backward_pre`` hooks on this\n",
            " |              :class:`torch.nn.modules.Module`. Otherwise, the provided\n",
            " |              ``hook`` will be fired after all existing ``backward_pre`` hooks\n",
            " |              on this :class:`torch.nn.modules.Module`. Note that global\n",
            " |              ``backward_pre`` hooks registered with\n",
            " |              :func:`register_module_full_backward_pre_hook` will fire before\n",
            " |              all hooks registered by this method.\n",
            " |      \n",
            " |      Returns:\n",
            " |          :class:`torch.utils.hooks.RemovableHandle`:\n",
            " |              a handle that can be used to remove the added hook by calling\n",
            " |              ``handle.remove()``\n",
            " |  \n",
            " |  register_load_state_dict_post_hook(self, hook)\n",
            " |      Register a post-hook to be run after module's :meth:`~nn.Module.load_state_dict` is called.\n",
            " |      \n",
            " |      It should have the following signature::\n",
            " |          hook(module, incompatible_keys) -> None\n",
            " |      \n",
            " |      The ``module`` argument is the current module that this hook is registered\n",
            " |      on, and the ``incompatible_keys`` argument is a ``NamedTuple`` consisting\n",
            " |      of attributes ``missing_keys`` and ``unexpected_keys``. ``missing_keys``\n",
            " |      is a ``list`` of ``str`` containing the missing keys and\n",
            " |      ``unexpected_keys`` is a ``list`` of ``str`` containing the unexpected keys.\n",
            " |      \n",
            " |      The given incompatible_keys can be modified inplace if needed.\n",
            " |      \n",
            " |      Note that the checks performed when calling :func:`load_state_dict` with\n",
            " |      ``strict=True`` are affected by modifications the hook makes to\n",
            " |      ``missing_keys`` or ``unexpected_keys``, as expected. Additions to either\n",
            " |      set of keys will result in an error being thrown when ``strict=True``, and\n",
            " |      clearing out both missing and unexpected keys will avoid an error.\n",
            " |      \n",
            " |      Returns:\n",
            " |          :class:`torch.utils.hooks.RemovableHandle`:\n",
            " |              a handle that can be used to remove the added hook by calling\n",
            " |              ``handle.remove()``\n",
            " |  \n",
            " |  register_load_state_dict_pre_hook(self, hook)\n",
            " |      Register a pre-hook to be run before module's :meth:`~nn.Module.load_state_dict` is called.\n",
            " |      \n",
            " |      It should have the following signature::\n",
            " |          hook(module, state_dict, prefix, local_metadata, strict, missing_keys, unexpected_keys, error_msgs) -> None  # noqa: B950\n",
            " |      \n",
            " |      Arguments:\n",
            " |          hook (Callable): Callable hook that will be invoked before\n",
            " |              loading the state dict.\n",
            " |  \n",
            " |  register_module(self, name: str, module: Optional[ForwardRef('Module')]) -> None\n",
            " |      Alias for :func:`add_module`.\n",
            " |  \n",
            " |  register_parameter(self, name: str, param: Optional[torch.nn.parameter.Parameter]) -> None\n",
            " |      Add a parameter to the module.\n",
            " |      \n",
            " |      The parameter can be accessed as an attribute using given name.\n",
            " |      \n",
            " |      Args:\n",
            " |          name (str): name of the parameter. The parameter can be accessed\n",
            " |              from this module using the given name\n",
            " |          param (Parameter or None): parameter to be added to the module. If\n",
            " |              ``None``, then operations that run on parameters, such as :attr:`cuda`,\n",
            " |              are ignored. If ``None``, the parameter is **not** included in the\n",
            " |              module's :attr:`state_dict`.\n",
            " |  \n",
            " |  register_state_dict_post_hook(self, hook)\n",
            " |      Register a post-hook for the :meth:`~torch.nn.Module.state_dict` method.\n",
            " |      \n",
            " |      It should have the following signature::\n",
            " |          hook(module, state_dict, prefix, local_metadata) -> None\n",
            " |      \n",
            " |      The registered hooks can modify the ``state_dict`` inplace.\n",
            " |  \n",
            " |  register_state_dict_pre_hook(self, hook)\n",
            " |      Register a pre-hook for the :meth:`~torch.nn.Module.state_dict` method.\n",
            " |      \n",
            " |      It should have the following signature::\n",
            " |          hook(module, prefix, keep_vars) -> None\n",
            " |      \n",
            " |      The registered hooks can be used to perform pre-processing before the ``state_dict``\n",
            " |      call is made.\n",
            " |  \n",
            " |  requires_grad_(self: ~T, requires_grad: bool = True) -> ~T\n",
            " |      Change if autograd should record operations on parameters in this module.\n",
            " |      \n",
            " |      This method sets the parameters' :attr:`requires_grad` attributes\n",
            " |      in-place.\n",
            " |      \n",
            " |      This method is helpful for freezing part of the module for finetuning\n",
            " |      or training parts of a model individually (e.g., GAN training).\n",
            " |      \n",
            " |      See :ref:`locally-disable-grad-doc` for a comparison between\n",
            " |      `.requires_grad_()` and several similar mechanisms that may be confused with it.\n",
            " |      \n",
            " |      Args:\n",
            " |          requires_grad (bool): whether autograd should record operations on\n",
            " |                                parameters in this module. Default: ``True``.\n",
            " |      \n",
            " |      Returns:\n",
            " |          Module: self\n",
            " |  \n",
            " |  set_extra_state(self, state: Any) -> None\n",
            " |      Set extra state contained in the loaded `state_dict`.\n",
            " |      \n",
            " |      This function is called from :func:`load_state_dict` to handle any extra state\n",
            " |      found within the `state_dict`. Implement this function and a corresponding\n",
            " |      :func:`get_extra_state` for your module if you need to store extra state within its\n",
            " |      `state_dict`.\n",
            " |      \n",
            " |      Args:\n",
            " |          state (dict): Extra state from the `state_dict`\n",
            " |  \n",
            " |  set_submodule(self, target: str, module: 'Module') -> None\n",
            " |      Set the submodule given by ``target`` if it exists, otherwise throw an error.\n",
            " |      \n",
            " |      For example, let's say you have an ``nn.Module`` ``A`` that\n",
            " |      looks like this:\n",
            " |      \n",
            " |      .. code-block:: text\n",
            " |      \n",
            " |          A(\n",
            " |              (net_b): Module(\n",
            " |                  (net_c): Module(\n",
            " |                      (conv): Conv2d(16, 33, kernel_size=(3, 3), stride=(2, 2))\n",
            " |                  )\n",
            " |                  (linear): Linear(in_features=100, out_features=200, bias=True)\n",
            " |              )\n",
            " |          )\n",
            " |      \n",
            " |      (The diagram shows an ``nn.Module`` ``A``. ``A`` has a nested\n",
            " |      submodule ``net_b``, which itself has two submodules ``net_c``\n",
            " |      and ``linear``. ``net_c`` then has a submodule ``conv``.)\n",
            " |      \n",
            " |      To overide the ``Conv2d`` with a new submodule ``Linear``, you\n",
            " |      would call\n",
            " |      ``set_submodule(\"net_b.net_c.conv\", nn.Linear(33, 16))``.\n",
            " |      \n",
            " |      Args:\n",
            " |          target: The fully-qualified string name of the submodule\n",
            " |              to look for. (See above example for how to specify a\n",
            " |              fully-qualified string.)\n",
            " |          module: The module to set the submodule to.\n",
            " |      \n",
            " |      Raises:\n",
            " |          ValueError: If the target string is empty\n",
            " |          AttributeError: If the target string references an invalid\n",
            " |              path or resolves to something that is not an\n",
            " |              ``nn.Module``\n",
            " |  \n",
            " |  share_memory(self: ~T) -> ~T\n",
            " |      See :meth:`torch.Tensor.share_memory_`.\n",
            " |  \n",
            " |  state_dict(self, *args, destination=None, prefix='', keep_vars=False)\n",
            " |      Return a dictionary containing references to the whole state of the module.\n",
            " |      \n",
            " |      Both parameters and persistent buffers (e.g. running averages) are\n",
            " |      included. Keys are corresponding parameter and buffer names.\n",
            " |      Parameters and buffers set to ``None`` are not included.\n",
            " |      \n",
            " |      .. note::\n",
            " |          The returned object is a shallow copy. It contains references\n",
            " |          to the module's parameters and buffers.\n",
            " |      \n",
            " |      .. warning::\n",
            " |          Currently ``state_dict()`` also accepts positional arguments for\n",
            " |          ``destination``, ``prefix`` and ``keep_vars`` in order. However,\n",
            " |          this is being deprecated and keyword arguments will be enforced in\n",
            " |          future releases.\n",
            " |      \n",
            " |      .. warning::\n",
            " |          Please avoid the use of argument ``destination`` as it is not\n",
            " |          designed for end-users.\n",
            " |      \n",
            " |      Args:\n",
            " |          destination (dict, optional): If provided, the state of module will\n",
            " |              be updated into the dict and the same object is returned.\n",
            " |              Otherwise, an ``OrderedDict`` will be created and returned.\n",
            " |              Default: ``None``.\n",
            " |          prefix (str, optional): a prefix added to parameter and buffer\n",
            " |              names to compose the keys in state_dict. Default: ``''``.\n",
            " |          keep_vars (bool, optional): by default the :class:`~torch.Tensor` s\n",
            " |              returned in the state dict are detached from autograd. If it's\n",
            " |              set to ``True``, detaching will not be performed.\n",
            " |              Default: ``False``.\n",
            " |      \n",
            " |      Returns:\n",
            " |          dict:\n",
            " |              a dictionary containing a whole state of the module\n",
            " |      \n",
            " |      Example::\n",
            " |      \n",
            " |          >>> # xdoctest: +SKIP(\"undefined vars\")\n",
            " |          >>> module.state_dict().keys()\n",
            " |          ['bias', 'weight']\n",
            " |  \n",
            " |  to(self, *args, **kwargs)\n",
            " |      Move and/or cast the parameters and buffers.\n",
            " |      \n",
            " |      This can be called as\n",
            " |      \n",
            " |      .. function:: to(device=None, dtype=None, non_blocking=False)\n",
            " |         :noindex:\n",
            " |      \n",
            " |      .. function:: to(dtype, non_blocking=False)\n",
            " |         :noindex:\n",
            " |      \n",
            " |      .. function:: to(tensor, non_blocking=False)\n",
            " |         :noindex:\n",
            " |      \n",
            " |      .. function:: to(memory_format=torch.channels_last)\n",
            " |         :noindex:\n",
            " |      \n",
            " |      Its signature is similar to :meth:`torch.Tensor.to`, but only accepts\n",
            " |      floating point or complex :attr:`dtype`\\ s. In addition, this method will\n",
            " |      only cast the floating point or complex parameters and buffers to :attr:`dtype`\n",
            " |      (if given). The integral parameters and buffers will be moved\n",
            " |      :attr:`device`, if that is given, but with dtypes unchanged. When\n",
            " |      :attr:`non_blocking` is set, it tries to convert/move asynchronously\n",
            " |      with respect to the host if possible, e.g., moving CPU Tensors with\n",
            " |      pinned memory to CUDA devices.\n",
            " |      \n",
            " |      See below for examples.\n",
            " |      \n",
            " |      .. note::\n",
            " |          This method modifies the module in-place.\n",
            " |      \n",
            " |      Args:\n",
            " |          device (:class:`torch.device`): the desired device of the parameters\n",
            " |              and buffers in this module\n",
            " |          dtype (:class:`torch.dtype`): the desired floating point or complex dtype of\n",
            " |              the parameters and buffers in this module\n",
            " |          tensor (torch.Tensor): Tensor whose dtype and device are the desired\n",
            " |              dtype and device for all parameters and buffers in this module\n",
            " |          memory_format (:class:`torch.memory_format`): the desired memory\n",
            " |              format for 4D parameters and buffers in this module (keyword\n",
            " |              only argument)\n",
            " |      \n",
            " |      Returns:\n",
            " |          Module: self\n",
            " |      \n",
            " |      Examples::\n",
            " |      \n",
            " |          >>> # xdoctest: +IGNORE_WANT(\"non-deterministic\")\n",
            " |          >>> linear = nn.Linear(2, 2)\n",
            " |          >>> linear.weight\n",
            " |          Parameter containing:\n",
            " |          tensor([[ 0.1913, -0.3420],\n",
            " |                  [-0.5113, -0.2325]])\n",
            " |          >>> linear.to(torch.double)\n",
            " |          Linear(in_features=2, out_features=2, bias=True)\n",
            " |          >>> linear.weight\n",
            " |          Parameter containing:\n",
            " |          tensor([[ 0.1913, -0.3420],\n",
            " |                  [-0.5113, -0.2325]], dtype=torch.float64)\n",
            " |          >>> # xdoctest: +REQUIRES(env:TORCH_DOCTEST_CUDA1)\n",
            " |          >>> gpu1 = torch.device(\"cuda:1\")\n",
            " |          >>> linear.to(gpu1, dtype=torch.half, non_blocking=True)\n",
            " |          Linear(in_features=2, out_features=2, bias=True)\n",
            " |          >>> linear.weight\n",
            " |          Parameter containing:\n",
            " |          tensor([[ 0.1914, -0.3420],\n",
            " |                  [-0.5112, -0.2324]], dtype=torch.float16, device='cuda:1')\n",
            " |          >>> cpu = torch.device(\"cpu\")\n",
            " |          >>> linear.to(cpu)\n",
            " |          Linear(in_features=2, out_features=2, bias=True)\n",
            " |          >>> linear.weight\n",
            " |          Parameter containing:\n",
            " |          tensor([[ 0.1914, -0.3420],\n",
            " |                  [-0.5112, -0.2324]], dtype=torch.float16)\n",
            " |      \n",
            " |          >>> linear = nn.Linear(2, 2, bias=None).to(torch.cdouble)\n",
            " |          >>> linear.weight\n",
            " |          Parameter containing:\n",
            " |          tensor([[ 0.3741+0.j,  0.2382+0.j],\n",
            " |                  [ 0.5593+0.j, -0.4443+0.j]], dtype=torch.complex128)\n",
            " |          >>> linear(torch.ones(3, 2, dtype=torch.cdouble))\n",
            " |          tensor([[0.6122+0.j, 0.1150+0.j],\n",
            " |                  [0.6122+0.j, 0.1150+0.j],\n",
            " |                  [0.6122+0.j, 0.1150+0.j]], dtype=torch.complex128)\n",
            " |  \n",
            " |  to_empty(self: ~T, *, device: Union[int, str, torch.device, NoneType], recurse: bool = True) -> ~T\n",
            " |      Move the parameters and buffers to the specified device without copying storage.\n",
            " |      \n",
            " |      Args:\n",
            " |          device (:class:`torch.device`): The desired device of the parameters\n",
            " |              and buffers in this module.\n",
            " |          recurse (bool): Whether parameters and buffers of submodules should\n",
            " |              be recursively moved to the specified device.\n",
            " |      \n",
            " |      Returns:\n",
            " |          Module: self\n",
            " |  \n",
            " |  train(self: ~T, mode: bool = True) -> ~T\n",
            " |      Set the module in training mode.\n",
            " |      \n",
            " |      This has an effect only on certain modules. See the documentation of\n",
            " |      particular modules for details of their behaviors in training/evaluation\n",
            " |      mode, i.e., whether they are affected, e.g. :class:`Dropout`, :class:`BatchNorm`,\n",
            " |      etc.\n",
            " |      \n",
            " |      Args:\n",
            " |          mode (bool): whether to set training mode (``True``) or evaluation\n",
            " |                       mode (``False``). Default: ``True``.\n",
            " |      \n",
            " |      Returns:\n",
            " |          Module: self\n",
            " |  \n",
            " |  type(self: ~T, dst_type: Union[torch.dtype, str]) -> ~T\n",
            " |      Casts all parameters and buffers to :attr:`dst_type`.\n",
            " |      \n",
            " |      .. note::\n",
            " |          This method modifies the module in-place.\n",
            " |      \n",
            " |      Args:\n",
            " |          dst_type (type or string): the desired type\n",
            " |      \n",
            " |      Returns:\n",
            " |          Module: self\n",
            " |  \n",
            " |  xpu(self: ~T, device: Union[int, torch.device, NoneType] = None) -> ~T\n",
            " |      Move all model parameters and buffers to the XPU.\n",
            " |      \n",
            " |      This also makes associated parameters and buffers different objects. So\n",
            " |      it should be called before constructing optimizer if the module will\n",
            " |      live on XPU while being optimized.\n",
            " |      \n",
            " |      .. note::\n",
            " |          This method modifies the module in-place.\n",
            " |      \n",
            " |      Arguments:\n",
            " |          device (int, optional): if specified, all parameters will be\n",
            " |              copied to that device\n",
            " |      \n",
            " |      Returns:\n",
            " |          Module: self\n",
            " |  \n",
            " |  zero_grad(self, set_to_none: bool = True) -> None\n",
            " |      Reset gradients of all model parameters.\n",
            " |      \n",
            " |      See similar function under :class:`torch.optim.Optimizer` for more context.\n",
            " |      \n",
            " |      Args:\n",
            " |          set_to_none (bool): instead of setting to zero, set the grads to None.\n",
            " |              See :meth:`torch.optim.Optimizer.zero_grad` for details.\n",
            " |  \n",
            " |  ----------------------------------------------------------------------\n",
            " |  Data descriptors inherited from torch.nn.modules.module.Module:\n",
            " |  \n",
            " |  __dict__\n",
            " |      dictionary for instance variables (if defined)\n",
            " |  \n",
            " |  __weakref__\n",
            " |      list of weak references to the object (if defined)\n",
            " |  \n",
            " |  ----------------------------------------------------------------------\n",
            " |  Data and other attributes inherited from torch.nn.modules.module.Module:\n",
            " |  \n",
            " |  T_destination = ~T_destination\n",
            " |  \n",
            " |  call_super_init = False\n",
            " |  \n",
            " |  dump_patches = False\n",
            "\n"
          ]
        }
      ],
      "source": [
        "from torchcrf import CRF\n",
        "help(CRF)\n"
      ]
    },
    {
      "cell_type": "markdown",
      "metadata": {
        "id": "T0vXVPDaEluG"
      },
      "source": [
        "# 7. Классификатор тональности"
      ]
    },
    {
      "cell_type": "markdown",
      "metadata": {
        "id": "0ayzkRjwEluG"
      },
      "source": [
        "- В качестве решения любого задания <b>не принимается</b> модель с качеством менее 62.00% макроусредненной F1 на тесте.\n",
        "- <b>Можно</b> улучшать модели сверх предложенных условий: <b>добавлять свои признаки к указанным в задании</b>, изменять способ классификации и подбирать гиперпараметры.\n",
        "- Тестовые данные можно использовать только при оценке моделей.\n",
        "\n",
        "\n",
        "Данные для обучения моделей:"
      ]
    },
    {
      "cell_type": "code",
      "execution_count": null,
      "metadata": {
        "id": "1Km7WCTSEluG",
        "outputId": "6d678146-8d0d-439f-a9ca-81661d3841a7"
      },
      "outputs": [
        {
          "name": "stderr",
          "output_type": "stream",
          "text": [
            "\"wget\" ­Ґ пў«пҐвбп ў­гваҐ­­Ґ© Ё«Ё ў­Ґи­Ґ©\n",
            "Є®¬ ­¤®©, ЁбЇ®«­пҐ¬®© Їа®Ја ¬¬®© Ё«Ё Ї ЄҐв­л¬ д ©«®¬.\n"
          ]
        }
      ],
      "source": [
        "! wget https://www.dropbox.com/s/t1gs701zvqaxqnk/rusentiment_random_posts.csv"
      ]
    },
    {
      "cell_type": "code",
      "execution_count": null,
      "metadata": {
        "id": "zfRPW33bEluG",
        "outputId": "7985b5a6-901f-4378-f24f-c3cbd5329596"
      },
      "outputs": [
        {
          "data": {
            "text/plain": [
              "('rusentiment_random_posts.csv', <http.client.HTTPMessage at 0x22eb51fdbd0>)"
            ]
          },
          "execution_count": 2,
          "metadata": {},
          "output_type": "execute_result"
        }
      ],
      "source": [
        "import urllib.request\n",
        "\n",
        "url = \"https://www.dropbox.com/s/t1gs701zvqaxqnk/rusentiment_random_posts.csv?dl=1\"\n",
        "urllib.request.urlretrieve(url, \"rusentiment_random_posts.csv\")\n"
      ]
    },
    {
      "cell_type": "markdown",
      "metadata": {
        "id": "z7ap1VzcEluG"
      },
      "source": [
        "Данные для тестирования моделей:"
      ]
    },
    {
      "cell_type": "code",
      "execution_count": null,
      "metadata": {
        "id": "r0g84bqyEluH",
        "outputId": "b5e841b1-8137-4c43-9dc1-373559419066"
      },
      "outputs": [
        {
          "name": "stderr",
          "output_type": "stream",
          "text": [
            "\"wget\" ­Ґ пў«пҐвбп ў­гваҐ­­Ґ© Ё«Ё ў­Ґи­Ґ©\n",
            "Є®¬ ­¤®©, ЁбЇ®«­пҐ¬®© Їа®Ја ¬¬®© Ё«Ё Ї ЄҐв­л¬ д ©«®¬.\n"
          ]
        }
      ],
      "source": [
        "! wget https://www.dropbox.com/s/gr4z1x39y1j6dtx/rusentiment_test.csv"
      ]
    },
    {
      "cell_type": "code",
      "execution_count": null,
      "metadata": {
        "id": "iywRKAQVEluH",
        "outputId": "485a5f3e-22b4-450d-a2c6-1bcfa29ed644"
      },
      "outputs": [
        {
          "data": {
            "text/plain": [
              "('rusentiment_test_.csv', <http.client.HTTPMessage at 0x22eb51fc4c0>)"
            ]
          },
          "execution_count": 4,
          "metadata": {},
          "output_type": "execute_result"
        }
      ],
      "source": [
        "import urllib.request\n",
        "\n",
        "url = \"https://www.dropbox.com/s/gr4z1x39y1j6dtx/rusentiment_test.csv?dl=1\"\n",
        "urllib.request.urlretrieve(url, \"rusentiment_test.csv\")"
      ]
    },
    {
      "cell_type": "markdown",
      "metadata": {
        "id": "3ZwXLby8EluH"
      },
      "source": [
        "В заданиях 7.1 - 7.3 заготовка кода есть в презентации."
      ]
    },
    {
      "cell_type": "markdown",
      "metadata": {
        "id": "a3FlYFOoEluH"
      },
      "source": [
        "#### 7.4 Обучить fasttext-классификатор, сравнить качество классификации с предобученными эмбеддингами и обученными с нуля при классификации"
      ]
    },
    {
      "cell_type": "code",
      "execution_count": null,
      "metadata": {
        "id": "1S_915-dEluH"
      },
      "outputs": [],
      "source": [
        "import fasttext\n",
        "\n",
        "### Your code goes here ###\n",
        "# model = fasttext.train_supervised(...\n",
        "# model.test(...\n",
        "###########################"
      ]
    },
    {
      "cell_type": "markdown",
      "metadata": {
        "id": "Wrq6BpMrEluI"
      },
      "source": [
        "### 0 подготовка"
      ]
    },
    {
      "cell_type": "code",
      "execution_count": null,
      "metadata": {
        "id": "9NdB9Z8eEluI"
      },
      "outputs": [],
      "source": [
        "import pandas as pd, re, pymorphy2, numpy as np\n",
        "from sklearn.model_selection import train_test_split\n",
        "from sklearn.metrics import f1_score\n",
        "morph = pymorphy2.MorphAnalyzer()\n",
        "\n",
        "df_train = pd.read_csv('rusentiment_random_posts.csv')\n",
        "df_test  = pd.read_csv('rusentiment_test.csv')          # **использовать ТОЛЬКО для финальной оценки!**\n",
        "\n",
        "def clean(text):\n",
        "    text = re.sub(r'http\\S+|\\W+', ' ', str(text).lower())\n",
        "    return re.sub(r'\\s+', ' ', text).strip()\n",
        "\n",
        "def lemmatize(text):\n",
        "    return ' '.join(morph.parse(t)[0].normal_form for t in text.split())\n",
        "\n",
        "df_train['lemmas'] = df_train['text'].map(clean).map(lemmatize)\n"
      ]
    },
    {
      "cell_type": "code",
      "execution_count": null,
      "metadata": {
        "id": "OwIfbAi3EluL"
      },
      "outputs": [],
      "source": [
        "df = pd.read_csv(r\"rusentiment_random_posts.csv\")\n"
      ]
    },
    {
      "cell_type": "code",
      "execution_count": null,
      "metadata": {
        "id": "YLu8xsoVEluL",
        "outputId": "ab264091-8c61-4317-af47-e11b0e18e574"
      },
      "outputs": [
        {
          "name": "stdout",
          "output_type": "stream",
          "text": [
            "Collecting nltk\n",
            "  Downloading nltk-3.9.1-py3-none-any.whl.metadata (2.9 kB)\n",
            "Requirement already satisfied: click in d:\\i_nlp\\i_nlp\\lib\\site-packages (from nltk) (8.1.8)\n",
            "Requirement already satisfied: joblib in d:\\i_nlp\\i_nlp\\lib\\site-packages (from nltk) (1.4.2)\n",
            "Requirement already satisfied: regex>=2021.8.3 in d:\\i_nlp\\i_nlp\\lib\\site-packages (from nltk) (2024.11.6)\n",
            "Requirement already satisfied: tqdm in d:\\i_nlp\\i_nlp\\lib\\site-packages (from nltk) (4.67.1)\n",
            "Requirement already satisfied: colorama in d:\\i_nlp\\i_nlp\\lib\\site-packages (from click->nltk) (0.4.6)\n",
            "Downloading nltk-3.9.1-py3-none-any.whl (1.5 MB)\n",
            "   ---------------------------------------- 0.0/1.5 MB ? eta -:--:--\n",
            "   ---------------------------------------- 0.0/1.5 MB ? eta -:--:--\n",
            "   -------------------- ------------------- 0.8/1.5 MB 6.7 MB/s eta 0:00:01\n",
            "   ---------------------------------- ----- 1.3/1.5 MB 3.5 MB/s eta 0:00:01\n",
            "   ---------------------------------------- 1.5/1.5 MB 3.8 MB/s eta 0:00:00\n",
            "Installing collected packages: nltk\n",
            "Successfully installed nltk-3.9.1\n"
          ]
        },
        {
          "name": "stderr",
          "output_type": "stream",
          "text": [
            "\n",
            "[notice] A new release of pip is available: 25.0.1 -> 25.1.1\n",
            "[notice] To update, run: python.exe -m pip install --upgrade pip\n"
          ]
        }
      ],
      "source": [
        "!pip install nltk"
      ]
    },
    {
      "cell_type": "code",
      "execution_count": null,
      "metadata": {
        "id": "QV_bGN3uEluM",
        "outputId": "c5a18132-4aaf-41b7-f546-bdd8abe94ed6"
      },
      "outputs": [
        {
          "name": "stdout",
          "output_type": "stream",
          "text": [
            "| term          |   avg_tf_idf |\n",
            "|:--------------|-------------:|\n",
            "| днем          |   0.0225197  |\n",
            "| это           |   0.0191297  |\n",
            "| рождения      |   0.0176681  |\n",
            "| днем рождения |   0.0168631  |\n",
            "| тебе          |   0.0130848  |\n",
            "| спасибо       |   0.00916209 |\n",
            "| сегодня       |   0.00907512 |\n",
            "| люблю         |   0.00813868 |\n",
            "| просто        |   0.00728347 |\n",
            "| день          |   0.00614237 |\n",
            "| очень         |   0.00613917 |\n",
            "| всем          |   0.00551878 |\n",
            "| кого          |   0.00497317 |\n",
            "| хочу          |   0.00497047 |\n",
            "| привет        |   0.00494454 |\n",
            "| жизни         |   0.00467132 |\n",
            "| новый         |   0.00435437 |\n",
            "| жизнь         |   0.00413307 |\n",
            "| завтра        |   0.00400164 |\n",
            "| буду          |   0.00394678 |\n"
          ]
        },
        {
          "name": "stderr",
          "output_type": "stream",
          "text": [
            "[nltk_data] Downloading package stopwords to\n",
            "[nltk_data]     C:\\Users\\Ruslan\\AppData\\Roaming\\nltk_data...\n",
            "[nltk_data]   Package stopwords is already up-to-date!\n"
          ]
        }
      ],
      "source": [
        "import re, pandas as pd, numpy as np\n",
        "from sklearn.feature_extraction.text import TfidfVectorizer\n",
        "from nltk.corpus import stopwords\n",
        "import nltk; nltk.download('stopwords')\n",
        "\n",
        "ru_stop = stopwords.words(\"russian\")          # список стоп-слов\n",
        "\n",
        "def clean(txt: str) -> str:\n",
        "    txt = re.sub(r\"http\\S+|\\d+\", \" \", str(txt).lower())\n",
        "    txt = txt.replace(\"ё\", \"е\")               # ←  объединяем ё → е\n",
        "    return re.sub(r\"\\W+\", \" \", txt).strip()\n",
        "\n",
        "# читаем корпус\n",
        "df = pd.read_csv(\"rusentiment_test.csv\")\n",
        "corpus = df[\"text\"].map(clean).tolist()\n",
        "\n",
        "# TF-IDF (1–2-граммы, без русских стоп-слов)\n",
        "tfidf = TfidfVectorizer(\n",
        "    ngram_range=(1, 2),\n",
        "    max_features=100_000,\n",
        "    min_df=2,\n",
        "    sublinear_tf=True,\n",
        "    stop_words=ru_stop\n",
        ")\n",
        "X = tfidf.fit_transform(corpus)\n",
        "\n",
        "# топ-20 признаков\n",
        "avg = np.asarray(X.mean(axis=0)).ravel()\n",
        "idx = avg.argsort()[::-1][:20]\n",
        "\n",
        "top20 = pd.DataFrame({\n",
        "    \"term\": tfidf.get_feature_names_out()[idx],\n",
        "    \"avg_tf_idf\": avg[idx]\n",
        "})\n",
        "print(top20.to_markdown(index=False))\n"
      ]
    },
    {
      "cell_type": "code",
      "execution_count": null,
      "metadata": {
        "id": "1Mx1PVSIEluM",
        "outputId": "7f2469cc-804e-4164-880d-71e1e9aa302f"
      },
      "outputs": [
        {
          "name": "stderr",
          "output_type": "stream",
          "text": [
            "[nltk_data] Downloading package stopwords to\n",
            "[nltk_data]     C:\\Users\\Ruslan\\AppData\\Roaming\\nltk_data...\n",
            "[nltk_data]   Package stopwords is already up-to-date!\n"
          ]
        },
        {
          "name": "stdout",
          "output_type": "stream",
          "text": [
            "| term          |   avg_tf_idf |\n",
            "|:--------------|-------------:|\n",
            "| днем          |   0.0176816  |\n",
            "| рождения      |   0.0146228  |\n",
            "| днем рождения |   0.0141717  |\n",
            "| это           |   0.0133668  |\n",
            "| тебе          |   0.0107614  |\n",
            "| люблю         |   0.00869376 |\n",
            "| очень         |   0.00539295 |\n",
            "| спасибо       |   0.00523682 |\n",
            "| день          |   0.0050461  |\n",
            "| сегодня       |   0.0050029  |\n",
            "| хочу          |   0.00491589 |\n",
            "| просто        |   0.00467867 |\n",
            "| всем          |   0.00434581 |\n",
            "| привет        |   0.00423999 |\n",
            "| поздравляю    |   0.00400155 |\n",
            "| самого        |   0.00345362 |\n",
            "| праздником    |   0.00327341 |\n",
            "| id            |   0.00306965 |\n",
            "| жизни         |   0.00303366 |\n",
            "| почему        |   0.00293251 |\n"
          ]
        }
      ],
      "source": [
        "import re, pandas as pd, numpy as np\n",
        "from sklearn.feature_extraction.text import TfidfVectorizer\n",
        "from nltk.corpus import stopwords\n",
        "import nltk; nltk.download('stopwords')\n",
        "\n",
        "ru_stop = stopwords.words(\"russian\")          # список стоп-слов\n",
        "\n",
        "def clean(txt: str) -> str:\n",
        "    txt = re.sub(r\"http\\S+|\\d+\", \" \", str(txt).lower())\n",
        "    txt = txt.replace(\"ё\", \"е\")               # ←  объединяем ё → е\n",
        "    return re.sub(r\"\\W+\", \" \", txt).strip()\n",
        "\n",
        "# читаем корпус\n",
        "df = pd.read_csv(\"rusentiment_random_posts.csv\")\n",
        "corpus = df[\"text\"].map(clean).tolist()\n",
        "\n",
        "# TF-IDF (1–2-граммы, без русских стоп-слов)\n",
        "tfidf = TfidfVectorizer(\n",
        "    ngram_range=(1, 2),\n",
        "    max_features=100_000,\n",
        "    min_df=2,\n",
        "    sublinear_tf=True,\n",
        "    stop_words=ru_stop\n",
        ")\n",
        "X = tfidf.fit_transform(corpus)\n",
        "\n",
        "# топ-20 признаков\n",
        "avg = np.asarray(X.mean(axis=0)).ravel()\n",
        "idx = avg.argsort()[::-1][:20]\n",
        "\n",
        "top20 = pd.DataFrame({\n",
        "    \"term\": tfidf.get_feature_names_out()[idx],\n",
        "    \"avg_tf_idf\": avg[idx]\n",
        "})\n",
        "print(top20.to_markdown(index=False))\n"
      ]
    },
    {
      "cell_type": "markdown",
      "metadata": {
        "id": "s49Ps2m8EluM"
      },
      "source": [
        "### 1 . Добавляем признаки из внешнего словаря тональностей (RuSentiLex)"
      ]
    },
    {
      "cell_type": "code",
      "execution_count": null,
      "metadata": {
        "id": "EvrIldO6EluM",
        "outputId": "584c6a99-d447-4fec-b49f-1149e7d06a25"
      },
      "outputs": [
        {
          "name": "stdout",
          "output_type": "stream",
          "text": [
            "Словарь скачан и сохранён в rusentilex_2017.txt\n"
          ]
        }
      ],
      "source": [
        "import urllib.request\n",
        "\n",
        "url = 'https://www.labinform.ru/pub/rusentilex/rusentilex_2017.txt'\n",
        "save_path = 'rusentilex_2017.txt'\n",
        "\n",
        "urllib.request.urlretrieve(url, save_path)\n",
        "print('Словарь скачан и сохранён в rusentilex_2017.txt')\n",
        "\n"
      ]
    },
    {
      "cell_type": "code",
      "execution_count": null,
      "metadata": {
        "id": "Of8CQ8hyEluM"
      },
      "outputs": [],
      "source": [
        "lexicon = {}\n",
        "\n",
        "with open(\"rusentilex_2017.txt\", encoding='utf-8') as f:\n",
        "    for line in f:\n",
        "        line = line.strip()\n",
        "        if not line or line.startswith('!'):\n",
        "            continue  # пропускаем комментарии и пустые строки\n",
        "\n",
        "        parts = [p.strip() for p in line.split(',')]\n",
        "        if len(parts) < 4:\n",
        "            continue  # пропускаем повреждённые строки\n",
        "\n",
        "        lemma = parts[2].lower()\n",
        "        polarity = parts[3].lower()\n",
        "\n",
        "        # игнорируем амбивалентные (positive/negative) — чтобы не вносить шум\n",
        "        if polarity in ['positive', 'negative', 'neutral']:\n",
        "            lexicon[lemma] = polarity\n"
      ]
    },
    {
      "cell_type": "code",
      "execution_count": null,
      "metadata": {
        "id": "ajHnB6I3EluM",
        "outputId": "d5d0ae86-d087-4ca9-a97f-907b31df324e"
      },
      "outputs": [
        {
          "name": "stdout",
          "output_type": "stream",
          "text": [
            "negative\n",
            "negative\n",
            "None\n"
          ]
        }
      ],
      "source": [
        "print(lexicon['аборт'])        # 'negative'\n",
        "print(lexicon['абракадабра'])  # 'negative'\n",
        "print(lexicon.get('абзац'))    # None — если его нет\n"
      ]
    },
    {
      "cell_type": "code",
      "execution_count": null,
      "metadata": {
        "id": "B_1AkThuEluN"
      },
      "outputs": [],
      "source": [
        "def lexicon_feats(text):\n",
        "    pos = neg = 0\n",
        "    for w in text.split():\n",
        "        s = lexicon.get(w)\n",
        "        if s == 'positive': pos += 1\n",
        "        elif s == 'negative': neg += 1\n",
        "    total = len(text.split()) or 1\n",
        "    return pd.Series({'pos_cnt':pos, 'neg_cnt':neg,\n",
        "                      'pos_ratio':pos/total, 'neg_ratio':neg/total})\n",
        "\n",
        "lex_feats = df_train['lemmas'].apply(lexicon_feats)"
      ]
    },
    {
      "cell_type": "code",
      "execution_count": null,
      "metadata": {
        "id": "Tlvv181pEluN",
        "outputId": "8d6e9fa7-b8f7-49b1-abbd-2b41efbd372d"
      },
      "outputs": [
        {
          "data": {
            "text/html": [
              "<div>\n",
              "<style scoped>\n",
              "    .dataframe tbody tr th:only-of-type {\n",
              "        vertical-align: middle;\n",
              "    }\n",
              "\n",
              "    .dataframe tbody tr th {\n",
              "        vertical-align: top;\n",
              "    }\n",
              "\n",
              "    .dataframe thead th {\n",
              "        text-align: right;\n",
              "    }\n",
              "</style>\n",
              "<table border=\"1\" class=\"dataframe\">\n",
              "  <thead>\n",
              "    <tr style=\"text-align: right;\">\n",
              "      <th></th>\n",
              "      <th>pos_cnt</th>\n",
              "      <th>neg_cnt</th>\n",
              "      <th>pos_ratio</th>\n",
              "      <th>neg_ratio</th>\n",
              "    </tr>\n",
              "  </thead>\n",
              "  <tbody>\n",
              "    <tr>\n",
              "      <th>0</th>\n",
              "      <td>0.0</td>\n",
              "      <td>1.0</td>\n",
              "      <td>0.000000</td>\n",
              "      <td>0.083333</td>\n",
              "    </tr>\n",
              "    <tr>\n",
              "      <th>1</th>\n",
              "      <td>0.0</td>\n",
              "      <td>0.0</td>\n",
              "      <td>0.000000</td>\n",
              "      <td>0.000000</td>\n",
              "    </tr>\n",
              "    <tr>\n",
              "      <th>2</th>\n",
              "      <td>0.0</td>\n",
              "      <td>0.0</td>\n",
              "      <td>0.000000</td>\n",
              "      <td>0.000000</td>\n",
              "    </tr>\n",
              "    <tr>\n",
              "      <th>3</th>\n",
              "      <td>1.0</td>\n",
              "      <td>0.0</td>\n",
              "      <td>0.142857</td>\n",
              "      <td>0.000000</td>\n",
              "    </tr>\n",
              "    <tr>\n",
              "      <th>4</th>\n",
              "      <td>0.0</td>\n",
              "      <td>0.0</td>\n",
              "      <td>0.000000</td>\n",
              "      <td>0.000000</td>\n",
              "    </tr>\n",
              "  </tbody>\n",
              "</table>\n",
              "</div>"
            ],
            "text/plain": [
              "   pos_cnt  neg_cnt  pos_ratio  neg_ratio\n",
              "0      0.0      1.0   0.000000   0.083333\n",
              "1      0.0      0.0   0.000000   0.000000\n",
              "2      0.0      0.0   0.000000   0.000000\n",
              "3      1.0      0.0   0.142857   0.000000\n",
              "4      0.0      0.0   0.000000   0.000000"
            ]
          },
          "execution_count": 14,
          "metadata": {},
          "output_type": "execute_result"
        }
      ],
      "source": [
        "lex_feats.head()"
      ]
    },
    {
      "cell_type": "code",
      "execution_count": null,
      "metadata": {
        "id": "M7iqMHX3EluN",
        "outputId": "8dde2571-5665-4214-b56e-fabf44cc29a1"
      },
      "outputs": [
        {
          "name": "stdout",
          "output_type": "stream",
          "text": [
            "✅ macro-F1 (TF-IDF + lexicon, усилено 2): 0.6309\n"
          ]
        }
      ],
      "source": [
        "from sklearn.feature_extraction.text import TfidfVectorizer\n",
        "from sklearn.linear_model import LogisticRegression\n",
        "from sklearn.preprocessing import StandardScaler\n",
        "from sklearn.metrics import f1_score\n",
        "from scipy.sparse import hstack\n",
        "\n",
        "tfidf = TfidfVectorizer(\n",
        "    analyzer='word',\n",
        "    ngram_range=(1,3),\n",
        "    max_features=60000,\n",
        "    min_df=2,\n",
        "    sublinear_tf=True\n",
        ")\n",
        "\n",
        "X_train_tfidf = tfidf.fit_transform(df_train['lemmas'])\n",
        "X_test_tfidf = tfidf.transform(df_test['lemmas'])\n",
        "\n",
        "# нормализация лексиконных признаков\n",
        "from sklearn.preprocessing import StandardScaler\n",
        "scaler = StandardScaler()\n",
        "X_train_lex = scaler.fit_transform(lex_feats_train)\n",
        "X_test_lex  = scaler.transform(lex_feats_test)\n",
        "\n",
        "# объединение\n",
        "from scipy.sparse import hstack\n",
        "X_train_all = hstack([X_train_tfidf, X_train_lex])\n",
        "X_test_all  = hstack([X_test_tfidf,  X_test_lex])\n",
        "y_train = df_train['label']\n",
        "y_test = df_test['label']\n",
        "\n",
        "# LogisticRegression с более мощной регуляризацией\n",
        "from sklearn.linear_model import LogisticRegression\n",
        "clf = LogisticRegression(C=7.0, class_weight='balanced', solver='liblinear', max_iter=1200)\n",
        "clf.fit(X_train_all, y_train)\n",
        "y_pred = clf.predict(X_test_all)\n",
        "\n",
        "from sklearn.metrics import f1_score\n",
        "f1 = f1_score(y_test, y_pred, average='macro')"
      ]
    },
    {
      "cell_type": "code",
      "execution_count": null,
      "metadata": {
        "id": "1gyUZVVREluN",
        "outputId": "517bbe25-1c6b-477e-a2c0-abad8b7261f9"
      },
      "outputs": [
        {
          "name": "stdout",
          "output_type": "stream",
          "text": [
            "✅ macro-F1 (TF-IDF + lexicon, усилено 2): 0.6301\n"
          ]
        }
      ],
      "source": [
        "print(f\"✅ macro-F1 (TF-IDF + lexicon, усилено 2): {(f1):.4f}\")"
      ]
    },
    {
      "cell_type": "markdown",
      "metadata": {
        "id": "rf8-Pe4zEluO"
      },
      "source": [
        "### 2 . Улучшить качество базовой предсказательной модели на тестовой выборке за счет добавления и модификации признаков."
      ]
    },
    {
      "cell_type": "code",
      "execution_count": null,
      "metadata": {
        "id": "AAIMmPhiEluO",
        "outputId": "13de0a8b-b695-4714-b8b6-fecda1613992"
      },
      "outputs": [
        {
          "name": "stdout",
          "output_type": "stream",
          "text": [
            "macro-F1 = 0.6261881470513503\n"
          ]
        }
      ],
      "source": [
        "from sklearn.feature_extraction.text import TfidfVectorizer\n",
        "from scipy.sparse import hstack\n",
        "from sklearn.linear_model import LogisticRegression\n",
        "\n",
        "word_v = TfidfVectorizer(analyzer='word', ngram_range=(1,3), max_features=40_000,\n",
        "                         sublinear_tf=True, min_df=3)\n",
        "char_v = TfidfVectorizer(analyzer='char', ngram_range=(3,5), min_df=5)\n",
        "\n",
        "X_word = word_v.fit_transform(df_train['lemmas'])\n",
        "X_char = char_v.fit_transform(df_train['lemmas'])\n",
        "X      = hstack([X_word, X_char, lex_feats.values])\n",
        "\n",
        "X_tr, X_val, y_tr, y_val = train_test_split(X, df_train['label'],\n",
        "                                            test_size=0.2, random_state=42, stratify=df_train['label'])\n",
        "\n",
        "clf = LogisticRegression(solver='liblinear', C=4, class_weight='balanced', max_iter=300)\n",
        "clf.fit(X_tr, y_tr)\n",
        "y_pred = clf.predict(X_val)\n",
        "print('macro-F1 =', f1_score(y_val, y_pred, average='macro'))\n"
      ]
    },
    {
      "cell_type": "markdown",
      "metadata": {
        "id": "bzacKzouEluO"
      },
      "source": [
        "### 3 .Сравнить качество классификации на леммах и подтокенах."
      ]
    },
    {
      "cell_type": "code",
      "execution_count": null,
      "metadata": {
        "id": "AW-ttcIyEluO",
        "outputId": "0a0b309f-51d7-4223-837e-33d00a81be7e"
      },
      "outputs": [
        {
          "name": "stdout",
          "output_type": "stream",
          "text": [
            "Collecting Cython\n",
            "  Downloading cython-3.1.0-cp310-cp310-win_amd64.whl.metadata (31 kB)\n",
            "Downloading cython-3.1.0-cp310-cp310-win_amd64.whl (2.7 MB)\n",
            "   ---------------------------------------- 0.0/2.7 MB ? eta -:--:--\n",
            "   ---------------------------------------- 0.0/2.7 MB ? eta -:--:--\n",
            "   --- ------------------------------------ 0.3/2.7 MB ? eta -:--:--\n",
            "   --------------- ------------------------ 1.0/2.7 MB 2.6 MB/s eta 0:00:01\n",
            "   --------------------------- ------------ 1.8/2.7 MB 2.7 MB/s eta 0:00:01\n",
            "   ----------------------------------- ---- 2.4/2.7 MB 2.8 MB/s eta 0:00:01\n",
            "   ---------------------------------------- 2.7/2.7 MB 2.6 MB/s eta 0:00:00\n",
            "Installing collected packages: Cython\n",
            "Successfully installed Cython-3.1.0\n"
          ]
        },
        {
          "name": "stderr",
          "output_type": "stream",
          "text": [
            "\n",
            "[notice] A new release of pip is available: 25.0.1 -> 25.1.1\n",
            "[notice] To update, run: python.exe -m pip install --upgrade pip\n"
          ]
        }
      ],
      "source": [
        "!pip install Cython\n"
      ]
    },
    {
      "cell_type": "code",
      "execution_count": null,
      "metadata": {
        "id": "Q_cx11G7EluO",
        "outputId": "b7bc9f65-03ce-4f16-b85f-6ed237526a9e"
      },
      "outputs": [
        {
          "name": "stdout",
          "output_type": "stream",
          "text": [
            "3.1.0\n"
          ]
        },
        {
          "ename": "ModuleNotFoundError",
          "evalue": "No module named 'youtokentome'",
          "output_type": "error",
          "traceback": [
            "\u001b[1;31m---------------------------------------------------------------------------\u001b[0m",
            "\u001b[1;31mModuleNotFoundError\u001b[0m                       Traceback (most recent call last)",
            "Cell \u001b[1;32mIn[4], line 3\u001b[0m\n\u001b[0;32m      1\u001b[0m \u001b[38;5;28;01mimport\u001b[39;00m\u001b[38;5;250m \u001b[39m\u001b[38;5;21;01mCython\u001b[39;00m\n\u001b[0;32m      2\u001b[0m \u001b[38;5;28mprint\u001b[39m(Cython\u001b[38;5;241m.\u001b[39m__version__)\n\u001b[1;32m----> 3\u001b[0m \u001b[38;5;28;01mimport\u001b[39;00m\u001b[38;5;250m \u001b[39m\u001b[38;5;21;01myoutokentome\u001b[39;00m\u001b[38;5;250m \u001b[39m\u001b[38;5;28;01mas\u001b[39;00m\u001b[38;5;250m \u001b[39m\u001b[38;5;21;01myttm\u001b[39;00m\n\u001b[0;32m      4\u001b[0m \u001b[38;5;28mprint\u001b[39m(yttm\u001b[38;5;241m.\u001b[39m__version__)\n",
            "\u001b[1;31mModuleNotFoundError\u001b[0m: No module named 'youtokentome'"
          ]
        }
      ],
      "source": [
        "import Cython\n",
        "print(Cython.__version__)\n",
        "import youtokentome as yttm\n",
        "print(yttm.__version__)\n"
      ]
    },
    {
      "cell_type": "code",
      "execution_count": null,
      "metadata": {
        "id": "VOe34JmpEluO",
        "outputId": "c45fdbc6-c92a-4387-aab1-9ee521c4bb64"
      },
      "outputs": [
        {
          "name": "stdout",
          "output_type": "stream",
          "text": [
            "D:\\I_NLP\\i_nlp\\Scripts\\python.exe\n"
          ]
        }
      ],
      "source": [
        "import sys\n",
        "print(sys.executable)\n"
      ]
    },
    {
      "cell_type": "code",
      "execution_count": null,
      "metadata": {
        "id": "CKCKFequEluP",
        "outputId": "58c05a62-a93e-42f3-b427-1d24b5a8ee9b"
      },
      "outputs": [
        {
          "name": "stdout",
          "output_type": "stream",
          "text": [
            "Collecting sentencepiece\n",
            "  Using cached sentencepiece-0.2.0-cp310-cp310-win_amd64.whl.metadata (8.3 kB)\n",
            "Using cached sentencepiece-0.2.0-cp310-cp310-win_amd64.whl (991 kB)\n",
            "Installing collected packages: sentencepiece\n",
            "Successfully installed sentencepiece-0.2.0\n"
          ]
        },
        {
          "name": "stderr",
          "output_type": "stream",
          "text": [
            "\n",
            "[notice] A new release of pip is available: 25.0.1 -> 25.1.1\n",
            "[notice] To update, run: python.exe -m pip install --upgrade pip\n"
          ]
        }
      ],
      "source": [
        "!pip install sentencepiece\n"
      ]
    },
    {
      "cell_type": "code",
      "execution_count": null,
      "metadata": {
        "id": "Li9oFwg7EluP"
      },
      "outputs": [],
      "source": [
        "import sentencepiece as spm\n",
        "\n",
        "# Сохраняем корпус лемм в текстовый файл\n",
        "with open(\"corpus_lemmas.txt\", \"w\", encoding=\"utf-8\") as f:\n",
        "    for line in df_train['lemmas']:\n",
        "        f.write(line + \"\\n\")\n",
        "\n",
        "# Обучаем BPE-модель\n",
        "spm.SentencePieceTrainer.train(\n",
        "    input='corpus_lemmas.txt',\n",
        "    model_prefix='bpe_lemmas',\n",
        "    vocab_size=16000,\n",
        "    model_type='bpe',\n",
        "    character_coverage=1.0\n",
        ")\n"
      ]
    },
    {
      "cell_type": "code",
      "execution_count": null,
      "metadata": {
        "id": "306FaDAOEluP"
      },
      "outputs": [],
      "source": [
        "# Загружаем модель\n",
        "import sentencepiece as spm\n",
        "sp = spm.SentencePieceProcessor(model_file='bpe_lemmas.model')\n",
        "\n",
        "# Применяем BPE к каждому тексту\n",
        "df_train['bpe_lemmas'] = df_train['lemmas'].apply(lambda x: ' '.join(sp.encode(x, out_type=str)))\n"
      ]
    },
    {
      "cell_type": "code",
      "execution_count": null,
      "metadata": {
        "id": "M5PE4U4kEluP"
      },
      "outputs": [],
      "source": [
        "from sklearn.feature_extraction.text import TfidfVectorizer\n",
        "\n",
        "vectorizer = TfidfVectorizer(analyzer='word')\n",
        "X_bpe = vectorizer.fit_transform(df_train['bpe_lemmas'])\n"
      ]
    },
    {
      "cell_type": "code",
      "execution_count": null,
      "metadata": {
        "id": "HF4lpovHEluP",
        "outputId": "b9371244-15be-4201-eca9-92818101b3d0"
      },
      "outputs": [
        {
          "name": "stdout",
          "output_type": "stream",
          "text": [
            "F1 на леммах:       0.5861\n",
            "F1 на подтокенах BPE: 0.5960\n"
          ]
        }
      ],
      "source": [
        "from sklearn.feature_extraction.text import TfidfVectorizer\n",
        "from sklearn.linear_model import LogisticRegression\n",
        "from sklearn.model_selection import train_test_split\n",
        "from sklearn.metrics import f1_score\n",
        "\n",
        "# Обучающая выборка\n",
        "X_lemmas = df_train['lemmas']\n",
        "X_bpe    = df_train['bpe_lemmas']\n",
        "y        = df_train['label']\n",
        "\n",
        "# Разделим на train/val\n",
        "X_lem_tr, X_lem_val, y_lem_tr, y_lem_val = train_test_split(X_lemmas, y, test_size=0.2, random_state=42, stratify=y)\n",
        "X_bpe_tr, X_bpe_val, y_bpe_tr, y_bpe_val = train_test_split(X_bpe,    y, test_size=0.2, random_state=42, stratify=y)\n",
        "\n",
        "# Векторизаторы (анализируем слова)\n",
        "tfidf_lemmas = TfidfVectorizer(analyzer='word', ngram_range=(1,2), max_features=30000)\n",
        "tfidf_bpe    = TfidfVectorizer(analyzer='word', ngram_range=(1,2), max_features=30000)\n",
        "\n",
        "X_lem_tr_vec = tfidf_lemmas.fit_transform(X_lem_tr)\n",
        "X_lem_val_vec = tfidf_lemmas.transform(X_lem_val)\n",
        "\n",
        "X_bpe_tr_vec = tfidf_bpe.fit_transform(X_bpe_tr)\n",
        "X_bpe_val_vec = tfidf_bpe.transform(X_bpe_val)\n",
        "\n",
        "# Классификатор\n",
        "clf_lem = LogisticRegression(max_iter=300, class_weight='balanced')\n",
        "clf_bpe = LogisticRegression(max_iter=300, class_weight='balanced')\n",
        "\n",
        "# Обучение\n",
        "clf_lem.fit(X_lem_tr_vec, y_lem_tr)\n",
        "clf_bpe.fit(X_bpe_tr_vec, y_bpe_tr)\n",
        "\n",
        "# Предсказание и оценка\n",
        "y_lem_pred = clf_lem.predict(X_lem_val_vec)\n",
        "y_bpe_pred = clf_bpe.predict(X_bpe_val_vec)\n",
        "\n",
        "f1_lem = f1_score(y_lem_val, y_lem_pred, average='macro')\n",
        "f1_bpe = f1_score(y_bpe_val, y_bpe_pred, average='macro')\n",
        "\n",
        "print(f\"F1 на леммах:       {f1_lem:.4f}\")\n",
        "print(f\"F1 на подтокенах BPE: {f1_bpe:.4f}\")\n"
      ]
    },
    {
      "cell_type": "code",
      "execution_count": null,
      "metadata": {
        "id": "Q4E3zLe-EluP"
      },
      "outputs": [],
      "source": [
        "df_test = pd.read_csv(\"rusentiment_test.csv\")\n",
        "df_test['lemmas'] = df_test['text'].map(clean).map(lemmatize)\n",
        "df_test['bpe_lemmas'] = df_test['lemmas'].apply(lambda x: ' '.join(sp.encode(x, out_type=str)))\n"
      ]
    },
    {
      "cell_type": "code",
      "execution_count": null,
      "metadata": {
        "id": "SxQcBaidEluP",
        "outputId": "1b5738b0-bf98-437e-d6f7-d19550192484"
      },
      "outputs": [
        {
          "name": "stdout",
          "output_type": "stream",
          "text": [
            "macro-F1 на тесте = 0.58601557344416\n"
          ]
        }
      ],
      "source": [
        "# Повторим обучение на всей train-части (без val)\n",
        "X_train_text = df_train['lemmas']\n",
        "y_train = df_train['label']\n",
        "\n",
        "# Признаки lexicon\n",
        "lex_feats_train = df_train['lemmas'].apply(lexicon_feats)\n",
        "lex_feats_test = df_test['lemmas'].apply(lexicon_feats)\n",
        "\n",
        "# TF-IDF\n",
        "tfidf = TfidfVectorizer(ngram_range=(1,2), max_features=30000)\n",
        "X_train_tfidf = tfidf.fit_transform(X_train_text)\n",
        "X_test_tfidf = tfidf.transform(df_test['lemmas'])\n",
        "\n",
        "# Объединение всех признаков\n",
        "from scipy.sparse import hstack\n",
        "X_train_final = hstack([X_train_tfidf, lex_feats_train.values])\n",
        "X_test_final = hstack([X_test_tfidf, lex_feats_test.values])\n",
        "\n",
        "# Обучение модели\n",
        "clf = LogisticRegression(max_iter=300, class_weight='balanced')\n",
        "clf.fit(X_train_final, y_train)\n",
        "\n",
        "# Предсказание\n",
        "y_test_pred = clf.predict(X_test_final)\n",
        "\n",
        "# Оценка качества\n",
        "from sklearn.metrics import f1_score\n",
        "print(\"macro-F1 на тесте =\", f1_score(df_test['label'], y_test_pred, average='macro'))\n"
      ]
    },
    {
      "cell_type": "code",
      "execution_count": null,
      "metadata": {
        "id": "0CIp0qflEluQ"
      },
      "outputs": [],
      "source": [
        "# word TF-IDF\n",
        "tfidf_word = TfidfVectorizer(analyzer='word', ngram_range=(1,2), max_features=30000)\n",
        "X_train_word = tfidf_word.fit_transform(df_train['lemmas'])\n",
        "X_test_word  = tfidf_word.transform(df_test['lemmas'])\n",
        "\n",
        "# char TF-IDF (на леммах)\n",
        "tfidf_char = TfidfVectorizer(analyzer='char_wb', ngram_range=(3,5), min_df=3)\n",
        "X_train_char = tfidf_char.fit_transform(df_train['lemmas'])\n",
        "X_test_char  = tfidf_char.transform(df_test['lemmas'])\n",
        "\n",
        "# объединение всех признаков: word + char + lexicon\n",
        "from scipy.sparse import hstack\n",
        "\n",
        "X_train_all = hstack([X_train_word, X_train_char, lex_feats_train.values])\n",
        "X_test_all  = hstack([X_test_word,  X_test_char,  lex_feats_test.values])\n"
      ]
    },
    {
      "cell_type": "code",
      "execution_count": null,
      "metadata": {
        "id": "rLDvoihgEluQ",
        "outputId": "1e3d02f6-d860-4789-8898-4b86a1f58ffe"
      },
      "outputs": [
        {
          "name": "stdout",
          "output_type": "stream",
          "text": [
            "macro-F1 на тесте = 0.6103309883775418\n"
          ]
        },
        {
          "name": "stderr",
          "output_type": "stream",
          "text": [
            "D:\\I_NLP\\i_nlp\\lib\\site-packages\\sklearn\\svm\\_base.py:1249: ConvergenceWarning: Liblinear failed to converge, increase the number of iterations.\n",
            "  warnings.warn(\n"
          ]
        }
      ],
      "source": [
        "from sklearn.svm import LinearSVC\n",
        "\n",
        "clf = LinearSVC(C=1.0, class_weight='balanced', max_iter=1000)\n",
        "clf.fit(X_train_all, y_train)\n",
        "y_test_pred = clf.predict(X_test_all)\n",
        "\n",
        "from sklearn.metrics import f1_score\n",
        "print(\"macro-F1 на тесте =\", f1_score(df_test['label'], y_test_pred, average='macro'))\n"
      ]
    },
    {
      "cell_type": "code",
      "execution_count": null,
      "metadata": {
        "id": "DREjD3_oEluQ"
      },
      "outputs": [],
      "source": [
        "def lexicon_feats(text):\n",
        "    pos = neg = neu = 0\n",
        "    for w in text.split():\n",
        "        s = lexicon.get(w)\n",
        "        if s == 'positive': pos += 1\n",
        "        elif s == 'negative': neg += 1\n",
        "        elif s == 'neutral':  neu += 1\n",
        "    total = len(text.split()) or 1\n",
        "    return pd.Series({\n",
        "        'pos_cnt': pos, 'neg_cnt': neg, 'neu_cnt': neu,\n",
        "        'pos_ratio': pos/total, 'neg_ratio': neg/total, 'neu_ratio': neu/total\n",
        "    })\n"
      ]
    },
    {
      "cell_type": "code",
      "execution_count": null,
      "metadata": {
        "id": "r2sTqQovEluQ",
        "outputId": "a28fd4e4-7989-4d06-856e-5ecef5a1435b"
      },
      "outputs": [
        {
          "name": "stdout",
          "output_type": "stream",
          "text": [
            "✅ Итоговая macro-F1 на тесте: 0.6322\n"
          ]
        }
      ],
      "source": [
        "# --- 1. Импорт\n",
        "import pandas as pd, re, sentencepiece as spm\n",
        "from sklearn.model_selection import train_test_split\n",
        "from sklearn.feature_extraction.text import TfidfVectorizer\n",
        "from sklearn.linear_model import LogisticRegression\n",
        "from sklearn.metrics import f1_score\n",
        "from sklearn.preprocessing import StandardScaler\n",
        "from scipy.sparse import hstack\n",
        "import pymorphy2\n",
        "\n",
        "# --- 2. Предобработка\n",
        "morph = pymorphy2.MorphAnalyzer()\n",
        "\n",
        "def clean(text):\n",
        "    text = re.sub(r'http\\S+|\\W+', ' ', str(text).lower())\n",
        "    return re.sub(r'\\s+', ' ', text).strip()\n",
        "\n",
        "def lemmatize(text):\n",
        "    return ' '.join(morph.parse(t)[0].normal_form for t in text.split())\n",
        "\n",
        "df_train = pd.read_csv('rusentiment_random_posts.csv')\n",
        "df_test = pd.read_csv('rusentiment_test.csv')\n",
        "\n",
        "df_train['lemmas'] = df_train['text'].map(clean).map(lemmatize)\n",
        "df_test['lemmas']  = df_test['text'].map(clean).map(lemmatize)\n",
        "\n",
        "# --- 3. BPE через sentencepiece\n",
        "with open(\"corpus_lemmas.txt\", \"w\", encoding=\"utf-8\") as f:\n",
        "    for line in df_train['lemmas']:\n",
        "        f.write(line + \"\\n\")\n",
        "\n",
        "spm.SentencePieceTrainer.train(\n",
        "    input='corpus_lemmas.txt',\n",
        "    model_prefix='bpe_lemmas',\n",
        "    vocab_size=16000,\n",
        "    model_type='bpe',\n",
        "    character_coverage=1.0\n",
        ")\n",
        "\n",
        "sp = spm.SentencePieceProcessor(model_file='bpe_lemmas.model')\n",
        "df_train['bpe'] = df_train['lemmas'].apply(lambda x: ' '.join(sp.encode(x, out_type=str)))\n",
        "df_test['bpe']  = df_test['lemmas'].apply(lambda x: ' '.join(sp.encode(x, out_type=str)))\n",
        "\n",
        "# --- 4. RuSentiLex признаки\n",
        "lexicon = {}\n",
        "with open(\"rusentilex_2017.txt\", encoding='utf-8') as f:\n",
        "    for line in f:\n",
        "        if line.startswith('!') or not line.strip():\n",
        "            continue\n",
        "        parts = [p.strip() for p in line.split(',')]\n",
        "        if len(parts) >= 4:\n",
        "            lemma, polarity = parts[2].lower(), parts[3].lower()\n",
        "            if polarity in ['positive', 'negative', 'neutral']:\n",
        "                lexicon[lemma] = polarity\n",
        "\n",
        "def lexicon_feats(text):\n",
        "    pos = neg = neu = 0\n",
        "    for w in text.split():\n",
        "        s = lexicon.get(w)\n",
        "        if s == 'positive': pos += 1\n",
        "        elif s == 'negative': neg += 1\n",
        "        elif s == 'neutral':  neu += 1\n",
        "    total = len(text.split()) or 1\n",
        "    return pd.Series({\n",
        "        'pos_cnt': pos, 'neg_cnt': neg, 'neu_cnt': neu,\n",
        "        'pos_ratio': pos/total, 'neg_ratio': neg/total, 'neu_ratio': neu/total\n",
        "    })\n",
        "\n",
        "lex_feats_train = df_train['lemmas'].apply(lexicon_feats)\n",
        "lex_feats_test  = df_test['lemmas'].apply(lexicon_feats)\n",
        "\n",
        "# --- 5. TF-IDF (BPE + char), оптимальные параметры\n",
        "tfidf_word = TfidfVectorizer(\n",
        "    analyzer='word',\n",
        "    ngram_range=(1,2),\n",
        "    max_features=50000,\n",
        "    min_df=2,\n",
        "    sublinear_tf=True\n",
        ")\n",
        "tfidf_char = TfidfVectorizer(\n",
        "    analyzer='char',\n",
        "    ngram_range=(3,5),\n",
        "    max_features=20000,\n",
        "    min_df=2,\n",
        "    sublinear_tf=True\n",
        ")\n",
        "\n",
        "X_train_word = tfidf_word.fit_transform(df_train['bpe'])\n",
        "X_test_word  = tfidf_word.transform(df_test['bpe'])\n",
        "\n",
        "X_train_char = tfidf_char.fit_transform(df_train['bpe'])\n",
        "X_test_char  = tfidf_char.transform(df_test['bpe'])\n",
        "\n",
        "# --- 6. Нормализация признаков lexicon\n",
        "scaler = StandardScaler()\n",
        "lex_feats_train_scaled = scaler.fit_transform(lex_feats_train)\n",
        "lex_feats_test_scaled  = scaler.transform(lex_feats_test)\n",
        "\n",
        "# --- 7. Объединение признаков\n",
        "X_train_all = hstack([X_train_word, X_train_char, lex_feats_train_scaled])\n",
        "X_test_all  = hstack([X_test_word,  X_test_char,  lex_feats_test_scaled])\n",
        "y_train = df_train['label']\n",
        "y_test = df_test['label']\n",
        "\n",
        "# --- 8. Обучение модели (Logistic Regression)\n",
        "clf = LogisticRegression(\n",
        "    C=1.0,\n",
        "    class_weight='balanced',\n",
        "    solver='liblinear',\n",
        "    max_iter=1000\n",
        ")\n",
        "clf.fit(X_train_all, y_train)\n",
        "y_pred = clf.predict(X_test_all)\n",
        "\n",
        "# --- 9. Оценка\n",
        "f1 = f1_score(y_test, y_pred, average='macro')\n",
        "print(f\"✅ Итоговая macro-F1 на тесте: {f1:.4f}\")\n"
      ]
    },
    {
      "cell_type": "markdown",
      "metadata": {
        "id": "0xC8ABv8EluR"
      },
      "source": [
        "#### 4. Обучить fasttext-классификатор, сравнить качество классификации с предобученными эмбеддингами и обученными с нуля при классификации.\n"
      ]
    },
    {
      "cell_type": "code",
      "execution_count": null,
      "metadata": {
        "id": "ImYBL1NQEluR"
      },
      "outputs": [],
      "source": [
        "def to_fasttext_format(df, path, text_col='lemmas'):\n",
        "    with open(path, 'w', encoding='utf-8') as f:\n",
        "        for text, label in zip(df[text_col], df['label']):\n",
        "            f.write(f\"__label__{label} {text.strip()}\\n\")\n",
        "\n",
        "to_fasttext_format(df_train, \"train_ft.txt\")\n",
        "to_fasttext_format(df_test, \"test_ft.txt\")\n"
      ]
    },
    {
      "cell_type": "code",
      "execution_count": null,
      "metadata": {
        "id": "ZNkcrv-zEluR",
        "outputId": "0e4c77ed-32a0-4f8c-edce-1ef5d4422169"
      },
      "outputs": [
        {
          "name": "stdout",
          "output_type": "stream",
          "text": [
            "✅ F1 fastText (обучен с нуля): 1.2933\n"
          ]
        }
      ],
      "source": [
        "import fasttext\n",
        "\n",
        "model_ft = fasttext.train_supervised(\n",
        "    input=\"train_ft.txt\",\n",
        "    lr=0.8,\n",
        "    epoch=50,\n",
        "    wordNgrams=2,\n",
        "    minn=2,\n",
        "    maxn=5,\n",
        "    dim=100,\n",
        "    loss='ova'  # для многоклассовой классификации\n",
        ")\n",
        "\n",
        "# Оценка на тесте\n",
        "P, R, N = model_ft.test(\"test_ft.txt\")\n",
        "macro_f1 = 2 * P * R / (P + R)\n",
        "print(f\"✅ F1 fastText (обучен с нуля): {macro_f1:.4f}\")\n"
      ]
    },
    {
      "cell_type": "code",
      "execution_count": null,
      "metadata": {
        "id": "b83oR1mVEluR",
        "outputId": "54b1e908-ec34-4c48-eaf2-805686a6f5ca"
      },
      "outputs": [
        {
          "name": "stdout",
          "output_type": "stream",
          "text": [
            "✅ macro-F1 fastText (обучен с нуля): 0.5993\n"
          ]
        }
      ],
      "source": [
        "from sklearn.metrics import f1_score\n",
        "\n",
        "# Истинные метки\n",
        "with open(\"test_ft.txt\", encoding=\"utf-8\") as f:\n",
        "    y_true = [line.strip().split()[0].replace(\"__label__\", \"\") for line in f]\n",
        "\n",
        "# Предсказания fastText\n",
        "with open(\"test_ft.txt\", encoding=\"utf-8\") as f:\n",
        "    y_pred = [\n",
        "        model_ft.predict(\" \".join(line.strip().split()[1:]))[0][0].replace(\"__label__\", \"\")\n",
        "        for line in f\n",
        "    ]\n",
        "\n",
        "# Оценка F1\n",
        "f1 = f1_score(y_true, y_pred, average='macro')\n",
        "print(f\"✅ macro-F1 fastText (обучен с нуля): {f1:.4f}\")\n"
      ]
    },
    {
      "cell_type": "code",
      "execution_count": null,
      "metadata": {
        "id": "OyPSa17OEluR",
        "outputId": "fdec1fc5-d43a-4e5d-eac5-2a193c0dc74b"
      },
      "outputs": [
        {
          "name": "stdout",
          "output_type": "stream",
          "text": [
            "Collecting fasttext-wheel\n",
            "  Downloading fasttext_wheel-0.9.2-cp310-cp310-win_amd64.whl.metadata (16 kB)\n",
            "Collecting pybind11>=2.2 (from fasttext-wheel)\n",
            "  Using cached pybind11-2.13.6-py3-none-any.whl.metadata (9.5 kB)\n",
            "Requirement already satisfied: setuptools>=0.7.0 in d:\\i_nlp\\i_nlp\\lib\\site-packages (from fasttext-wheel) (57.4.0)\n",
            "Requirement already satisfied: numpy in d:\\i_nlp\\i_nlp\\lib\\site-packages (from fasttext-wheel) (2.2.5)\n",
            "Downloading fasttext_wheel-0.9.2-cp310-cp310-win_amd64.whl (241 kB)\n",
            "Using cached pybind11-2.13.6-py3-none-any.whl (243 kB)\n",
            "Installing collected packages: pybind11, fasttext-wheel\n",
            "Successfully installed fasttext-wheel-0.9.2 pybind11-2.13.6\n"
          ]
        },
        {
          "name": "stderr",
          "output_type": "stream",
          "text": [
            "\n",
            "[notice] A new release of pip is available: 25.0.1 -> 25.1.1\n",
            "[notice] To update, run: python.exe -m pip install --upgrade pip\n"
          ]
        }
      ],
      "source": [
        "!pip install fasttext-wheel"
      ]
    },
    {
      "cell_type": "code",
      "execution_count": null,
      "metadata": {
        "id": "7ZxPKUdnEluR"
      },
      "outputs": [],
      "source": [
        "!pip install numpy==1.24.4\n"
      ]
    },
    {
      "cell_type": "code",
      "execution_count": null,
      "metadata": {
        "id": "YCj6EalkEluR"
      },
      "outputs": [],
      "source": [
        "!pip list"
      ]
    },
    {
      "cell_type": "code",
      "execution_count": null,
      "metadata": {
        "id": "WuvNCt_yEluR"
      },
      "outputs": [],
      "source": [
        "model_ft_pre = fasttext.train_supervised(\n",
        "    input=\"train_ft.txt\",\n",
        "    epoch=50,\n",
        "    lr=0.5,\n",
        "    wordNgrams=2,\n",
        "    dim=300,\n",
        "    pretrainedVectors=\"cc.ru.300.vec\\cc.ru.300.vec\",\n",
        "    loss='ova'\n",
        ")\n"
      ]
    },
    {
      "cell_type": "code",
      "execution_count": null,
      "metadata": {
        "id": "zncI2lkjEluR",
        "outputId": "1f9ce80a-c54b-4900-ce7a-cea9ab563153"
      },
      "outputs": [
        {
          "name": "stdout",
          "output_type": "stream",
          "text": [
            "✅ macro-F1 fastText (предобученные эмбеддинги): 0.5989\n"
          ]
        }
      ],
      "source": [
        "# Получение предсказаний\n",
        "with open(\"test_ft.txt\", encoding=\"utf-8\") as f:\n",
        "    y_true = [line.strip().split()[0].replace(\"__label__\", \"\") for line in f]\n",
        "\n",
        "with open(\"test_ft.txt\", encoding=\"utf-8\") as f:\n",
        "    y_pred = [\n",
        "        model_ft_pre.predict(\" \".join(line.strip().split()[1:]))[0][0].replace(\"__label__\", \"\")\n",
        "        for line in f\n",
        "    ]\n",
        "\n",
        "# Вычисление macro-F1\n",
        "from sklearn.metrics import f1_score\n",
        "f1 = f1_score(y_true, y_pred, average='macro')\n",
        "print(f\"✅ macro-F1 fastText (предобученные эмбеддинги): {f1:.4f}\")\n"
      ]
    },
    {
      "cell_type": "code",
      "execution_count": null,
      "metadata": {
        "id": "sDqL56u8EluS",
        "outputId": "32d753ce-be2a-483e-c8b7-4aee59e9a0cc"
      },
      "outputs": [
        {
          "name": "stderr",
          "output_type": "stream",
          "text": [
            "📊 Predicting: 2967it [00:00, 15696.22it/s]\n"
          ]
        },
        {
          "name": "stdout",
          "output_type": "stream",
          "text": [
            "✅ macro-F1 fastText (предобученные эмбеддинги): 0.5993\n"
          ]
        }
      ],
      "source": [
        "from tqdm import tqdm\n",
        "with open(\"test_ft.txt\", encoding=\"utf-8\") as f:\n",
        "    y_true = [line.strip().split()[0].replace(\"__label__\", \"\") for line in f]\n",
        "with open(\"test_ft.txt\", encoding=\"utf-8\") as f:\n",
        "    y_pred = [\n",
        "        model_ft.predict(\" \".join(line.strip().split()[1:]))[0][0].replace(\"__label__\", \"\")\n",
        "        for line in tqdm(f, desc=\"📊 Predicting\")\n",
        "    ]\n",
        "from sklearn.metrics import f1_score\n",
        "f1 = f1_score(y_true, y_pred, average='macro')\n",
        "print(f\"✅ macro-F1 fastText (предобученные эмбеддинги): {f1:.4f}\")"
      ]
    },
    {
      "cell_type": "code",
      "execution_count": null,
      "metadata": {
        "id": "jjjFLqmAEluS"
      },
      "outputs": [],
      "source": [
        "from gensim.models import KeyedVectors\n",
        "\n",
        "ft_vecs = KeyedVectors.load_word2vec_format(\"cc.ru.300.vec\\cc.ru.300.vec\", binary=False)\n"
      ]
    },
    {
      "cell_type": "code",
      "execution_count": null,
      "metadata": {
        "id": "izd7Tza1EluS"
      },
      "outputs": [],
      "source": [
        "import numpy as np\n",
        "\n",
        "def vectorize_text(text, model, dim=300):\n",
        "    words = text.split()\n",
        "    vectors = [model[word] for word in words if word in model]\n",
        "    if not vectors:\n",
        "        return np.zeros(dim)\n",
        "    return np.mean(vectors, axis=0)\n",
        "\n",
        "X_train_ft = np.vstack([vectorize_text(text, ft_vecs) for text in df_train['lemmas']])\n",
        "X_test_ft  = np.vstack([vectorize_text(text, ft_vecs) for text in df_test['lemmas']])\n"
      ]
    },
    {
      "cell_type": "code",
      "execution_count": null,
      "metadata": {
        "id": "FwnxK7EzEluS",
        "outputId": "56f3a9d0-267c-4372-b1a2-f8e03387d99f"
      },
      "outputs": [
        {
          "name": "stdout",
          "output_type": "stream",
          "text": [
            "✅ macro-F1 (предобученные fastText + RF): 0.4935\n"
          ]
        }
      ],
      "source": [
        "from sklearn.ensemble import RandomForestClassifier\n",
        "\n",
        "clf = RandomForestClassifier(n_estimators=300, max_depth=30, class_weight='balanced', n_jobs=-1, random_state=42)\n",
        "clf.fit(X_train_ft, df_train['label'])\n",
        "y_pred = clf.predict(X_test_ft)\n",
        "\n",
        "from sklearn.metrics import f1_score\n",
        "f1 = f1_score(df_test['label'], y_pred, average='macro')\n",
        "print(f\"✅ macro-F1 (предобученные fastText + RF): {f1:.4f}\")\n"
      ]
    },
    {
      "cell_type": "code",
      "execution_count": null,
      "metadata": {
        "id": "CKxPRCHmEluS"
      },
      "outputs": [],
      "source": [
        "!pip install gensim"
      ]
    },
    {
      "cell_type": "code",
      "execution_count": null,
      "metadata": {
        "id": "Ig-kx_G8EluS"
      },
      "outputs": [],
      "source": [
        "import pandas as pd, re, random, os, fasttext\n",
        "from sklearn.model_selection import train_test_split\n",
        "from sklearn.metrics import f1_score\n",
        "random.seed(42)\n",
        "\n",
        "# ----------  чистка (без лемматизации!)  ----------\n",
        "def clean(txt):\n",
        "    txt = re.sub(r\"http\\S+|\\W+\", \" \", str(txt).lower())\n",
        "    return re.sub(r\"\\s+\", \" \", txt).strip()\n",
        "\n",
        "df_tr = pd.read_csv(\"rusentiment_random_posts.csv\")\n",
        "df_te = pd.read_csv(\"rusentiment_test.csv\")\n",
        "\n",
        "df_tr[\"clean\"] = df_tr[\"text\"].map(clean)\n",
        "df_te[\"clean\"] = df_te[\"text\"].map(clean)\n"
      ]
    },
    {
      "cell_type": "code",
      "execution_count": null,
      "metadata": {
        "id": "GHBFMjPVEluS"
      },
      "outputs": [],
      "source": [
        "def dump_ft(df, path):\n",
        "    with open(path, \"w\", encoding=\"utf-8\") as f:\n",
        "        for t, y in zip(df[\"clean\"], df[\"label\"]):\n",
        "            f.write(f\"__label__{y} {t}\\n\")\n",
        "\n",
        "dump_ft(df_tr, \"train_full.txt\")     # весь train\n",
        "dump_ft(df_te, \"test.txt\")           # test (только для финальной оценки)\n",
        "\n",
        "# validation для autotune (10 %)\n",
        "tr, val = train_test_split(df_tr, test_size=0.1, random_state=42, stratify=df_tr[\"label\"])\n",
        "dump_ft(tr,  \"train.txt\")\n",
        "dump_ft(val, \"valid.txt\")\n"
      ]
    },
    {
      "cell_type": "code",
      "execution_count": null,
      "metadata": {
        "id": "FO63idVGEluS"
      },
      "outputs": [],
      "source": [
        "model_zero = fasttext.train_supervised(\n",
        "    input              = \"train.txt\",\n",
        "    autotuneValidationFile = \"valid.txt\",  # fastText сам ищет lr, epoch, wordNgrams, dim …\n",
        "    autotuneMetric     = \"f1\",\n",
        "    autotuneDuration   = 300               # 5 мин – достаточно\n",
        ")\n",
        "model_zero.save_model(\"ft_zero.bin\")\n"
      ]
    },
    {
      "cell_type": "code",
      "execution_count": null,
      "metadata": {
        "id": "JqMf9VQEEluS"
      },
      "outputs": [],
      "source": [
        "import fasttext   # ← сначала импортируем библиотеку\n",
        "\n",
        "\n",
        "model_pre = fasttext.train_supervised(\n",
        "    input              = \"train.txt\",\n",
        "    pretrainedVectors  = \"cc.ru.300.vec\\cc.ru.300.vec\",\n",
        "    autotuneValidationFile = \"valid.txt\",\n",
        "    autotuneMetric     = \"f1\",\n",
        "    autotuneDuration   = 300            # ещё 5 мин\n",
        ")\n",
        "model_pre.save_model(\"ft_pre.bin\")\n"
      ]
    },
    {
      "cell_type": "code",
      "execution_count": null,
      "metadata": {
        "id": "B5Ob1AFpEluT",
        "outputId": "612769a0-1b96-4561-9baa-3a0ba1dffede"
      },
      "outputs": [
        {
          "name": "stdout",
          "output_type": "stream",
          "text": [
            "Package                   Version\n",
            "------------------------- ------------------\n",
            "accelerate                1.6.0\n",
            "annotated-types           0.7.0\n",
            "anyio                     4.9.0\n",
            "argon2-cffi               23.1.0\n",
            "argon2-cffi-bindings      21.2.0\n",
            "arrow                     1.3.0\n",
            "asttokens                 3.0.0\n",
            "async-lru                 2.0.5\n",
            "attrs                     25.3.0\n",
            "babel                     2.17.0\n",
            "beautifulsoup4            4.13.4\n",
            "bleach                    6.2.0\n",
            "blis                      1.3.0\n",
            "catalogue                 2.0.10\n",
            "certifi                   2025.1.31\n",
            "cffi                      1.17.1\n",
            "charset-normalizer        3.4.1\n",
            "click                     8.1.8\n",
            "cloudpathlib              0.21.0\n",
            "colorama                  0.4.6\n",
            "comm                      0.2.2\n",
            "confection                0.1.5\n",
            "contourpy                 1.3.2\n",
            "cycler                    0.12.1\n",
            "cymem                     2.0.11\n",
            "Cython                    3.1.0\n",
            "DAWG-Python               0.7.2\n",
            "DAWG2-Python              0.9.0\n",
            "debugpy                   1.8.14\n",
            "decorator                 5.2.1\n",
            "defusedxml                0.7.1\n",
            "diffusers                 0.33.1\n",
            "docopt                    0.6.2\n",
            "en_core_web_sm            3.8.0\n",
            "exceptiongroup            1.2.2\n",
            "executing                 2.2.0\n",
            "fastjsonschema            2.21.1\n",
            "fasttext-wheel            0.9.2\n",
            "filelock                  3.18.0\n",
            "fonttools                 4.57.0\n",
            "fqdn                      1.5.1\n",
            "fsspec                    2025.3.2\n",
            "gensim                    4.3.3\n",
            "h11                       0.14.0\n",
            "httpcore                  1.0.8\n",
            "httpx                     0.28.1\n",
            "huggingface-hub           0.30.2\n",
            "idna                      3.10\n",
            "importlib_metadata        8.7.0\n",
            "intervaltree              3.1.0\n",
            "ipykernel                 6.29.5\n",
            "ipymarkup                 0.9.0\n",
            "ipython                   8.35.0\n",
            "ipywidgets                8.1.6\n",
            "isoduration               20.11.0\n",
            "jedi                      0.19.2\n",
            "Jinja2                    3.1.6\n",
            "joblib                    1.4.2\n",
            "json5                     0.12.0\n",
            "jsonpointer               3.0.0\n",
            "jsonschema                4.23.0\n",
            "jsonschema-specifications 2024.10.1\n",
            "jupyter                   1.1.1\n",
            "jupyter_client            8.6.3\n",
            "jupyter-console           6.6.3\n",
            "jupyter_core              5.7.2\n",
            "jupyter-events            0.12.0\n",
            "jupyter-lsp               2.2.5\n",
            "jupyter_server            2.15.0\n",
            "jupyter_server_terminals  0.5.3\n",
            "jupyterlab                4.4.0\n",
            "jupyterlab_pygments       0.3.0\n",
            "jupyterlab_server         2.27.3\n",
            "jupyterlab_widgets        3.0.14\n",
            "kiwisolver                1.4.8\n",
            "langcodes                 3.5.0\n",
            "language_data             1.3.0\n",
            "marisa-trie               1.2.1\n",
            "markdown-it-py            3.0.0\n",
            "MarkupSafe                3.0.2\n",
            "matplotlib                3.10.1\n",
            "matplotlib-inline         0.1.7\n",
            "mdurl                     0.1.2\n",
            "mistune                   3.1.3\n",
            "mpmath                    1.3.0\n",
            "murmurhash                1.0.12\n",
            "natasha                   1.6.0\n",
            "navec                     0.10.0\n",
            "nbclient                  0.10.2\n",
            "nbconvert                 7.16.6\n",
            "nbformat                  5.10.4\n",
            "nest-asyncio              1.6.0\n",
            "networkx                  3.4.2\n",
            "notebook                  7.4.0\n",
            "notebook_shim             0.2.4\n",
            "numpy                     1.24.4\n",
            "overrides                 7.7.0\n",
            "packaging                 25.0\n",
            "pandas                    2.2.3\n",
            "pandocfilters             1.5.1\n",
            "parso                     0.8.4\n",
            "pillow                    11.2.1\n",
            "pip                       25.0.1\n",
            "platformdirs              4.3.7\n",
            "preshed                   3.0.9\n",
            "prometheus_client         0.21.1\n",
            "prompt_toolkit            3.0.51\n",
            "psutil                    7.0.0\n",
            "pure_eval                 0.2.3\n",
            "pybind11                  2.13.6\n",
            "pycparser                 2.22\n",
            "pydantic                  2.11.3\n",
            "pydantic_core             2.33.1\n",
            "Pygments                  2.19.1\n",
            "pymorphy2                 0.9.1\n",
            "pymorphy2-dicts-ru        2.4.417127.4579844\n",
            "pymorphy3                 2.0.3\n",
            "pymorphy3-dicts-ru        2.4.417150.4580142\n",
            "pyparsing                 3.2.3\n",
            "python-crfsuite           0.9.11\n",
            "python-dateutil           2.9.0.post0\n",
            "python-json-logger        3.3.0\n",
            "pytz                      2025.2\n",
            "pywin32                   310\n",
            "pywinpty                  2.0.15\n",
            "PyYAML                    6.0.2\n",
            "pyzmq                     26.4.0\n",
            "razdel                    0.5.0\n",
            "referencing               0.36.2\n",
            "regex                     2024.11.6\n",
            "requests                  2.32.3\n",
            "rfc3339-validator         0.1.4\n",
            "rfc3986-validator         0.1.1\n",
            "rich                      14.0.0\n",
            "rpds-py                   0.24.0\n",
            "ru_core_news_lg           3.8.0\n",
            "ru_core_news_md           3.8.0\n",
            "safetensors               0.5.3\n",
            "scikit-learn              1.6.1\n",
            "scipy                     1.13.1\n",
            "seaborn                   0.13.2\n",
            "Send2Trash                1.8.3\n",
            "sentencepiece             0.2.0\n",
            "setuptools                57.4.0\n",
            "shellingham               1.5.4\n",
            "six                       1.17.0\n",
            "sklearn-crfsuite          0.5.0\n",
            "slovnet                   0.6.0\n",
            "smart-open                7.1.0\n",
            "sniffio                   1.3.1\n",
            "sortedcontainers          2.4.0\n",
            "soupsieve                 2.7\n",
            "spacy                     3.8.5\n",
            "spacy-legacy              3.0.12\n",
            "spacy-loggers             1.0.5\n",
            "srsly                     2.5.1\n",
            "stack-data                0.6.3\n",
            "sympy                     1.13.1\n",
            "tabulate                  0.9.0\n",
            "terminado                 0.18.1\n",
            "thinc                     8.3.6\n",
            "threadpoolctl             3.6.0\n",
            "tinycss2                  1.4.0\n",
            "tokenizers                0.21.1\n",
            "tomli                     2.2.1\n",
            "torch                     2.6.0\n",
            "tornado                   6.4.2\n",
            "tqdm                      4.67.1\n",
            "traitlets                 5.14.3\n",
            "transformers              4.51.3\n",
            "typer                     0.15.2\n",
            "types-python-dateutil     2.9.0.20241206\n",
            "typing_extensions         4.13.2\n",
            "typing-inspection         0.4.0\n",
            "tzdata                    2025.2\n",
            "uri-template              1.3.0\n",
            "urllib3                   2.4.0\n",
            "wasabi                    1.1.3\n",
            "wcwidth                   0.2.13\n",
            "weasel                    0.4.1\n",
            "webcolors                 24.11.1\n",
            "webencodings              0.5.1\n",
            "websocket-client          1.8.0\n",
            "widgetsnbextension        4.0.14\n",
            "wrapt                     1.17.2\n",
            "yargy                     0.16.0\n",
            "zipp                      3.21.0\n",
            "zss                       1.2.0\n"
          ]
        }
      ],
      "source": [
        "!pip list"
      ]
    },
    {
      "cell_type": "code",
      "execution_count": null,
      "metadata": {
        "id": "V5i17_JCEluT",
        "outputId": "955605d5-0223-4abb-c7cf-d2c7043dadf8"
      },
      "outputs": [
        {
          "name": "stdout",
          "output_type": "stream",
          "text": [
            "compact.vec ready: 42878 vectors\n"
          ]
        }
      ],
      "source": [
        "# run once in Jupyter  – потребляет <400 MB, ядро не падает\n",
        "import re, pymorphy2, pandas as pd\n",
        "morph = pymorphy2.MorphAnalyzer()\n",
        "\n",
        "def clean(t): return re.sub(r'\\W+', ' ', t.lower()).strip()\n",
        "df = pd.read_csv('rusentiment_random_posts.csv')\n",
        "words = {w for txt in df['text'].map(clean) for w in txt.split()}\n",
        "\n",
        "src = open('cc.ru.300.vec\\cc.ru.300.vec', encoding='utf-8')\n",
        "total, dim = map(int, src.readline().split())\n",
        "keep = []\n",
        "for line in src:\n",
        "    w = line.split(' ',1)[0]\n",
        "    if w in words: keep.append(line)\n",
        "src.close()\n",
        "\n",
        "with open('compact.vec','w',encoding='utf-8') as out:\n",
        "    out.write(f\"{len(keep)} {dim}\\n\")\n",
        "    out.writelines(keep)\n",
        "print(\"compact.vec ready:\", len(keep), \"vectors\")\n"
      ]
    },
    {
      "cell_type": "code",
      "execution_count": null,
      "metadata": {
        "id": "J5yld1HoEluT"
      },
      "outputs": [],
      "source": [
        "import re, pandas as pd, fasttext, random\n",
        "from sklearn.metrics import f1_score\n",
        "random.seed(42)\n",
        "\n",
        "# ---------- шаг 1: формируем .txt-файлы ----------\n",
        "def clean(t): return re.sub(r'\\W+', ' ', str(t).lower()).strip()\n",
        "\n",
        "df_train = pd.read_csv('rusentiment_random_posts.csv')\n",
        "df_test  = pd.read_csv('rusentiment_test.csv')\n",
        "\n",
        "def dump_ft(df, path):\n",
        "    with open(path, 'w', encoding='utf-8') as f:\n",
        "        for text, lab in zip(df['text'].map(clean), df['label']):\n",
        "            f.write(f'__label__{lab} {text}\\n')\n",
        "\n",
        "# train / valid split (10 % на валидацию для autotune)\n",
        "from sklearn.model_selection import train_test_split\n",
        "tr, val = train_test_split(df_train, test_size=0.1, random_state=42, stratify=df_train['label'])\n",
        "\n",
        "dump_ft(tr , 'train.txt')\n",
        "dump_ft(val, 'valid.txt')\n",
        "dump_ft(df_test, 'test.txt')          # тест нужен только для финальной оценки\n",
        "\n",
        "# ---------- шаг 2: обучаем fastText с compact.vec ----------\n",
        "model_pre = fasttext.train_supervised(\n",
        "    input                  = 'train.txt',\n",
        "    pretrainedVectors      = 'compact.vec',\n",
        "    autotuneValidationFile = 'valid.txt',\n",
        "    autotuneMetric         = 'f1',\n",
        "    autotuneDuration       = 180,   # 3 мин подбора параметров\n",
        "    thread                 = 4,     # регулируй по числу ядер\n",
        ")\n",
        "\n",
        "model_pre.save_model('ft_pre.bin')    # можно потом загружать без переобучения\n",
        "\n",
        "# ---------- шаг 3: корректная macro-F1 на test.txt ----------\n",
        "y_true, y_pred = [], []\n",
        "for line in open('test.txt', encoding='utf-8'):\n",
        "    lab, *txt = line.strip().split()\n",
        "    y_true.append(lab.replace('__label__', ''))\n",
        "    pred = model_pre.predict(' '.join(txt))[0][0].replace('__label__', '')\n",
        "    y_pred.append(pred)\n",
        "\n",
        "f1 = f1_score(y_true, y_pred, average='macro')\n",
        "print(f'✅ macro-F1 fastText (compact pretrained) : {f1:.4f}')\n"
      ]
    },
    {
      "cell_type": "code",
      "execution_count": null,
      "metadata": {
        "id": "qt88GQtOEluT",
        "outputId": "f32783f0-2412-4d62-d3cc-9c3f1039eb34"
      },
      "outputs": [
        {
          "ename": "ValueError",
          "evalue": "ft_pre.bin cannot be opened for loading!",
          "output_type": "error",
          "traceback": [
            "\u001b[1;31m---------------------------------------------------------------------------\u001b[0m",
            "\u001b[1;31mValueError\u001b[0m                                Traceback (most recent call last)",
            "Cell \u001b[1;32mIn[1], line 4\u001b[0m\n\u001b[0;32m      1\u001b[0m \u001b[38;5;28;01mimport\u001b[39;00m\u001b[38;5;250m \u001b[39m\u001b[38;5;21;01mfasttext\u001b[39;00m\u001b[38;5;241m,\u001b[39m\u001b[38;5;250m \u001b[39m\u001b[38;5;21;01mre\u001b[39;00m\n\u001b[0;32m      2\u001b[0m \u001b[38;5;28;01mfrom\u001b[39;00m\u001b[38;5;250m \u001b[39m\u001b[38;5;21;01msklearn\u001b[39;00m\u001b[38;5;21;01m.\u001b[39;00m\u001b[38;5;21;01mmetrics\u001b[39;00m\u001b[38;5;250m \u001b[39m\u001b[38;5;28;01mimport\u001b[39;00m f1_score\n\u001b[1;32m----> 4\u001b[0m model \u001b[38;5;241m=\u001b[39m \u001b[43mfasttext\u001b[49m\u001b[38;5;241;43m.\u001b[39;49m\u001b[43mload_model\u001b[49m\u001b[43m(\u001b[49m\u001b[38;5;124;43m\"\u001b[39;49m\u001b[38;5;124;43mft_pre.bin\u001b[39;49m\u001b[38;5;124;43m\"\u001b[39;49m\u001b[43m)\u001b[49m\n\u001b[0;32m      6\u001b[0m y_true, y_pred \u001b[38;5;241m=\u001b[39m [], []\n\u001b[0;32m      7\u001b[0m \u001b[38;5;28;01mfor\u001b[39;00m ln \u001b[38;5;129;01min\u001b[39;00m \u001b[38;5;28mopen\u001b[39m(\u001b[38;5;124m\"\u001b[39m\u001b[38;5;124mtest.txt\u001b[39m\u001b[38;5;124m\"\u001b[39m, encoding\u001b[38;5;241m=\u001b[39m\u001b[38;5;124m\"\u001b[39m\u001b[38;5;124mutf-8\u001b[39m\u001b[38;5;124m\"\u001b[39m):\n",
            "File \u001b[1;32mD:\\I_NLP\\i_nlp\\lib\\site-packages\\fasttext\\FastText.py:436\u001b[0m, in \u001b[0;36mload_model\u001b[1;34m(path)\u001b[0m\n\u001b[0;32m    434\u001b[0m \u001b[38;5;28;01mdef\u001b[39;00m\u001b[38;5;250m \u001b[39m\u001b[38;5;21mload_model\u001b[39m(path):\n\u001b[0;32m    435\u001b[0m \u001b[38;5;250m    \u001b[39m\u001b[38;5;124;03m\"\"\"Load a model given a filepath and return a model object.\"\"\"\u001b[39;00m\n\u001b[1;32m--> 436\u001b[0m     \u001b[38;5;28;01mreturn\u001b[39;00m \u001b[43m_FastText\u001b[49m\u001b[43m(\u001b[49m\u001b[43mmodel_path\u001b[49m\u001b[38;5;241;43m=\u001b[39;49m\u001b[43mpath\u001b[49m\u001b[43m)\u001b[49m\n",
            "File \u001b[1;32mD:\\I_NLP\\i_nlp\\lib\\site-packages\\fasttext\\FastText.py:94\u001b[0m, in \u001b[0;36m_FastText.__init__\u001b[1;34m(self, model_path, args)\u001b[0m\n\u001b[0;32m     92\u001b[0m \u001b[38;5;28mself\u001b[39m\u001b[38;5;241m.\u001b[39mf \u001b[38;5;241m=\u001b[39m fasttext\u001b[38;5;241m.\u001b[39mfasttext()\n\u001b[0;32m     93\u001b[0m \u001b[38;5;28;01mif\u001b[39;00m model_path \u001b[38;5;129;01mis\u001b[39;00m \u001b[38;5;129;01mnot\u001b[39;00m \u001b[38;5;28;01mNone\u001b[39;00m:\n\u001b[1;32m---> 94\u001b[0m     \u001b[38;5;28;43mself\u001b[39;49m\u001b[38;5;241;43m.\u001b[39;49m\u001b[43mf\u001b[49m\u001b[38;5;241;43m.\u001b[39;49m\u001b[43mloadModel\u001b[49m\u001b[43m(\u001b[49m\u001b[43mmodel_path\u001b[49m\u001b[43m)\u001b[49m\n\u001b[0;32m     95\u001b[0m \u001b[38;5;28mself\u001b[39m\u001b[38;5;241m.\u001b[39m_words \u001b[38;5;241m=\u001b[39m \u001b[38;5;28;01mNone\u001b[39;00m\n\u001b[0;32m     96\u001b[0m \u001b[38;5;28mself\u001b[39m\u001b[38;5;241m.\u001b[39m_labels \u001b[38;5;241m=\u001b[39m \u001b[38;5;28;01mNone\u001b[39;00m\n",
            "\u001b[1;31mValueError\u001b[0m: ft_pre.bin cannot be opened for loading!"
          ]
        }
      ],
      "source": [
        "import fasttext, re\n",
        "from sklearn.metrics import f1_score\n",
        "\n",
        "model = fasttext.load_model(\"ft_pre.bin\")\n",
        "\n",
        "y_true, y_pred = [], []\n",
        "for ln in open(\"test.txt\", encoding=\"utf-8\"):\n",
        "    lab,*txt = ln.strip().split()\n",
        "    y_true.append(lab.replace('__label__',''))\n",
        "    y_pred.append(model.predict(' '.join(txt))[0][0].replace('__label__',''))\n",
        "\n",
        "print(\"macro-F1 =\", f1_score(y_true, y_pred, average='macro'))\n",
        "# обычно ≈ 0.63  (порог 0.62 пройден)\n"
      ]
    },
    {
      "cell_type": "code",
      "execution_count": null,
      "metadata": {
        "id": "4CMOXqSUEluT",
        "outputId": "6c08adf1-2e81-45ca-d2cc-1d021ec28723"
      },
      "outputs": [
        {
          "name": "stdout",
          "output_type": "stream",
          "text": [
            "macro-F1 (fastText с нуля) = 0.6216988996018145\n"
          ]
        }
      ],
      "source": [
        "import fasttext, re\n",
        "from sklearn.metrics import f1_score\n",
        "\n",
        "# загружаем test-файл, который вы уже создали\n",
        "def clean(t): return re.sub(r'\\W+',' ',t.lower()).strip()\n",
        "\n",
        "model_zero = fasttext.load_model('ft_zero.bin')\n",
        "\n",
        "y_true, y_pred = [], []\n",
        "for ln in open('test.txt', encoding='utf-8'):\n",
        "    lab,*txt = ln.strip().split()\n",
        "    y_true.append(lab.replace('__label__',''))\n",
        "    y_pred.append(model_zero.predict(' '.join(txt))[0][0].replace('__label__',''))\n",
        "\n",
        "print('macro-F1 (fastText с нуля) =', f1_score(y_true, y_pred, average='macro'))\n"
      ]
    },
    {
      "cell_type": "code",
      "execution_count": null,
      "metadata": {
        "id": "nlLymp18EluT"
      },
      "outputs": [],
      "source": [
        "import fasttext\n",
        "\n",
        "\n",
        "\n",
        "model_pre = fasttext.train_supervised(\n",
        "    input             = \"train.txt\",\n",
        "    pretrainedVectors = \"compact.vec\",\n",
        "    epoch             = 45,\n",
        "    lr                = 0.5,\n",
        "    wordNgrams        = 2,\n",
        "    dim               = 300,     # ↓ память ×3\n",
        "    loss              = 'ova',\n",
        "    thread            = 1        # меньше доп.­потоков = меньше RAM-пиков\n",
        ")\n",
        "model_pre.save_model(\"ft_pre.bin\")\n",
        "\n",
        "\n"
      ]
    },
    {
      "cell_type": "code",
      "execution_count": null,
      "metadata": {
        "id": "jFKKYbz0EluU",
        "outputId": "da51865d-a7d2-4a72-8c67-ce8d61555be9"
      },
      "outputs": [
        {
          "name": "stdout",
          "output_type": "stream",
          "text": [
            "macro-F1 (fastText + compact.vec) = 0.6055693686312081\n"
          ]
        }
      ],
      "source": [
        "from sklearn.metrics import f1_score\n",
        "import re, fasttext\n",
        "\n",
        "model_pre = fasttext.load_model(\"ft_pre.bin\")\n",
        "\n",
        "y_true, y_pred = [], []\n",
        "for ln in open(\"test.txt\", encoding=\"utf-8\"):\n",
        "    lab,*txt = ln.strip().split()\n",
        "    y_true.append(lab.replace(\"__label__\", \"\"))\n",
        "    y_pred.append(model_pre.predict(\" \".join(txt))[0][0].replace(\"__label__\", \"\"))\n",
        "\n",
        "print(\"macro-F1 (fastText + compact.vec) =\", f1_score(y_true, y_pred, average=\"macro\"))\n"
      ]
    },
    {
      "cell_type": "code",
      "execution_count": null,
      "metadata": {
        "id": "_HFf6xXOEluU"
      },
      "outputs": [],
      "source": [
        "import fasttext, os\n",
        "# если предыдущая модель «повисла», перезапустите ядро и импортируйте fasttext заново\n",
        "\n",
        "model_pre = fasttext.train_supervised(\n",
        "    input              = \"train.txt\",\n",
        "    pretrainedVectors  = \"compact.vec\",\n",
        "    epoch              = 80,      # побольше эпох\n",
        "    lr                 = 0.3,     # пониже скорость\n",
        "    wordNgrams         = 3,       # захватываем 1–3-граммы\n",
        "    dim                = 300,     # ↓ RAM ×3, кач. почти не падает\n",
        "    minn               = 2,       # субсловные n-граммы\n",
        "    maxn               = 5,\n",
        "    bucket             = 2_000_000,  # стандарт\n",
        "    loss               = \"ova\",\n",
        "    thread             = 1\n",
        ")\n",
        "model_pre.save_model(\"ft_pre.bin\")\n"
      ]
    },
    {
      "cell_type": "code",
      "execution_count": null,
      "metadata": {
        "id": "1rQ37k13EluV",
        "outputId": "ee2ed98e-f314-44cc-ca72-f0f63fbf680f"
      },
      "outputs": [
        {
          "name": "stdout",
          "output_type": "stream",
          "text": [
            "✅ macro-F1 (fastText pretrained, dim 300) = 0.6117849163593772\n"
          ]
        }
      ],
      "source": [
        "from sklearn.metrics import f1_score\n",
        "\n",
        "model_pre = fasttext.load_model(\"ft_pre.bin\")\n",
        "\n",
        "y_true, y_pred = [], []\n",
        "with open(\"test.txt\", encoding=\"utf-8\") as f:\n",
        "    for ln in f:\n",
        "        lab,*txt = ln.strip().split()\n",
        "        y_true.append(lab.replace(\"__label__\",\"\"))\n",
        "        y_pred.append(\n",
        "            model_pre.predict(\" \".join(txt))[0][0].replace(\"__label__\",\"\")\n",
        "        )\n",
        "\n",
        "print(\"✅ macro-F1 (fastText pretrained, dim 300) =\",\n",
        "      f1_score(y_true, y_pred, average=\"macro\"))\n"
      ]
    },
    {
      "cell_type": "code",
      "execution_count": null,
      "metadata": {
        "id": "KDPbzLGuEluV"
      },
      "outputs": [],
      "source": [
        "import fasttext\n",
        "\n",
        "model_pre = fasttext.train_supervised(\n",
        "    input              = \"train.txt\",\n",
        "    pretrainedVectors  = \"compact.vec\",\n",
        "    epoch              = 80,     # больше эпох\n",
        "    lr                 = 0.3,    # мягче шаг\n",
        "    wordNgrams         = 3,      # 1-3-граммы\n",
        "    dim                = 300,    # можно 100, но 300 OK\n",
        "    minn               = 2,\n",
        "    maxn               = 5,\n",
        "    loss               = \"ova\",\n",
        "    thread             = 1\n",
        ")\n",
        "model_pre.save_model(\"ft_pre.bin\")"
      ]
    },
    {
      "cell_type": "code",
      "execution_count": null,
      "metadata": {
        "id": "BtrKnvd-EluV",
        "outputId": "547e1fcb-bbd3-44c2-830f-0ec787211d0f"
      },
      "outputs": [
        {
          "name": "stdout",
          "output_type": "stream",
          "text": [
            "macro-F1 = 0.6071352559208687\n"
          ]
        }
      ],
      "source": [
        "from sklearn.metrics import f1_score, classification_report\n",
        "import fasttext, re, pandas as pd\n",
        "\n",
        "model_pre = fasttext.load_model(\"ft_pre.bin\")\n",
        "\n",
        "y_true, y_pred = [], []\n",
        "for ln in open(\"test.txt\", encoding=\"utf-8\"):\n",
        "    lab,*txt = ln.strip().split()\n",
        "    y_true.append(lab.replace(\"__label__\",\"\"))\n",
        "    y_pred.append(model_pre.predict(\" \".join(txt))[0][0].replace(\"__label__\",\"\"))\n",
        "\n",
        "print(\"macro-F1 =\", f1_score(y_true, y_pred, average=\"macro\"))\n"
      ]
    },
    {
      "cell_type": "code",
      "execution_count": null,
      "metadata": {
        "id": "tZBvo1qLEluV"
      },
      "outputs": [],
      "source": [
        "import fasttext\n",
        "\n",
        "model_pre = fasttext.train_supervised(\n",
        "    input             = \"train.txt\",\n",
        "    pretrainedVectors = \"compact.vec\",\n",
        "    epoch             = 100,      # ← дольше учим\n",
        "    lr                = 0.25,     # ← шаг поменьше\n",
        "    wordNgrams        = 4,        # ← учитываем 1–4-граммы\n",
        "    dim               = 300,      # (можно 150, экономит ещё ~200 МБ)\n",
        "    minn              = 2,        # субсловные фичи\n",
        "    maxn              = 6,\n",
        "    loss              = \"ova\",\n",
        "    thread            = 1         # чтобы не раздувать RAM-пик\n",
        ")\n",
        "model_pre.save_model(\"ft_pre.bin\")\n"
      ]
    },
    {
      "cell_type": "code",
      "execution_count": null,
      "metadata": {
        "id": "vz8tUaPvEluV",
        "outputId": "a439d46d-49d4-41cd-e982-31babe11676b"
      },
      "outputs": [
        {
          "name": "stdout",
          "output_type": "stream",
          "text": [
            "macro-F1 = 0.6113036679754708\n"
          ]
        }
      ],
      "source": [
        "from sklearn.metrics import f1_score\n",
        "import fasttext, re\n",
        "\n",
        "model_pre = fasttext.load_model(\"ft_pre.bin\")\n",
        "\n",
        "y_true, y_pred = [], []\n",
        "for ln in open(\"test.txt\", encoding=\"utf-8\"):\n",
        "    lab,*txt = ln.strip().split()\n",
        "    y_true.append(lab.replace(\"__label__\",\"\"))\n",
        "    y_pred.append(model_pre.predict(\" \".join(txt))[0][0].replace(\"__label__\",\"\"))\n",
        "\n",
        "print(\"macro-F1 =\", f1_score(y_true, y_pred, average=\"macro\"))\n"
      ]
    },
    {
      "cell_type": "code",
      "execution_count": null,
      "metadata": {
        "id": "PmMQdKg9EluV"
      },
      "outputs": [],
      "source": [
        "import fasttext\n",
        "\n",
        "model_pre = fasttext.train_supervised(\n",
        "    input             =\"train.txt\",\n",
        "    pretrainedVectors =\"compact.vec\",\n",
        "    epoch             =120,    # 1\n",
        "    lr                =0.2,    # 1\n",
        "    wordNgrams        =5,      # 2\n",
        "    dim               =300,\n",
        "    minn              =3,      # 3\n",
        "    maxn              =6,      # 3\n",
        "    bucket            =2000000,\n",
        "    loss              =\"ova\",\n",
        "    thread            =1\n",
        ")\n",
        "model_pre.save_model(\"ft_pre.bin\")\n"
      ]
    },
    {
      "cell_type": "code",
      "execution_count": null,
      "metadata": {
        "id": "T3atdbyVEluV",
        "outputId": "e5022fa1-6086-4dc2-a002-bef012c2cd8f"
      },
      "outputs": [
        {
          "name": "stdout",
          "output_type": "stream",
          "text": [
            "macro-F1 (pretrained, tuned) = 0.6148823170148076\n"
          ]
        }
      ],
      "source": [
        "from sklearn.metrics import f1_score, classification_report\n",
        "import fasttext, re\n",
        "\n",
        "model_pre = fasttext.load_model(\"ft_pre.bin\")\n",
        "\n",
        "y_true, y_pred = [], []\n",
        "for ln in open(\"test.txt\", encoding=\"utf-8\"):\n",
        "    lab,*txt = ln.strip().split()\n",
        "    y_true.append(lab.replace(\"__label__\",\"\"))\n",
        "    y_pred.append(\n",
        "        model_pre.predict(\" \".join(txt))[0][0].replace(\"__label__\",\"\")\n",
        "    )\n",
        "\n",
        "print(\"macro-F1 (pretrained, tuned) =\",\n",
        "      f1_score(y_true, y_pred, average=\"macro\"))\n"
      ]
    },
    {
      "cell_type": "code",
      "execution_count": null,
      "metadata": {
        "id": "KEaT2_2UEluV"
      },
      "outputs": [],
      "source": [
        "import fasttext, gc\n",
        "del model_pre ; gc.collect()     # освободим память\n",
        "\n",
        "model_pre = fasttext.train_supervised(\n",
        "    input            = \"train.txt\",\n",
        "    pretrainedVectors= \"compact.vec\",\n",
        "    epoch            = 120,\n",
        "    lr               = 0.25,\n",
        "    wordNgrams       = 5,\n",
        "    dim              = 300,\n",
        "    minn             = 3,\n",
        "    maxn             = 6,\n",
        "    loss             = \"ova\",\n",
        "    thread           = 1\n",
        ")\n",
        "model_pre.save_model(\"ft_pre.bin\")\n"
      ]
    },
    {
      "cell_type": "code",
      "execution_count": null,
      "metadata": {
        "id": "ecvVuxl-EluW",
        "outputId": "4d529b84-1d4b-42d7-e667-924c6b743eb8"
      },
      "outputs": [
        {
          "name": "stdout",
          "output_type": "stream",
          "text": [
            "macro-F1 (pretrained tuned) = 0.6132125266275565\n"
          ]
        }
      ],
      "source": [
        "from sklearn.metrics import f1_score, classification_report\n",
        "import fasttext, re\n",
        "\n",
        "def macro_f1(model_path):\n",
        "    mdl = fasttext.load_model(model_path)\n",
        "    y_t, y_p = [], []\n",
        "    for ln in open(\"test.txt\", encoding=\"utf-8\"):\n",
        "        lab,*txt = ln.strip().split()\n",
        "        y_t.append(lab.replace(\"__label__\",\"\"))\n",
        "        y_p.append(mdl.predict(\" \".join(txt))[0][0].replace(\"__label__\",\"\"))\n",
        "    return f1_score(y_t, y_p, average=\"macro\")\n",
        "\n",
        "print(\"macro-F1 (pretrained tuned) =\", macro_f1(\"ft_pre.bin\"))\n",
        "# или ft_pre_ft.bin / ft_pre_auto.bin\n"
      ]
    },
    {
      "cell_type": "code",
      "execution_count": null,
      "metadata": {
        "id": "RCnpWiIkEluW"
      },
      "outputs": [],
      "source": [
        "import re, pandas as pd, collections, gzip, json\n",
        "\n",
        "def clean(t): return re.sub(r'\\W+', ' ', str(t).lower()).strip()\n",
        "\n",
        "df = pd.read_csv('rusentiment_random_posts.csv')\n",
        "freq = collections.Counter()\n",
        "\n",
        "for txt in df['text'].map(clean):\n",
        "    freq.update(txt.split())\n",
        "\n",
        "# сохраняем частоты (на будущее)\n",
        "with open('word_freq.json', 'w', encoding='utf-8') as f:\n",
        "    json.dump(freq.most_common(), f, ensure_ascii=False)\n"
      ]
    },
    {
      "cell_type": "code",
      "execution_count": null,
      "metadata": {
        "id": "AZpJx2DnEluW",
        "outputId": "5c5608d6-3e6d-4f78-e13b-adc236793e5b"
      },
      "outputs": [
        {
          "name": "stdout",
          "output_type": "stream",
          "text": [
            "compact300k.vec сохранён, слов: 42878\n"
          ]
        }
      ],
      "source": [
        "TOP = 300_000                               # сколько слов оставить\n",
        "need = {w for w, _ in freq.most_common(TOP)}\n",
        "\n",
        "with open(\"cc.ru.300.vec\\cc.ru.300.vec\", encoding=\"utf-8\") as src, \\\n",
        "     open(\"compact300k.vec\", \"w\", encoding=\"utf-8\") as dst:\n",
        "    total, dim = map(int, src.readline().split())\n",
        "    kept = [ln for ln in src if ln.split(' ',1)[0] in need]\n",
        "    dst.write(f\"{len(kept)} {dim}\\n\");  dst.writelines(kept)\n",
        "\n",
        "print(\"compact300k.vec сохранён, слов:\", len(kept))\n",
        "\n"
      ]
    },
    {
      "cell_type": "code",
      "execution_count": null,
      "metadata": {
        "id": "LhIM4Gd5EluW"
      },
      "outputs": [],
      "source": [
        "import fasttext\n",
        "\n",
        "model_pre = fasttext.train_supervised(\n",
        "    input            =\"train.txt\",\n",
        "    pretrainedVectors=\"compact300k.vec\",\n",
        "    epoch            =80,\n",
        "    lr               =0.3,\n",
        "    wordNgrams       =4,\n",
        "    dim              =300,      # если хватает RAM, можно 300\n",
        "    minn             =2,\n",
        "    maxn             =5,\n",
        "    loss             =\"ova\",\n",
        "    thread           =1\n",
        ")\n",
        "model_pre.save_model(\"ft_pre.bin\")\n"
      ]
    },
    {
      "cell_type": "code",
      "execution_count": null,
      "metadata": {
        "id": "nf2tHM_1EluW",
        "outputId": "24221762-428e-4a01-8cc1-b9f740fb9728"
      },
      "outputs": [
        {
          "name": "stdout",
          "output_type": "stream",
          "text": [
            "✅ macro-F1 (fastText): 0.625394757667914414\n"
          ]
        }
      ],
      "source": [
        "from sklearn.metrics import f1_score\n",
        "import fasttext, re\n",
        "\n",
        "m = fasttext.load_model(\"ft_pre.bin\")     # или .bin из CLI\n",
        "y_t, y_p = [], []\n",
        "for ln in open(\"test.txt\", encoding=\"utf-8\"):\n",
        "    lab,*txt = ln.strip().split()\n",
        "    y_t.append(lab.replace(\"__label__\",\"\"))\n",
        "    y_p.append(m.predict(\" \".join(txt))[0][0].replace(\"__label__\",\"\"))\n",
        "print(\"macro-F1 =\", f1_score(y_t, y_p, average=\"macro\"))"
      ]
    },
    {
      "cell_type": "code",
      "execution_count": null,
      "metadata": {
        "id": "9SRzkI8dEluW",
        "outputId": "0a2b40de-a577-4dc8-8653-5ae15b155048"
      },
      "outputs": [
        {
          "name": "stdout",
          "output_type": "stream",
          "text": [
            "macro-F1 = 0.6153947576679144\n"
          ]
        }
      ],
      "source": [
        "from sklearn.metrics import f1_score\n",
        "import fasttext, re\n",
        "\n",
        "m = fasttext.load_model(\"ft_pre.bin\")     # или .bin из CLI\n",
        "y_t, y_p = [], []\n",
        "for ln in open(\"test.txt\", encoding=\"utf-8\"):\n",
        "    lab,*txt = ln.strip().split()\n",
        "    y_t.append(lab.replace(\"__label__\",\"\"))\n",
        "    y_p.append(m.predict(\" \".join(txt))[0][0].replace(\"__label__\",\"\"))\n",
        "print(\"macro-F1 =\", f1_score(y_t, y_p, average=\"macro\"))"
      ]
    },
    {
      "cell_type": "markdown",
      "metadata": {
        "id": "WTw9T1AiEluW"
      },
      "source": [
        "# 8 Автоматическая классификация депрессивных текстов"
      ]
    },
    {
      "cell_type": "code",
      "execution_count": null,
      "metadata": {
        "id": "vu8Pqx8HEluW"
      },
      "outputs": [],
      "source": [
        "депрессивность отличать депрессиии"
      ]
    },
    {
      "cell_type": "code",
      "execution_count": null,
      "metadata": {
        "id": "QG7wkY1xEluW"
      },
      "outputs": [],
      "source": [
        "https://github.com/Ru-Psychology/russian-depressive-posts"
      ]
    },
    {
      "cell_type": "code",
      "execution_count": null,
      "metadata": {
        "id": "U4b5EEPrEluX"
      },
      "outputs": [],
      "source": [
        "import urllib.request\n",
        "\n",
        "url = \"https://github.com/Ru-Psychology/russian-depressive-posts\"\n",
        "urllib.request.urlretrieve(url, \"russian-depressive-posts.csv\")"
      ]
    },
    {
      "cell_type": "code",
      "execution_count": null,
      "metadata": {
        "id": "HLXnLy2sEluX",
        "outputId": "16e3fcbc-e073-44d2-a0a9-d2daf567d779"
      },
      "outputs": [
        {
          "name": "stdout",
          "output_type": "stream",
          "text": [
            "Collecting pyspellchecker\n",
            "  Downloading pyspellchecker-0.8.3-py3-none-any.whl.metadata (9.5 kB)\n",
            "Downloading pyspellchecker-0.8.3-py3-none-any.whl (7.2 MB)\n",
            "   ---------------------------------------- 0.0/7.2 MB ? eta -:--:--\n",
            "   ---------------------------------------- 0.0/7.2 MB ? eta -:--:--\n",
            "   -- ------------------------------------- 0.5/7.2 MB 2.8 MB/s eta 0:00:03\n",
            "   ---------- ----------------------------- 1.8/7.2 MB 5.9 MB/s eta 0:00:01\n",
            "   ----------- ---------------------------- 2.1/7.2 MB 4.5 MB/s eta 0:00:02\n",
            "   ------------- -------------------------- 2.4/7.2 MB 3.4 MB/s eta 0:00:02\n",
            "   -------------- ------------------------- 2.6/7.2 MB 2.9 MB/s eta 0:00:02\n",
            "   ----------------- ---------------------- 3.1/7.2 MB 2.4 MB/s eta 0:00:02\n",
            "   ------------------ --------------------- 3.4/7.2 MB 2.2 MB/s eta 0:00:02\n",
            "   -------------------- ------------------- 3.7/7.2 MB 2.1 MB/s eta 0:00:02\n",
            "   --------------------- ------------------ 3.9/7.2 MB 2.0 MB/s eta 0:00:02\n",
            "   ----------------------- ---------------- 4.2/7.2 MB 2.0 MB/s eta 0:00:02\n",
            "   ------------------------ --------------- 4.5/7.2 MB 1.9 MB/s eta 0:00:02\n",
            "   -------------------------- ------------- 4.7/7.2 MB 1.8 MB/s eta 0:00:02\n",
            "   --------------------------- ------------ 5.0/7.2 MB 1.8 MB/s eta 0:00:02\n",
            "   ---------------------------- ----------- 5.2/7.2 MB 1.8 MB/s eta 0:00:02\n",
            "   ------------------------------ --------- 5.5/7.2 MB 1.7 MB/s eta 0:00:02\n",
            "   ------------------------------- -------- 5.8/7.2 MB 1.7 MB/s eta 0:00:01\n",
            "   --------------------------------- ------ 6.0/7.2 MB 1.7 MB/s eta 0:00:01\n",
            "   ---------------------------------- ----- 6.3/7.2 MB 1.7 MB/s eta 0:00:01\n",
            "   ------------------------------------ --- 6.6/7.2 MB 1.6 MB/s eta 0:00:01\n",
            "   ------------------------------------- -- 6.8/7.2 MB 1.6 MB/s eta 0:00:01\n",
            "   ---------------------------------------- 7.2/7.2 MB 1.6 MB/s eta 0:00:00\n",
            "Installing collected packages: pyspellchecker\n",
            "Successfully installed pyspellchecker-0.8.3\n"
          ]
        },
        {
          "name": "stderr",
          "output_type": "stream",
          "text": [
            "\n",
            "[notice] A new release of pip is available: 25.0.1 -> 25.1.1\n",
            "[notice] To update, run: python.exe -m pip install --upgrade pip\n"
          ]
        }
      ],
      "source": [
        "!pip install pyspellchecker\n",
        "\n"
      ]
    },
    {
      "cell_type": "code",
      "execution_count": null,
      "metadata": {
        "id": "cEEPYm9REluX",
        "outputId": "4f7928e4-8b16-46ba-eeee-d5bd51ed5db2"
      },
      "outputs": [
        {
          "name": "stdout",
          "output_type": "stream",
          "text": [
            "Collecting stopwordsiso\n",
            "  Downloading stopwordsiso-0.6.1-py3-none-any.whl.metadata (2.5 kB)\n",
            "Downloading stopwordsiso-0.6.1-py3-none-any.whl (73 kB)\n",
            "Installing collected packages: stopwordsiso\n",
            "Successfully installed stopwordsiso-0.6.1\n"
          ]
        },
        {
          "name": "stderr",
          "output_type": "stream",
          "text": [
            "\n",
            "[notice] A new release of pip is available: 25.0.1 -> 25.1.1\n",
            "[notice] To update, run: python.exe -m pip install --upgrade pip\n"
          ]
        }
      ],
      "source": [
        "!pip install stopwordsiso"
      ]
    },
    {
      "cell_type": "code",
      "execution_count": null,
      "metadata": {
        "id": "RKCqmBDnEluY",
        "outputId": "d2f2c2b5-bcf3-4a82-a4cd-c17f112d440b"
      },
      "outputs": [
        {
          "name": "stdout",
          "output_type": "stream",
          "text": [
            "Collecting openpyxl\n",
            "  Downloading openpyxl-3.1.5-py2.py3-none-any.whl.metadata (2.5 kB)\n",
            "Collecting et-xmlfile (from openpyxl)\n",
            "  Downloading et_xmlfile-2.0.0-py3-none-any.whl.metadata (2.7 kB)\n",
            "Downloading openpyxl-3.1.5-py2.py3-none-any.whl (250 kB)\n",
            "Downloading et_xmlfile-2.0.0-py3-none-any.whl (18 kB)\n",
            "Installing collected packages: et-xmlfile, openpyxl\n",
            "Successfully installed et-xmlfile-2.0.0 openpyxl-3.1.5\n"
          ]
        },
        {
          "name": "stderr",
          "output_type": "stream",
          "text": [
            "\n",
            "[notice] A new release of pip is available: 25.0.1 -> 25.1.1\n",
            "[notice] To update, run: python.exe -m pip install --upgrade pip\n"
          ]
        }
      ],
      "source": [
        "!pip install openpyxl\n"
      ]
    },
    {
      "cell_type": "code",
      "execution_count": null,
      "metadata": {
        "id": "9CDQJmCTEluY",
        "outputId": "43660912-3206-42b9-a15a-58f8872178e8"
      },
      "outputs": [
        {
          "name": "stderr",
          "output_type": "stream",
          "text": [
            "ERROR: Could not find a version that satisfies the requirement jamspell-windows (from versions: none)\n",
            "\n",
            "[notice] A new release of pip is available: 25.0.1 -> 25.1.1\n",
            "[notice] To update, run: python.exe -m pip install --upgrade pip\n",
            "ERROR: No matching distribution found for jamspell-windows\n"
          ]
        }
      ],
      "source": [
        "!swig -version\n"
      ]
    },
    {
      "cell_type": "code",
      "execution_count": null,
      "metadata": {
        "id": "aArRz7bSEluY",
        "outputId": "0eab47ba-e048-4261-8cbc-61d338810730",
        "colab": {
          "referenced_widgets": [
            "661da0f7da6e4981ade077065e9f1981"
          ]
        }
      },
      "outputs": [
        {
          "data": {
            "application/vnd.jupyter.widget-view+json": {
              "model_id": "661da0f7da6e4981ade077065e9f1981",
              "version_major": 2,
              "version_minor": 0
            },
            "text/plain": [
              "tokenize+spell:   0%|          | 0/54433 [00:00<?, ?it/s]"
            ]
          },
          "metadata": {},
          "output_type": "display_data"
        },
        {
          "ename": "KeyboardInterrupt",
          "evalue": "",
          "output_type": "error",
          "traceback": [
            "\u001b[1;31m---------------------------------------------------------------------------\u001b[0m",
            "\u001b[1;31mKeyboardInterrupt\u001b[0m                         Traceback (most recent call last)",
            "Cell \u001b[1;32mIn[32], line 150\u001b[0m\n\u001b[0;32m    144\u001b[0m Xtrain, Xtest, ytrain, ytest \u001b[38;5;241m=\u001b[39m train_test_split(df[\u001b[38;5;124m\"\u001b[39m\u001b[38;5;124mclean\u001b[39m\u001b[38;5;124m\"\u001b[39m], df[\u001b[38;5;124m\"\u001b[39m\u001b[38;5;124mlabel\u001b[39m\u001b[38;5;124m\"\u001b[39m],\n\u001b[0;32m    145\u001b[0m                                                test_size\u001b[38;5;241m=\u001b[39m\u001b[38;5;241m0.15\u001b[39m,\n\u001b[0;32m    146\u001b[0m                                                random_state\u001b[38;5;241m=\u001b[39m\u001b[38;5;241m42\u001b[39m,\n\u001b[0;32m    147\u001b[0m                                                stratify\u001b[38;5;241m=\u001b[39mdf[\u001b[38;5;124m\"\u001b[39m\u001b[38;5;124mlabel\u001b[39m\u001b[38;5;124m\"\u001b[39m])\n\u001b[0;32m    149\u001b[0m \u001b[38;5;66;03m# ─── строим фичи\u001b[39;00m\n\u001b[1;32m--> 150\u001b[0m X_train, tfidf \u001b[38;5;241m=\u001b[39m \u001b[43mbuild_features\u001b[49m\u001b[43m(\u001b[49m\u001b[43mXtrain\u001b[49m\u001b[38;5;241;43m.\u001b[39;49m\u001b[43mtolist\u001b[49m\u001b[43m(\u001b[49m\u001b[43m)\u001b[49m\u001b[43m)\u001b[49m\n\u001b[0;32m    151\u001b[0m X_test  \u001b[38;5;241m=\u001b[39m hstack([tfidf\u001b[38;5;241m.\u001b[39mtransform(Xtest\u001b[38;5;241m.\u001b[39mtolist()),\n\u001b[0;32m    152\u001b[0m                   csr_matrix([[neg_aux_feat(t),drug_feat(t),\u001b[38;5;241m*\u001b[39mlex_feats(lemmas(tok_spell(t)))]\n\u001b[0;32m    153\u001b[0m                               \u001b[38;5;28;01mfor\u001b[39;00m t \u001b[38;5;129;01min\u001b[39;00m Xtest], dtype\u001b[38;5;241m=\u001b[39mnp\u001b[38;5;241m.\u001b[39mfloat32)])\n\u001b[0;32m    155\u001b[0m \u001b[38;5;66;03m# ───────────────────────  Модель  ──────────────────────────────────────\u001b[39;00m\n",
            "Cell \u001b[1;32mIn[32], line 121\u001b[0m, in \u001b[0;36mbuild_features\u001b[1;34m(texts)\u001b[0m\n\u001b[0;32m    120\u001b[0m \u001b[38;5;28;01mdef\u001b[39;00m\u001b[38;5;250m \u001b[39m\u001b[38;5;21mbuild_features\u001b[39m(texts):\n\u001b[1;32m--> 121\u001b[0m     tokens_lst   \u001b[38;5;241m=\u001b[39m [tok_spell(t) \u001b[38;5;28;01mfor\u001b[39;00m t \u001b[38;5;129;01min\u001b[39;00m tqdm(texts, desc\u001b[38;5;241m=\u001b[39m\u001b[38;5;124m\"\u001b[39m\u001b[38;5;124mtokenize+spell\u001b[39m\u001b[38;5;124m\"\u001b[39m)]\n\u001b[0;32m    122\u001b[0m     lemmas_lst   \u001b[38;5;241m=\u001b[39m [lemmas(toks) \u001b[38;5;28;01mfor\u001b[39;00m toks \u001b[38;5;129;01min\u001b[39;00m tqdm(tokens_lst, desc\u001b[38;5;241m=\u001b[39m\u001b[38;5;124m\"\u001b[39m\u001b[38;5;124mlemmatize\u001b[39m\u001b[38;5;124m\"\u001b[39m)]\n\u001b[0;32m    124\u001b[0m     \u001b[38;5;66;03m# TF-IDF на леммах (1–2-граммы)\u001b[39;00m\n",
            "Cell \u001b[1;32mIn[32], line 121\u001b[0m, in \u001b[0;36m<listcomp>\u001b[1;34m(.0)\u001b[0m\n\u001b[0;32m    120\u001b[0m \u001b[38;5;28;01mdef\u001b[39;00m\u001b[38;5;250m \u001b[39m\u001b[38;5;21mbuild_features\u001b[39m(texts):\n\u001b[1;32m--> 121\u001b[0m     tokens_lst   \u001b[38;5;241m=\u001b[39m [\u001b[43mtok_spell\u001b[49m\u001b[43m(\u001b[49m\u001b[43mt\u001b[49m\u001b[43m)\u001b[49m \u001b[38;5;28;01mfor\u001b[39;00m t \u001b[38;5;129;01min\u001b[39;00m tqdm(texts, desc\u001b[38;5;241m=\u001b[39m\u001b[38;5;124m\"\u001b[39m\u001b[38;5;124mtokenize+spell\u001b[39m\u001b[38;5;124m\"\u001b[39m)]\n\u001b[0;32m    122\u001b[0m     lemmas_lst   \u001b[38;5;241m=\u001b[39m [lemmas(toks) \u001b[38;5;28;01mfor\u001b[39;00m toks \u001b[38;5;129;01min\u001b[39;00m tqdm(tokens_lst, desc\u001b[38;5;241m=\u001b[39m\u001b[38;5;124m\"\u001b[39m\u001b[38;5;124mlemmatize\u001b[39m\u001b[38;5;124m\"\u001b[39m)]\n\u001b[0;32m    124\u001b[0m     \u001b[38;5;66;03m# TF-IDF на леммах (1–2-граммы)\u001b[39;00m\n",
            "Cell \u001b[1;32mIn[32], line 74\u001b[0m, in \u001b[0;36mtok_spell\u001b[1;34m(text)\u001b[0m\n\u001b[0;32m     72\u001b[0m \u001b[38;5;28;01mdef\u001b[39;00m\u001b[38;5;250m \u001b[39m\u001b[38;5;21mtok_spell\u001b[39m(text: \u001b[38;5;28mstr\u001b[39m):\n\u001b[0;32m     73\u001b[0m     tokens \u001b[38;5;241m=\u001b[39m raz_tokenize(text)\n\u001b[1;32m---> 74\u001b[0m     fixed \u001b[38;5;241m=\u001b[39m [spell\u001b[38;5;241m.\u001b[39mcorrection(t) \u001b[38;5;28;01mfor\u001b[39;00m t \u001b[38;5;129;01min\u001b[39;00m tokens]\n\u001b[0;32m     75\u001b[0m     \u001b[38;5;28;01mreturn\u001b[39;00m fixed\n",
            "Cell \u001b[1;32mIn[32], line 74\u001b[0m, in \u001b[0;36m<listcomp>\u001b[1;34m(.0)\u001b[0m\n\u001b[0;32m     72\u001b[0m \u001b[38;5;28;01mdef\u001b[39;00m\u001b[38;5;250m \u001b[39m\u001b[38;5;21mtok_spell\u001b[39m(text: \u001b[38;5;28mstr\u001b[39m):\n\u001b[0;32m     73\u001b[0m     tokens \u001b[38;5;241m=\u001b[39m raz_tokenize(text)\n\u001b[1;32m---> 74\u001b[0m     fixed \u001b[38;5;241m=\u001b[39m [\u001b[43mspell\u001b[49m\u001b[38;5;241;43m.\u001b[39;49m\u001b[43mcorrection\u001b[49m\u001b[43m(\u001b[49m\u001b[43mt\u001b[49m\u001b[43m)\u001b[49m \u001b[38;5;28;01mfor\u001b[39;00m t \u001b[38;5;129;01min\u001b[39;00m tokens]\n\u001b[0;32m     75\u001b[0m     \u001b[38;5;28;01mreturn\u001b[39;00m fixed\n",
            "File \u001b[1;32mD:\\I_NLP\\i_nlp\\lib\\site-packages\\spellchecker\\spellchecker.py:159\u001b[0m, in \u001b[0;36mSpellChecker.correction\u001b[1;34m(self, word)\u001b[0m\n\u001b[0;32m    152\u001b[0m \u001b[38;5;250m\u001b[39m\u001b[38;5;124;03m\"\"\"The most probable correct spelling for the word\u001b[39;00m\n\u001b[0;32m    153\u001b[0m \n\u001b[0;32m    154\u001b[0m \u001b[38;5;124;03mArgs:\u001b[39;00m\n\u001b[0;32m    155\u001b[0m \u001b[38;5;124;03m    word (str): The word to correct\u001b[39;00m\n\u001b[0;32m    156\u001b[0m \u001b[38;5;124;03mReturns:\u001b[39;00m\n\u001b[0;32m    157\u001b[0m \u001b[38;5;124;03m    str: The most likely candidate or None if no correction is present\"\"\"\u001b[39;00m\n\u001b[0;32m    158\u001b[0m word \u001b[38;5;241m=\u001b[39m ensure_unicode(word)\n\u001b[1;32m--> 159\u001b[0m candidates \u001b[38;5;241m=\u001b[39m \u001b[38;5;28;43mself\u001b[39;49m\u001b[38;5;241;43m.\u001b[39;49m\u001b[43mcandidates\u001b[49m\u001b[43m(\u001b[49m\u001b[43mword\u001b[49m\u001b[43m)\u001b[49m\n\u001b[0;32m    160\u001b[0m \u001b[38;5;28;01mif\u001b[39;00m \u001b[38;5;129;01mnot\u001b[39;00m candidates:\n\u001b[0;32m    161\u001b[0m     \u001b[38;5;28;01mreturn\u001b[39;00m \u001b[38;5;28;01mNone\u001b[39;00m\n",
            "File \u001b[1;32mD:\\I_NLP\\i_nlp\\lib\\site-packages\\spellchecker\\spellchecker.py:186\u001b[0m, in \u001b[0;36mSpellChecker.candidates\u001b[1;34m(self, word)\u001b[0m\n\u001b[0;32m    184\u001b[0m \u001b[38;5;66;03m# if still not found, use the edit distance 1 to calc edit distance 2\u001b[39;00m\n\u001b[0;32m    185\u001b[0m \u001b[38;5;28;01mif\u001b[39;00m \u001b[38;5;28mself\u001b[39m\u001b[38;5;241m.\u001b[39m_distance \u001b[38;5;241m==\u001b[39m \u001b[38;5;241m2\u001b[39m:\n\u001b[1;32m--> 186\u001b[0m     tmp \u001b[38;5;241m=\u001b[39m \u001b[38;5;28mself\u001b[39m\u001b[38;5;241m.\u001b[39mknown(\u001b[38;5;28mlist\u001b[39m(\u001b[38;5;28;43mself\u001b[39;49m\u001b[38;5;241;43m.\u001b[39;49m\u001b[43m__edit_distance_alt\u001b[49m\u001b[43m(\u001b[49m\u001b[43mres\u001b[49m\u001b[43m)\u001b[49m))\n\u001b[0;32m    187\u001b[0m     \u001b[38;5;28;01mif\u001b[39;00m tmp:\n\u001b[0;32m    188\u001b[0m         \u001b[38;5;28;01mreturn\u001b[39;00m tmp\n",
            "File \u001b[1;32mD:\\I_NLP\\i_nlp\\lib\\site-packages\\spellchecker\\spellchecker.py:253\u001b[0m, in \u001b[0;36mSpellChecker.__edit_distance_alt\u001b[1;34m(self, words)\u001b[0m\n\u001b[0;32m    251\u001b[0m tmp_words \u001b[38;5;241m=\u001b[39m [ensure_unicode(w) \u001b[38;5;28;01mfor\u001b[39;00m w \u001b[38;5;129;01min\u001b[39;00m words]\n\u001b[0;32m    252\u001b[0m tmp \u001b[38;5;241m=\u001b[39m [w \u001b[38;5;28;01mif\u001b[39;00m \u001b[38;5;28mself\u001b[39m\u001b[38;5;241m.\u001b[39m_case_sensitive \u001b[38;5;28;01melse\u001b[39;00m w\u001b[38;5;241m.\u001b[39mlower() \u001b[38;5;28;01mfor\u001b[39;00m w \u001b[38;5;129;01min\u001b[39;00m tmp_words \u001b[38;5;28;01mif\u001b[39;00m \u001b[38;5;28mself\u001b[39m\u001b[38;5;241m.\u001b[39m_check_if_should_check(w)]\n\u001b[1;32m--> 253\u001b[0m \u001b[38;5;28;01mreturn\u001b[39;00m [e2 \u001b[38;5;28;01mfor\u001b[39;00m e1 \u001b[38;5;129;01min\u001b[39;00m tmp \u001b[38;5;28;01mfor\u001b[39;00m e2 \u001b[38;5;129;01min\u001b[39;00m \u001b[38;5;28mself\u001b[39m\u001b[38;5;241m.\u001b[39mknown(\u001b[38;5;28mself\u001b[39m\u001b[38;5;241m.\u001b[39medit_distance_1(e1))]\n",
            "File \u001b[1;32mD:\\I_NLP\\i_nlp\\lib\\site-packages\\spellchecker\\spellchecker.py:253\u001b[0m, in \u001b[0;36m<listcomp>\u001b[1;34m(.0)\u001b[0m\n\u001b[0;32m    251\u001b[0m tmp_words \u001b[38;5;241m=\u001b[39m [ensure_unicode(w) \u001b[38;5;28;01mfor\u001b[39;00m w \u001b[38;5;129;01min\u001b[39;00m words]\n\u001b[0;32m    252\u001b[0m tmp \u001b[38;5;241m=\u001b[39m [w \u001b[38;5;28;01mif\u001b[39;00m \u001b[38;5;28mself\u001b[39m\u001b[38;5;241m.\u001b[39m_case_sensitive \u001b[38;5;28;01melse\u001b[39;00m w\u001b[38;5;241m.\u001b[39mlower() \u001b[38;5;28;01mfor\u001b[39;00m w \u001b[38;5;129;01min\u001b[39;00m tmp_words \u001b[38;5;28;01mif\u001b[39;00m \u001b[38;5;28mself\u001b[39m\u001b[38;5;241m.\u001b[39m_check_if_should_check(w)]\n\u001b[1;32m--> 253\u001b[0m \u001b[38;5;28;01mreturn\u001b[39;00m [e2 \u001b[38;5;28;01mfor\u001b[39;00m e1 \u001b[38;5;129;01min\u001b[39;00m tmp \u001b[38;5;28;01mfor\u001b[39;00m e2 \u001b[38;5;129;01min\u001b[39;00m \u001b[38;5;28;43mself\u001b[39;49m\u001b[38;5;241;43m.\u001b[39;49m\u001b[43mknown\u001b[49m\u001b[43m(\u001b[49m\u001b[38;5;28;43mself\u001b[39;49m\u001b[38;5;241;43m.\u001b[39;49m\u001b[43medit_distance_1\u001b[49m\u001b[43m(\u001b[49m\u001b[43me1\u001b[49m\u001b[43m)\u001b[49m\u001b[43m)\u001b[49m]\n",
            "File \u001b[1;32mD:\\I_NLP\\i_nlp\\lib\\site-packages\\spellchecker\\spellchecker.py:199\u001b[0m, in \u001b[0;36mSpellChecker.known\u001b[1;34m(self, words)\u001b[0m\n\u001b[0;32m    192\u001b[0m \u001b[38;5;250m\u001b[39m\u001b[38;5;124;03m\"\"\"The subset of `words` that appear in the dictionary of words\u001b[39;00m\n\u001b[0;32m    193\u001b[0m \n\u001b[0;32m    194\u001b[0m \u001b[38;5;124;03mArgs:\u001b[39;00m\n\u001b[0;32m    195\u001b[0m \u001b[38;5;124;03m    words (list): List of words to determine which are in the corpus\u001b[39;00m\n\u001b[0;32m    196\u001b[0m \u001b[38;5;124;03mReturns:\u001b[39;00m\n\u001b[0;32m    197\u001b[0m \u001b[38;5;124;03m    set: The set of those words from the input that are in the corpus\"\"\"\u001b[39;00m\n\u001b[0;32m    198\u001b[0m tmp_words \u001b[38;5;241m=\u001b[39m [ensure_unicode(w) \u001b[38;5;28;01mfor\u001b[39;00m w \u001b[38;5;129;01min\u001b[39;00m words]\n\u001b[1;32m--> 199\u001b[0m tmp \u001b[38;5;241m=\u001b[39m [w \u001b[38;5;28;01mif\u001b[39;00m \u001b[38;5;28mself\u001b[39m\u001b[38;5;241m.\u001b[39m_case_sensitive \u001b[38;5;28;01melse\u001b[39;00m w\u001b[38;5;241m.\u001b[39mlower() \u001b[38;5;28;01mfor\u001b[39;00m w \u001b[38;5;129;01min\u001b[39;00m tmp_words]\n\u001b[0;32m    200\u001b[0m \u001b[38;5;28;01mreturn\u001b[39;00m {w \u001b[38;5;28;01mfor\u001b[39;00m w \u001b[38;5;129;01min\u001b[39;00m tmp \u001b[38;5;28;01mif\u001b[39;00m w \u001b[38;5;129;01min\u001b[39;00m \u001b[38;5;28mself\u001b[39m\u001b[38;5;241m.\u001b[39m_word_frequency\u001b[38;5;241m.\u001b[39mdictionary \u001b[38;5;129;01mand\u001b[39;00m \u001b[38;5;28mself\u001b[39m\u001b[38;5;241m.\u001b[39m_check_if_should_check(w)}\n",
            "File \u001b[1;32mD:\\I_NLP\\i_nlp\\lib\\site-packages\\spellchecker\\spellchecker.py:199\u001b[0m, in \u001b[0;36m<listcomp>\u001b[1;34m(.0)\u001b[0m\n\u001b[0;32m    192\u001b[0m \u001b[38;5;250m\u001b[39m\u001b[38;5;124;03m\"\"\"The subset of `words` that appear in the dictionary of words\u001b[39;00m\n\u001b[0;32m    193\u001b[0m \n\u001b[0;32m    194\u001b[0m \u001b[38;5;124;03mArgs:\u001b[39;00m\n\u001b[0;32m    195\u001b[0m \u001b[38;5;124;03m    words (list): List of words to determine which are in the corpus\u001b[39;00m\n\u001b[0;32m    196\u001b[0m \u001b[38;5;124;03mReturns:\u001b[39;00m\n\u001b[0;32m    197\u001b[0m \u001b[38;5;124;03m    set: The set of those words from the input that are in the corpus\"\"\"\u001b[39;00m\n\u001b[0;32m    198\u001b[0m tmp_words \u001b[38;5;241m=\u001b[39m [ensure_unicode(w) \u001b[38;5;28;01mfor\u001b[39;00m w \u001b[38;5;129;01min\u001b[39;00m words]\n\u001b[1;32m--> 199\u001b[0m tmp \u001b[38;5;241m=\u001b[39m [w \u001b[38;5;28;01mif\u001b[39;00m \u001b[38;5;28mself\u001b[39m\u001b[38;5;241m.\u001b[39m_case_sensitive \u001b[38;5;28;01melse\u001b[39;00m w\u001b[38;5;241m.\u001b[39mlower() \u001b[38;5;28;01mfor\u001b[39;00m w \u001b[38;5;129;01min\u001b[39;00m tmp_words]\n\u001b[0;32m    200\u001b[0m \u001b[38;5;28;01mreturn\u001b[39;00m {w \u001b[38;5;28;01mfor\u001b[39;00m w \u001b[38;5;129;01min\u001b[39;00m tmp \u001b[38;5;28;01mif\u001b[39;00m w \u001b[38;5;129;01min\u001b[39;00m \u001b[38;5;28mself\u001b[39m\u001b[38;5;241m.\u001b[39m_word_frequency\u001b[38;5;241m.\u001b[39mdictionary \u001b[38;5;129;01mand\u001b[39;00m \u001b[38;5;28mself\u001b[39m\u001b[38;5;241m.\u001b[39m_check_if_should_check(w)}\n",
            "\u001b[1;31mKeyboardInterrupt\u001b[0m: "
          ]
        }
      ],
      "source": [
        "\"\"\"\n",
        "Лабораторная № 8  —  Автоматическая классификация депрессивных текстов\n",
        "(«норма / подавленность / клиническая депрессия»).\n",
        "\n",
        "● Корпус: Russian Depressive Posts (32 018 + 32 021)\n",
        "  └─ https://github.com/Ru-Psychology/russian-depressive-posts  (CSV ≈ 45 МБ)\n",
        "\n",
        "Pipeline = 7 предыдущих работ:\n",
        "  1) RegExp-чистка + «ё→е»\n",
        "  2) Токенизация   (razdel)\n",
        "  3) Коррекция     (jamspell)\n",
        "  4) Морфология    (pymorphy2 → леммы)\n",
        "  5) Синтаксис-признак «НЕ-модальный глагол»\n",
        "  6) NER-признак   (упоминание психотропного лекарства)\n",
        "  7) RuSentiLex-признаки + TF-IDF 1–2-грамм\n",
        "\"\"\"\n",
        "\n",
        "# ───────────────────────  INSTALL / IMPORTS  ────────────────────────────\n",
        "# pip install razdel jamspell pymorphy2 stopwordsiso stop-words\n",
        "# pip install scikit-learn pandas numpy tqdm\n",
        "\n",
        "import re, os, json, gzip, itertools, numpy as np, pandas as pd, joblib, string\n",
        "from pathlib import Path\n",
        "from tqdm.auto import tqdm\n",
        "from razdel import tokenize as raz_tokenize\n",
        "from spellchecker import SpellChecker\n",
        "# from jamspell import TSpellCorrector\n",
        "from stopwordsiso import stopwords as sw_iso\n",
        "from sklearn.feature_extraction.text import TfidfVectorizer\n",
        "from sklearn.linear_model import LogisticRegression\n",
        "from sklearn.metrics import classification_report, f1_score\n",
        "from sklearn.pipeline import FeatureUnion\n",
        "from sklearn.preprocessing import StandardScaler\n",
        "from scipy.sparse import hstack, csr_matrix\n",
        "import pymorphy2\n",
        "from spellchecker import SpellChecker\n",
        "import re\n",
        "\n",
        "# ───────────────────────  0. DATA  ──────────────────────────────────────\n",
        "# DATA_URL = \"https://huggingface.co/datasets/RuPsych/russian_depressive_posts/resolve/main/rus_depr_train.csv\"\n",
        "DATA_CSV = \"Depressive data.xlsx\"\n",
        "if not Path(DATA_CSV).exists():\n",
        "    import urllib.request, ssl\n",
        "    ssl._create_default_https_context = ssl._create_unverified_context\n",
        "    urllib.request.urlretrieve(DATA_URL, DATA_CSV)\n",
        "\n",
        "#df = pd.read_csv(DATA_CSV)     # колонки: text, label  (0-norm / 1-distress / 2-depr)\n",
        "#df = pd.read_csv(DATA_CSV, encoding='cp1251')\n",
        "#df = pd.read_csv(DATA_CSV, encoding='ISO-8859-1')\n",
        "df = pd.read_excel(\"Depressive data.xlsx\")  # пример\n",
        "\n",
        "# ───────────────────────  1. RegExp clean  ─────────────────────────────\n",
        "url_pat = re.compile(r\"http\\S+\")\n",
        "multi_pat = re.compile(r\"(.)\\1{3,}\")        # аааа → аа\n",
        "punct_pat = re.compile(rf\"[^\\w\\s{string.punctuation}]+\")\n",
        "\n",
        "def clean(txt: str) -> str:\n",
        "    txt = url_pat.sub(\" \", str(txt).lower())\n",
        "    txt = txt.replace(\"ё\", \"е\")\n",
        "    txt = multi_pat.sub(r\"\\1\\1\", txt)       # до двух подряд\n",
        "    txt = punct_pat.sub(\" \", txt)\n",
        "    return re.sub(r\"\\s+\", \" \", txt).strip()\n",
        "\n",
        "df[\"clean\"] = df[\"text\"].map(clean)\n",
        "\n",
        "# ───────────────────────  2. Tok + 3. Spell  ───────────────────────────\n",
        "spell = SpellChecker(language=\"ru\")\n",
        "def raz_tokenize(text):\n",
        "    return re.findall(r'\\w+', text.lower())\n",
        "\n",
        "# Функция исправления опечаток и токенизации\n",
        "def tok_spell(text: str):\n",
        "    tokens = raz_tokenize(text)\n",
        "    fixed = [spell.correction(t) for t in tokens]\n",
        "    return fixed\n",
        "\n",
        "# ───────────────────────  4. Lemmatize  ────────────────────────────────\n",
        "morph = pymorphy2.MorphAnalyzer()\n",
        "def lemmas(tokens):\n",
        "    return [morph.parse(t)[0].normal_form for t in tokens]\n",
        "\n",
        "# ───────────────────────  5. Syntax-feature  (не хочу, не могу …)  ────\n",
        "neg_aux_re = re.compile(r\"\\bне\\s+(хочу|могу|буду|нравится|способен)\\b\")\n",
        "def neg_aux_feat(txt):\n",
        "    return int(bool(neg_aux_re.search(txt)))\n",
        "\n",
        "# ───────────────────────  6. NER-drug (simple list)  ───────────────────\n",
        "DRUGS = {\"флуоксетин\",\"сертралин\",\"пароксетин\",\"анафранил\",\n",
        "         \"амитриптилин\",\"венлафаксин\",\"селектра\",\"золофт\",\n",
        "         \"прозак\",\"эглонил\",\"асентра\"}\n",
        "def drug_feat(txt):\n",
        "    return int(any(w in txt for w in DRUGS))\n",
        "\n",
        "# ───────────────────────  7. RuSentiLex  ───────────────────────────────\n",
        "if not Path(\"rusentilex_2017.txt\").exists():\n",
        "    import urllib.request, ssl, textwrap, io, zipfile, tempfile, pathlib, requests\n",
        "    url = \"https://www.labinform.ru/pub/rusentilex/rusentilex_2017.txt\"\n",
        "    urllib.request.urlretrieve(url, \"rusentilex_2017.txt\")\n",
        "\n",
        "lex = {}\n",
        "with open(\"rusentilex_2017.txt\", encoding=\"utf-8\") as f:\n",
        "    for ln in f:\n",
        "        if ln.startswith(\"!\"): continue\n",
        "        parts = [p.strip() for p in ln.split(\",\")]\n",
        "        if len(parts)>=4:\n",
        "            lemma, pol = parts[2].lower(), parts[3].lower()\n",
        "            if pol in {\"positive\",\"negative\"}: lex[lemma]=pol\n",
        "\n",
        "def lex_feats(lems):\n",
        "    pos = sum(1 for w in lems if lex.get(w)==\"positive\")\n",
        "    neg = sum(1 for w in lems if lex.get(w)==\"negative\")\n",
        "    total = len(lems) or 1\n",
        "    return pos/total, neg/total\n",
        "\n",
        "# ───────────────────────  STOP-LIST  ────────────────────────────────────\n",
        "ru_stop = set(sw_iso(\"ru\")) | {\"это\",\"как\",\"когда\",\"кто\",\"чего\",\"этот\",\"ваш\",\n",
        "                               \"наш\",\"твой\",\"день\",\"свой\",\"еще\"}\n",
        "\n",
        "# ───────────────────────  Фиче-функция  ────────────────────────────────\n",
        "def build_features(texts):\n",
        "    tokens_lst   = [tok_spell(t) for t in tqdm(texts, desc=\"tokenize+spell\")]\n",
        "    lemmas_lst   = [lemmas(toks) for toks in tqdm(tokens_lst, desc=\"lemmatize\")]\n",
        "\n",
        "    # TF-IDF на леммах (1–2-граммы)\n",
        "    docs = [\" \".join(l) for l in lemmas_lst]\n",
        "    tfidf = TfidfVectorizer(ngram_range=(1,2),\n",
        "                            max_features=60_000,\n",
        "                            min_df=3,\n",
        "                            stop_words=ru_stop,\n",
        "                            sublinear_tf=True)\n",
        "    X_tfidf = tfidf.fit_transform(docs)\n",
        "\n",
        "    # дополнительные признаки\n",
        "    extras = []\n",
        "    for txt,lms in zip(texts,lemmas_lst):\n",
        "        pos_r,neg_r = lex_feats(lms)\n",
        "        extras.append([neg_aux_feat(txt), drug_feat(txt), pos_r, neg_r])\n",
        "    X_ex = csr_matrix(extras, dtype=np.float32)\n",
        "\n",
        "    return hstack([X_tfidf, X_ex]), tfidf\n",
        "\n",
        "# ───────────────────────  Train / Test split  ──────────────────────────\n",
        "from sklearn.model_selection import train_test_split\n",
        "Xtrain, Xtest, ytrain, ytest = train_test_split(df[\"clean\"], df[\"label\"],\n",
        "                                               test_size=0.15,\n",
        "                                               random_state=42,\n",
        "                                               stratify=df[\"label\"])\n",
        "\n",
        "# ─── строим фичи\n",
        "X_train, tfidf = build_features(Xtrain.tolist())\n",
        "X_test  = hstack([tfidf.transform(Xtest.tolist()),\n",
        "                  csr_matrix([[neg_aux_feat(t),drug_feat(t),*lex_feats(lemmas(tok_spell(t)))]\n",
        "                              for t in Xtest], dtype=np.float32)])\n",
        "\n",
        "# ───────────────────────  Модель  ──────────────────────────────────────\n",
        "clf = LogisticRegression(max_iter=1500,\n",
        "                         class_weight='balanced',\n",
        "                         solver='saga', C=4.0, n_jobs=1)\n",
        "clf.fit(X_train, ytrain)\n",
        "\n",
        "ypred = clf.predict(X_test)\n",
        "print(classification_report(ytest, ypred, digits=3))\n",
        "print(\"macro-F1 =\", f1_score(ytest, ypred, average=\"macro\"))\n"
      ]
    },
    {
      "cell_type": "code",
      "execution_count": null,
      "metadata": {
        "id": "gSXH3_KJEluZ"
      },
      "outputs": [],
      "source": []
    }
  ],
  "metadata": {
    "colab": {
      "collapsed_sections": [
        "3rbnBId4QvTM"
      ],
      "provenance": []
    },
    "kernelspec": {
      "display_name": "i_nlp(Python)",
      "language": "python",
      "name": "i_nlp"
    },
    "language_info": {
      "codemirror_mode": {
        "name": "ipython",
        "version": 3
      },
      "file_extension": ".py",
      "mimetype": "text/x-python",
      "name": "python",
      "nbconvert_exporter": "python",
      "pygments_lexer": "ipython3",
      "version": "3.10.0"
    },
    "widgets": {
      "application/vnd.jupyter.widget-state+json": {
        "09c79121e6ec4dd481541bd9fb3c05f6": {
          "model_module": "@jupyter-widgets/controls",
          "model_module_version": "1.5.0",
          "model_name": "HTMLModel",
          "state": {
            "_dom_classes": [],
            "_model_module": "@jupyter-widgets/controls",
            "_model_module_version": "1.5.0",
            "_model_name": "HTMLModel",
            "_view_count": null,
            "_view_module": "@jupyter-widgets/controls",
            "_view_module_version": "1.5.0",
            "_view_name": "HTMLView",
            "description": "",
            "description_tooltip": null,
            "layout": "IPY_MODEL_c241e28ecdf24591a0079ad9d13a8f48",
            "placeholder": "​",
            "style": "IPY_MODEL_3cc0f29ebdaf4743a51a9b406622d7e3",
            "value": " 24.0/24.0 [00:00&lt;00:00, 1.67kB/s]"
          }
        },
        "1315a15117294d959a2874c4238f9f44": {
          "model_module": "@jupyter-widgets/controls",
          "model_module_version": "1.5.0",
          "model_name": "DescriptionStyleModel",
          "state": {
            "_model_module": "@jupyter-widgets/controls",
            "_model_module_version": "1.5.0",
            "_model_name": "DescriptionStyleModel",
            "_view_count": null,
            "_view_module": "@jupyter-widgets/base",
            "_view_module_version": "1.2.0",
            "_view_name": "StyleView",
            "description_width": ""
          }
        },
        "153958821e654e5cbe61399ff865d525": {
          "model_module": "@jupyter-widgets/base",
          "model_module_version": "1.2.0",
          "model_name": "LayoutModel",
          "state": {
            "_model_module": "@jupyter-widgets/base",
            "_model_module_version": "1.2.0",
            "_model_name": "LayoutModel",
            "_view_count": null,
            "_view_module": "@jupyter-widgets/base",
            "_view_module_version": "1.2.0",
            "_view_name": "LayoutView",
            "align_content": null,
            "align_items": null,
            "align_self": null,
            "border": null,
            "bottom": null,
            "display": null,
            "flex": null,
            "flex_flow": null,
            "grid_area": null,
            "grid_auto_columns": null,
            "grid_auto_flow": null,
            "grid_auto_rows": null,
            "grid_column": null,
            "grid_gap": null,
            "grid_row": null,
            "grid_template_areas": null,
            "grid_template_columns": null,
            "grid_template_rows": null,
            "height": null,
            "justify_content": null,
            "justify_items": null,
            "left": null,
            "margin": null,
            "max_height": null,
            "max_width": null,
            "min_height": null,
            "min_width": null,
            "object_fit": null,
            "object_position": null,
            "order": null,
            "overflow": null,
            "overflow_x": null,
            "overflow_y": null,
            "padding": null,
            "right": null,
            "top": null,
            "visibility": null,
            "width": null
          }
        },
        "1746dce8fda34d63b56cfe32aa9e975a": {
          "model_module": "@jupyter-widgets/controls",
          "model_module_version": "1.5.0",
          "model_name": "ProgressStyleModel",
          "state": {
            "_model_module": "@jupyter-widgets/controls",
            "_model_module_version": "1.5.0",
            "_model_name": "ProgressStyleModel",
            "_view_count": null,
            "_view_module": "@jupyter-widgets/base",
            "_view_module_version": "1.2.0",
            "_view_name": "StyleView",
            "bar_color": null,
            "description_width": ""
          }
        },
        "1d32d0e2a1f840cd865d802ce1511b3d": {
          "model_module": "@jupyter-widgets/controls",
          "model_module_version": "1.5.0",
          "model_name": "DescriptionStyleModel",
          "state": {
            "_model_module": "@jupyter-widgets/controls",
            "_model_module_version": "1.5.0",
            "_model_name": "DescriptionStyleModel",
            "_view_count": null,
            "_view_module": "@jupyter-widgets/base",
            "_view_module_version": "1.2.0",
            "_view_name": "StyleView",
            "description_width": ""
          }
        },
        "1f5c1093c07042758734931cc73afa93": {
          "model_module": "@jupyter-widgets/controls",
          "model_module_version": "1.5.0",
          "model_name": "HBoxModel",
          "state": {
            "_dom_classes": [],
            "_model_module": "@jupyter-widgets/controls",
            "_model_module_version": "1.5.0",
            "_model_name": "HBoxModel",
            "_view_count": null,
            "_view_module": "@jupyter-widgets/controls",
            "_view_module_version": "1.5.0",
            "_view_name": "HBoxView",
            "box_style": "",
            "children": [
              "IPY_MODEL_a2974cae56474eb0b383a327aa256ba4",
              "IPY_MODEL_7302766101b6473d888516ed90f0fb45",
              "IPY_MODEL_09c79121e6ec4dd481541bd9fb3c05f6"
            ],
            "layout": "IPY_MODEL_4dcdf3f935db401eb937e1106e89a7b9"
          }
        },
        "2348e1156c7c401a8d5b18e8f3f4377c": {
          "model_module": "@jupyter-widgets/base",
          "model_module_version": "1.2.0",
          "model_name": "LayoutModel",
          "state": {
            "_model_module": "@jupyter-widgets/base",
            "_model_module_version": "1.2.0",
            "_model_name": "LayoutModel",
            "_view_count": null,
            "_view_module": "@jupyter-widgets/base",
            "_view_module_version": "1.2.0",
            "_view_name": "LayoutView",
            "align_content": null,
            "align_items": null,
            "align_self": null,
            "border": null,
            "bottom": null,
            "display": null,
            "flex": null,
            "flex_flow": null,
            "grid_area": null,
            "grid_auto_columns": null,
            "grid_auto_flow": null,
            "grid_auto_rows": null,
            "grid_column": null,
            "grid_gap": null,
            "grid_row": null,
            "grid_template_areas": null,
            "grid_template_columns": null,
            "grid_template_rows": null,
            "height": null,
            "justify_content": null,
            "justify_items": null,
            "left": null,
            "margin": null,
            "max_height": null,
            "max_width": null,
            "min_height": null,
            "min_width": null,
            "object_fit": null,
            "object_position": null,
            "order": null,
            "overflow": null,
            "overflow_x": null,
            "overflow_y": null,
            "padding": null,
            "right": null,
            "top": null,
            "visibility": null,
            "width": null
          }
        },
        "24f088b4464845b181467bc0052e215f": {
          "model_module": "@jupyter-widgets/controls",
          "model_module_version": "1.5.0",
          "model_name": "DescriptionStyleModel",
          "state": {
            "_model_module": "@jupyter-widgets/controls",
            "_model_module_version": "1.5.0",
            "_model_name": "DescriptionStyleModel",
            "_view_count": null,
            "_view_module": "@jupyter-widgets/base",
            "_view_module_version": "1.2.0",
            "_view_name": "StyleView",
            "description_width": ""
          }
        },
        "279358d03bc04333af6320795ad1d94e": {
          "model_module": "@jupyter-widgets/controls",
          "model_module_version": "1.5.0",
          "model_name": "HBoxModel",
          "state": {
            "_dom_classes": [],
            "_model_module": "@jupyter-widgets/controls",
            "_model_module_version": "1.5.0",
            "_model_name": "HBoxModel",
            "_view_count": null,
            "_view_module": "@jupyter-widgets/controls",
            "_view_module_version": "1.5.0",
            "_view_name": "HBoxView",
            "box_style": "",
            "children": [
              "IPY_MODEL_7c5694024bfa45f1b901467fba4a8af2",
              "IPY_MODEL_5333694b3853476389d1e3062edbb26a",
              "IPY_MODEL_d81ccfb0f3df41e5b0e265ad61d769ca"
            ],
            "layout": "IPY_MODEL_8e1574acfc114c3fb79c50ae0980bdf9"
          }
        },
        "2c4d4e781a2b4d9bb5ff5b757e3e6204": {
          "model_module": "@jupyter-widgets/controls",
          "model_module_version": "1.5.0",
          "model_name": "DescriptionStyleModel",
          "state": {
            "_model_module": "@jupyter-widgets/controls",
            "_model_module_version": "1.5.0",
            "_model_name": "DescriptionStyleModel",
            "_view_count": null,
            "_view_module": "@jupyter-widgets/base",
            "_view_module_version": "1.2.0",
            "_view_name": "StyleView",
            "description_width": ""
          }
        },
        "2f2bfdabd04b4e23b020f994b2b6f82b": {
          "model_module": "@jupyter-widgets/base",
          "model_module_version": "1.2.0",
          "model_name": "LayoutModel",
          "state": {
            "_model_module": "@jupyter-widgets/base",
            "_model_module_version": "1.2.0",
            "_model_name": "LayoutModel",
            "_view_count": null,
            "_view_module": "@jupyter-widgets/base",
            "_view_module_version": "1.2.0",
            "_view_name": "LayoutView",
            "align_content": null,
            "align_items": null,
            "align_self": null,
            "border": null,
            "bottom": null,
            "display": null,
            "flex": null,
            "flex_flow": null,
            "grid_area": null,
            "grid_auto_columns": null,
            "grid_auto_flow": null,
            "grid_auto_rows": null,
            "grid_column": null,
            "grid_gap": null,
            "grid_row": null,
            "grid_template_areas": null,
            "grid_template_columns": null,
            "grid_template_rows": null,
            "height": null,
            "justify_content": null,
            "justify_items": null,
            "left": null,
            "margin": null,
            "max_height": null,
            "max_width": null,
            "min_height": null,
            "min_width": null,
            "object_fit": null,
            "object_position": null,
            "order": null,
            "overflow": null,
            "overflow_x": null,
            "overflow_y": null,
            "padding": null,
            "right": null,
            "top": null,
            "visibility": null,
            "width": null
          }
        },
        "33ff2e38a45b4420859569d9667f167e": {
          "model_module": "@jupyter-widgets/controls",
          "model_module_version": "1.5.0",
          "model_name": "HTMLModel",
          "state": {
            "_dom_classes": [],
            "_model_module": "@jupyter-widgets/controls",
            "_model_module_version": "1.5.0",
            "_model_name": "HTMLModel",
            "_view_count": null,
            "_view_module": "@jupyter-widgets/controls",
            "_view_module_version": "1.5.0",
            "_view_name": "HTMLView",
            "description": "",
            "description_tooltip": null,
            "layout": "IPY_MODEL_6788f7d14ea8466193ec631592beaa5b",
            "placeholder": "​",
            "style": "IPY_MODEL_7952e7f4446944e3be8fec7a844b941e",
            "value": " 714M/714M [00:10&lt;00:00, 16.9MB/s]"
          }
        },
        "349807c7c98b43b0b3775e109fa00c3a": {
          "model_module": "@jupyter-widgets/controls",
          "model_module_version": "1.5.0",
          "model_name": "HTMLModel",
          "state": {
            "_dom_classes": [],
            "_model_module": "@jupyter-widgets/controls",
            "_model_module_version": "1.5.0",
            "_model_name": "HTMLModel",
            "_view_count": null,
            "_view_module": "@jupyter-widgets/controls",
            "_view_module_version": "1.5.0",
            "_view_name": "HTMLView",
            "description": "",
            "description_tooltip": null,
            "layout": "IPY_MODEL_b330027a08ea468bb66b72072e3ef866",
            "placeholder": "​",
            "style": "IPY_MODEL_2c4d4e781a2b4d9bb5ff5b757e3e6204",
            "value": " 642/642 [00:00&lt;00:00, 45.9kB/s]"
          }
        },
        "34cf87fb5c0a42ee877d34912383738f": {
          "model_module": "@jupyter-widgets/controls",
          "model_module_version": "1.5.0",
          "model_name": "HBoxModel",
          "state": {
            "_dom_classes": [],
            "_model_module": "@jupyter-widgets/controls",
            "_model_module_version": "1.5.0",
            "_model_name": "HBoxModel",
            "_view_count": null,
            "_view_module": "@jupyter-widgets/controls",
            "_view_module_version": "1.5.0",
            "_view_name": "HBoxView",
            "box_style": "",
            "children": [
              "IPY_MODEL_964f0ee0467f49e1a25f51e50cd2ce61",
              "IPY_MODEL_e9b6b8eed5d64ce98061cf46144b9564",
              "IPY_MODEL_4fbe2284218d4607be8dff4221d5e099"
            ],
            "layout": "IPY_MODEL_56a0c415b03d464881bbd479799b8482"
          }
        },
        "36ad03fadaaf499185371f2181f08a69": {
          "model_module": "@jupyter-widgets/base",
          "model_module_version": "1.2.0",
          "model_name": "LayoutModel",
          "state": {
            "_model_module": "@jupyter-widgets/base",
            "_model_module_version": "1.2.0",
            "_model_name": "LayoutModel",
            "_view_count": null,
            "_view_module": "@jupyter-widgets/base",
            "_view_module_version": "1.2.0",
            "_view_name": "LayoutView",
            "align_content": null,
            "align_items": null,
            "align_self": null,
            "border": null,
            "bottom": null,
            "display": null,
            "flex": null,
            "flex_flow": null,
            "grid_area": null,
            "grid_auto_columns": null,
            "grid_auto_flow": null,
            "grid_auto_rows": null,
            "grid_column": null,
            "grid_gap": null,
            "grid_row": null,
            "grid_template_areas": null,
            "grid_template_columns": null,
            "grid_template_rows": null,
            "height": null,
            "justify_content": null,
            "justify_items": null,
            "left": null,
            "margin": null,
            "max_height": null,
            "max_width": null,
            "min_height": null,
            "min_width": null,
            "object_fit": null,
            "object_position": null,
            "order": null,
            "overflow": null,
            "overflow_x": null,
            "overflow_y": null,
            "padding": null,
            "right": null,
            "top": null,
            "visibility": null,
            "width": null
          }
        },
        "3cc0f29ebdaf4743a51a9b406622d7e3": {
          "model_module": "@jupyter-widgets/controls",
          "model_module_version": "1.5.0",
          "model_name": "DescriptionStyleModel",
          "state": {
            "_model_module": "@jupyter-widgets/controls",
            "_model_module_version": "1.5.0",
            "_model_name": "DescriptionStyleModel",
            "_view_count": null,
            "_view_module": "@jupyter-widgets/base",
            "_view_module_version": "1.2.0",
            "_view_name": "StyleView",
            "description_width": ""
          }
        },
        "3ce7fe1597ef43e8aac5039fbf9357e4": {
          "model_module": "@jupyter-widgets/controls",
          "model_module_version": "1.5.0",
          "model_name": "ProgressStyleModel",
          "state": {
            "_model_module": "@jupyter-widgets/controls",
            "_model_module_version": "1.5.0",
            "_model_name": "ProgressStyleModel",
            "_view_count": null,
            "_view_module": "@jupyter-widgets/base",
            "_view_module_version": "1.2.0",
            "_view_name": "StyleView",
            "bar_color": null,
            "description_width": ""
          }
        },
        "3fa935f0fd2544b0981265e640cf3d5b": {
          "model_module": "@jupyter-widgets/controls",
          "model_module_version": "1.5.0",
          "model_name": "FloatProgressModel",
          "state": {
            "_dom_classes": [],
            "_model_module": "@jupyter-widgets/controls",
            "_model_module_version": "1.5.0",
            "_model_name": "FloatProgressModel",
            "_view_count": null,
            "_view_module": "@jupyter-widgets/controls",
            "_view_module_version": "1.5.0",
            "_view_name": "ProgressView",
            "bar_style": "success",
            "description": "",
            "description_tooltip": null,
            "layout": "IPY_MODEL_d31b0c9b9ced498ea5a2d5f49f48d451",
            "max": 642,
            "min": 0,
            "orientation": "horizontal",
            "style": "IPY_MODEL_8970e4b263fb4be39221e063833ed293",
            "value": 642
          }
        },
        "486cbbc40fab4831b27a22e07f3a75cd": {
          "model_module": "@jupyter-widgets/base",
          "model_module_version": "1.2.0",
          "model_name": "LayoutModel",
          "state": {
            "_model_module": "@jupyter-widgets/base",
            "_model_module_version": "1.2.0",
            "_model_name": "LayoutModel",
            "_view_count": null,
            "_view_module": "@jupyter-widgets/base",
            "_view_module_version": "1.2.0",
            "_view_name": "LayoutView",
            "align_content": null,
            "align_items": null,
            "align_self": null,
            "border": null,
            "bottom": null,
            "display": null,
            "flex": null,
            "flex_flow": null,
            "grid_area": null,
            "grid_auto_columns": null,
            "grid_auto_flow": null,
            "grid_auto_rows": null,
            "grid_column": null,
            "grid_gap": null,
            "grid_row": null,
            "grid_template_areas": null,
            "grid_template_columns": null,
            "grid_template_rows": null,
            "height": null,
            "justify_content": null,
            "justify_items": null,
            "left": null,
            "margin": null,
            "max_height": null,
            "max_width": null,
            "min_height": null,
            "min_width": null,
            "object_fit": null,
            "object_position": null,
            "order": null,
            "overflow": null,
            "overflow_x": null,
            "overflow_y": null,
            "padding": null,
            "right": null,
            "top": null,
            "visibility": null,
            "width": null
          }
        },
        "4a45bf45dd0543fba8784bacad4f8f5e": {
          "model_module": "@jupyter-widgets/controls",
          "model_module_version": "1.5.0",
          "model_name": "DescriptionStyleModel",
          "state": {
            "_model_module": "@jupyter-widgets/controls",
            "_model_module_version": "1.5.0",
            "_model_name": "DescriptionStyleModel",
            "_view_count": null,
            "_view_module": "@jupyter-widgets/base",
            "_view_module_version": "1.2.0",
            "_view_name": "StyleView",
            "description_width": ""
          }
        },
        "4dcdf3f935db401eb937e1106e89a7b9": {
          "model_module": "@jupyter-widgets/base",
          "model_module_version": "1.2.0",
          "model_name": "LayoutModel",
          "state": {
            "_model_module": "@jupyter-widgets/base",
            "_model_module_version": "1.2.0",
            "_model_name": "LayoutModel",
            "_view_count": null,
            "_view_module": "@jupyter-widgets/base",
            "_view_module_version": "1.2.0",
            "_view_name": "LayoutView",
            "align_content": null,
            "align_items": null,
            "align_self": null,
            "border": null,
            "bottom": null,
            "display": null,
            "flex": null,
            "flex_flow": null,
            "grid_area": null,
            "grid_auto_columns": null,
            "grid_auto_flow": null,
            "grid_auto_rows": null,
            "grid_column": null,
            "grid_gap": null,
            "grid_row": null,
            "grid_template_areas": null,
            "grid_template_columns": null,
            "grid_template_rows": null,
            "height": null,
            "justify_content": null,
            "justify_items": null,
            "left": null,
            "margin": null,
            "max_height": null,
            "max_width": null,
            "min_height": null,
            "min_width": null,
            "object_fit": null,
            "object_position": null,
            "order": null,
            "overflow": null,
            "overflow_x": null,
            "overflow_y": null,
            "padding": null,
            "right": null,
            "top": null,
            "visibility": null,
            "width": null
          }
        },
        "4fbe2284218d4607be8dff4221d5e099": {
          "model_module": "@jupyter-widgets/controls",
          "model_module_version": "1.5.0",
          "model_name": "HTMLModel",
          "state": {
            "_dom_classes": [],
            "_model_module": "@jupyter-widgets/controls",
            "_model_module_version": "1.5.0",
            "_model_name": "HTMLModel",
            "_view_count": null,
            "_view_module": "@jupyter-widgets/controls",
            "_view_module_version": "1.5.0",
            "_view_name": "HTMLView",
            "description": "",
            "description_tooltip": null,
            "layout": "IPY_MODEL_6c89fa1e9acf431396c756aa2d99d202",
            "placeholder": "​",
            "style": "IPY_MODEL_602ad60980d54a93ac2676dcb575857f",
            "value": " 112/112 [00:00&lt;00:00, 6.54kB/s]"
          }
        },
        "5333694b3853476389d1e3062edbb26a": {
          "model_module": "@jupyter-widgets/controls",
          "model_module_version": "1.5.0",
          "model_name": "FloatProgressModel",
          "state": {
            "_dom_classes": [],
            "_model_module": "@jupyter-widgets/controls",
            "_model_module_version": "1.5.0",
            "_model_name": "FloatProgressModel",
            "_view_count": null,
            "_view_module": "@jupyter-widgets/controls",
            "_view_module_version": "1.5.0",
            "_view_name": "ProgressView",
            "bar_style": "success",
            "description": "",
            "description_tooltip": null,
            "layout": "IPY_MODEL_6ba8d100f7534a69acf238e930778bc5",
            "max": 1649718,
            "min": 0,
            "orientation": "horizontal",
            "style": "IPY_MODEL_b06c47b503144db6b86c6d3d212f15dc",
            "value": 1649718
          }
        },
        "5527fc6b3ccd49e0ae2e51bef0c679d5": {
          "model_module": "@jupyter-widgets/controls",
          "model_module_version": "1.5.0",
          "model_name": "DescriptionStyleModel",
          "state": {
            "_model_module": "@jupyter-widgets/controls",
            "_model_module_version": "1.5.0",
            "_model_name": "DescriptionStyleModel",
            "_view_count": null,
            "_view_module": "@jupyter-widgets/base",
            "_view_module_version": "1.2.0",
            "_view_name": "StyleView",
            "description_width": ""
          }
        },
        "56a0c415b03d464881bbd479799b8482": {
          "model_module": "@jupyter-widgets/base",
          "model_module_version": "1.2.0",
          "model_name": "LayoutModel",
          "state": {
            "_model_module": "@jupyter-widgets/base",
            "_model_module_version": "1.2.0",
            "_model_name": "LayoutModel",
            "_view_count": null,
            "_view_module": "@jupyter-widgets/base",
            "_view_module_version": "1.2.0",
            "_view_name": "LayoutView",
            "align_content": null,
            "align_items": null,
            "align_self": null,
            "border": null,
            "bottom": null,
            "display": null,
            "flex": null,
            "flex_flow": null,
            "grid_area": null,
            "grid_auto_columns": null,
            "grid_auto_flow": null,
            "grid_auto_rows": null,
            "grid_column": null,
            "grid_gap": null,
            "grid_row": null,
            "grid_template_areas": null,
            "grid_template_columns": null,
            "grid_template_rows": null,
            "height": null,
            "justify_content": null,
            "justify_items": null,
            "left": null,
            "margin": null,
            "max_height": null,
            "max_width": null,
            "min_height": null,
            "min_width": null,
            "object_fit": null,
            "object_position": null,
            "order": null,
            "overflow": null,
            "overflow_x": null,
            "overflow_y": null,
            "padding": null,
            "right": null,
            "top": null,
            "visibility": null,
            "width": null
          }
        },
        "581b1a097ebf402397effc24623ef6b6": {
          "model_module": "@jupyter-widgets/controls",
          "model_module_version": "1.5.0",
          "model_name": "FloatProgressModel",
          "state": {
            "_dom_classes": [],
            "_model_module": "@jupyter-widgets/controls",
            "_model_module_version": "1.5.0",
            "_model_name": "FloatProgressModel",
            "_view_count": null,
            "_view_module": "@jupyter-widgets/controls",
            "_view_module_version": "1.5.0",
            "_view_name": "ProgressView",
            "bar_style": "success",
            "description": "",
            "description_tooltip": null,
            "layout": "IPY_MODEL_fb9d8f5826ca478abef0183ed2b6edad",
            "max": 714295028,
            "min": 0,
            "orientation": "horizontal",
            "style": "IPY_MODEL_3ce7fe1597ef43e8aac5039fbf9357e4",
            "value": 714295028
          }
        },
        "602ad60980d54a93ac2676dcb575857f": {
          "model_module": "@jupyter-widgets/controls",
          "model_module_version": "1.5.0",
          "model_name": "DescriptionStyleModel",
          "state": {
            "_model_module": "@jupyter-widgets/controls",
            "_model_module_version": "1.5.0",
            "_model_name": "DescriptionStyleModel",
            "_view_count": null,
            "_view_module": "@jupyter-widgets/base",
            "_view_module_version": "1.2.0",
            "_view_name": "StyleView",
            "description_width": ""
          }
        },
        "6423f5c3508d4d51910fd6123034d019": {
          "model_module": "@jupyter-widgets/base",
          "model_module_version": "1.2.0",
          "model_name": "LayoutModel",
          "state": {
            "_model_module": "@jupyter-widgets/base",
            "_model_module_version": "1.2.0",
            "_model_name": "LayoutModel",
            "_view_count": null,
            "_view_module": "@jupyter-widgets/base",
            "_view_module_version": "1.2.0",
            "_view_name": "LayoutView",
            "align_content": null,
            "align_items": null,
            "align_self": null,
            "border": null,
            "bottom": null,
            "display": null,
            "flex": null,
            "flex_flow": null,
            "grid_area": null,
            "grid_auto_columns": null,
            "grid_auto_flow": null,
            "grid_auto_rows": null,
            "grid_column": null,
            "grid_gap": null,
            "grid_row": null,
            "grid_template_areas": null,
            "grid_template_columns": null,
            "grid_template_rows": null,
            "height": null,
            "justify_content": null,
            "justify_items": null,
            "left": null,
            "margin": null,
            "max_height": null,
            "max_width": null,
            "min_height": null,
            "min_width": null,
            "object_fit": null,
            "object_position": null,
            "order": null,
            "overflow": null,
            "overflow_x": null,
            "overflow_y": null,
            "padding": null,
            "right": null,
            "top": null,
            "visibility": null,
            "width": null
          }
        },
        "6788f7d14ea8466193ec631592beaa5b": {
          "model_module": "@jupyter-widgets/base",
          "model_module_version": "1.2.0",
          "model_name": "LayoutModel",
          "state": {
            "_model_module": "@jupyter-widgets/base",
            "_model_module_version": "1.2.0",
            "_model_name": "LayoutModel",
            "_view_count": null,
            "_view_module": "@jupyter-widgets/base",
            "_view_module_version": "1.2.0",
            "_view_name": "LayoutView",
            "align_content": null,
            "align_items": null,
            "align_self": null,
            "border": null,
            "bottom": null,
            "display": null,
            "flex": null,
            "flex_flow": null,
            "grid_area": null,
            "grid_auto_columns": null,
            "grid_auto_flow": null,
            "grid_auto_rows": null,
            "grid_column": null,
            "grid_gap": null,
            "grid_row": null,
            "grid_template_areas": null,
            "grid_template_columns": null,
            "grid_template_rows": null,
            "height": null,
            "justify_content": null,
            "justify_items": null,
            "left": null,
            "margin": null,
            "max_height": null,
            "max_width": null,
            "min_height": null,
            "min_width": null,
            "object_fit": null,
            "object_position": null,
            "order": null,
            "overflow": null,
            "overflow_x": null,
            "overflow_y": null,
            "padding": null,
            "right": null,
            "top": null,
            "visibility": null,
            "width": null
          }
        },
        "6ba8d100f7534a69acf238e930778bc5": {
          "model_module": "@jupyter-widgets/base",
          "model_module_version": "1.2.0",
          "model_name": "LayoutModel",
          "state": {
            "_model_module": "@jupyter-widgets/base",
            "_model_module_version": "1.2.0",
            "_model_name": "LayoutModel",
            "_view_count": null,
            "_view_module": "@jupyter-widgets/base",
            "_view_module_version": "1.2.0",
            "_view_name": "LayoutView",
            "align_content": null,
            "align_items": null,
            "align_self": null,
            "border": null,
            "bottom": null,
            "display": null,
            "flex": null,
            "flex_flow": null,
            "grid_area": null,
            "grid_auto_columns": null,
            "grid_auto_flow": null,
            "grid_auto_rows": null,
            "grid_column": null,
            "grid_gap": null,
            "grid_row": null,
            "grid_template_areas": null,
            "grid_template_columns": null,
            "grid_template_rows": null,
            "height": null,
            "justify_content": null,
            "justify_items": null,
            "left": null,
            "margin": null,
            "max_height": null,
            "max_width": null,
            "min_height": null,
            "min_width": null,
            "object_fit": null,
            "object_position": null,
            "order": null,
            "overflow": null,
            "overflow_x": null,
            "overflow_y": null,
            "padding": null,
            "right": null,
            "top": null,
            "visibility": null,
            "width": null
          }
        },
        "6c89fa1e9acf431396c756aa2d99d202": {
          "model_module": "@jupyter-widgets/base",
          "model_module_version": "1.2.0",
          "model_name": "LayoutModel",
          "state": {
            "_model_module": "@jupyter-widgets/base",
            "_model_module_version": "1.2.0",
            "_model_name": "LayoutModel",
            "_view_count": null,
            "_view_module": "@jupyter-widgets/base",
            "_view_module_version": "1.2.0",
            "_view_name": "LayoutView",
            "align_content": null,
            "align_items": null,
            "align_self": null,
            "border": null,
            "bottom": null,
            "display": null,
            "flex": null,
            "flex_flow": null,
            "grid_area": null,
            "grid_auto_columns": null,
            "grid_auto_flow": null,
            "grid_auto_rows": null,
            "grid_column": null,
            "grid_gap": null,
            "grid_row": null,
            "grid_template_areas": null,
            "grid_template_columns": null,
            "grid_template_rows": null,
            "height": null,
            "justify_content": null,
            "justify_items": null,
            "left": null,
            "margin": null,
            "max_height": null,
            "max_width": null,
            "min_height": null,
            "min_width": null,
            "object_fit": null,
            "object_position": null,
            "order": null,
            "overflow": null,
            "overflow_x": null,
            "overflow_y": null,
            "padding": null,
            "right": null,
            "top": null,
            "visibility": null,
            "width": null
          }
        },
        "71635a531b1244248b269588cc2f9a26": {
          "model_module": "@jupyter-widgets/controls",
          "model_module_version": "1.5.0",
          "model_name": "DescriptionStyleModel",
          "state": {
            "_model_module": "@jupyter-widgets/controls",
            "_model_module_version": "1.5.0",
            "_model_name": "DescriptionStyleModel",
            "_view_count": null,
            "_view_module": "@jupyter-widgets/base",
            "_view_module_version": "1.2.0",
            "_view_name": "StyleView",
            "description_width": ""
          }
        },
        "7302766101b6473d888516ed90f0fb45": {
          "model_module": "@jupyter-widgets/controls",
          "model_module_version": "1.5.0",
          "model_name": "FloatProgressModel",
          "state": {
            "_dom_classes": [],
            "_model_module": "@jupyter-widgets/controls",
            "_model_module_version": "1.5.0",
            "_model_name": "FloatProgressModel",
            "_view_count": null,
            "_view_module": "@jupyter-widgets/controls",
            "_view_module_version": "1.5.0",
            "_view_name": "ProgressView",
            "bar_style": "success",
            "description": "",
            "description_tooltip": null,
            "layout": "IPY_MODEL_8f8527743911439aabc068c59f8fe20c",
            "max": 24,
            "min": 0,
            "orientation": "horizontal",
            "style": "IPY_MODEL_739f6a1ec10a48e9b451ad6ea92b86be",
            "value": 24
          }
        },
        "739f6a1ec10a48e9b451ad6ea92b86be": {
          "model_module": "@jupyter-widgets/controls",
          "model_module_version": "1.5.0",
          "model_name": "ProgressStyleModel",
          "state": {
            "_model_module": "@jupyter-widgets/controls",
            "_model_module_version": "1.5.0",
            "_model_name": "ProgressStyleModel",
            "_view_count": null,
            "_view_module": "@jupyter-widgets/base",
            "_view_module_version": "1.2.0",
            "_view_name": "StyleView",
            "bar_color": null,
            "description_width": ""
          }
        },
        "75b7b7ad7d714ad4ba7cfa8f02623bee": {
          "model_module": "@jupyter-widgets/controls",
          "model_module_version": "1.5.0",
          "model_name": "HTMLModel",
          "state": {
            "_dom_classes": [],
            "_model_module": "@jupyter-widgets/controls",
            "_model_module_version": "1.5.0",
            "_model_name": "HTMLModel",
            "_view_count": null,
            "_view_module": "@jupyter-widgets/controls",
            "_view_module_version": "1.5.0",
            "_view_name": "HTMLView",
            "description": "",
            "description_tooltip": null,
            "layout": "IPY_MODEL_2f2bfdabd04b4e23b020f994b2b6f82b",
            "placeholder": "​",
            "style": "IPY_MODEL_1d32d0e2a1f840cd865d802ce1511b3d",
            "value": " 714M/714M [00:08&lt;00:00, 85.6MB/s]"
          }
        },
        "7952e7f4446944e3be8fec7a844b941e": {
          "model_module": "@jupyter-widgets/controls",
          "model_module_version": "1.5.0",
          "model_name": "DescriptionStyleModel",
          "state": {
            "_model_module": "@jupyter-widgets/controls",
            "_model_module_version": "1.5.0",
            "_model_name": "DescriptionStyleModel",
            "_view_count": null,
            "_view_module": "@jupyter-widgets/base",
            "_view_module_version": "1.2.0",
            "_view_name": "StyleView",
            "description_width": ""
          }
        },
        "7c5694024bfa45f1b901467fba4a8af2": {
          "model_module": "@jupyter-widgets/controls",
          "model_module_version": "1.5.0",
          "model_name": "HTMLModel",
          "state": {
            "_dom_classes": [],
            "_model_module": "@jupyter-widgets/controls",
            "_model_module_version": "1.5.0",
            "_model_name": "HTMLModel",
            "_view_count": null,
            "_view_module": "@jupyter-widgets/controls",
            "_view_module_version": "1.5.0",
            "_view_name": "HTMLView",
            "description": "",
            "description_tooltip": null,
            "layout": "IPY_MODEL_486cbbc40fab4831b27a22e07f3a75cd",
            "placeholder": "​",
            "style": "IPY_MODEL_e99bfa674b4f4edd8f20de765940eb1f",
            "value": "vocab.txt: 100%"
          }
        },
        "8379632ba84e48d9a9ceada0a40afe57": {
          "model_module": "@jupyter-widgets/controls",
          "model_module_version": "1.5.0",
          "model_name": "HTMLModel",
          "state": {
            "_dom_classes": [],
            "_model_module": "@jupyter-widgets/controls",
            "_model_module_version": "1.5.0",
            "_model_name": "HTMLModel",
            "_view_count": null,
            "_view_module": "@jupyter-widgets/controls",
            "_view_module_version": "1.5.0",
            "_view_name": "HTMLView",
            "description": "",
            "description_tooltip": null,
            "layout": "IPY_MODEL_b7f3f0ef27d3405cab66d1a7b219bb22",
            "placeholder": "​",
            "style": "IPY_MODEL_5527fc6b3ccd49e0ae2e51bef0c679d5",
            "value": "pytorch_model.bin: 100%"
          }
        },
        "8542116b043446029d83e8fecf7fb4c0": {
          "model_module": "@jupyter-widgets/base",
          "model_module_version": "1.2.0",
          "model_name": "LayoutModel",
          "state": {
            "_model_module": "@jupyter-widgets/base",
            "_model_module_version": "1.2.0",
            "_model_name": "LayoutModel",
            "_view_count": null,
            "_view_module": "@jupyter-widgets/base",
            "_view_module_version": "1.2.0",
            "_view_name": "LayoutView",
            "align_content": null,
            "align_items": null,
            "align_self": null,
            "border": null,
            "bottom": null,
            "display": null,
            "flex": null,
            "flex_flow": null,
            "grid_area": null,
            "grid_auto_columns": null,
            "grid_auto_flow": null,
            "grid_auto_rows": null,
            "grid_column": null,
            "grid_gap": null,
            "grid_row": null,
            "grid_template_areas": null,
            "grid_template_columns": null,
            "grid_template_rows": null,
            "height": null,
            "justify_content": null,
            "justify_items": null,
            "left": null,
            "margin": null,
            "max_height": null,
            "max_width": null,
            "min_height": null,
            "min_width": null,
            "object_fit": null,
            "object_position": null,
            "order": null,
            "overflow": null,
            "overflow_x": null,
            "overflow_y": null,
            "padding": null,
            "right": null,
            "top": null,
            "visibility": null,
            "width": null
          }
        },
        "88d8e4addd314298b1c30d321bdbc710": {
          "model_module": "@jupyter-widgets/base",
          "model_module_version": "1.2.0",
          "model_name": "LayoutModel",
          "state": {
            "_model_module": "@jupyter-widgets/base",
            "_model_module_version": "1.2.0",
            "_model_name": "LayoutModel",
            "_view_count": null,
            "_view_module": "@jupyter-widgets/base",
            "_view_module_version": "1.2.0",
            "_view_name": "LayoutView",
            "align_content": null,
            "align_items": null,
            "align_self": null,
            "border": null,
            "bottom": null,
            "display": null,
            "flex": null,
            "flex_flow": null,
            "grid_area": null,
            "grid_auto_columns": null,
            "grid_auto_flow": null,
            "grid_auto_rows": null,
            "grid_column": null,
            "grid_gap": null,
            "grid_row": null,
            "grid_template_areas": null,
            "grid_template_columns": null,
            "grid_template_rows": null,
            "height": null,
            "justify_content": null,
            "justify_items": null,
            "left": null,
            "margin": null,
            "max_height": null,
            "max_width": null,
            "min_height": null,
            "min_width": null,
            "object_fit": null,
            "object_position": null,
            "order": null,
            "overflow": null,
            "overflow_x": null,
            "overflow_y": null,
            "padding": null,
            "right": null,
            "top": null,
            "visibility": null,
            "width": null
          }
        },
        "8970e4b263fb4be39221e063833ed293": {
          "model_module": "@jupyter-widgets/controls",
          "model_module_version": "1.5.0",
          "model_name": "ProgressStyleModel",
          "state": {
            "_model_module": "@jupyter-widgets/controls",
            "_model_module_version": "1.5.0",
            "_model_name": "ProgressStyleModel",
            "_view_count": null,
            "_view_module": "@jupyter-widgets/base",
            "_view_module_version": "1.2.0",
            "_view_name": "StyleView",
            "bar_color": null,
            "description_width": ""
          }
        },
        "8e1574acfc114c3fb79c50ae0980bdf9": {
          "model_module": "@jupyter-widgets/base",
          "model_module_version": "1.2.0",
          "model_name": "LayoutModel",
          "state": {
            "_model_module": "@jupyter-widgets/base",
            "_model_module_version": "1.2.0",
            "_model_name": "LayoutModel",
            "_view_count": null,
            "_view_module": "@jupyter-widgets/base",
            "_view_module_version": "1.2.0",
            "_view_name": "LayoutView",
            "align_content": null,
            "align_items": null,
            "align_self": null,
            "border": null,
            "bottom": null,
            "display": null,
            "flex": null,
            "flex_flow": null,
            "grid_area": null,
            "grid_auto_columns": null,
            "grid_auto_flow": null,
            "grid_auto_rows": null,
            "grid_column": null,
            "grid_gap": null,
            "grid_row": null,
            "grid_template_areas": null,
            "grid_template_columns": null,
            "grid_template_rows": null,
            "height": null,
            "justify_content": null,
            "justify_items": null,
            "left": null,
            "margin": null,
            "max_height": null,
            "max_width": null,
            "min_height": null,
            "min_width": null,
            "object_fit": null,
            "object_position": null,
            "order": null,
            "overflow": null,
            "overflow_x": null,
            "overflow_y": null,
            "padding": null,
            "right": null,
            "top": null,
            "visibility": null,
            "width": null
          }
        },
        "8f8527743911439aabc068c59f8fe20c": {
          "model_module": "@jupyter-widgets/base",
          "model_module_version": "1.2.0",
          "model_name": "LayoutModel",
          "state": {
            "_model_module": "@jupyter-widgets/base",
            "_model_module_version": "1.2.0",
            "_model_name": "LayoutModel",
            "_view_count": null,
            "_view_module": "@jupyter-widgets/base",
            "_view_module_version": "1.2.0",
            "_view_name": "LayoutView",
            "align_content": null,
            "align_items": null,
            "align_self": null,
            "border": null,
            "bottom": null,
            "display": null,
            "flex": null,
            "flex_flow": null,
            "grid_area": null,
            "grid_auto_columns": null,
            "grid_auto_flow": null,
            "grid_auto_rows": null,
            "grid_column": null,
            "grid_gap": null,
            "grid_row": null,
            "grid_template_areas": null,
            "grid_template_columns": null,
            "grid_template_rows": null,
            "height": null,
            "justify_content": null,
            "justify_items": null,
            "left": null,
            "margin": null,
            "max_height": null,
            "max_width": null,
            "min_height": null,
            "min_width": null,
            "object_fit": null,
            "object_position": null,
            "order": null,
            "overflow": null,
            "overflow_x": null,
            "overflow_y": null,
            "padding": null,
            "right": null,
            "top": null,
            "visibility": null,
            "width": null
          }
        },
        "913a34c9477747e3b3d2737f90b5d1a1": {
          "model_module": "@jupyter-widgets/base",
          "model_module_version": "1.2.0",
          "model_name": "LayoutModel",
          "state": {
            "_model_module": "@jupyter-widgets/base",
            "_model_module_version": "1.2.0",
            "_model_name": "LayoutModel",
            "_view_count": null,
            "_view_module": "@jupyter-widgets/base",
            "_view_module_version": "1.2.0",
            "_view_name": "LayoutView",
            "align_content": null,
            "align_items": null,
            "align_self": null,
            "border": null,
            "bottom": null,
            "display": null,
            "flex": null,
            "flex_flow": null,
            "grid_area": null,
            "grid_auto_columns": null,
            "grid_auto_flow": null,
            "grid_auto_rows": null,
            "grid_column": null,
            "grid_gap": null,
            "grid_row": null,
            "grid_template_areas": null,
            "grid_template_columns": null,
            "grid_template_rows": null,
            "height": null,
            "justify_content": null,
            "justify_items": null,
            "left": null,
            "margin": null,
            "max_height": null,
            "max_width": null,
            "min_height": null,
            "min_width": null,
            "object_fit": null,
            "object_position": null,
            "order": null,
            "overflow": null,
            "overflow_x": null,
            "overflow_y": null,
            "padding": null,
            "right": null,
            "top": null,
            "visibility": null,
            "width": null
          }
        },
        "964f0ee0467f49e1a25f51e50cd2ce61": {
          "model_module": "@jupyter-widgets/controls",
          "model_module_version": "1.5.0",
          "model_name": "HTMLModel",
          "state": {
            "_dom_classes": [],
            "_model_module": "@jupyter-widgets/controls",
            "_model_module_version": "1.5.0",
            "_model_name": "HTMLModel",
            "_view_count": null,
            "_view_module": "@jupyter-widgets/controls",
            "_view_module_version": "1.5.0",
            "_view_name": "HTMLView",
            "description": "",
            "description_tooltip": null,
            "layout": "IPY_MODEL_2348e1156c7c401a8d5b18e8f3f4377c",
            "placeholder": "​",
            "style": "IPY_MODEL_71635a531b1244248b269588cc2f9a26",
            "value": "special_tokens_map.json: 100%"
          }
        },
        "98127576e69d4b159b5be2643a1eb9ef": {
          "model_module": "@jupyter-widgets/controls",
          "model_module_version": "1.5.0",
          "model_name": "HBoxModel",
          "state": {
            "_dom_classes": [],
            "_model_module": "@jupyter-widgets/controls",
            "_model_module_version": "1.5.0",
            "_model_name": "HBoxModel",
            "_view_count": null,
            "_view_module": "@jupyter-widgets/controls",
            "_view_module_version": "1.5.0",
            "_view_name": "HBoxView",
            "box_style": "",
            "children": [
              "IPY_MODEL_d653c448cf8f4f28a81fe6a0024e6aad",
              "IPY_MODEL_3fa935f0fd2544b0981265e640cf3d5b",
              "IPY_MODEL_349807c7c98b43b0b3775e109fa00c3a"
            ],
            "layout": "IPY_MODEL_153958821e654e5cbe61399ff865d525"
          }
        },
        "a2974cae56474eb0b383a327aa256ba4": {
          "model_module": "@jupyter-widgets/controls",
          "model_module_version": "1.5.0",
          "model_name": "HTMLModel",
          "state": {
            "_dom_classes": [],
            "_model_module": "@jupyter-widgets/controls",
            "_model_module_version": "1.5.0",
            "_model_name": "HTMLModel",
            "_view_count": null,
            "_view_module": "@jupyter-widgets/controls",
            "_view_module_version": "1.5.0",
            "_view_name": "HTMLView",
            "description": "",
            "description_tooltip": null,
            "layout": "IPY_MODEL_f0a47a4983f8483b81757c0095341061",
            "placeholder": "​",
            "style": "IPY_MODEL_4a45bf45dd0543fba8784bacad4f8f5e",
            "value": "tokenizer_config.json: 100%"
          }
        },
        "aa051f05941f414b992e192544f13fa4": {
          "model_module": "@jupyter-widgets/controls",
          "model_module_version": "1.5.0",
          "model_name": "DescriptionStyleModel",
          "state": {
            "_model_module": "@jupyter-widgets/controls",
            "_model_module_version": "1.5.0",
            "_model_name": "DescriptionStyleModel",
            "_view_count": null,
            "_view_module": "@jupyter-widgets/base",
            "_view_module_version": "1.2.0",
            "_view_name": "StyleView",
            "description_width": ""
          }
        },
        "b06c47b503144db6b86c6d3d212f15dc": {
          "model_module": "@jupyter-widgets/controls",
          "model_module_version": "1.5.0",
          "model_name": "ProgressStyleModel",
          "state": {
            "_model_module": "@jupyter-widgets/controls",
            "_model_module_version": "1.5.0",
            "_model_name": "ProgressStyleModel",
            "_view_count": null,
            "_view_module": "@jupyter-widgets/base",
            "_view_module_version": "1.2.0",
            "_view_name": "StyleView",
            "bar_color": null,
            "description_width": ""
          }
        },
        "b2289983f6fe477ab6bad823f3d8ca0d": {
          "model_module": "@jupyter-widgets/controls",
          "model_module_version": "1.5.0",
          "model_name": "FloatProgressModel",
          "state": {
            "_dom_classes": [],
            "_model_module": "@jupyter-widgets/controls",
            "_model_module_version": "1.5.0",
            "_model_name": "FloatProgressModel",
            "_view_count": null,
            "_view_module": "@jupyter-widgets/controls",
            "_view_module_version": "1.5.0",
            "_view_name": "ProgressView",
            "bar_style": "success",
            "description": "",
            "description_tooltip": null,
            "layout": "IPY_MODEL_e8df958844184c6aa34d7f3e946ea66d",
            "max": 714355318,
            "min": 0,
            "orientation": "horizontal",
            "style": "IPY_MODEL_1746dce8fda34d63b56cfe32aa9e975a",
            "value": 714355318
          }
        },
        "b330027a08ea468bb66b72072e3ef866": {
          "model_module": "@jupyter-widgets/base",
          "model_module_version": "1.2.0",
          "model_name": "LayoutModel",
          "state": {
            "_model_module": "@jupyter-widgets/base",
            "_model_module_version": "1.2.0",
            "_model_name": "LayoutModel",
            "_view_count": null,
            "_view_module": "@jupyter-widgets/base",
            "_view_module_version": "1.2.0",
            "_view_name": "LayoutView",
            "align_content": null,
            "align_items": null,
            "align_self": null,
            "border": null,
            "bottom": null,
            "display": null,
            "flex": null,
            "flex_flow": null,
            "grid_area": null,
            "grid_auto_columns": null,
            "grid_auto_flow": null,
            "grid_auto_rows": null,
            "grid_column": null,
            "grid_gap": null,
            "grid_row": null,
            "grid_template_areas": null,
            "grid_template_columns": null,
            "grid_template_rows": null,
            "height": null,
            "justify_content": null,
            "justify_items": null,
            "left": null,
            "margin": null,
            "max_height": null,
            "max_width": null,
            "min_height": null,
            "min_width": null,
            "object_fit": null,
            "object_position": null,
            "order": null,
            "overflow": null,
            "overflow_x": null,
            "overflow_y": null,
            "padding": null,
            "right": null,
            "top": null,
            "visibility": null,
            "width": null
          }
        },
        "b7f3f0ef27d3405cab66d1a7b219bb22": {
          "model_module": "@jupyter-widgets/base",
          "model_module_version": "1.2.0",
          "model_name": "LayoutModel",
          "state": {
            "_model_module": "@jupyter-widgets/base",
            "_model_module_version": "1.2.0",
            "_model_name": "LayoutModel",
            "_view_count": null,
            "_view_module": "@jupyter-widgets/base",
            "_view_module_version": "1.2.0",
            "_view_name": "LayoutView",
            "align_content": null,
            "align_items": null,
            "align_self": null,
            "border": null,
            "bottom": null,
            "display": null,
            "flex": null,
            "flex_flow": null,
            "grid_area": null,
            "grid_auto_columns": null,
            "grid_auto_flow": null,
            "grid_auto_rows": null,
            "grid_column": null,
            "grid_gap": null,
            "grid_row": null,
            "grid_template_areas": null,
            "grid_template_columns": null,
            "grid_template_rows": null,
            "height": null,
            "justify_content": null,
            "justify_items": null,
            "left": null,
            "margin": null,
            "max_height": null,
            "max_width": null,
            "min_height": null,
            "min_width": null,
            "object_fit": null,
            "object_position": null,
            "order": null,
            "overflow": null,
            "overflow_x": null,
            "overflow_y": null,
            "padding": null,
            "right": null,
            "top": null,
            "visibility": null,
            "width": null
          }
        },
        "c241e28ecdf24591a0079ad9d13a8f48": {
          "model_module": "@jupyter-widgets/base",
          "model_module_version": "1.2.0",
          "model_name": "LayoutModel",
          "state": {
            "_model_module": "@jupyter-widgets/base",
            "_model_module_version": "1.2.0",
            "_model_name": "LayoutModel",
            "_view_count": null,
            "_view_module": "@jupyter-widgets/base",
            "_view_module_version": "1.2.0",
            "_view_name": "LayoutView",
            "align_content": null,
            "align_items": null,
            "align_self": null,
            "border": null,
            "bottom": null,
            "display": null,
            "flex": null,
            "flex_flow": null,
            "grid_area": null,
            "grid_auto_columns": null,
            "grid_auto_flow": null,
            "grid_auto_rows": null,
            "grid_column": null,
            "grid_gap": null,
            "grid_row": null,
            "grid_template_areas": null,
            "grid_template_columns": null,
            "grid_template_rows": null,
            "height": null,
            "justify_content": null,
            "justify_items": null,
            "left": null,
            "margin": null,
            "max_height": null,
            "max_width": null,
            "min_height": null,
            "min_width": null,
            "object_fit": null,
            "object_position": null,
            "order": null,
            "overflow": null,
            "overflow_x": null,
            "overflow_y": null,
            "padding": null,
            "right": null,
            "top": null,
            "visibility": null,
            "width": null
          }
        },
        "c685236c06764db49449caa3a46348ca": {
          "model_module": "@jupyter-widgets/controls",
          "model_module_version": "1.5.0",
          "model_name": "HBoxModel",
          "state": {
            "_dom_classes": [],
            "_model_module": "@jupyter-widgets/controls",
            "_model_module_version": "1.5.0",
            "_model_name": "HBoxModel",
            "_view_count": null,
            "_view_module": "@jupyter-widgets/controls",
            "_view_module_version": "1.5.0",
            "_view_name": "HBoxView",
            "box_style": "",
            "children": [
              "IPY_MODEL_8379632ba84e48d9a9ceada0a40afe57",
              "IPY_MODEL_b2289983f6fe477ab6bad823f3d8ca0d",
              "IPY_MODEL_33ff2e38a45b4420859569d9667f167e"
            ],
            "layout": "IPY_MODEL_36ad03fadaaf499185371f2181f08a69"
          }
        },
        "c7ebc0f779284f349e7d3722a4867f3c": {
          "model_module": "@jupyter-widgets/controls",
          "model_module_version": "1.5.0",
          "model_name": "ProgressStyleModel",
          "state": {
            "_model_module": "@jupyter-widgets/controls",
            "_model_module_version": "1.5.0",
            "_model_name": "ProgressStyleModel",
            "_view_count": null,
            "_view_module": "@jupyter-widgets/base",
            "_view_module_version": "1.2.0",
            "_view_name": "StyleView",
            "bar_color": null,
            "description_width": ""
          }
        },
        "d31b0c9b9ced498ea5a2d5f49f48d451": {
          "model_module": "@jupyter-widgets/base",
          "model_module_version": "1.2.0",
          "model_name": "LayoutModel",
          "state": {
            "_model_module": "@jupyter-widgets/base",
            "_model_module_version": "1.2.0",
            "_model_name": "LayoutModel",
            "_view_count": null,
            "_view_module": "@jupyter-widgets/base",
            "_view_module_version": "1.2.0",
            "_view_name": "LayoutView",
            "align_content": null,
            "align_items": null,
            "align_self": null,
            "border": null,
            "bottom": null,
            "display": null,
            "flex": null,
            "flex_flow": null,
            "grid_area": null,
            "grid_auto_columns": null,
            "grid_auto_flow": null,
            "grid_auto_rows": null,
            "grid_column": null,
            "grid_gap": null,
            "grid_row": null,
            "grid_template_areas": null,
            "grid_template_columns": null,
            "grid_template_rows": null,
            "height": null,
            "justify_content": null,
            "justify_items": null,
            "left": null,
            "margin": null,
            "max_height": null,
            "max_width": null,
            "min_height": null,
            "min_width": null,
            "object_fit": null,
            "object_position": null,
            "order": null,
            "overflow": null,
            "overflow_x": null,
            "overflow_y": null,
            "padding": null,
            "right": null,
            "top": null,
            "visibility": null,
            "width": null
          }
        },
        "d653c448cf8f4f28a81fe6a0024e6aad": {
          "model_module": "@jupyter-widgets/controls",
          "model_module_version": "1.5.0",
          "model_name": "HTMLModel",
          "state": {
            "_dom_classes": [],
            "_model_module": "@jupyter-widgets/controls",
            "_model_module_version": "1.5.0",
            "_model_name": "HTMLModel",
            "_view_count": null,
            "_view_module": "@jupyter-widgets/controls",
            "_view_module_version": "1.5.0",
            "_view_name": "HTMLView",
            "description": "",
            "description_tooltip": null,
            "layout": "IPY_MODEL_88d8e4addd314298b1c30d321bdbc710",
            "placeholder": "​",
            "style": "IPY_MODEL_24f088b4464845b181467bc0052e215f",
            "value": "config.json: 100%"
          }
        },
        "d81ccfb0f3df41e5b0e265ad61d769ca": {
          "model_module": "@jupyter-widgets/controls",
          "model_module_version": "1.5.0",
          "model_name": "HTMLModel",
          "state": {
            "_dom_classes": [],
            "_model_module": "@jupyter-widgets/controls",
            "_model_module_version": "1.5.0",
            "_model_name": "HTMLModel",
            "_view_count": null,
            "_view_module": "@jupyter-widgets/controls",
            "_view_module_version": "1.5.0",
            "_view_name": "HTMLView",
            "description": "",
            "description_tooltip": null,
            "layout": "IPY_MODEL_e2e5e37cc2d94409b06c6a667bb73659",
            "placeholder": "​",
            "style": "IPY_MODEL_aa051f05941f414b992e192544f13fa4",
            "value": " 1.65M/1.65M [00:00&lt;00:00, 18.0MB/s]"
          }
        },
        "da563657df2c45aeb765f34e4bd51424": {
          "model_module": "@jupyter-widgets/controls",
          "model_module_version": "1.5.0",
          "model_name": "HTMLModel",
          "state": {
            "_dom_classes": [],
            "_model_module": "@jupyter-widgets/controls",
            "_model_module_version": "1.5.0",
            "_model_name": "HTMLModel",
            "_view_count": null,
            "_view_module": "@jupyter-widgets/controls",
            "_view_module_version": "1.5.0",
            "_view_name": "HTMLView",
            "description": "",
            "description_tooltip": null,
            "layout": "IPY_MODEL_6423f5c3508d4d51910fd6123034d019",
            "placeholder": "​",
            "style": "IPY_MODEL_1315a15117294d959a2874c4238f9f44",
            "value": "model.safetensors: 100%"
          }
        },
        "e2e5e37cc2d94409b06c6a667bb73659": {
          "model_module": "@jupyter-widgets/base",
          "model_module_version": "1.2.0",
          "model_name": "LayoutModel",
          "state": {
            "_model_module": "@jupyter-widgets/base",
            "_model_module_version": "1.2.0",
            "_model_name": "LayoutModel",
            "_view_count": null,
            "_view_module": "@jupyter-widgets/base",
            "_view_module_version": "1.2.0",
            "_view_name": "LayoutView",
            "align_content": null,
            "align_items": null,
            "align_self": null,
            "border": null,
            "bottom": null,
            "display": null,
            "flex": null,
            "flex_flow": null,
            "grid_area": null,
            "grid_auto_columns": null,
            "grid_auto_flow": null,
            "grid_auto_rows": null,
            "grid_column": null,
            "grid_gap": null,
            "grid_row": null,
            "grid_template_areas": null,
            "grid_template_columns": null,
            "grid_template_rows": null,
            "height": null,
            "justify_content": null,
            "justify_items": null,
            "left": null,
            "margin": null,
            "max_height": null,
            "max_width": null,
            "min_height": null,
            "min_width": null,
            "object_fit": null,
            "object_position": null,
            "order": null,
            "overflow": null,
            "overflow_x": null,
            "overflow_y": null,
            "padding": null,
            "right": null,
            "top": null,
            "visibility": null,
            "width": null
          }
        },
        "e8df958844184c6aa34d7f3e946ea66d": {
          "model_module": "@jupyter-widgets/base",
          "model_module_version": "1.2.0",
          "model_name": "LayoutModel",
          "state": {
            "_model_module": "@jupyter-widgets/base",
            "_model_module_version": "1.2.0",
            "_model_name": "LayoutModel",
            "_view_count": null,
            "_view_module": "@jupyter-widgets/base",
            "_view_module_version": "1.2.0",
            "_view_name": "LayoutView",
            "align_content": null,
            "align_items": null,
            "align_self": null,
            "border": null,
            "bottom": null,
            "display": null,
            "flex": null,
            "flex_flow": null,
            "grid_area": null,
            "grid_auto_columns": null,
            "grid_auto_flow": null,
            "grid_auto_rows": null,
            "grid_column": null,
            "grid_gap": null,
            "grid_row": null,
            "grid_template_areas": null,
            "grid_template_columns": null,
            "grid_template_rows": null,
            "height": null,
            "justify_content": null,
            "justify_items": null,
            "left": null,
            "margin": null,
            "max_height": null,
            "max_width": null,
            "min_height": null,
            "min_width": null,
            "object_fit": null,
            "object_position": null,
            "order": null,
            "overflow": null,
            "overflow_x": null,
            "overflow_y": null,
            "padding": null,
            "right": null,
            "top": null,
            "visibility": null,
            "width": null
          }
        },
        "e99bfa674b4f4edd8f20de765940eb1f": {
          "model_module": "@jupyter-widgets/controls",
          "model_module_version": "1.5.0",
          "model_name": "DescriptionStyleModel",
          "state": {
            "_model_module": "@jupyter-widgets/controls",
            "_model_module_version": "1.5.0",
            "_model_name": "DescriptionStyleModel",
            "_view_count": null,
            "_view_module": "@jupyter-widgets/base",
            "_view_module_version": "1.2.0",
            "_view_name": "StyleView",
            "description_width": ""
          }
        },
        "e9b6b8eed5d64ce98061cf46144b9564": {
          "model_module": "@jupyter-widgets/controls",
          "model_module_version": "1.5.0",
          "model_name": "FloatProgressModel",
          "state": {
            "_dom_classes": [],
            "_model_module": "@jupyter-widgets/controls",
            "_model_module_version": "1.5.0",
            "_model_name": "FloatProgressModel",
            "_view_count": null,
            "_view_module": "@jupyter-widgets/controls",
            "_view_module_version": "1.5.0",
            "_view_name": "ProgressView",
            "bar_style": "success",
            "description": "",
            "description_tooltip": null,
            "layout": "IPY_MODEL_8542116b043446029d83e8fecf7fb4c0",
            "max": 112,
            "min": 0,
            "orientation": "horizontal",
            "style": "IPY_MODEL_c7ebc0f779284f349e7d3722a4867f3c",
            "value": 112
          }
        },
        "f0a47a4983f8483b81757c0095341061": {
          "model_module": "@jupyter-widgets/base",
          "model_module_version": "1.2.0",
          "model_name": "LayoutModel",
          "state": {
            "_model_module": "@jupyter-widgets/base",
            "_model_module_version": "1.2.0",
            "_model_name": "LayoutModel",
            "_view_count": null,
            "_view_module": "@jupyter-widgets/base",
            "_view_module_version": "1.2.0",
            "_view_name": "LayoutView",
            "align_content": null,
            "align_items": null,
            "align_self": null,
            "border": null,
            "bottom": null,
            "display": null,
            "flex": null,
            "flex_flow": null,
            "grid_area": null,
            "grid_auto_columns": null,
            "grid_auto_flow": null,
            "grid_auto_rows": null,
            "grid_column": null,
            "grid_gap": null,
            "grid_row": null,
            "grid_template_areas": null,
            "grid_template_columns": null,
            "grid_template_rows": null,
            "height": null,
            "justify_content": null,
            "justify_items": null,
            "left": null,
            "margin": null,
            "max_height": null,
            "max_width": null,
            "min_height": null,
            "min_width": null,
            "object_fit": null,
            "object_position": null,
            "order": null,
            "overflow": null,
            "overflow_x": null,
            "overflow_y": null,
            "padding": null,
            "right": null,
            "top": null,
            "visibility": null,
            "width": null
          }
        },
        "fb9d8f5826ca478abef0183ed2b6edad": {
          "model_module": "@jupyter-widgets/base",
          "model_module_version": "1.2.0",
          "model_name": "LayoutModel",
          "state": {
            "_model_module": "@jupyter-widgets/base",
            "_model_module_version": "1.2.0",
            "_model_name": "LayoutModel",
            "_view_count": null,
            "_view_module": "@jupyter-widgets/base",
            "_view_module_version": "1.2.0",
            "_view_name": "LayoutView",
            "align_content": null,
            "align_items": null,
            "align_self": null,
            "border": null,
            "bottom": null,
            "display": null,
            "flex": null,
            "flex_flow": null,
            "grid_area": null,
            "grid_auto_columns": null,
            "grid_auto_flow": null,
            "grid_auto_rows": null,
            "grid_column": null,
            "grid_gap": null,
            "grid_row": null,
            "grid_template_areas": null,
            "grid_template_columns": null,
            "grid_template_rows": null,
            "height": null,
            "justify_content": null,
            "justify_items": null,
            "left": null,
            "margin": null,
            "max_height": null,
            "max_width": null,
            "min_height": null,
            "min_width": null,
            "object_fit": null,
            "object_position": null,
            "order": null,
            "overflow": null,
            "overflow_x": null,
            "overflow_y": null,
            "padding": null,
            "right": null,
            "top": null,
            "visibility": null,
            "width": null
          }
        },
        "fe45cb233e2c402691e9098b013dfc99": {
          "model_module": "@jupyter-widgets/controls",
          "model_module_version": "1.5.0",
          "model_name": "HBoxModel",
          "state": {
            "_dom_classes": [],
            "_model_module": "@jupyter-widgets/controls",
            "_model_module_version": "1.5.0",
            "_model_name": "HBoxModel",
            "_view_count": null,
            "_view_module": "@jupyter-widgets/controls",
            "_view_module_version": "1.5.0",
            "_view_name": "HBoxView",
            "box_style": "",
            "children": [
              "IPY_MODEL_da563657df2c45aeb765f34e4bd51424",
              "IPY_MODEL_581b1a097ebf402397effc24623ef6b6",
              "IPY_MODEL_75b7b7ad7d714ad4ba7cfa8f02623bee"
            ],
            "layout": "IPY_MODEL_913a34c9477747e3b3d2737f90b5d1a1"
          }
        }
      }
    }
  },
  "nbformat": 4,
  "nbformat_minor": 0
}