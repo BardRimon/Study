{
  "nbformat": 4,
  "nbformat_minor": 0,
  "metadata": {
    "colab": {
      "provenance": [],
      "authorship_tag": "ABX9TyNA0VLiHg5wPbzsQltZz8wj",
      "include_colab_link": true
    },
    "kernelspec": {
      "name": "python3",
      "display_name": "Python 3"
    },
    "language_info": {
      "name": "python"
    }
  },
  "cells": [
    {
      "cell_type": "markdown",
      "metadata": {
        "id": "view-in-github",
        "colab_type": "text"
      },
      "source": [
        "<a href=\"https://colab.research.google.com/github/BardRimon/Study/blob/main/algorithms_and_data_structures/sem5.ipynb\" target=\"_parent\"><img src=\"https://colab.research.google.com/assets/colab-badge.svg\" alt=\"Open In Colab\"/></a>"
      ]
    },
    {
      "cell_type": "markdown",
      "source": [
        "# Задание на 5 лабораторную работу.\n",
        "\n",
        "Выбрать предметную область. Подобрать и реализовать хеширование (расчет хеш функции). Для разрешения коллизий реализовать метод цепочек на основе списков из 3 лабораторной работы.\n",
        "Показать работоспособность программы на примере 20 объектов предметной области."
      ],
      "metadata": {
        "id": "n2CS3vNHnT-X"
      }
    },
    {
      "cell_type": "code",
      "source": [
        "! pip install kagglehub[pandas-datasets]"
      ],
      "metadata": {
        "id": "OBuKaA73nniB",
        "outputId": "9f43805b-0ef0-446a-abe6-79aa95ed404a",
        "colab": {
          "base_uri": "https://localhost:8080/"
        }
      },
      "execution_count": 28,
      "outputs": [
        {
          "output_type": "stream",
          "name": "stdout",
          "text": [
            "Requirement already satisfied: kagglehub[pandas-datasets] in /usr/local/lib/python3.11/dist-packages (0.3.12)\n",
            "Requirement already satisfied: packaging in /usr/local/lib/python3.11/dist-packages (from kagglehub[pandas-datasets]) (24.2)\n",
            "Requirement already satisfied: pyyaml in /usr/local/lib/python3.11/dist-packages (from kagglehub[pandas-datasets]) (6.0.2)\n",
            "Requirement already satisfied: requests in /usr/local/lib/python3.11/dist-packages (from kagglehub[pandas-datasets]) (2.32.3)\n",
            "Requirement already satisfied: tqdm in /usr/local/lib/python3.11/dist-packages (from kagglehub[pandas-datasets]) (4.67.1)\n",
            "Requirement already satisfied: pandas in /usr/local/lib/python3.11/dist-packages (from kagglehub[pandas-datasets]) (2.2.2)\n",
            "Requirement already satisfied: numpy>=1.23.2 in /usr/local/lib/python3.11/dist-packages (from pandas->kagglehub[pandas-datasets]) (2.0.2)\n",
            "Requirement already satisfied: python-dateutil>=2.8.2 in /usr/local/lib/python3.11/dist-packages (from pandas->kagglehub[pandas-datasets]) (2.9.0.post0)\n",
            "Requirement already satisfied: pytz>=2020.1 in /usr/local/lib/python3.11/dist-packages (from pandas->kagglehub[pandas-datasets]) (2025.2)\n",
            "Requirement already satisfied: tzdata>=2022.7 in /usr/local/lib/python3.11/dist-packages (from pandas->kagglehub[pandas-datasets]) (2025.2)\n",
            "Requirement already satisfied: charset-normalizer<4,>=2 in /usr/local/lib/python3.11/dist-packages (from requests->kagglehub[pandas-datasets]) (3.4.2)\n",
            "Requirement already satisfied: idna<4,>=2.5 in /usr/local/lib/python3.11/dist-packages (from requests->kagglehub[pandas-datasets]) (3.10)\n",
            "Requirement already satisfied: urllib3<3,>=1.21.1 in /usr/local/lib/python3.11/dist-packages (from requests->kagglehub[pandas-datasets]) (2.4.0)\n",
            "Requirement already satisfied: certifi>=2017.4.17 in /usr/local/lib/python3.11/dist-packages (from requests->kagglehub[pandas-datasets]) (2025.4.26)\n",
            "Requirement already satisfied: six>=1.5 in /usr/local/lib/python3.11/dist-packages (from python-dateutil>=2.8.2->pandas->kagglehub[pandas-datasets]) (1.17.0)\n"
          ]
        }
      ]
    },
    {
      "cell_type": "code",
      "execution_count": 29,
      "metadata": {
        "id": "BIuxm8SwwR9W",
        "outputId": "feea6ecc-5119-4b8e-87a4-2268a0314975",
        "colab": {
          "base_uri": "https://localhost:8080/"
        }
      },
      "outputs": [
        {
          "output_type": "stream",
          "name": "stdout",
          "text": [
            "Path to dataset files: /kaggle/input/russian-jokes\n"
          ]
        }
      ],
      "source": [
        "import kagglehub\n",
        "\n",
        "# Download latest version\n",
        "path = kagglehub.dataset_download(\"konstantinalbul/russian-jokes\")\n",
        "\n",
        "print(\"Path to dataset files:\", path)"
      ]
    },
    {
      "cell_type": "code",
      "source": [
        "# Install dependencies as needed:\n",
        "# pip install kagglehub[pandas-datasets]\n",
        "import kagglehub\n",
        "from kagglehub import KaggleDatasetAdapter\n",
        "\n",
        "# Set the path to the file you'd like to load\n",
        "file_path = \"jokes.csv\"\n",
        "\n",
        "# Load the latest version\n",
        "df = kagglehub.load_dataset(\n",
        "  KaggleDatasetAdapter.PANDAS,\n",
        "  \"konstantinalbul/russian-jokes\",\n",
        "  file_path,\n",
        "  # Provide any additional arguments like\n",
        "  # sql_query or pandas_kwargs. See the\n",
        "  # documenation for more information:\n",
        "  # https://github.com/Kaggle/kagglehub/blob/main/README.md#kaggledatasetadapterpandas\n",
        ")\n",
        "\n",
        "print(\"First 5 records:\", df.head())\n",
        "\n"
      ],
      "metadata": {
        "id": "UmZA0rA2oc1B",
        "outputId": "84889b3a-5e3e-4eed-fe68-3930fd59339b",
        "colab": {
          "base_uri": "https://localhost:8080/"
        }
      },
      "execution_count": 30,
      "outputs": [
        {
          "output_type": "stream",
          "name": "stderr",
          "text": [
            "<ipython-input-30-d133e08cd0cf>:10: DeprecationWarning: load_dataset is deprecated and will be removed in a future version.\n",
            "  df = kagglehub.load_dataset(\n"
          ]
        },
        {
          "output_type": "stream",
          "name": "stdout",
          "text": [
            "First 5 records:        theme                                               text  rating\n",
            "0  pro-sudey  На суде в Стамбуле обвиняемый сказал:\\r\\n- На...       5\n",
            "1  pro-sudey  - Вы продолжаете утверждать, что обвиняемый н...       4\n",
            "2  pro-sudey  На суде.\\r\\n- Итак, когда дело дошло до столкн...       0\n",
            "3  pro-sudey  Старую леди сбил автомобиль. На суде ее спраши...       4\n",
            "4  pro-sudey  Судья говорит:\\r\\n- Согласно вашей жалобе, об...       2\n"
          ]
        }
      ]
    },
    {
      "cell_type": "code",
      "source": [
        "copy = df.head(20)\n",
        "print(copy['text'].iloc[3])"
      ],
      "metadata": {
        "id": "jwSNqxpXpZsz",
        "outputId": "0b307c1e-7ea0-449d-c395-96adac9e1272",
        "colab": {
          "base_uri": "https://localhost:8080/"
        }
      },
      "execution_count": 31,
      "outputs": [
        {
          "output_type": "stream",
          "name": "stdout",
          "text": [
            "Старую леди сбил автомобиль. На суде ее спрашивают, как было\r\n",
            "дело. Она:\r\n",
            "- Из-за угла вывернул автомобиль. Я влево, и он влево; я\r\n",
            "вправо - и он вправо. Тут водитель кричит: \"Да стой ты на\r\n",
            "месте, черт подери!\"\r\n",
            "- Я остановилась, тут он на меня и наехал.\r\n",
            "\r\n",
            "\n"
          ]
        }
      ]
    },
    {
      "cell_type": "code",
      "source": [
        "# путь функцией хэширования будет данная штука\n",
        "def sum_hash(text):\n",
        "    return sum(ord(char) for char in text)"
      ],
      "metadata": {
        "id": "Eb-naxZ4rukL"
      },
      "execution_count": 32,
      "outputs": []
    },
    {
      "cell_type": "code",
      "source": [],
      "metadata": {
        "id": "QhGpX2kHtlJV"
      },
      "execution_count": 32,
      "outputs": []
    },
    {
      "cell_type": "markdown",
      "source": [
        "### из предыдущей лабы"
      ],
      "metadata": {
        "id": "H2fOKybupq7J"
      }
    },
    {
      "cell_type": "code",
      "source": [
        "class Node:\n",
        "    def __init__(self, data):\n",
        "        self.data = data\n",
        "        self.prev = None\n",
        "        self.next = None\n",
        "\n",
        "\n",
        "class DoublyLinkedList:\n",
        "    def __init__(self):\n",
        "        self.head = None  # Начальный (первый) узел\n",
        "        self.tail = None  # Конечный (последний) узел\n",
        "\n",
        "\n",
        "    def append(self, data):\n",
        "        new_node = Node(data)\n",
        "        if self.head is None:  # Если список пуст\n",
        "            self.head = self.tail = new_node  # Первый элемент — и голова, и хвост\n",
        "        else:\n",
        "            self.tail.next = new_node  # Связываем текущий хвост с новым узлом\n",
        "            new_node.prev = self.tail  # Связываем новый узел с текущим хвостом\n",
        "            self.tail = new_node  # Обновляем хвост\n",
        "\n",
        "\n",
        "    def prepend(self, data):\n",
        "        new_node = Node(data)\n",
        "        if self.head is None:  # Если список пуст\n",
        "            self.head = self.tail = new_node  # Первый элемент — и голова, и хвост\n",
        "        else:\n",
        "            new_node.next = self.head  # Новый узел указывает на текущую голову\n",
        "            self.head.prev = new_node  # Текущая голова знает, что перед ней новый узел\n",
        "            self.head = new_node  # Обновляем голову\n",
        "\n",
        "\n",
        "    def delete(self, data):\n",
        "        if self.head is None:\n",
        "            return  # Список пуст\n",
        "\n",
        "        current = self.head\n",
        "        while current:\n",
        "            if current.data == data:\n",
        "                # Если удаляемый элемент - это голова\n",
        "                if current == self.head:\n",
        "                    self.head = current.next\n",
        "                    if self.head:\n",
        "                        self.head.prev = None  # Обнуляем указатель на предыдущий узел у новой головы\n",
        "                # Если удаляемый элемент - это хвост\n",
        "                elif current == self.tail:\n",
        "                    self.tail = current.prev\n",
        "                    if self.tail:\n",
        "                        self.tail.next = None\n",
        "                else:\n",
        "                    current.prev.next = current.next\n",
        "                    current.next.prev = current.prev\n",
        "                return\n",
        "            current = current.next\n",
        "\n",
        "\n",
        "    def traverse(self):\n",
        "        current = self.head\n",
        "        while current:\n",
        "            print(current.data, end=\" \")\n",
        "            current = current.next\n",
        "        print()\n",
        "\n",
        "    def reverse_traverse(self):\n",
        "        current = self.tail\n",
        "        while current:\n",
        "            print(current.data, end=\" \")\n",
        "            current = current.prev\n",
        "        print()\n",
        "\n",
        "    def find(self, data):\n",
        "        current = self.head\n",
        "        while current:\n",
        "            if current.data == data:\n",
        "                return current\n",
        "            current = current.next\n",
        "        return None  # Элемент не найден\n",
        "\n",
        "\n"
      ],
      "metadata": {
        "id": "kAM0k5ogpqju"
      },
      "execution_count": 33,
      "outputs": []
    },
    {
      "cell_type": "code",
      "source": [
        "def sum_hash(text):\n",
        "    return sum(ord(char) for char in text)"
      ],
      "metadata": {
        "id": "Q2_eynFSwqAk"
      },
      "execution_count": null,
      "outputs": []
    },
    {
      "cell_type": "code",
      "source": [
        "class HashTable:\n",
        "    def __init__(self, size):\n",
        "        self.size = size\n",
        "        self.table = [DoublyLinkedList() for _ in range(self.size)]\n",
        "\n",
        "    def _hash_function(self, key):\n",
        "        # Используем вашу функцию хеширования\n",
        "        return sum(ord(char) for char in key) % self.size\n",
        "\n",
        "    def insert(self, key, value):\n",
        "        hash_index = self._hash_function(key)\n",
        "        self.table[hash_index].append((key, value))\n",
        "\n",
        "    def get(self, key):\n",
        "        hash_index = self._hash_function(key)\n",
        "        current_list = self.table[hash_index]\n",
        "        current_node = current_list.head\n",
        "        while current_node:\n",
        "            if current_node.data[0] == key:\n",
        "                return current_node.data[1]\n",
        "            current_node = current_node.next\n",
        "        return None\n",
        "\n",
        "    def delete(self, key):\n",
        "        hash_index = self._hash_function(key)\n",
        "        current_list = self.table[hash_index]\n",
        "        current_node = current_list.head\n",
        "        while current_node:\n",
        "            if current_node.data[0] == key:\n",
        "                current_list.delete(current_node.data)\n",
        "                return\n",
        "            current_node = current_node.next\n",
        "\n",
        "    def display(self):\n",
        "        for i in range(self.size):\n",
        "            print(f\"Bucket {i}: \", end=\"\")\n",
        "            current_list = self.table[i]\n",
        "            current_node = current_list.head\n",
        "            while current_node:\n",
        "                print(current_node.data, end=\" -> \")\n",
        "                current_node = current_node.next\n",
        "            print(\"None\")"
      ],
      "metadata": {
        "id": "ddYoh1A7wUVC"
      },
      "execution_count": 36,
      "outputs": []
    },
    {
      "cell_type": "code",
      "source": [
        "amount_of_jokes = 20\n",
        "hash_table = HashTable(amount_of_jokes)\n",
        "for i in range(amount_of_jokes):\n",
        "    joke_text = copy['text'].iloc[i]\n",
        "    hash_table.insert(joke_text, f\"Joke {i+1}\") # Вставляем текст шутки как ключ\n",
        "\n",
        "\n"
      ],
      "metadata": {
        "id": "K2z-XcSkp3qH"
      },
      "execution_count": 38,
      "outputs": []
    },
    {
      "cell_type": "code",
      "source": [
        "hash_table.display()"
      ],
      "metadata": {
        "id": "T1ZcQhqizRJK",
        "outputId": "2fb15a96-c245-4d3e-f70a-d34903ca6576",
        "colab": {
          "base_uri": "https://localhost:8080/"
        }
      },
      "execution_count": 39,
      "outputs": [
        {
          "output_type": "stream",
          "name": "stdout",
          "text": [
            "Bucket 0: ('- Свидетель! - говорит судья. Я прошу вас на минуту забыть,\\r\\nчто вы работаете в Госкомстате, и говорить суду только\\r\\nправду.\\r\\n\\r\\n', 'Joke 13') -> None\n",
            "Bucket 1: ('Судья спрашивает четырех индейцев, убежавших из тюрьмы:\\r\\n- Скажите, почему вы убежали?\\r\\n- Сидим мы в тюрьме день, второй, третий. На четвертый день\\r\\nиндеец \"Острый глаз\" заметил, что одной стены нет.\\r\\n\\r\\n', 'Joke 10') -> None\n",
            "Bucket 2: None\n",
            "Bucket 3: None\n",
            "Bucket 4: ('На суде.\\r\\n- Итак, когда дело дошло до столкновения, у вашего\\r\\nпротивника в руках была палка. А что было у вас в руках?\\r\\n- Его жена.\\r\\n\\r\\n', 'Joke 3') -> None\n",
            "Bucket 5: None\n",
            "Bucket 6: None\n",
            "Bucket 7: ('Судья:\\r\\n- Свидетель, вы должны говорить правду, одну только правду и\\r\\nничего кроме правды.\\r\\n- Да, господин судья.\\r\\n- Что в таком случае вы можете сказать по обсуждаемому делу?\\r\\n- А что можно сказать при таких ограничениях?\\r\\n\\r\\n', 'Joke 8') -> None\n",
            "Bucket 8: ('Судья подсудимому:\\r\\n- Ну-ну, перестаньте волноваться и расскажите, как это\\r\\nпроизошло.\\r\\n- Я ужасно расстроен. А было так. Я сидел и чистил ножичком\\r\\nапельсин. Тут подошел этот тип, поскользнулся на\\r\\nапельсиновой корке и упал прямо на нож.\\r\\nСудья:\\r\\n- И так три раза подряд?\\r\\n\\r\\n', 'Joke 9') -> ('- Вы приговариваетесь к штрафу в пятьсот рублей. Надеюсь,\\r\\nэто отучит вас обкрадывать телефоны - автоматы.\\r\\n- Понятно, гражданин судья. Скажите, а можно уплатить штраф\\r\\nдвухкопеечными монетами?\\r\\n\\r\\n', 'Joke 20') -> None\n",
            "Bucket 9: ('Старую леди сбил автомобиль. На суде ее спрашивают, как было\\r\\nдело. Она:\\r\\n- Из-за угла вывернул автомобиль. Я влево, и он влево; я\\r\\nвправо - и он вправо. Тут водитель кричит: \"Да стой ты на\\r\\nместе, черт подери!\"\\r\\n- Я остановилась, тут он на меня и наехал.\\r\\n\\r\\n', 'Joke 4') -> None\n",
            "Bucket 10: ('- Вы продолжаете утверждать, что обвиняемый назвал вас\\r\\nдураком?\\r\\n- Да, гражданин судья. Правда, он это сказал не прямо, а\\r\\nиносказательно. Он сказал: \"Что касается интеллекта, то мы\\r\\nс вами на одном уровне\".\\r\\n\\r\\n', 'Joke 2') -> None\n",
            "Bucket 11: ('- Вы обвиняетесь в том, - говорит  судья, - что  ударили\\r\\nсвою жену тарелкой по голове. Неужели вам ее не жалко?\\r\\n- Как не жалко! Тарелка была совсем новая.\\r\\n\\r\\n', 'Joke 12') -> None\n",
            "Bucket 12: ('Судья говорит:\\r\\n- Согласно вашей жалобе, обвиняемый сказал, что вы дурак. чистая правда?\\r\\n- Чистая правда.\\r\\n- Тогда на что же вы жалуетесь?\\r\\n\\r\\n', 'Joke 5') -> ('Судья:\\r\\n- Подсудимый, ваши три последних желания.\\r\\n- Любые?\\r\\n- Да!\\r\\nПодсудимый:\\r\\n- Пулемет, патроны, и держитесь, гады!\\r\\n\\r\\n', 'Joke 16') -> None\n",
            "Bucket 13: ('Судья:\\r\\n- Свидетель, вы женаты?\\r\\nОбвиняемый:\\r\\n- Нет, ваша честь, просто я так выгляжу...\\r\\n\\r\\n', 'Joke 11') -> None\n",
            "Bucket 14: ('- Драка происходила так. Одной рукой я схватил его за ворот,\\r\\nдругой за грудь... и раз, раз...\\r\\n- Как же вы его били, если держали обеими руками?\\r\\n- А бил он.\\r\\n\\r\\n', 'Joke 7') -> ('Судья:\\r\\n- Вы совершили восемь ограблений за одну неделю. Разве возможно?\\r\\nПодсудимый:\\r\\n- Работал день и ночь, ваша честь. Если бы все трудились\\r\\nтак, как я, наша страна давно уже вышла бы на путь\\r\\nпроцветания.\\r\\n\\r\\n', 'Joke 15') -> None\n",
            "Bucket 15: ('На суде в Стамбуле обвиняемый сказал:\\r\\n- На свои жертвы я нападал всегда днем. Ночью я бы побоялся\\r\\nходить с награбленными деньгами...\\r\\n\\r\\n', 'Joke 1') -> None\n",
            "Bucket 16: ('На судебном заседании.\\r\\n- Гражданка Дроздова, мы рассматриваем ваш иск к гражданину\\r\\nБерезкину.\\r\\nГоворите суду всю правду, только правду, - предупреждает судья.\\r\\n- Это в моих интересах, гражданин судья, клянусь.\\r\\n- Когда был этот случай изнасилования?\\r\\n- Этот? Он был все лето!\\r\\n\\r\\n', 'Joke 6') -> ('Судья:\\r\\n- Эту кражу вы совершили сами?\\r\\nОбвиняемый:\\r\\n- Да, ваша честь. Мы переживаем сейчас плохие времена -\\r\\nникому нельзя доверять.\\r\\n\\r\\n', 'Joke 17') -> None\n",
            "Bucket 17: ('Судья:\\r\\n- Ваша жена утверждает, что вы ее держите в постоянном\\r\\nстрахе.\\r\\nОбвиняемый:\\r\\n- Но, ваша честь...\\r\\nСудья (шепотом):\\r\\n- Скажите, неофициально, как мужчина мужчине, как это\\r\\nудается?!\\r\\n\\r\\n', 'Joke 14') -> None\n",
            "Bucket 18: ('Фриц Дитрих! Вы обвиняетесь в том, что во время атаки\\r\\nрусских побежали на Запад...\\r\\n- Господи боже, герб судья! Так ведь я догонял\\r\\nоберлейтенанта фон  Граббе, чтобы ему сказать: солдаты\\r\\nразбегаются...\\r\\n\\r\\n', 'Joke 19') -> None\n",
            "Bucket 19: ('- Гражданка Петрова, - говорит судья, - почему вы ударили\\r\\nмужа утюгом по голове?\\r\\n- Я ему сто раз говорила, что у меня покладистый характер,\\r\\nа он не верил...\\r\\n\\r\\n', 'Joke 18') -> None\n"
          ]
        }
      ]
    },
    {
      "cell_type": "code",
      "source": [
        "# Получаем значение по ключу (пример)\n",
        "key_to_get = copy['text'].iloc[3]\n",
        "value = hash_table.get(key_to_get)\n",
        "print(f\"\\nValue for key '{key_to_get}': {value}\")"
      ],
      "metadata": {
        "id": "yfw00VGWzSmz",
        "outputId": "2b868f04-54a0-4219-8c21-71dccfbfff4e",
        "colab": {
          "base_uri": "https://localhost:8080/"
        }
      },
      "execution_count": 40,
      "outputs": [
        {
          "output_type": "stream",
          "name": "stdout",
          "text": [
            "\n",
            "Value for key 'Старую леди сбил автомобиль. На суде ее спрашивают, как было\r\n",
            "дело. Она:\r\n",
            "- Из-за угла вывернул автомобиль. Я влево, и он влево; я\r\n",
            "вправо - и он вправо. Тут водитель кричит: \"Да стой ты на\r\n",
            "месте, черт подери!\"\r\n",
            "- Я остановилась, тут он на меня и наехал.\r\n",
            "\r\n",
            "': Joke 4\n"
          ]
        }
      ]
    },
    {
      "cell_type": "code",
      "source": [
        "# Удаляем элемент (пример)\n",
        "key_to_delete = copy['text'].iloc[12]\n",
        "hash_table.delete(key_to_delete)\n",
        "print(f\"\\nAfter deleting key '{key_to_delete}':\")"
      ],
      "metadata": {
        "id": "5FJJwvunzTrj",
        "outputId": "f75aca2a-4567-490c-e9c8-79a71210d446",
        "colab": {
          "base_uri": "https://localhost:8080/"
        }
      },
      "execution_count": 45,
      "outputs": [
        {
          "output_type": "stream",
          "name": "stdout",
          "text": [
            "\n",
            "After deleting key '- Свидетель! - говорит судья. Я прошу вас на минуту забыть,\r\n",
            "что вы работаете в Госкомстате, и говорить суду только\r\n",
            "правду.\r\n",
            "\r\n",
            "':\n"
          ]
        }
      ]
    },
    {
      "cell_type": "code",
      "source": [
        "hash_table.display()"
      ],
      "metadata": {
        "id": "YCacG43TzXnv",
        "outputId": "5b602554-5424-4646-d7d9-d7fc3bb3f870",
        "colab": {
          "base_uri": "https://localhost:8080/"
        }
      },
      "execution_count": 46,
      "outputs": [
        {
          "output_type": "stream",
          "name": "stdout",
          "text": [
            "Bucket 0: None\n",
            "Bucket 1: ('Судья спрашивает четырех индейцев, убежавших из тюрьмы:\\r\\n- Скажите, почему вы убежали?\\r\\n- Сидим мы в тюрьме день, второй, третий. На четвертый день\\r\\nиндеец \"Острый глаз\" заметил, что одной стены нет.\\r\\n\\r\\n', 'Joke 10') -> None\n",
            "Bucket 2: None\n",
            "Bucket 3: None\n",
            "Bucket 4: ('На суде.\\r\\n- Итак, когда дело дошло до столкновения, у вашего\\r\\nпротивника в руках была палка. А что было у вас в руках?\\r\\n- Его жена.\\r\\n\\r\\n', 'Joke 3') -> None\n",
            "Bucket 5: None\n",
            "Bucket 6: None\n",
            "Bucket 7: ('Судья:\\r\\n- Свидетель, вы должны говорить правду, одну только правду и\\r\\nничего кроме правды.\\r\\n- Да, господин судья.\\r\\n- Что в таком случае вы можете сказать по обсуждаемому делу?\\r\\n- А что можно сказать при таких ограничениях?\\r\\n\\r\\n', 'Joke 8') -> None\n",
            "Bucket 8: ('Судья подсудимому:\\r\\n- Ну-ну, перестаньте волноваться и расскажите, как это\\r\\nпроизошло.\\r\\n- Я ужасно расстроен. А было так. Я сидел и чистил ножичком\\r\\nапельсин. Тут подошел этот тип, поскользнулся на\\r\\nапельсиновой корке и упал прямо на нож.\\r\\nСудья:\\r\\n- И так три раза подряд?\\r\\n\\r\\n', 'Joke 9') -> ('- Вы приговариваетесь к штрафу в пятьсот рублей. Надеюсь,\\r\\nэто отучит вас обкрадывать телефоны - автоматы.\\r\\n- Понятно, гражданин судья. Скажите, а можно уплатить штраф\\r\\nдвухкопеечными монетами?\\r\\n\\r\\n', 'Joke 20') -> None\n",
            "Bucket 9: ('Старую леди сбил автомобиль. На суде ее спрашивают, как было\\r\\nдело. Она:\\r\\n- Из-за угла вывернул автомобиль. Я влево, и он влево; я\\r\\nвправо - и он вправо. Тут водитель кричит: \"Да стой ты на\\r\\nместе, черт подери!\"\\r\\n- Я остановилась, тут он на меня и наехал.\\r\\n\\r\\n', 'Joke 4') -> None\n",
            "Bucket 10: ('- Вы продолжаете утверждать, что обвиняемый назвал вас\\r\\nдураком?\\r\\n- Да, гражданин судья. Правда, он это сказал не прямо, а\\r\\nиносказательно. Он сказал: \"Что касается интеллекта, то мы\\r\\nс вами на одном уровне\".\\r\\n\\r\\n', 'Joke 2') -> None\n",
            "Bucket 11: ('- Вы обвиняетесь в том, - говорит  судья, - что  ударили\\r\\nсвою жену тарелкой по голове. Неужели вам ее не жалко?\\r\\n- Как не жалко! Тарелка была совсем новая.\\r\\n\\r\\n', 'Joke 12') -> None\n",
            "Bucket 12: ('Судья говорит:\\r\\n- Согласно вашей жалобе, обвиняемый сказал, что вы дурак. чистая правда?\\r\\n- Чистая правда.\\r\\n- Тогда на что же вы жалуетесь?\\r\\n\\r\\n', 'Joke 5') -> ('Судья:\\r\\n- Подсудимый, ваши три последних желания.\\r\\n- Любые?\\r\\n- Да!\\r\\nПодсудимый:\\r\\n- Пулемет, патроны, и держитесь, гады!\\r\\n\\r\\n', 'Joke 16') -> None\n",
            "Bucket 13: ('Судья:\\r\\n- Свидетель, вы женаты?\\r\\nОбвиняемый:\\r\\n- Нет, ваша честь, просто я так выгляжу...\\r\\n\\r\\n', 'Joke 11') -> None\n",
            "Bucket 14: ('- Драка происходила так. Одной рукой я схватил его за ворот,\\r\\nдругой за грудь... и раз, раз...\\r\\n- Как же вы его били, если держали обеими руками?\\r\\n- А бил он.\\r\\n\\r\\n', 'Joke 7') -> ('Судья:\\r\\n- Вы совершили восемь ограблений за одну неделю. Разве возможно?\\r\\nПодсудимый:\\r\\n- Работал день и ночь, ваша честь. Если бы все трудились\\r\\nтак, как я, наша страна давно уже вышла бы на путь\\r\\nпроцветания.\\r\\n\\r\\n', 'Joke 15') -> None\n",
            "Bucket 15: ('На суде в Стамбуле обвиняемый сказал:\\r\\n- На свои жертвы я нападал всегда днем. Ночью я бы побоялся\\r\\nходить с награбленными деньгами...\\r\\n\\r\\n', 'Joke 1') -> None\n",
            "Bucket 16: ('Судья:\\r\\n- Эту кражу вы совершили сами?\\r\\nОбвиняемый:\\r\\n- Да, ваша честь. Мы переживаем сейчас плохие времена -\\r\\nникому нельзя доверять.\\r\\n\\r\\n', 'Joke 17') -> None\n",
            "Bucket 17: None\n",
            "Bucket 18: ('Фриц Дитрих! Вы обвиняетесь в том, что во время атаки\\r\\nрусских побежали на Запад...\\r\\n- Господи боже, герб судья! Так ведь я догонял\\r\\nоберлейтенанта фон  Граббе, чтобы ему сказать: солдаты\\r\\nразбегаются...\\r\\n\\r\\n', 'Joke 19') -> None\n",
            "Bucket 19: ('- Гражданка Петрова, - говорит судья, - почему вы ударили\\r\\nмужа утюгом по голове?\\r\\n- Я ему сто раз говорила, что у меня покладистый характер,\\r\\nа он не верил...\\r\\n\\r\\n', 'Joke 18') -> None\n"
          ]
        }
      ]
    }
  ]
}