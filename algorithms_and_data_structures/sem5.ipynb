{
  "nbformat": 4,
  "nbformat_minor": 0,
  "metadata": {
    "colab": {
      "provenance": [],
      "authorship_tag": "ABX9TyOU917vpK8ggqU6NnDbK80f",
      "include_colab_link": true
    },
    "kernelspec": {
      "name": "python3",
      "display_name": "Python 3"
    },
    "language_info": {
      "name": "python"
    }
  },
  "cells": [
    {
      "cell_type": "markdown",
      "metadata": {
        "id": "view-in-github",
        "colab_type": "text"
      },
      "source": [
        "<a href=\"https://colab.research.google.com/github/BardRimon/Study/blob/main/algorithms_and_data_structures/sem5.ipynb\" target=\"_parent\"><img src=\"https://colab.research.google.com/assets/colab-badge.svg\" alt=\"Open In Colab\"/></a>"
      ]
    },
    {
      "cell_type": "markdown",
      "source": [
        "# Задание на 5 лабораторную работу.\n",
        "\n",
        "Выбрать предметную область. Подобрать и реализовать хеширование (расчет хеш функции). Для разрешения коллизий реализовать метод цепочек на основе списков из 3 лабораторной работы.\n",
        "Показать работоспособность программы на примере 20 объектов предметной области."
      ],
      "metadata": {
        "id": "n2CS3vNHnT-X"
      }
    },
    {
      "cell_type": "code",
      "source": [
        "! pip install kagglehub[pandas-datasets]"
      ],
      "metadata": {
        "id": "OBuKaA73nniB",
        "outputId": "dd3047ee-ea50-457c-aeeb-c09e2e97ef4f",
        "colab": {
          "base_uri": "https://localhost:8080/"
        }
      },
      "execution_count": 4,
      "outputs": [
        {
          "output_type": "stream",
          "name": "stdout",
          "text": [
            "Requirement already satisfied: kagglehub[pandas-datasets] in /usr/local/lib/python3.11/dist-packages (0.3.12)\n",
            "Requirement already satisfied: packaging in /usr/local/lib/python3.11/dist-packages (from kagglehub[pandas-datasets]) (24.2)\n",
            "Requirement already satisfied: pyyaml in /usr/local/lib/python3.11/dist-packages (from kagglehub[pandas-datasets]) (6.0.2)\n",
            "Requirement already satisfied: requests in /usr/local/lib/python3.11/dist-packages (from kagglehub[pandas-datasets]) (2.32.3)\n",
            "Requirement already satisfied: tqdm in /usr/local/lib/python3.11/dist-packages (from kagglehub[pandas-datasets]) (4.67.1)\n",
            "Requirement already satisfied: pandas in /usr/local/lib/python3.11/dist-packages (from kagglehub[pandas-datasets]) (2.2.2)\n",
            "Requirement already satisfied: numpy>=1.23.2 in /usr/local/lib/python3.11/dist-packages (from pandas->kagglehub[pandas-datasets]) (2.0.2)\n",
            "Requirement already satisfied: python-dateutil>=2.8.2 in /usr/local/lib/python3.11/dist-packages (from pandas->kagglehub[pandas-datasets]) (2.9.0.post0)\n",
            "Requirement already satisfied: pytz>=2020.1 in /usr/local/lib/python3.11/dist-packages (from pandas->kagglehub[pandas-datasets]) (2025.2)\n",
            "Requirement already satisfied: tzdata>=2022.7 in /usr/local/lib/python3.11/dist-packages (from pandas->kagglehub[pandas-datasets]) (2025.2)\n",
            "Requirement already satisfied: charset-normalizer<4,>=2 in /usr/local/lib/python3.11/dist-packages (from requests->kagglehub[pandas-datasets]) (3.4.2)\n",
            "Requirement already satisfied: idna<4,>=2.5 in /usr/local/lib/python3.11/dist-packages (from requests->kagglehub[pandas-datasets]) (3.10)\n",
            "Requirement already satisfied: urllib3<3,>=1.21.1 in /usr/local/lib/python3.11/dist-packages (from requests->kagglehub[pandas-datasets]) (2.4.0)\n",
            "Requirement already satisfied: certifi>=2017.4.17 in /usr/local/lib/python3.11/dist-packages (from requests->kagglehub[pandas-datasets]) (2025.4.26)\n",
            "Requirement already satisfied: six>=1.5 in /usr/local/lib/python3.11/dist-packages (from python-dateutil>=2.8.2->pandas->kagglehub[pandas-datasets]) (1.17.0)\n"
          ]
        }
      ]
    },
    {
      "cell_type": "code",
      "execution_count": 7,
      "metadata": {
        "id": "BIuxm8SwwR9W",
        "outputId": "3939cdc4-2dc9-472e-b52b-b1916834c6c0",
        "colab": {
          "base_uri": "https://localhost:8080/"
        }
      },
      "outputs": [
        {
          "output_type": "stream",
          "name": "stdout",
          "text": [
            "Downloading from https://www.kaggle.com/api/v1/datasets/download/konstantinalbul/russian-jokes?dataset_version_number=1...\n"
          ]
        },
        {
          "output_type": "stream",
          "name": "stderr",
          "text": [
            "100%|██████████| 13.6M/13.6M [00:01<00:00, 8.22MB/s]"
          ]
        },
        {
          "output_type": "stream",
          "name": "stdout",
          "text": [
            "Extracting files...\n"
          ]
        },
        {
          "output_type": "stream",
          "name": "stderr",
          "text": [
            "\n"
          ]
        },
        {
          "output_type": "stream",
          "name": "stdout",
          "text": [
            "Path to dataset files: /root/.cache/kagglehub/datasets/konstantinalbul/russian-jokes/versions/1\n"
          ]
        }
      ],
      "source": [
        "import kagglehub\n",
        "\n",
        "# Download latest version\n",
        "path = kagglehub.dataset_download(\"konstantinalbul/russian-jokes\")\n",
        "\n",
        "print(\"Path to dataset files:\", path)"
      ]
    },
    {
      "cell_type": "code",
      "source": [
        "# Install dependencies as needed:\n",
        "# pip install kagglehub[pandas-datasets]\n",
        "import kagglehub\n",
        "from kagglehub import KaggleDatasetAdapter\n",
        "\n",
        "# Set the path to the file you'd like to load\n",
        "file_path = \"jokes.csv\"\n",
        "\n",
        "# Load the latest version\n",
        "df = kagglehub.load_dataset(\n",
        "  KaggleDatasetAdapter.PANDAS,\n",
        "  \"konstantinalbul/russian-jokes\",\n",
        "  file_path,\n",
        "  # Provide any additional arguments like\n",
        "  # sql_query or pandas_kwargs. See the\n",
        "  # documenation for more information:\n",
        "  # https://github.com/Kaggle/kagglehub/blob/main/README.md#kaggledatasetadapterpandas\n",
        ")\n",
        "\n",
        "print(\"First 5 records:\", df.head())\n",
        "\n"
      ],
      "metadata": {
        "id": "UmZA0rA2oc1B",
        "outputId": "51dd2bc8-270e-4550-c868-596a07223695",
        "colab": {
          "base_uri": "https://localhost:8080/"
        }
      },
      "execution_count": 12,
      "outputs": [
        {
          "output_type": "stream",
          "name": "stderr",
          "text": [
            "<ipython-input-12-23c795bf61b7>:10: DeprecationWarning: load_dataset is deprecated and will be removed in a future version.\n",
            "  df = kagglehub.load_dataset(\n"
          ]
        },
        {
          "output_type": "stream",
          "name": "stdout",
          "text": [
            "First 5 records:        theme                                               text  rating\n",
            "0  pro-sudey  На суде в Стамбуле обвиняемый сказал:\\r\\n- На...       5\n",
            "1  pro-sudey  - Вы продолжаете утверждать, что обвиняемый н...       4\n",
            "2  pro-sudey  На суде.\\r\\n- Итак, когда дело дошло до столкн...       0\n",
            "3  pro-sudey  Старую леди сбил автомобиль. На суде ее спраши...       4\n",
            "4  pro-sudey  Судья говорит:\\r\\n- Согласно вашей жалобе, об...       2\n"
          ]
        }
      ]
    },
    {
      "cell_type": "code",
      "source": [
        "copy = df.head(20)\n",
        "print(copy['text'].iloc[3])"
      ],
      "metadata": {
        "id": "jwSNqxpXpZsz",
        "outputId": "598f792a-37d8-4336-8e44-2a75fb2d80e4",
        "colab": {
          "base_uri": "https://localhost:8080/"
        }
      },
      "execution_count": 26,
      "outputs": [
        {
          "output_type": "stream",
          "name": "stdout",
          "text": [
            "Старую леди сбил автомобиль. На суде ее спрашивают, как было\r\n",
            "дело. Она:\r\n",
            "- Из-за угла вывернул автомобиль. Я влево, и он влево; я\r\n",
            "вправо - и он вправо. Тут водитель кричит: \"Да стой ты на\r\n",
            "месте, черт подери!\"\r\n",
            "- Я остановилась, тут он на меня и наехал.\r\n",
            "\r\n",
            "\n"
          ]
        }
      ]
    },
    {
      "cell_type": "code",
      "source": [
        "# путь функцией хэширования будет данная штука\n",
        "def sum_hash(text):\n",
        "    return sum(ord(char) for char in text) % 101"
      ],
      "metadata": {
        "id": "Eb-naxZ4rukL"
      },
      "execution_count": 27,
      "outputs": []
    },
    {
      "cell_type": "code",
      "source": [],
      "metadata": {
        "id": "QhGpX2kHtlJV"
      },
      "execution_count": null,
      "outputs": []
    },
    {
      "cell_type": "markdown",
      "source": [
        "### из предыдущей лабы"
      ],
      "metadata": {
        "id": "H2fOKybupq7J"
      }
    },
    {
      "cell_type": "code",
      "source": [
        "class Node:\n",
        "    def __init__(self, data):\n",
        "        self.data = data\n",
        "        self.prev = None\n",
        "        self.next = None\n",
        "\n",
        "\n",
        "class DoublyLinkedList:\n",
        "    def __init__(self):\n",
        "        self.head = None  # Начальный (первый) узел\n",
        "        self.tail = None  # Конечный (последний) узел\n",
        "\n",
        "\n",
        "    def append(self, data):\n",
        "        new_node = Node(data)\n",
        "        if self.head is None:  # Если список пуст\n",
        "            self.head = self.tail = new_node  # Первый элемент — и голова, и хвост\n",
        "        else:\n",
        "            self.tail.next = new_node  # Связываем текущий хвост с новым узлом\n",
        "            new_node.prev = self.tail  # Связываем новый узел с текущим хвостом\n",
        "            self.tail = new_node  # Обновляем хвост\n",
        "\n",
        "\n",
        "    def prepend(self, data):\n",
        "        new_node = Node(data)\n",
        "        if self.head is None:  # Если список пуст\n",
        "            self.head = self.tail = new_node  # Первый элемент — и голова, и хвост\n",
        "        else:\n",
        "            new_node.next = self.head  # Новый узел указывает на текущую голову\n",
        "            self.head.prev = new_node  # Текущая голова знает, что перед ней новый узел\n",
        "            self.head = new_node  # Обновляем голову\n",
        "\n",
        "\n",
        "    def delete(self, data):\n",
        "        if self.head is None:\n",
        "            return  # Список пуст\n",
        "\n",
        "        current = self.head\n",
        "        while current:\n",
        "            if current.data == data:\n",
        "                # Если удаляемый элемент - это голова\n",
        "                if current == self.head:\n",
        "                    self.head = current.next\n",
        "                    if self.head:\n",
        "                        self.head.prev = None  # Обнуляем указатель на предыдущий узел у новой головы\n",
        "                # Если удаляемый элемент - это хвост\n",
        "                elif current == self.tail:\n",
        "                    self.tail = current.prev\n",
        "                    if self.tail:\n",
        "                        self.tail.next = None\n",
        "                else:\n",
        "                    current.prev.next = current.next\n",
        "                    current.next.prev = current.prev\n",
        "                return\n",
        "            current = current.next\n",
        "\n",
        "\n",
        "    def traverse(self):\n",
        "        current = self.head\n",
        "        while current:\n",
        "            print(current.data, end=\" \")\n",
        "            current = current.next\n",
        "        print()\n",
        "\n",
        "    def reverse_traverse(self):\n",
        "        current = self.tail\n",
        "        while current:\n",
        "            print(current.data, end=\" \")\n",
        "            current = current.prev\n",
        "        print()\n",
        "\n",
        "    def find(self, data):\n",
        "        current = self.head\n",
        "        while current:\n",
        "            if current.data == data:\n",
        "                return current\n",
        "            current = current.next\n",
        "        return None  # Элемент не найден\n",
        "\n",
        "\n"
      ],
      "metadata": {
        "id": "kAM0k5ogpqju"
      },
      "execution_count": 17,
      "outputs": []
    },
    {
      "cell_type": "code",
      "source": [],
      "metadata": {
        "id": "K2z-XcSkp3qH"
      },
      "execution_count": null,
      "outputs": []
    }
  ]
}