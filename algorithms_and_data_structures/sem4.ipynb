{
  "nbformat": 4,
  "nbformat_minor": 0,
  "metadata": {
    "colab": {
      "provenance": [],
      "authorship_tag": "ABX9TyNonGvajNDLNX1UM0yndtOW",
      "include_colab_link": true
    },
    "kernelspec": {
      "name": "python3",
      "display_name": "Python 3"
    },
    "language_info": {
      "name": "python"
    }
  },
  "cells": [
    {
      "cell_type": "markdown",
      "metadata": {
        "id": "view-in-github",
        "colab_type": "text"
      },
      "source": [
        "<a href=\"https://colab.research.google.com/github/BardRimon/Study/blob/main/algorithms_and_data_structures/sem4.ipynb\" target=\"_parent\"><img src=\"https://colab.research.google.com/assets/colab-badge.svg\" alt=\"Open In Colab\"/></a>"
      ]
    },
    {
      "cell_type": "markdown",
      "source": [
        "**Цель работы:** изучение принципов организации и обработки списков как динамических структур данных.\n",
        "\n",
        "**Постановка задачи.**\n",
        "Разработать шаблон класса «Двусвязный список», включающий в себя необходимый минимум методов, обеспечивающий полноценное функционирование объектов указанного класса при их использовании в программе, а именно:\n",
        "1) конструкторы (по умолчанию, с параметрами, копирования);\n",
        "2) деструктор;\n",
        "3) добавление элемента в начало, конец, заданную (по номеру) позицию списка;\n",
        "4) удаление элемента из начала, конца, заданной (по номеру) позиции списка;\n",
        "5) поиск элемента – по значению и по номеру;\n",
        "6) вывод списка на экран.\n",
        "Разработать программу, содержащую меню, которое позволяет протестировать функции  добавления, удаления, поиска и вывода на экран элементов списка.\n",
        "В качестве отдельного пункта меню добавить решение задачи в соответствии со своим вариантом. При необходимости в разработанный шаблон класса добавить дополнительные методы, если того требует решение задачи.\n",
        "\n",
        "\n",
        "**Вариант №8**\n",
        "\n",
        "Из входной последовательности целых чисел построить список. Вывести список на экран. Удалить из списка узлы, содержащие простое число, первым встречающееся в списке. Вывести список на экран."
      ],
      "metadata": {
        "id": "70QcqOwPvE7F"
      }
    },
    {
      "cell_type": "code",
      "source": [
        "class Node:\n",
        "    def __init__(self, data):\n",
        "        self.data = data\n",
        "        self.prev = None  # Ссылка на предыдущий элемент\n",
        "        self.next = None  # Ссылка на следующий элемент\n",
        "\n",
        "\n",
        "class DoublyLinkedList:\n",
        "    def __init__(self):\n",
        "        self.head = None  # Начальный (первый) узел\n",
        "        self.tail = None  # Конечный (последний) узел\n",
        "\n",
        "\n",
        "    def append(self, data):\n",
        "        new_node = Node(data)\n",
        "        if self.head is None:  # Если список пуст\n",
        "            self.head = self.tail = new_node  # Первый элемент — и голова, и хвост\n",
        "        else:\n",
        "            self.tail.next = new_node  # Связываем текущий хвост с новым узлом\n",
        "            new_node.prev = self.tail  # Связываем новый узел с текущим хвостом\n",
        "            self.tail = new_node  # Обновляем хвост\n",
        "\n",
        "\n",
        "    def prepend(self, data):\n",
        "        new_node = Node(data)\n",
        "        if self.head is None:  # Если список пуст\n",
        "            self.head = self.tail = new_node  # Первый элемент — и голова, и хвост\n",
        "        else:\n",
        "            new_node.next = self.head  # Новый узел указывает на текущую голову\n",
        "            self.head.prev = new_node  # Текущая голова знает, что перед ней новый узел\n",
        "            self.head = new_node  # Обновляем голову\n",
        "\n",
        "\n",
        "    def delete(self, data):\n",
        "        if self.head is None:\n",
        "            return  # Список пуст\n",
        "\n",
        "        current = self.head\n",
        "        while current:\n",
        "            if current.data == data:\n",
        "                # Если удаляемый элемент - это голова\n",
        "                if current == self.head:\n",
        "                    self.head = current.next\n",
        "                    if self.head:\n",
        "                        self.head.prev = None  # Обнуляем указатель на предыдущий узел у новой головы\n",
        "                # Если удаляемый элемент - это хвост\n",
        "                elif current == self.tail:\n",
        "                    self.tail = current.prev\n",
        "                    if self.tail:\n",
        "                        self.tail.next = None  # Обнуляем указатель на следующий узел у нового хвоста\n",
        "                # Если удаляемый элемент находится в середине\n",
        "                else:\n",
        "                    current.prev.next = current.next\n",
        "                    current.next.prev = current.prev\n",
        "                return\n",
        "            current = current.next\n",
        "\n",
        "\n",
        "    def traverse(self):\n",
        "        current = self.head\n",
        "        while current:\n",
        "            print(current.data, end=\" \")\n",
        "            current = current.next\n",
        "        print()\n",
        "\n",
        "    def reverse_traverse(self):\n",
        "        current = self.tail\n",
        "        while current:\n",
        "            print(current.data, end=\" \")\n",
        "            current = current.prev\n",
        "        print()\n",
        "\n",
        "    def find(self, data):\n",
        "        current = self.head\n",
        "        while current:\n",
        "            if current.data == data:\n",
        "                return current\n",
        "            current = current.next\n",
        "        return None  # Элемент не найден\n",
        "\n",
        "    def show(self):\n",
        ""
      ],
      "metadata": {
        "id": "_t46fTovfURF"
      },
      "execution_count": 1,
      "outputs": []
    },
    {
      "cell_type": "code",
      "source": [
        "listok = DoublyLinkedList()\n",
        "# listok.append('first')\n",
        "# listok.append('second')\n",
        "# listok.append('third')\n",
        "# listok.append('fourth')\n",
        "# listok.append('fifth')\n",
        "\n",
        "\n",
        "print(listok.traverse())"
      ],
      "metadata": {
        "id": "wa8EIpyslFsi",
        "outputId": "9c3de297-fc50-4133-abd6-841ccfd8faa1",
        "colab": {
          "base_uri": "https://localhost:8080/"
        }
      },
      "execution_count": 23,
      "outputs": [
        {
          "output_type": "stream",
          "name": "stdout",
          "text": [
            "\n",
            "None\n"
          ]
        }
      ]
    },
    {
      "cell_type": "code",
      "source": [
        "import random\n",
        "size = 15\n",
        "min_value = 0\n",
        "max_value = 100\n",
        "for _ in range(size):\n",
        "    random_value = random.randint(min_value, max_value)\n",
        "    listok.append(random_value)\n",
        "print(listok.traverse())"
      ],
      "metadata": {
        "id": "0f2_xciBuSYL",
        "outputId": "46968b41-3dbb-4ff0-b984-4e04e958cc84",
        "colab": {
          "base_uri": "https://localhost:8080/"
        }
      },
      "execution_count": 24,
      "outputs": [
        {
          "output_type": "stream",
          "name": "stdout",
          "text": [
            "73 17 62 65 66 38 5 59 47 37 55 86 97 57 96 \n",
            "None\n"
          ]
        }
      ]
    },
    {
      "cell_type": "code",
      "source": [
        "import math\n",
        "def is_prime(n):\n",
        "  if n <= 1:\n",
        "    return False\n",
        "  if n <= 3:\n",
        "    return True\n",
        "  if n % 2 == 0 or n % 3 == 0:\n",
        "    return False\n",
        "  i = 5\n",
        "  while i * i <= n:\n",
        "    if n % i == 0 or n % (i + 2) == 0:\n",
        "      return False\n",
        "    i += 6\n",
        "  return True"
      ],
      "metadata": {
        "id": "0z30Wzugv_aJ"
      },
      "execution_count": 17,
      "outputs": []
    },
    {
      "cell_type": "markdown",
      "source": [
        "Из входной последовательности целых чисел построить список. Вывести список на экран. Удалить из списка узлы, содержащие простое число, первым встречающееся в списке. Вывести список на экран."
      ],
      "metadata": {
        "id": "6En67D2lwO1y"
      }
    },
    {
      "cell_type": "code",
      "source": [
        "listok.traverse()\n",
        "first_prime = None\n",
        "current = listok.head\n",
        "\n",
        "while current:\n",
        "  if is_prime(current.data):\n",
        "    first_prime = current.data\n",
        "    break\n",
        "  current = current.next\n",
        "\n",
        "\n",
        "if first_prime is not None:\n",
        "  print(f\"Первое найденное простое число для удаления: {first_prime}\")\n",
        "  current = listok.head\n",
        "  while current:\n",
        "    next_node = current.next\n",
        "    if current.data == first_prime:\n",
        "      listok.delete(current.data)\n",
        "    current = next_node\n",
        "\n",
        "\n",
        "print(\"Список после удаления первого простого числа:\")\n",
        "listok.traverse()\n"
      ],
      "metadata": {
        "id": "stypPrQfwAjv",
        "outputId": "e521ba17-5731-49f5-fe4d-6c99f519efca",
        "colab": {
          "base_uri": "https://localhost:8080/"
        }
      },
      "execution_count": 25,
      "outputs": [
        {
          "output_type": "stream",
          "name": "stdout",
          "text": [
            "73 17 62 65 66 38 5 59 47 37 55 86 97 57 96 \n",
            "Первое найденное простое число для удаления: 73\n",
            "Список после удаления первого простого числа:\n",
            "17 62 65 66 38 5 59 47 37 55 86 97 57 96 \n"
          ]
        }
      ]
    },
    {
      "cell_type": "code",
      "source": [
        "3 5 41 31 35 23 87 91 6 43 20 43 62 21 27"
      ],
      "metadata": {
        "id": "NyuJGoSWwlsG"
      },
      "execution_count": null,
      "outputs": []
    }
  ]
}