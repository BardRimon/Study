{
  "nbformat": 4,
  "nbformat_minor": 0,
  "metadata": {
    "colab": {
      "provenance": [],
      "authorship_tag": "ABX9TyOwEmNMUP5chFHTfR9fQ+En",
      "include_colab_link": true
    },
    "kernelspec": {
      "name": "python3",
      "display_name": "Python 3"
    },
    "language_info": {
      "name": "python"
    }
  },
  "cells": [
    {
      "cell_type": "markdown",
      "metadata": {
        "id": "view-in-github",
        "colab_type": "text"
      },
      "source": [
        "<a href=\"https://colab.research.google.com/github/BardRimon/Study/blob/main/algorithms_and_data_structures/sem3.ipynb\" target=\"_parent\"><img src=\"https://colab.research.google.com/assets/colab-badge.svg\" alt=\"Open In Colab\"/></a>"
      ]
    },
    {
      "cell_type": "markdown",
      "source": [
        "# Lab 3\n",
        "Сравнительный анализ эффективности методов сортировки данных во внешней памяти.\n",
        "\n",
        "Требования к функциональным возможностям программы.\n",
        "Программа должна содержать меню, позволяющее выбирать один из двух режимов работы программы:\n",
        "1)\tсортировка файла данных, сформированных случайным образом;\n",
        "2)\tрежим накопления статистических данных\n",
        "В первом режиме требуется предоставить пользователю следующие возможности:\n",
        "-\tзадавать размер числовой последовательности, содержащейся в файле;\n",
        "-\tуказывать диапазон значений элементов последовательности;\n",
        "-\tвыбирать метод внешней сортировки.\n",
        "Результаты работы программы в данном режиме:\n",
        "-\tвывести на экран количество сравнений и перестановок элементов массива.\n",
        "Во втором режиме пользователь должен иметь возможность:\n",
        "-\tвыбирать способ формирования элементов последовательности, содержащейся в фай-ле (случайные значения, упорядоченная последовательность значений, значения рас-положены в обратном порядке);\n",
        "-\tзадавать диапазон и шаг изменения размера последовательности;\n",
        "-\tвыбирать метод внешней сортировки.\n",
        "Результаты работы программы в данном режиме:\n",
        "Для каждого значения размера формируется набор данных и сортируется выбранным мето-дом. В файл с указанным именем выводятся значения  времени сортировки для каждого ко-личества элементов в наборе.\n",
        "\n",
        "\n",
        "Напомним, что\n",
        "**Для получения оценки «отлично» необходимо программно реализовать следующие методы сортировки данных во внешней памяти: сортировка прямым слиянием; многофазная сортировка. Оценить быстродействие указанных методов и степень естественности их пове-дения.**"
      ],
      "metadata": {
        "id": "kacNvA1Hw0Va"
      }
    },
    {
      "cell_type": "code",
      "source": [
        "import time\n",
        "import numpy as np\n",
        "import matplotlib.pyplot as plt\n",
        "import seaborn as sns\n",
        "import random\n",
        "import os\n",
        "import csv\n",
        "import shutil"
      ],
      "metadata": {
        "id": "xL9-pPQIxRmL"
      },
      "execution_count": 9,
      "outputs": []
    },
    {
      "cell_type": "code",
      "source": [
        "def write_csv()\n",
        "\n",
        "\n",
        "def direct_merge(input_file_name, output_file_name):\n",
        "    # фаза слияния\n",
        "    shutil.copy(input_file_name, \"A.csv\")\n",
        "    n = 0\n",
        "    with open(input_file_name, 'r', newline='') as csvfile:\n",
        "        csv_reader = csv.reader(csvfile)\n",
        "        for row in csv_reader:\n",
        "            if row: # Проверяем, что строка не пустая\n",
        "                n += 1\n",
        "\n",
        "    def spliting():\n",
        "        with open('A.csv', 'r') as a:\n",
        "            read = csv.reader(a)\n",
        "            step = 1\n",
        "            for row in read:\n",
        "                if step % 2 == 1:\n",
        "                    with open('B.csv', 'a', newline='') as b:\n",
        "                        writer = b.writer(b)\n",
        "                        writer.writeof(row)\n",
        "                else:\n",
        "                    with open('C.csv', 'a', newline='') as c:\n",
        "                        writer = c.writer(c)\n",
        "                        writer.writeof(row)\n",
        "                step += 1\n",
        "\n",
        "    def mergering(window)\n",
        "            with open('A.csv', 'w', newline='') as a:\n",
        "                writer = csv.writer(a)\n",
        "\n",
        "                with open('B.csv', 'w', newline='') as b:\n",
        "                    reader = csv.reader(b)\n",
        "                    for row in reader:\n",
        "                        writer.writerow(row)\n",
        "\n",
        "\n",
        "    i = 0\n",
        "    while i <= n:\n",
        "\n",
        ""
      ],
      "metadata": {
        "id": "4evUGtq-ghJU"
      },
      "execution_count": null,
      "outputs": []
    },
    {
      "cell_type": "code",
      "source": [],
      "metadata": {
        "id": "hh7PnCdsmUlr"
      },
      "execution_count": null,
      "outputs": []
    },
    {
      "cell_type": "markdown",
      "source": [],
      "metadata": {
        "id": "miJOUwJ3hFMQ"
      }
    },
    {
      "cell_type": "code",
      "source": [
        "def create_file(data):\n",
        "    with open('input.csv', 'w', newline='') as f:\n",
        "      write = csv.writer(f)\n",
        "      for element in data:\n",
        "          write.writerow(element)\n",
        "\n",
        "\n",
        "def check_file():\n",
        "    with open('output.csv', 'r') as f:\n",
        "        read = csv.reader(f)\n",
        "        l_orig = list(read)\n",
        "        l_cher = l_orig.copy()\n",
        "        l_cher.sort()\n",
        "        if l_cher == l_orig:\n",
        "            return True\n",
        "        else:\n",
        "            return False\n",
        ""
      ],
      "metadata": {
        "id": "4XHt7dPGVGU4"
      },
      "execution_count": 12,
      "outputs": []
    },
    {
      "cell_type": "code",
      "source": [
        "d = [[random.randint(1, 1000) for _ in range(11)]]\n",
        "create_file(d)\n"
      ],
      "metadata": {
        "id": "4Kw4YEfabxxd"
      },
      "execution_count": 13,
      "outputs": []
    },
    {
      "cell_type": "code",
      "source": [
        "t = []\n",
        "\n",
        "\n",
        "\n",
        "for i in range(100, 100001, 100):\n",
        "    data = [random.randint(1, 1000) for _ in range(i)]\n",
        "    create_file(data)\n",
        "    time_s = time.time()\n",
        "    #тут сортировка\n",
        "    # direct_merge_sort('input.txt', 'output.txt')\n",
        "\n",
        "    time_f = time.time()\n",
        "    t.appent(time_f - time_s)\n",
        "\n",
        "\n",
        "\n",
        "\n"
      ],
      "metadata": {
        "id": "3QGM2ymbUBeD"
      },
      "execution_count": null,
      "outputs": []
    }
  ]
}