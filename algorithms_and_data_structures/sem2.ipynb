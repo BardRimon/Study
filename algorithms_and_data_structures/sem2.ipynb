{
  "cells": [
    {
      "cell_type": "markdown",
      "metadata": {
        "id": "view-in-github",
        "colab_type": "text"
      },
      "source": [
        "<a href=\"https://colab.research.google.com/github/BardRimon/Study/blob/main/algorithms_and_data_structures/sem2.ipynb\" target=\"_parent\"><img src=\"https://colab.research.google.com/assets/colab-badge.svg\" alt=\"Open In Colab\"/></a>"
      ]
    },
    {
      "cell_type": "markdown",
      "source": [
        "# Лекция\n",
        "\n",
        "### Метод Шелла (метод уменьшающегося расстояния)\n",
        "\n",
        "27365184 сравниваем элементы на расстоянии $\\frac{n}{2}$ : 2-5, 2-1, 3-8, ...\n",
        "получаем 21345786 теперь $l = \\frac{n}{4}$ : 2-3-5-8-6, 1-4-5-8\n",
        "\n",
        "и теперь для 21345687 $l = \\frac{n}{8}$ и сравниваем 21 34 56 87\n",
        "\n",
        "и получаем 12345678 - успех"
      ],
      "metadata": {
        "id": "k7SPkvPRKHGi"
      }
    },
    {
      "cell_type": "markdown",
      "source": [
        "### Быстрая сортировка\n",
        "### Пирамидальная"
      ],
      "metadata": {
        "id": "48Oou-YyNfqz"
      }
    },
    {
      "cell_type": "markdown",
      "source": [
        "# Семинар\n",
        "\n",
        "### Метод Шелла"
      ],
      "metadata": {
        "id": "MVOlNDbZKLkJ"
      }
    },
    {
      "cell_type": "code",
      "source": [
        "# method Shell\n",
        "def shell_sort(l):\n",
        "    p1 = p2 = p3 = 1\n",
        "    s = -1\n",
        "    while (*):\n",
        "        if ()"
      ],
      "metadata": {
        "id": "UnMgmV2dQgXE"
      },
      "execution_count": 1,
      "outputs": []
    },
    {
      "cell_type": "markdown",
      "source": [
        "### Быстрая сортировка"
      ],
      "metadata": {
        "id": "rgVsPKqUQnwP"
      }
    },
    {
      "cell_type": "code",
      "source": [
        "# method quick\n",
        "def quick_sort():\n",
        ""
      ],
      "metadata": {
        "id": "qAwSu-5-Q44m"
      },
      "execution_count": null,
      "outputs": []
    },
    {
      "cell_type": "markdown",
      "source": [
        "### Пирамидальная"
      ],
      "metadata": {
        "id": "X0AR7nbuQzUh"
      }
    },
    {
      "cell_type": "code",
      "source": [
        "def heap_sort():\n",
        ""
      ],
      "metadata": {
        "id": "60s6Q3P6Q5Qi"
      },
      "execution_count": null,
      "outputs": []
    }
  ],
  "metadata": {
    "colab": {
      "name": "Welcome to Colab",
      "toc_visible": true,
      "provenance": [],
      "include_colab_link": true
    },
    "kernelspec": {
      "display_name": "Python 3",
      "name": "python3"
    }
  },
  "nbformat": 4,
  "nbformat_minor": 0
}